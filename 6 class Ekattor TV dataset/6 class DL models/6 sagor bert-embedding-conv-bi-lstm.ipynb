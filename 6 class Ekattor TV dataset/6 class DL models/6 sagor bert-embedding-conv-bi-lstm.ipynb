{
 "cells": [
  {
   "cell_type": "code",
   "execution_count": 1,
   "id": "823a59a1",
   "metadata": {
    "execution": {
     "iopub.execute_input": "2022-04-17T20:10:18.802326Z",
     "iopub.status.busy": "2022-04-17T20:10:18.802022Z",
     "iopub.status.idle": "2022-04-17T20:10:28.972080Z",
     "shell.execute_reply": "2022-04-17T20:10:28.971264Z"
    },
    "id": "UqULQnXLjUXh",
    "outputId": "2ec95253-b802-4c56-c254-5bff0ec1d008",
    "papermill": {
     "duration": 10.195044,
     "end_time": "2022-04-17T20:10:28.974359",
     "exception": false,
     "start_time": "2022-04-17T20:10:18.779315",
     "status": "completed"
    },
    "tags": []
   },
   "outputs": [
    {
     "name": "stdout",
     "output_type": "stream",
     "text": [
      "Requirement already satisfied: transformers in /opt/conda/lib/python3.7/site-packages (4.17.0)\r\n",
      "Requirement already satisfied: importlib-metadata in /opt/conda/lib/python3.7/site-packages (from transformers) (4.11.3)\r\n",
      "Requirement already satisfied: tqdm>=4.27 in /opt/conda/lib/python3.7/site-packages (from transformers) (4.63.0)\r\n",
      "Requirement already satisfied: huggingface-hub<1.0,>=0.1.0 in /opt/conda/lib/python3.7/site-packages (from transformers) (0.5.1)\r\n",
      "Requirement already satisfied: tokenizers!=0.11.3,>=0.11.1 in /opt/conda/lib/python3.7/site-packages (from transformers) (0.11.6)\r\n",
      "Requirement already satisfied: packaging>=20.0 in /opt/conda/lib/python3.7/site-packages (from transformers) (21.3)\r\n",
      "Requirement already satisfied: pyyaml>=5.1 in /opt/conda/lib/python3.7/site-packages (from transformers) (6.0)\r\n",
      "Requirement already satisfied: filelock in /opt/conda/lib/python3.7/site-packages (from transformers) (3.6.0)\r\n",
      "Requirement already satisfied: numpy>=1.17 in /opt/conda/lib/python3.7/site-packages (from transformers) (1.21.5)\r\n",
      "Requirement already satisfied: regex!=2019.12.17 in /opt/conda/lib/python3.7/site-packages (from transformers) (2021.11.10)\r\n",
      "Requirement already satisfied: sacremoses in /opt/conda/lib/python3.7/site-packages (from transformers) (0.0.49)\r\n",
      "Requirement already satisfied: requests in /opt/conda/lib/python3.7/site-packages (from transformers) (2.27.1)\r\n",
      "Requirement already satisfied: typing-extensions>=3.7.4.3 in /opt/conda/lib/python3.7/site-packages (from huggingface-hub<1.0,>=0.1.0->transformers) (4.1.1)\r\n",
      "Requirement already satisfied: pyparsing!=3.0.5,>=2.0.2 in /opt/conda/lib/python3.7/site-packages (from packaging>=20.0->transformers) (3.0.7)\r\n",
      "Requirement already satisfied: zipp>=0.5 in /opt/conda/lib/python3.7/site-packages (from importlib-metadata->transformers) (3.7.0)\r\n",
      "Requirement already satisfied: idna<4,>=2.5 in /opt/conda/lib/python3.7/site-packages (from requests->transformers) (3.3)\r\n",
      "Requirement already satisfied: certifi>=2017.4.17 in /opt/conda/lib/python3.7/site-packages (from requests->transformers) (2021.10.8)\r\n",
      "Requirement already satisfied: urllib3<1.27,>=1.21.1 in /opt/conda/lib/python3.7/site-packages (from requests->transformers) (1.26.8)\r\n",
      "Requirement already satisfied: charset-normalizer~=2.0.0 in /opt/conda/lib/python3.7/site-packages (from requests->transformers) (2.0.12)\r\n",
      "Requirement already satisfied: click in /opt/conda/lib/python3.7/site-packages (from sacremoses->transformers) (8.0.4)\r\n",
      "Requirement already satisfied: joblib in /opt/conda/lib/python3.7/site-packages (from sacremoses->transformers) (1.0.1)\r\n",
      "Requirement already satisfied: six in /opt/conda/lib/python3.7/site-packages (from sacremoses->transformers) (1.16.0)\r\n",
      "\u001b[33mWARNING: Running pip as the 'root' user can result in broken permissions and conflicting behaviour with the system package manager. It is recommended to use a virtual environment instead: https://pip.pypa.io/warnings/venv\u001b[0m\u001b[33m\r\n",
      "\u001b[0m"
     ]
    }
   ],
   "source": [
    " !pip install transformers"
   ]
  },
  {
   "cell_type": "code",
   "execution_count": 2,
   "id": "cb64ad53",
   "metadata": {
    "execution": {
     "iopub.execute_input": "2022-04-17T20:10:29.022323Z",
     "iopub.status.busy": "2022-04-17T20:10:29.021863Z",
     "iopub.status.idle": "2022-04-17T20:10:29.032874Z",
     "shell.execute_reply": "2022-04-17T20:10:29.031718Z"
    },
    "papermill": {
     "duration": 0.037257,
     "end_time": "2022-04-17T20:10:29.035034",
     "exception": false,
     "start_time": "2022-04-17T20:10:28.997777",
     "status": "completed"
    },
    "tags": []
   },
   "outputs": [
    {
     "name": "stdout",
     "output_type": "stream",
     "text": [
      "/kaggle/input/sa-bangla-binary-restaurant-review/Bert_Preprocessed_Restaurant_Review_Dataset.xlsx\n"
     ]
    }
   ],
   "source": [
    "import os\n",
    "for dirname, _, filenames in os.walk('/kaggle/input'):\n",
    "    for filename in filenames:\n",
    "        print(os.path.join(dirname, filename))"
   ]
  },
  {
   "cell_type": "code",
   "execution_count": 3,
   "id": "5ef37824",
   "metadata": {
    "execution": {
     "iopub.execute_input": "2022-04-17T20:10:29.082252Z",
     "iopub.status.busy": "2022-04-17T20:10:29.082049Z",
     "iopub.status.idle": "2022-04-17T20:10:36.141918Z",
     "shell.execute_reply": "2022-04-17T20:10:36.141192Z"
    },
    "id": "IKC0neHDgSGG",
    "papermill": {
     "duration": 7.08574,
     "end_time": "2022-04-17T20:10:36.144359",
     "exception": false,
     "start_time": "2022-04-17T20:10:29.058619",
     "status": "completed"
    },
    "tags": []
   },
   "outputs": [],
   "source": [
    "import tensorflow as tf\n",
    "import logging\n",
    "from tensorflow.keras.layers import (\n",
    "    Dense,\n",
    "    Flatten,\n",
    "    Conv1D,\n",
    "    Dropout,\n",
    "    Input,\n",
    "    LSTM,\n",
    "    Bidirectional\n",
    ")\n",
    "from tensorflow.keras.models import Sequential\n",
    "from tensorflow.keras.optimizers import Adam\n",
    "from tensorflow.keras import Model\n",
    "from tensorflow.keras import regularizers\n",
    "from transformers import BertTokenizer, TFBertModel\n",
    "from sklearn.linear_model import LogisticRegression\n",
    "import os\n",
    "import pandas as pd\n",
    "import numpy as np\n",
    "import keras\n",
    "import torch\n",
    "from sklearn.model_selection import train_test_split\n",
    "from tqdm import tqdm\n",
    "tqdm.pandas()\n",
    "import re\n",
    "import random\n",
    "import torch"
   ]
  },
  {
   "cell_type": "code",
   "execution_count": 4,
   "id": "bd5aff88",
   "metadata": {
    "execution": {
     "iopub.execute_input": "2022-04-17T20:10:36.192706Z",
     "iopub.status.busy": "2022-04-17T20:10:36.191367Z",
     "iopub.status.idle": "2022-04-17T20:10:36.203026Z",
     "shell.execute_reply": "2022-04-17T20:10:36.202110Z"
    },
    "id": "fvojKqdMjnt3",
    "outputId": "09202df5-05d1-4c95-f454-447aebd906c5",
    "papermill": {
     "duration": 0.037002,
     "end_time": "2022-04-17T20:10:36.204845",
     "exception": false,
     "start_time": "2022-04-17T20:10:36.167843",
     "status": "completed"
    },
    "tags": []
   },
   "outputs": [
    {
     "name": "stdout",
     "output_type": "stream",
     "text": [
      "Number of replicas: 1\n"
     ]
    }
   ],
   "source": [
    "try:\n",
    "    tpu = tf.distribute.cluster_resolver.TPUClusterResolver()\n",
    "    tf.config.experimental_connect_to_cluster(tpu)\n",
    "    tf.tpu.experimental.initialize_tpu_system(tpu)\n",
    "    strategy = tf.distribute.experimental.TPUStrategy(tpu)\n",
    "except ValueError:\n",
    "    strategy = tf.distribute.get_strategy() # for CPU and single GPU\n",
    "    print('Number of replicas:', strategy.num_replicas_in_sync)"
   ]
  },
  {
   "cell_type": "code",
   "execution_count": 5,
   "id": "77ad7f19",
   "metadata": {
    "execution": {
     "iopub.execute_input": "2022-04-17T20:10:36.251773Z",
     "iopub.status.busy": "2022-04-17T20:10:36.251582Z",
     "iopub.status.idle": "2022-04-17T20:10:36.255120Z",
     "shell.execute_reply": "2022-04-17T20:10:36.254379Z"
    },
    "id": "9XhD8p2fkCwI",
    "papermill": {
     "duration": 0.028828,
     "end_time": "2022-04-17T20:10:36.256797",
     "exception": false,
     "start_time": "2022-04-17T20:10:36.227969",
     "status": "completed"
    },
    "tags": []
   },
   "outputs": [],
   "source": [
    "max_length = 100\n",
    "batch_size = 32\n",
    "test_size = 0.1\n",
    "num_class = 2"
   ]
  },
  {
   "cell_type": "code",
   "execution_count": 6,
   "id": "d94a0a88",
   "metadata": {
    "execution": {
     "iopub.execute_input": "2022-04-17T20:10:36.305768Z",
     "iopub.status.busy": "2022-04-17T20:10:36.305586Z",
     "iopub.status.idle": "2022-04-17T20:10:45.112769Z",
     "shell.execute_reply": "2022-04-17T20:10:45.112037Z"
    },
    "id": "y0fiXx7Pjpff",
    "papermill": {
     "duration": 8.833563,
     "end_time": "2022-04-17T20:10:45.115129",
     "exception": false,
     "start_time": "2022-04-17T20:10:36.281566",
     "status": "completed"
    },
    "tags": []
   },
   "outputs": [
    {
     "data": {
      "application/vnd.jupyter.widget-view+json": {
       "model_id": "bd633fc9a1604a819d854cf000408127",
       "version_major": 2,
       "version_minor": 0
      },
      "text/plain": [
       "Downloading:   0%|          | 0.00/2.13M [00:00<?, ?B/s]"
      ]
     },
     "metadata": {},
     "output_type": "display_data"
    },
    {
     "data": {
      "application/vnd.jupyter.widget-view+json": {
       "model_id": "08b3c701e74c4c5a8150754df6409817",
       "version_major": 2,
       "version_minor": 0
      },
      "text/plain": [
       "Downloading:   0%|          | 0.00/491 [00:00<?, ?B/s]"
      ]
     },
     "metadata": {},
     "output_type": "display_data"
    }
   ],
   "source": [
    "model_name = \"sagorsarker/bangla-bert-base\"\n",
    "tokenizer = BertTokenizer.from_pretrained(model_name)"
   ]
  },
  {
   "cell_type": "code",
   "execution_count": 7,
   "id": "4882c957",
   "metadata": {
    "execution": {
     "iopub.execute_input": "2022-04-17T20:10:45.166459Z",
     "iopub.status.busy": "2022-04-17T20:10:45.165703Z",
     "iopub.status.idle": "2022-04-17T20:10:56.748723Z",
     "shell.execute_reply": "2022-04-17T20:10:56.747753Z"
    },
    "id": "YERFci0gkMLA",
    "outputId": "09093b9d-db2a-4855-8179-6e958f21b312",
    "papermill": {
     "duration": 11.61106,
     "end_time": "2022-04-17T20:10:56.751277",
     "exception": false,
     "start_time": "2022-04-17T20:10:45.140217",
     "status": "completed"
    },
    "tags": []
   },
   "outputs": [
    {
     "name": "stdout",
     "output_type": "stream",
     "text": [
      "Collecting openpyxl\r\n",
      "  Downloading openpyxl-3.0.9-py2.py3-none-any.whl (242 kB)\r\n",
      "\u001b[2K     \u001b[90m━━━━━━━━━━━━━━━━━━━━━━━━━━━━━━━━━━━━━\u001b[0m \u001b[32m242.2/242.2 KB\u001b[0m \u001b[31m341.5 kB/s\u001b[0m eta \u001b[36m0:00:00\u001b[0m\r\n",
      "\u001b[?25hCollecting et-xmlfile\r\n",
      "  Downloading et_xmlfile-1.1.0-py3-none-any.whl (4.7 kB)\r\n",
      "Installing collected packages: et-xmlfile, openpyxl\r\n",
      "Successfully installed et-xmlfile-1.1.0 openpyxl-3.0.9\r\n",
      "\u001b[33mWARNING: Running pip as the 'root' user can result in broken permissions and conflicting behaviour with the system package manager. It is recommended to use a virtual environment instead: https://pip.pypa.io/warnings/venv\u001b[0m\u001b[33m\r\n",
      "\u001b[0mNote: you may need to restart the kernel to use updated packages.\n"
     ]
    }
   ],
   "source": [
    "pip install openpyxl"
   ]
  },
  {
   "cell_type": "code",
   "execution_count": 8,
   "id": "caa0aa4f",
   "metadata": {
    "execution": {
     "iopub.execute_input": "2022-04-17T20:10:56.813805Z",
     "iopub.status.busy": "2022-04-17T20:10:56.813573Z",
     "iopub.status.idle": "2022-04-17T20:10:57.595667Z",
     "shell.execute_reply": "2022-04-17T20:10:57.594868Z"
    },
    "id": "eb9yHAcXkX3n",
    "outputId": "1b49569c-0833-4bf9-9272-e50b03b29651",
    "papermill": {
     "duration": 0.815809,
     "end_time": "2022-04-17T20:10:57.598199",
     "exception": false,
     "start_time": "2022-04-17T20:10:56.782390",
     "status": "completed"
    },
    "tags": []
   },
   "outputs": [
    {
     "name": "stdout",
     "output_type": "stream",
     "text": [
      "<class 'pandas.core.frame.DataFrame'>\n",
      "RangeIndex: 1431 entries, 0 to 1430\n",
      "Data columns (total 8 columns):\n",
      " #   Column        Non-Null Count  Dtype \n",
      "---  ------        --------------  ----- \n",
      " 0   Unnamed: 0    1431 non-null   int64 \n",
      " 1   Unnamed: 0.1  1431 non-null   int64 \n",
      " 2   Reviews       1431 non-null   object\n",
      " 3   Sentiment     1431 non-null   object\n",
      " 4   Text          1431 non-null   object\n",
      " 5   Label         1431 non-null   int64 \n",
      " 6   Token         1431 non-null   object\n",
      " 7   Token_ID      1431 non-null   object\n",
      "dtypes: int64(3), object(5)\n",
      "memory usage: 89.6+ KB\n"
     ]
    }
   ],
   "source": [
    "df=pd.read_excel('/kaggle/input/sa-bangla-binary-restaurant-review/Bert_Preprocessed_Restaurant_Review_Dataset.xlsx')\n",
    "df.info()\n"
   ]
  },
  {
   "cell_type": "code",
   "execution_count": 9,
   "id": "56fcf4d4",
   "metadata": {
    "execution": {
     "iopub.execute_input": "2022-04-17T20:10:57.663116Z",
     "iopub.status.busy": "2022-04-17T20:10:57.662449Z",
     "iopub.status.idle": "2022-04-17T20:10:57.665894Z",
     "shell.execute_reply": "2022-04-17T20:10:57.665173Z"
    },
    "id": "3B6F3uafmjEh",
    "papermill": {
     "duration": 0.036524,
     "end_time": "2022-04-17T20:10:57.667519",
     "exception": false,
     "start_time": "2022-04-17T20:10:57.630995",
     "status": "completed"
    },
    "tags": []
   },
   "outputs": [],
   "source": [
    "#df=df.drop_duplicates(subset=['Text'],inplace=True)"
   ]
  },
  {
   "cell_type": "code",
   "execution_count": 10,
   "id": "e74036df",
   "metadata": {
    "execution": {
     "iopub.execute_input": "2022-04-17T20:10:57.730641Z",
     "iopub.status.busy": "2022-04-17T20:10:57.730383Z",
     "iopub.status.idle": "2022-04-17T20:10:57.738091Z",
     "shell.execute_reply": "2022-04-17T20:10:57.737420Z"
    },
    "id": "QSzKEE7jkay2",
    "papermill": {
     "duration": 0.042205,
     "end_time": "2022-04-17T20:10:57.739904",
     "exception": false,
     "start_time": "2022-04-17T20:10:57.697699",
     "status": "completed"
    },
    "tags": []
   },
   "outputs": [],
   "source": [
    "from sklearn.model_selection import train_test_split\n",
    "x_train, x_test, y_train, y_test = train_test_split(df['Token'],df['Label'] , test_size=0.1, random_state=42)\n",
    "x_train, x_validation, y_train, y_validation = train_test_split(x_train,y_train,test_size=0.1, random_state=2)"
   ]
  },
  {
   "cell_type": "code",
   "execution_count": 11,
   "id": "4cbbc41f",
   "metadata": {
    "execution": {
     "iopub.execute_input": "2022-04-17T20:10:57.803469Z",
     "iopub.status.busy": "2022-04-17T20:10:57.802920Z",
     "iopub.status.idle": "2022-04-17T20:10:57.807455Z",
     "shell.execute_reply": "2022-04-17T20:10:57.806822Z"
    },
    "id": "hndRAHill_R4",
    "papermill": {
     "duration": 0.03751,
     "end_time": "2022-04-17T20:10:57.809044",
     "exception": false,
     "start_time": "2022-04-17T20:10:57.771534",
     "status": "completed"
    },
    "tags": []
   },
   "outputs": [],
   "source": [
    "x_train = x_train.astype(str)\n",
    "#y_train = y_train.astype(str)\n",
    "x_validation = x_validation.astype(str)\n",
    "x_test = x_test.astype(str)\n",
    "#y_test = y_test.astype(str)"
   ]
  },
  {
   "cell_type": "code",
   "execution_count": 12,
   "id": "3c36d88f",
   "metadata": {
    "execution": {
     "iopub.execute_input": "2022-04-17T20:10:57.873976Z",
     "iopub.status.busy": "2022-04-17T20:10:57.873389Z",
     "iopub.status.idle": "2022-04-17T20:11:05.105383Z",
     "shell.execute_reply": "2022-04-17T20:11:05.104656Z"
    },
    "id": "ZC-PuZO7k0C1",
    "papermill": {
     "duration": 7.266782,
     "end_time": "2022-04-17T20:11:05.107623",
     "exception": false,
     "start_time": "2022-04-17T20:10:57.840841",
     "status": "completed"
    },
    "tags": []
   },
   "outputs": [
    {
     "name": "stderr",
     "output_type": "stream",
     "text": [
      "2022-04-17 20:11:00.166979: I tensorflow/stream_executor/cuda/cuda_gpu_executor.cc:937] successful NUMA node read from SysFS had negative value (-1), but there must be at least one NUMA node, so returning NUMA node zero\n",
      "2022-04-17 20:11:00.168099: I tensorflow/stream_executor/cuda/cuda_gpu_executor.cc:937] successful NUMA node read from SysFS had negative value (-1), but there must be at least one NUMA node, so returning NUMA node zero\n",
      "2022-04-17 20:11:00.168787: I tensorflow/stream_executor/cuda/cuda_gpu_executor.cc:937] successful NUMA node read from SysFS had negative value (-1), but there must be at least one NUMA node, so returning NUMA node zero\n",
      "2022-04-17 20:11:00.169699: I tensorflow/core/platform/cpu_feature_guard.cc:142] This TensorFlow binary is optimized with oneAPI Deep Neural Network Library (oneDNN) to use the following CPU instructions in performance-critical operations:  AVX2 AVX512F FMA\n",
      "To enable them in other operations, rebuild TensorFlow with the appropriate compiler flags.\n",
      "2022-04-17 20:11:00.170015: I tensorflow/stream_executor/cuda/cuda_gpu_executor.cc:937] successful NUMA node read from SysFS had negative value (-1), but there must be at least one NUMA node, so returning NUMA node zero\n",
      "2022-04-17 20:11:00.170691: I tensorflow/stream_executor/cuda/cuda_gpu_executor.cc:937] successful NUMA node read from SysFS had negative value (-1), but there must be at least one NUMA node, so returning NUMA node zero\n",
      "2022-04-17 20:11:00.171366: I tensorflow/stream_executor/cuda/cuda_gpu_executor.cc:937] successful NUMA node read from SysFS had negative value (-1), but there must be at least one NUMA node, so returning NUMA node zero\n",
      "2022-04-17 20:11:04.278818: I tensorflow/stream_executor/cuda/cuda_gpu_executor.cc:937] successful NUMA node read from SysFS had negative value (-1), but there must be at least one NUMA node, so returning NUMA node zero\n",
      "2022-04-17 20:11:04.279744: I tensorflow/stream_executor/cuda/cuda_gpu_executor.cc:937] successful NUMA node read from SysFS had negative value (-1), but there must be at least one NUMA node, so returning NUMA node zero\n",
      "2022-04-17 20:11:04.280443: I tensorflow/stream_executor/cuda/cuda_gpu_executor.cc:937] successful NUMA node read from SysFS had negative value (-1), but there must be at least one NUMA node, so returning NUMA node zero\n",
      "2022-04-17 20:11:04.281669: I tensorflow/core/common_runtime/gpu/gpu_device.cc:1510] Created device /job:localhost/replica:0/task:0/device:GPU:0 with 14969 MB memory:  -> device: 0, name: Tesla P100-PCIE-16GB, pci bus id: 0000:00:04.0, compute capability: 6.0\n"
     ]
    }
   ],
   "source": [
    "def bert_encode(data):\n",
    "    tokens = tokenizer.batch_encode_plus(\n",
    "        data, max_length=max_length, padding=\"max_length\", truncation=True\n",
    "    )\n",
    "    return tf.constant(tokens[\"input_ids\"])\n",
    "train_encoded = bert_encode(x_train)\n",
    "validation_encoded=bert_encode(x_validation)\n",
    "test_encoded = bert_encode(x_test)\n",
    "\n",
    "train_dataset = (\n",
    "    tf.data.Dataset.from_tensor_slices((train_encoded, y_train))\n",
    "    .shuffle(100)\n",
    "    .batch(batch_size)\n",
    ").cache()\n",
    "validation_dataset = (\n",
    "    tf.data.Dataset.from_tensor_slices((validation_encoded,y_validation))\n",
    "    .shuffle(100)\n",
    "    .batch(batch_size)\n",
    ").cache()\n",
    "\n",
    "test_dataset = (\n",
    "    tf.data.Dataset.from_tensor_slices((test_encoded,y_test))\n",
    "    .shuffle(100)\n",
    "    .batch(batch_size)\n",
    ").cache()\n"
   ]
  },
  {
   "cell_type": "code",
   "execution_count": 13,
   "id": "e4aad8ac",
   "metadata": {
    "execution": {
     "iopub.execute_input": "2022-04-17T20:11:05.171941Z",
     "iopub.status.busy": "2022-04-17T20:11:05.171712Z",
     "iopub.status.idle": "2022-04-17T20:11:05.175083Z",
     "shell.execute_reply": "2022-04-17T20:11:05.174399Z"
    },
    "id": "Clvx6Q2QJpyF",
    "papermill": {
     "duration": 0.03768,
     "end_time": "2022-04-17T20:11:05.176962",
     "exception": false,
     "start_time": "2022-04-17T20:11:05.139282",
     "status": "completed"
    },
    "tags": []
   },
   "outputs": [],
   "source": [
    "from keras.utils.vis_utils import plot_model"
   ]
  },
  {
   "cell_type": "code",
   "execution_count": 14,
   "id": "01603849",
   "metadata": {
    "execution": {
     "iopub.execute_input": "2022-04-17T20:11:05.240046Z",
     "iopub.status.busy": "2022-04-17T20:11:05.239818Z",
     "iopub.status.idle": "2022-04-17T20:11:05.248556Z",
     "shell.execute_reply": "2022-04-17T20:11:05.247874Z"
    },
    "id": "8dhhI8lDmUO4",
    "papermill": {
     "duration": 0.04244,
     "end_time": "2022-04-17T20:11:05.250532",
     "exception": false,
     "start_time": "2022-04-17T20:11:05.208092",
     "status": "completed"
    },
    "tags": []
   },
   "outputs": [],
   "source": [
    "def bert_bangla_sentiment_model():\n",
    "    bert_encoder = TFBertModel.from_pretrained(model_name, output_attentions=True)\n",
    "    input_word_ids = Input(\n",
    "        shape=(max_length,), dtype=tf.int32, name=\"input_ids\"\n",
    "    )\n",
    "    last_hidden_states = bert_encoder(input_word_ids)[0]\n",
    "    #clf_output = Flatten()(last_hidden_states)\n",
    "    net= Conv1D(200, kernel_size=3, activation = \"relu\")(last_hidden_states)\n",
    "    net = Bidirectional(LSTM(128, return_sequences=True))(net)\n",
    "    net = Bidirectional(LSTM(64))(net)\n",
    "    net = Dense(512, activation=\"relu\")(net)\n",
    "    net = Dropout(0.5)(net)\n",
    "    net = Dense(256, activation=\"relu\")(net)\n",
    "    net = Dropout(0.4)(net)\n",
    "    net = Dense(128, activation=\"relu\")(net)\n",
    "    net = Dropout(0.3)(net)\n",
    "    net = Dense(64, activation=\"relu\")(net)\n",
    "    net = Dropout(0.2)(net)\n",
    "    net = Dense(32, activation=\"relu\")(net)\n",
    "    net = Dropout(0.1)(net)\n",
    "    net = Dense(16, activation=\"relu\")(net)\n",
    "    net = Dropout(0.1)(net)\n",
    "    net = Flatten()(net)\n",
    "    output = Dense(1, activation=\"sigmoid\")(net)\n",
    "    model = Model(inputs=input_word_ids, outputs=output)\n",
    "    return model"
   ]
  },
  {
   "cell_type": "code",
   "execution_count": 15,
   "id": "f2ce556b",
   "metadata": {
    "execution": {
     "iopub.execute_input": "2022-04-17T20:11:05.315273Z",
     "iopub.status.busy": "2022-04-17T20:11:05.315088Z",
     "iopub.status.idle": "2022-04-17T20:12:21.079663Z",
     "shell.execute_reply": "2022-04-17T20:12:21.078167Z"
    },
    "id": "Po97cKiK3QQm",
    "outputId": "2fe6112b-d81e-455e-de78-1becd609832c",
    "papermill": {
     "duration": 75.799458,
     "end_time": "2022-04-17T20:12:21.081762",
     "exception": false,
     "start_time": "2022-04-17T20:11:05.282304",
     "status": "completed"
    },
    "tags": []
   },
   "outputs": [
    {
     "data": {
      "application/vnd.jupyter.widget-view+json": {
       "model_id": "e1abd7492ae74c9999bdfe9f0aa27841",
       "version_major": 2,
       "version_minor": 0
      },
      "text/plain": [
       "Downloading:   0%|          | 0.00/930M [00:00<?, ?B/s]"
      ]
     },
     "metadata": {},
     "output_type": "display_data"
    },
    {
     "name": "stderr",
     "output_type": "stream",
     "text": [
      "Some layers from the model checkpoint at sagorsarker/bangla-bert-base were not used when initializing TFBertModel: ['mlm___cls']\n",
      "- This IS expected if you are initializing TFBertModel from the checkpoint of a model trained on another task or with another architecture (e.g. initializing a BertForSequenceClassification model from a BertForPreTraining model).\n",
      "- This IS NOT expected if you are initializing TFBertModel from the checkpoint of a model that you expect to be exactly identical (initializing a BertForSequenceClassification model from a BertForSequenceClassification model).\n",
      "All the layers of TFBertModel were initialized from the model checkpoint at sagorsarker/bangla-bert-base.\n",
      "If your task is similar to the task the model of the checkpoint was trained on, you can already use TFBertModel for predictions without further training.\n"
     ]
    },
    {
     "name": "stdout",
     "output_type": "stream",
     "text": [
      "Model: \"model\"\n",
      "_________________________________________________________________\n",
      "Layer (type)                 Output Shape              Param #   \n",
      "=================================================================\n",
      "input_ids (InputLayer)       [(None, 100)]             0         \n",
      "_________________________________________________________________\n",
      "tf_bert_model (TFBertModel)  TFBaseModelOutputWithPool 164396544 \n",
      "_________________________________________________________________\n",
      "conv1d (Conv1D)              (None, 98, 200)           461000    \n",
      "_________________________________________________________________\n",
      "bidirectional (Bidirectional (None, 98, 256)           336896    \n",
      "_________________________________________________________________\n",
      "bidirectional_1 (Bidirection (None, 128)               164352    \n",
      "_________________________________________________________________\n",
      "dense (Dense)                (None, 512)               66048     \n",
      "_________________________________________________________________\n",
      "dropout_37 (Dropout)         (None, 512)               0         \n",
      "_________________________________________________________________\n",
      "dense_1 (Dense)              (None, 256)               131328    \n",
      "_________________________________________________________________\n",
      "dropout_38 (Dropout)         (None, 256)               0         \n",
      "_________________________________________________________________\n",
      "dense_2 (Dense)              (None, 128)               32896     \n",
      "_________________________________________________________________\n",
      "dropout_39 (Dropout)         (None, 128)               0         \n",
      "_________________________________________________________________\n",
      "dense_3 (Dense)              (None, 64)                8256      \n",
      "_________________________________________________________________\n",
      "dropout_40 (Dropout)         (None, 64)                0         \n",
      "_________________________________________________________________\n",
      "dense_4 (Dense)              (None, 32)                2080      \n",
      "_________________________________________________________________\n",
      "dropout_41 (Dropout)         (None, 32)                0         \n",
      "_________________________________________________________________\n",
      "dense_5 (Dense)              (None, 16)                528       \n",
      "_________________________________________________________________\n",
      "dropout_42 (Dropout)         (None, 16)                0         \n",
      "_________________________________________________________________\n",
      "flatten (Flatten)            (None, 16)                0         \n",
      "_________________________________________________________________\n",
      "dense_6 (Dense)              (None, 1)                 17        \n",
      "=================================================================\n",
      "Total params: 165,599,945\n",
      "Trainable params: 165,599,945\n",
      "Non-trainable params: 0\n",
      "_________________________________________________________________\n"
     ]
    }
   ],
   "source": [
    "with strategy.scope():\n",
    "    model = bert_bangla_sentiment_model()\n",
    "    adam_optimizer = Adam(learning_rate=1e-5)\n",
    "    model.compile(\n",
    "        loss=\"binary_crossentropy\", optimizer=adam_optimizer, metrics=[\"accuracy\"]\n",
    "    )\n",
    "    model.summary()"
   ]
  },
  {
   "cell_type": "code",
   "execution_count": 16,
   "id": "2ea6ff46",
   "metadata": {
    "execution": {
     "iopub.execute_input": "2022-04-17T20:12:21.153731Z",
     "iopub.status.busy": "2022-04-17T20:12:21.153519Z",
     "iopub.status.idle": "2022-04-17T20:12:21.980293Z",
     "shell.execute_reply": "2022-04-17T20:12:21.978432Z"
    },
    "id": "q_W_JzYCKsD-",
    "outputId": "d469c0b6-1d33-4f77-bda3-45169ef39dc1",
    "papermill": {
     "duration": 0.863873,
     "end_time": "2022-04-17T20:12:21.982395",
     "exception": false,
     "start_time": "2022-04-17T20:12:21.118522",
     "status": "completed"
    },
    "tags": []
   },
   "outputs": [
    {
     "data": {
      "image/png": "[encoded data removed]",
      "text/plain": [
       "<IPython.core.display.Image object>"
      ]
     },
     "execution_count": 16,
     "metadata": {},
     "output_type": "execute_result"
    }
   ],
   "source": [
    "tf.keras.utils.plot_model(model, to_file='model.png', show_shapes=False, show_dtype=False,show_layer_names=True, rankdir='TB', expand_nested=False, dpi=96)"
   ]
  },
  {
   "cell_type": "code",
   "execution_count": 17,
   "id": "60ca4de4",
   "metadata": {
    "execution": {
     "iopub.execute_input": "2022-04-17T20:12:22.055198Z",
     "iopub.status.busy": "2022-04-17T20:12:22.054973Z",
     "iopub.status.idle": "2022-04-17T20:21:12.136697Z",
     "shell.execute_reply": "2022-04-17T20:21:12.135813Z"
    },
    "id": "tpp4Sjta5IP1",
    "outputId": "9d21fbbc-22fd-4b17-e65c-18a8c009c95b",
    "papermill": {
     "duration": 530.1208,
     "end_time": "2022-04-17T20:21:12.138704",
     "exception": false,
     "start_time": "2022-04-17T20:12:22.017904",
     "status": "completed"
    },
    "tags": []
   },
   "outputs": [
    {
     "name": "stdout",
     "output_type": "stream",
     "text": [
      "Epoch 1/30\n"
     ]
    },
    {
     "name": "stderr",
     "output_type": "stream",
     "text": [
      "2022-04-17 20:12:36.816443: I tensorflow/compiler/mlir/mlir_graph_optimization_pass.cc:185] None of the MLIR Optimization Passes are enabled (registered 2)\n",
      "2022-04-17 20:12:41.112185: I tensorflow/stream_executor/cuda/cuda_dnn.cc:369] Loaded cuDNN version 8005\n"
     ]
    },
    {
     "name": "stdout",
     "output_type": "stream",
     "text": [
      "37/37 [==============================] - 43s 521ms/step - loss: 0.6910 - accuracy: 0.5328 - val_loss: 0.6873 - val_accuracy: 0.6357\n",
      "Epoch 2/30\n",
      "37/37 [==============================] - 16s 421ms/step - loss: 0.6919 - accuracy: 0.5216 - val_loss: 0.6893 - val_accuracy: 0.6047\n",
      "Epoch 3/30\n",
      "37/37 [==============================] - 16s 424ms/step - loss: 0.6875 - accuracy: 0.5561 - val_loss: 0.6854 - val_accuracy: 0.6202\n",
      "Epoch 4/30\n",
      "37/37 [==============================] - 16s 422ms/step - loss: 0.6881 - accuracy: 0.5440 - val_loss: 0.6843 - val_accuracy: 0.6357\n",
      "Epoch 5/30\n",
      "37/37 [==============================] - 16s 426ms/step - loss: 0.6875 - accuracy: 0.5484 - val_loss: 0.6823 - val_accuracy: 0.6279\n",
      "Epoch 6/30\n",
      "37/37 [==============================] - 16s 422ms/step - loss: 0.6900 - accuracy: 0.5397 - val_loss: 0.6811 - val_accuracy: 0.6357\n",
      "Epoch 7/30\n",
      "37/37 [==============================] - 16s 422ms/step - loss: 0.6898 - accuracy: 0.5518 - val_loss: 0.6834 - val_accuracy: 0.6279\n",
      "Epoch 8/30\n",
      "37/37 [==============================] - 16s 424ms/step - loss: 0.6840 - accuracy: 0.5846 - val_loss: 0.6807 - val_accuracy: 0.6202\n",
      "Epoch 9/30\n",
      "37/37 [==============================] - 16s 423ms/step - loss: 0.6848 - accuracy: 0.5492 - val_loss: 0.6784 - val_accuracy: 0.6202\n",
      "Epoch 10/30\n",
      "37/37 [==============================] - 16s 422ms/step - loss: 0.6817 - accuracy: 0.5907 - val_loss: 0.6756 - val_accuracy: 0.6357\n",
      "Epoch 11/30\n",
      "37/37 [==============================] - 16s 422ms/step - loss: 0.6844 - accuracy: 0.5777 - val_loss: 0.6781 - val_accuracy: 0.6357\n",
      "Epoch 12/30\n",
      "37/37 [==============================] - 16s 425ms/step - loss: 0.6832 - accuracy: 0.5794 - val_loss: 0.6766 - val_accuracy: 0.6124\n",
      "Epoch 13/30\n",
      "37/37 [==============================] - 16s 421ms/step - loss: 0.6807 - accuracy: 0.5769 - val_loss: 0.6752 - val_accuracy: 0.6279\n",
      "Epoch 14/30\n",
      "37/37 [==============================] - 16s 421ms/step - loss: 0.6798 - accuracy: 0.5682 - val_loss: 0.6746 - val_accuracy: 0.6357\n",
      "Epoch 15/30\n",
      "37/37 [==============================] - 16s 421ms/step - loss: 0.6748 - accuracy: 0.5924 - val_loss: 0.6733 - val_accuracy: 0.6202\n",
      "Epoch 16/30\n",
      "37/37 [==============================] - 16s 422ms/step - loss: 0.6767 - accuracy: 0.5794 - val_loss: 0.6727 - val_accuracy: 0.6357\n",
      "Epoch 17/30\n",
      "37/37 [==============================] - 16s 422ms/step - loss: 0.6751 - accuracy: 0.5760 - val_loss: 0.6714 - val_accuracy: 0.6279\n",
      "Epoch 18/30\n",
      "37/37 [==============================] - 16s 424ms/step - loss: 0.6776 - accuracy: 0.5812 - val_loss: 0.6718 - val_accuracy: 0.6279\n",
      "Epoch 19/30\n",
      "37/37 [==============================] - 16s 420ms/step - loss: 0.6749 - accuracy: 0.5881 - val_loss: 0.6713 - val_accuracy: 0.6202\n",
      "Epoch 20/30\n",
      "37/37 [==============================] - 16s 422ms/step - loss: 0.6730 - accuracy: 0.5959 - val_loss: 0.6714 - val_accuracy: 0.6202\n",
      "Epoch 21/30\n",
      "37/37 [==============================] - 16s 423ms/step - loss: 0.6774 - accuracy: 0.5898 - val_loss: 0.6679 - val_accuracy: 0.6357\n",
      "Epoch 22/30\n",
      "37/37 [==============================] - 16s 421ms/step - loss: 0.6770 - accuracy: 0.5898 - val_loss: 0.6667 - val_accuracy: 0.6279\n",
      "Epoch 23/30\n",
      "37/37 [==============================] - 16s 421ms/step - loss: 0.6712 - accuracy: 0.5993 - val_loss: 0.6636 - val_accuracy: 0.6357\n",
      "Epoch 24/30\n",
      "37/37 [==============================] - 16s 423ms/step - loss: 0.6701 - accuracy: 0.5967 - val_loss: 0.6718 - val_accuracy: 0.6047\n",
      "Epoch 25/30\n",
      "37/37 [==============================] - 16s 422ms/step - loss: 0.6804 - accuracy: 0.5915 - val_loss: 0.6535 - val_accuracy: 0.6279\n",
      "Epoch 26/30\n",
      "37/37 [==============================] - 16s 422ms/step - loss: 0.6535 - accuracy: 0.6485 - val_loss: 0.5936 - val_accuracy: 0.7597\n",
      "Epoch 27/30\n",
      "37/37 [==============================] - 16s 422ms/step - loss: 0.6208 - accuracy: 0.7306 - val_loss: 0.5283 - val_accuracy: 0.8527\n",
      "Epoch 28/30\n",
      "37/37 [==============================] - 16s 423ms/step - loss: 0.5999 - accuracy: 0.7504 - val_loss: 0.5074 - val_accuracy: 0.8527\n",
      "Epoch 29/30\n",
      "37/37 [==============================] - 16s 420ms/step - loss: 0.5627 - accuracy: 0.7910 - val_loss: 0.4681 - val_accuracy: 0.8527\n",
      "Epoch 30/30\n",
      "37/37 [==============================] - 16s 440ms/step - loss: 0.5293 - accuracy: 0.8221 - val_loss: 0.4393 - val_accuracy: 0.8760\n"
     ]
    }
   ],
   "source": [
    "history = model.fit(\n",
    "    train_dataset,\n",
    "    batch_size=batch_size,\n",
    "    epochs=30,\n",
    "    validation_data=validation_dataset,\n",
    "    verbose=1,\n",
    ")"
   ]
  },
  {
   "cell_type": "code",
   "execution_count": 18,
   "id": "d98d1b38",
   "metadata": {
    "execution": {
     "iopub.execute_input": "2022-04-17T20:21:13.170252Z",
     "iopub.status.busy": "2022-04-17T20:21:13.169799Z",
     "iopub.status.idle": "2022-04-17T20:21:13.173474Z",
     "shell.execute_reply": "2022-04-17T20:21:13.172689Z"
    },
    "id": "cDdGkbf5n1mY",
    "papermill": {
     "duration": 0.418078,
     "end_time": "2022-04-17T20:21:13.175419",
     "exception": false,
     "start_time": "2022-04-17T20:21:12.757341",
     "status": "completed"
    },
    "tags": []
   },
   "outputs": [],
   "source": [
    "#model.save_weights('weights.h5', overwrite=True)"
   ]
  },
  {
   "cell_type": "code",
   "execution_count": 19,
   "id": "a9107487",
   "metadata": {
    "execution": {
     "iopub.execute_input": "2022-04-17T20:21:13.955931Z",
     "iopub.status.busy": "2022-04-17T20:21:13.955673Z",
     "iopub.status.idle": "2022-04-17T20:21:14.352396Z",
     "shell.execute_reply": "2022-04-17T20:21:14.351720Z"
    },
    "id": "h4h8-pUGn3Y4",
    "outputId": "cae932a3-f884-455f-f40e-ae921907ad93",
    "papermill": {
     "duration": 0.785709,
     "end_time": "2022-04-17T20:21:14.354093",
     "exception": false,
     "start_time": "2022-04-17T20:21:13.568384",
     "status": "completed"
    },
    "tags": []
   },
   "outputs": [
    {
     "data": {
      "image/png": "[encoded data removed]",
      "text/plain": [
       "<Figure size 432x288 with 1 Axes>"
      ]
     },
     "metadata": {
      "needs_background": "light"
     },
     "output_type": "display_data"
    },
    {
     "data": {
      "image/png": "[encoded data removed]",
      "text/plain": [
       "<Figure size 432x288 with 1 Axes>"
      ]
     },
     "metadata": {
      "needs_background": "light"
     },
     "output_type": "display_data"
    }
   ],
   "source": [
    "import matplotlib.pyplot as plt\n",
    "def plot_graphs(history, string):\n",
    "    plt.plot(history.history[string])\n",
    "    plt.plot(history.history[\"val_\" + string])\n",
    "    plt.xlabel(\"Epochs\")\n",
    "    plt.ylabel(string)\n",
    "    plt.legend([string, \"val_\" + string])\n",
    "    plt.show()\n",
    "plot_graphs(history, \"accuracy\")\n",
    "plot_graphs(history, \"loss\")"
   ]
  },
  {
   "cell_type": "code",
   "execution_count": 20,
   "id": "78cb27c3",
   "metadata": {
    "execution": {
     "iopub.execute_input": "2022-04-17T20:21:15.134854Z",
     "iopub.status.busy": "2022-04-17T20:21:15.134603Z",
     "iopub.status.idle": "2022-04-17T20:21:19.479161Z",
     "shell.execute_reply": "2022-04-17T20:21:19.478374Z"
    },
    "id": "OFIuraJ0r_8s",
    "papermill": {
     "duration": 4.73606,
     "end_time": "2022-04-17T20:21:19.481243",
     "exception": false,
     "start_time": "2022-04-17T20:21:14.745183",
     "status": "completed"
    },
    "tags": []
   },
   "outputs": [],
   "source": [
    "from sklearn.metrics import classification_report\n",
    "y_pred=model.predict(test_dataset, batch_size=batch_size)\n",
    "y_pred = np.round(y_pred)"
   ]
  },
  {
   "cell_type": "code",
   "execution_count": 21,
   "id": "88ffde27",
   "metadata": {
    "execution": {
     "iopub.execute_input": "2022-04-17T20:21:20.281105Z",
     "iopub.status.busy": "2022-04-17T20:21:20.280832Z",
     "iopub.status.idle": "2022-04-17T20:21:20.284639Z",
     "shell.execute_reply": "2022-04-17T20:21:20.283962Z"
    },
    "id": "TI99UD8asULc",
    "papermill": {
     "duration": 0.39995,
     "end_time": "2022-04-17T20:21:20.286366",
     "exception": false,
     "start_time": "2022-04-17T20:21:19.886416",
     "status": "completed"
    },
    "tags": []
   },
   "outputs": [],
   "source": [
    "y_pred = y_pred.reshape(-1,1)"
   ]
  },
  {
   "cell_type": "code",
   "execution_count": 22,
   "id": "92643984",
   "metadata": {
    "execution": {
     "iopub.execute_input": "2022-04-17T20:21:21.072849Z",
     "iopub.status.busy": "2022-04-17T20:21:21.072598Z",
     "iopub.status.idle": "2022-04-17T20:21:21.083092Z",
     "shell.execute_reply": "2022-04-17T20:21:21.082308Z"
    },
    "id": "vvESk8_GsWXY",
    "outputId": "460c853c-bac1-40bc-c5ed-b1b57ddc0453",
    "papermill": {
     "duration": 0.404842,
     "end_time": "2022-04-17T20:21:21.085144",
     "exception": false,
     "start_time": "2022-04-17T20:21:20.680302",
     "status": "completed"
    },
    "tags": []
   },
   "outputs": [
    {
     "name": "stdout",
     "output_type": "stream",
     "text": [
      "              precision    recall  f1-score   support\n",
      "\n",
      "    negative       0.53      0.48      0.51        85\n",
      "    positive       0.34      0.39      0.37        59\n",
      "\n",
      "    accuracy                           0.44       144\n",
      "   macro avg       0.44      0.44      0.44       144\n",
      "weighted avg       0.45      0.44      0.45       144\n",
      "\n"
     ]
    }
   ],
   "source": [
    "categories = ['negative','positive']\n",
    "print(classification_report(y_test, y_pred, target_names=categories))"
   ]
  },
  {
   "cell_type": "code",
   "execution_count": 23,
   "id": "a36da807",
   "metadata": {
    "execution": {
     "iopub.execute_input": "2022-04-17T20:21:21.880529Z",
     "iopub.status.busy": "2022-04-17T20:21:21.880280Z",
     "iopub.status.idle": "2022-04-17T20:21:22.278489Z",
     "shell.execute_reply": "2022-04-17T20:21:22.277747Z"
    },
    "id": "Zvm19Hz9saKx",
    "outputId": "33aca0a4-bfd5-4c00-fe21-c15117840e0e",
    "papermill": {
     "duration": 0.791169,
     "end_time": "2022-04-17T20:21:22.280249",
     "exception": false,
     "start_time": "2022-04-17T20:21:21.489080",
     "status": "completed"
    },
    "tags": []
   },
   "outputs": [
    {
     "data": {
      "image/png": "[encoded data removed]",
      "text/plain": [
       "<Figure size 1152x1008 with 2 Axes>"
      ]
     },
     "metadata": {
      "needs_background": "light"
     },
     "output_type": "display_data"
    }
   ],
   "source": [
    "import seaborn as sns\n",
    "import matplotlib.pyplot as plt\n",
    "\n",
    "### Confusion Matrix\n",
    "from sklearn.metrics import confusion_matrix\n",
    "#predictions = model.predict(x_test, steps=len(x_test), verbose=0)\n",
    "#y_pred=model.predict(x_test)\n",
    "#y_pred = np.round(y_pred)\n",
    "\n",
    "\n",
    "cm = confusion_matrix(y_test, y_pred)\n",
    "\n",
    "## Get Class Labels\n",
    "labels = 2\n",
    "#[0,1,2,3,4,5]_\n",
    "class_names = categories \n",
    "\n",
    "# Plot confusion matrix in a beautiful manner\n",
    "fig = plt.figure(figsize=(16, 14))\n",
    "ax= plt.subplot()\n",
    "sns.heatmap(cm, annot=True, ax = ax, fmt = 'g'); #annot=True to annotate cells\n",
    "# labels, title and ticks\n",
    "ax.set_xlabel('Predicted', fontsize=20)\n",
    "ax.xaxis.set_label_position('bottom')\n",
    "plt.xticks(rotation=90)\n",
    "ax.xaxis.set_ticklabels(class_names, fontsize = 10)\n",
    "ax.xaxis.tick_bottom()\n",
    "\n",
    "ax.set_ylabel('True', fontsize=20)\n",
    "ax.yaxis.set_ticklabels(class_names, fontsize = 10)\n",
    "plt.yticks(rotation=0)\n",
    "\n",
    "plt.title('Refined Confusion Matrix', fontsize=20)\n",
    "\n",
    "plt.savefig('ConMat24.png')\n",
    "plt.show()"
   ]
  },
  {
   "cell_type": "code",
   "execution_count": 24,
   "id": "a3ce1385",
   "metadata": {
    "execution": {
     "iopub.execute_input": "2022-04-17T20:21:23.070789Z",
     "iopub.status.busy": "2022-04-17T20:21:23.070537Z",
     "iopub.status.idle": "2022-04-17T20:21:23.075618Z",
     "shell.execute_reply": "2022-04-17T20:21:23.074643Z"
    },
    "id": "8oRMvXXkyiji",
    "papermill": {
     "duration": 0.399257,
     "end_time": "2022-04-17T20:21:23.077205",
     "exception": true,
     "start_time": "2022-04-17T20:21:22.677948",
     "status": "failed"
    },
    "tags": []
   },
   "outputs": [
    {
     "ename": "SyntaxError",
     "evalue": "invalid syntax (840428899.py, line 1)",
     "output_type": "error",
     "traceback": [
      "\u001b[0;36m  File \u001b[0;32m\"/tmp/ipykernel_17/840428899.py\"\u001b[0;36m, line \u001b[0;32m1\u001b[0m\n\u001b[0;31m    Influenced by:\u001b[0m\n\u001b[0m                ^\u001b[0m\n\u001b[0;31mSyntaxError\u001b[0m\u001b[0;31m:\u001b[0m invalid syntax\n"
     ]
    }
   ],
   "source": [
    "Influenced by:\n",
    "Kaggle Notebook:https://www.kaggle.com/code/lmasca/disaster-tweets-using-bert-embeddings-and-lstm/notebook"
   ]
  }
 ],
 "metadata": {
  "kernelspec": {
   "display_name": "Python 3",
   "language": "python",
   "name": "python3"
  },
  "language_info": {
   "codemirror_mode": {
    "name": "ipython",
    "version": 3
   },
   "file_extension": ".py",
   "mimetype": "text/x-python",
   "name": "python",
   "nbconvert_exporter": "python",
   "pygments_lexer": "ipython3",
   "version": "3.7.12"
  },
  "papermill": {
   "default_parameters": {},
   "duration": 676.621491,
   "end_time": "2022-04-17T20:21:27.475803",
   "environment_variables": {},
   "exception": true,
   "input_path": "__notebook__.ipynb",
   "output_path": "__notebook__.ipynb",
   "parameters": {},
   "start_time": "2022-04-17T20:10:10.854312",
   "version": "2.3.4"
  },
  "widgets": {
   "application/vnd.jupyter.widget-state+json": {
    "state": {
     "08b3c701e74c4c5a8150754df6409817": {
      "model_module": "@jupyter-widgets/controls",
      "model_module_version": "1.5.0",
      "model_name": "HBoxModel",
      "state": {
       "_dom_classes": [],
       "_model_module": "@jupyter-widgets/controls",
       "_model_module_version": "1.5.0",
       "_model_name": "HBoxModel",
       "_view_count": null,
       "_view_module": "@jupyter-widgets/controls",
       "_view_module_version": "1.5.0",
       "_view_name": "HBoxView",
       "box_style": "",
       "children": [
        "IPY_MODEL_49797f0a2b444bca852b06944386bb18",
        "IPY_MODEL_377bb3ee0f43414bbf8636536278f60e",
        "IPY_MODEL_5264c7f96afd4e61a4f1961f53619f4d"
       ],
       "layout": "IPY_MODEL_b039547f584b4152b1421951cc3e89d0"
      }
     },
     "19b8c0f1fbf14642bf8094fb91d5b3c7": {
      "model_module": "@jupyter-widgets/controls",
      "model_module_version": "1.5.0",
      "model_name": "FloatProgressModel",
      "state": {
       "_dom_classes": [],
       "_model_module": "@jupyter-widgets/controls",
       "_model_module_version": "1.5.0",
       "_model_name": "FloatProgressModel",
       "_view_count": null,
       "_view_module": "@jupyter-widgets/controls",
       "_view_module_version": "1.5.0",
       "_view_name": "ProgressView",
       "bar_style": "success",
       "description": "",
       "description_tooltip": null,
       "layout": "IPY_MODEL_bb9ecc902cd44c81944b7eea90e5c858",
       "max": 975649908.0,
       "min": 0.0,
       "orientation": "horizontal",
       "style": "IPY_MODEL_841cdb883d924ef68bd3f2733e18db23",
       "value": 975649908.0
      }
     },
     "377bb3ee0f43414bbf8636536278f60e": {
      "model_module": "@jupyter-widgets/controls",
      "model_module_version": "1.5.0",
      "model_name": "FloatProgressModel",
      "state": {
       "_dom_classes": [],
       "_model_module": "@jupyter-widgets/controls",
       "_model_module_version": "1.5.0",
       "_model_name": "FloatProgressModel",
       "_view_count": null,
       "_view_module": "@jupyter-widgets/controls",
       "_view_module_version": "1.5.0",
       "_view_name": "ProgressView",
       "bar_style": "success",
       "description": "",
       "description_tooltip": null,
       "layout": "IPY_MODEL_d57f79285fa64d2fa6f35ab3e69f6d76",
       "max": 491.0,
       "min": 0.0,
       "orientation": "horizontal",
       "style": "IPY_MODEL_bec62771c8234918b83694dc52e29353",
       "value": 491.0
      }
     },
     "4794c4f0d3084f78aead0607eafe4c42": {
      "model_module": "@jupyter-widgets/controls",
      "model_module_version": "1.5.0",
      "model_name": "FloatProgressModel",
      "state": {
       "_dom_classes": [],
       "_model_module": "@jupyter-widgets/controls",
       "_model_module_version": "1.5.0",
       "_model_name": "FloatProgressModel",
       "_view_count": null,
       "_view_module": "@jupyter-widgets/controls",
       "_view_module_version": "1.5.0",
       "_view_name": "ProgressView",
       "bar_style": "success",
       "description": "",
       "description_tooltip": null,
       "layout": "IPY_MODEL_65137250b3c04b709c1b71caefc8f44a",
       "max": 2237676.0,
       "min": 0.0,
       "orientation": "horizontal",
       "style": "IPY_MODEL_4f1810f03182447da1252d5d55e92437",
       "value": 2237676.0
      }
     },
     "49797f0a2b444bca852b06944386bb18": {
      "model_module": "@jupyter-widgets/controls",
      "model_module_version": "1.5.0",
      "model_name": "HTMLModel",
      "state": {
       "_dom_classes": [],
       "_model_module": "@jupyter-widgets/controls",
       "_model_module_version": "1.5.0",
       "_model_name": "HTMLModel",
       "_view_count": null,
       "_view_module": "@jupyter-widgets/controls",
       "_view_module_version": "1.5.0",
       "_view_name": "HTMLView",
       "description": "",
       "description_tooltip": null,
       "layout": "IPY_MODEL_d32af3a4f20842baa030895a500d4912",
       "placeholder": "​",
       "style": "IPY_MODEL_efe70a56fe7147478cafe2a8d7019cee",
       "value": "Downloading: 100%"
      }
     },
     "4af92942514544f1910a6e20ab258962": {
      "model_module": "@jupyter-widgets/controls",
      "model_module_version": "1.5.0",
      "model_name": "HTMLModel",
      "state": {
       "_dom_classes": [],
       "_model_module": "@jupyter-widgets/controls",
       "_model_module_version": "1.5.0",
       "_model_name": "HTMLModel",
       "_view_count": null,
       "_view_module": "@jupyter-widgets/controls",
       "_view_module_version": "1.5.0",
       "_view_name": "HTMLView",
       "description": "",
       "description_tooltip": null,
       "layout": "IPY_MODEL_9ae1ef116b2d44f8bb37617bf0f44eaf",
       "placeholder": "​",
       "style": "IPY_MODEL_ee7fa603fcc1441faa9f7587c67761d6",
       "value": "Downloading: 100%"
      }
     },
     "4c428d14817d465297f93cdd620ecf80": {
      "model_module": "@jupyter-widgets/controls",
      "model_module_version": "1.5.0",
      "model_name": "HTMLModel",
      "state": {
       "_dom_classes": [],
       "_model_module": "@jupyter-widgets/controls",
       "_model_module_version": "1.5.0",
       "_model_name": "HTMLModel",
       "_view_count": null,
       "_view_module": "@jupyter-widgets/controls",
       "_view_module_version": "1.5.0",
       "_view_name": "HTMLView",
       "description": "",
       "description_tooltip": null,
       "layout": "IPY_MODEL_787b36e4a45249879d5fad8d86489d57",
       "placeholder": "​",
       "style": "IPY_MODEL_9b961a88e39e4ca7a372ad838f181e18",
       "value": " 930M/930M [01:02&lt;00:00, 16.7MB/s]"
      }
     },
     "4f1810f03182447da1252d5d55e92437": {
      "model_module": "@jupyter-widgets/controls",
      "model_module_version": "1.5.0",
      "model_name": "ProgressStyleModel",
      "state": {
       "_model_module": "@jupyter-widgets/controls",
       "_model_module_version": "1.5.0",
       "_model_name": "ProgressStyleModel",
       "_view_count": null,
       "_view_module": "@jupyter-widgets/base",
       "_view_module_version": "1.2.0",
       "_view_name": "StyleView",
       "bar_color": null,
       "description_width": ""
      }
     },
     "5264c7f96afd4e61a4f1961f53619f4d": {
      "model_module": "@jupyter-widgets/controls",
      "model_module_version": "1.5.0",
      "model_name": "HTMLModel",
      "state": {
       "_dom_classes": [],
       "_model_module": "@jupyter-widgets/controls",
       "_model_module_version": "1.5.0",
       "_model_name": "HTMLModel",
       "_view_count": null,
       "_view_module": "@jupyter-widgets/controls",
       "_view_module_version": "1.5.0",
       "_view_name": "HTMLView",
       "description": "",
       "description_tooltip": null,
       "layout": "IPY_MODEL_5cff742f86c44fc491f323a5c76b6aa6",
       "placeholder": "​",
       "style": "IPY_MODEL_e7436b667137480db6709b890895c320",
       "value": " 491/491 [00:00&lt;00:00, 19.8kB/s]"
      }
     },
     "5cff742f86c44fc491f323a5c76b6aa6": {
      "model_module": "@jupyter-widgets/base",
      "model_module_version": "1.2.0",
      "model_name": "LayoutModel",
      "state": {
       "_model_module": "@jupyter-widgets/base",
       "_model_module_version": "1.2.0",
       "_model_name": "LayoutModel",
       "_view_count": null,
       "_view_module": "@jupyter-widgets/base",
       "_view_module_version": "1.2.0",
       "_view_name": "LayoutView",
       "align_content": null,
       "align_items": null,
       "align_self": null,
       "border": null,
       "bottom": null,
       "display": null,
       "flex": null,
       "flex_flow": null,
       "grid_area": null,
       "grid_auto_columns": null,
       "grid_auto_flow": null,
       "grid_auto_rows": null,
       "grid_column": null,
       "grid_gap": null,
       "grid_row": null,
       "grid_template_areas": null,
       "grid_template_columns": null,
       "grid_template_rows": null,
       "height": null,
       "justify_content": null,
       "justify_items": null,
       "left": null,
       "margin": null,
       "max_height": null,
       "max_width": null,
       "min_height": null,
       "min_width": null,
       "object_fit": null,
       "object_position": null,
       "order": null,
       "overflow": null,
       "overflow_x": null,
       "overflow_y": null,
       "padding": null,
       "right": null,
       "top": null,
       "visibility": null,
       "width": null
      }
     },
     "65137250b3c04b709c1b71caefc8f44a": {
      "model_module": "@jupyter-widgets/base",
      "model_module_version": "1.2.0",
      "model_name": "LayoutModel",
      "state": {
       "_model_module": "@jupyter-widgets/base",
       "_model_module_version": "1.2.0",
       "_model_name": "LayoutModel",
       "_view_count": null,
       "_view_module": "@jupyter-widgets/base",
       "_view_module_version": "1.2.0",
       "_view_name": "LayoutView",
       "align_content": null,
       "align_items": null,
       "align_self": null,
       "border": null,
       "bottom": null,
       "display": null,
       "flex": null,
       "flex_flow": null,
       "grid_area": null,
       "grid_auto_columns": null,
       "grid_auto_flow": null,
       "grid_auto_rows": null,
       "grid_column": null,
       "grid_gap": null,
       "grid_row": null,
       "grid_template_areas": null,
       "grid_template_columns": null,
       "grid_template_rows": null,
       "height": null,
       "justify_content": null,
       "justify_items": null,
       "left": null,
       "margin": null,
       "max_height": null,
       "max_width": null,
       "min_height": null,
       "min_width": null,
       "object_fit": null,
       "object_position": null,
       "order": null,
       "overflow": null,
       "overflow_x": null,
       "overflow_y": null,
       "padding": null,
       "right": null,
       "top": null,
       "visibility": null,
       "width": null
      }
     },
     "6c8927777a5146ab8049577e6c94a87a": {
      "model_module": "@jupyter-widgets/controls",
      "model_module_version": "1.5.0",
      "model_name": "HTMLModel",
      "state": {
       "_dom_classes": [],
       "_model_module": "@jupyter-widgets/controls",
       "_model_module_version": "1.5.0",
       "_model_name": "HTMLModel",
       "_view_count": null,
       "_view_module": "@jupyter-widgets/controls",
       "_view_module_version": "1.5.0",
       "_view_name": "HTMLView",
       "description": "",
       "description_tooltip": null,
       "layout": "IPY_MODEL_f73b85fd38364ee0bddcf52b24c71884",
       "placeholder": "​",
       "style": "IPY_MODEL_71a352009e194aacaef54ae03bc8a8b3",
       "value": " 2.13M/2.13M [00:01&lt;00:00, 1.73MB/s]"
      }
     },
     "71a352009e194aacaef54ae03bc8a8b3": {
      "model_module": "@jupyter-widgets/controls",
      "model_module_version": "1.5.0",
      "model_name": "DescriptionStyleModel",
      "state": {
       "_model_module": "@jupyter-widgets/controls",
       "_model_module_version": "1.5.0",
       "_model_name": "DescriptionStyleModel",
       "_view_count": null,
       "_view_module": "@jupyter-widgets/base",
       "_view_module_version": "1.2.0",
       "_view_name": "StyleView",
       "description_width": ""
      }
     },
     "787b36e4a45249879d5fad8d86489d57": {
      "model_module": "@jupyter-widgets/base",
      "model_module_version": "1.2.0",
      "model_name": "LayoutModel",
      "state": {
       "_model_module": "@jupyter-widgets/base",
       "_model_module_version": "1.2.0",
       "_model_name": "LayoutModel",
       "_view_count": null,
       "_view_module": "@jupyter-widgets/base",
       "_view_module_version": "1.2.0",
       "_view_name": "LayoutView",
       "align_content": null,
       "align_items": null,
       "align_self": null,
       "border": null,
       "bottom": null,
       "display": null,
       "flex": null,
       "flex_flow": null,
       "grid_area": null,
       "grid_auto_columns": null,
       "grid_auto_flow": null,
       "grid_auto_rows": null,
       "grid_column": null,
       "grid_gap": null,
       "grid_row": null,
       "grid_template_areas": null,
       "grid_template_columns": null,
       "grid_template_rows": null,
       "height": null,
       "justify_content": null,
       "justify_items": null,
       "left": null,
       "margin": null,
       "max_height": null,
       "max_width": null,
       "min_height": null,
       "min_width": null,
       "object_fit": null,
       "object_position": null,
       "order": null,
       "overflow": null,
       "overflow_x": null,
       "overflow_y": null,
       "padding": null,
       "right": null,
       "top": null,
       "visibility": null,
       "width": null
      }
     },
     "841cdb883d924ef68bd3f2733e18db23": {
      "model_module": "@jupyter-widgets/controls",
      "model_module_version": "1.5.0",
      "model_name": "ProgressStyleModel",
      "state": {
       "_model_module": "@jupyter-widgets/controls",
       "_model_module_version": "1.5.0",
       "_model_name": "ProgressStyleModel",
       "_view_count": null,
       "_view_module": "@jupyter-widgets/base",
       "_view_module_version": "1.2.0",
       "_view_name": "StyleView",
       "bar_color": null,
       "description_width": ""
      }
     },
     "859b69da8391456ab60350b6e37845f2": {
      "model_module": "@jupyter-widgets/base",
      "model_module_version": "1.2.0",
      "model_name": "LayoutModel",
      "state": {
       "_model_module": "@jupyter-widgets/base",
       "_model_module_version": "1.2.0",
       "_model_name": "LayoutModel",
       "_view_count": null,
       "_view_module": "@jupyter-widgets/base",
       "_view_module_version": "1.2.0",
       "_view_name": "LayoutView",
       "align_content": null,
       "align_items": null,
       "align_self": null,
       "border": null,
       "bottom": null,
       "display": null,
       "flex": null,
       "flex_flow": null,
       "grid_area": null,
       "grid_auto_columns": null,
       "grid_auto_flow": null,
       "grid_auto_rows": null,
       "grid_column": null,
       "grid_gap": null,
       "grid_row": null,
       "grid_template_areas": null,
       "grid_template_columns": null,
       "grid_template_rows": null,
       "height": null,
       "justify_content": null,
       "justify_items": null,
       "left": null,
       "margin": null,
       "max_height": null,
       "max_width": null,
       "min_height": null,
       "min_width": null,
       "object_fit": null,
       "object_position": null,
       "order": null,
       "overflow": null,
       "overflow_x": null,
       "overflow_y": null,
       "padding": null,
       "right": null,
       "top": null,
       "visibility": null,
       "width": null
      }
     },
     "8d0d84e545274617bcab0268b54a79b4": {
      "model_module": "@jupyter-widgets/controls",
      "model_module_version": "1.5.0",
      "model_name": "HTMLModel",
      "state": {
       "_dom_classes": [],
       "_model_module": "@jupyter-widgets/controls",
       "_model_module_version": "1.5.0",
       "_model_name": "HTMLModel",
       "_view_count": null,
       "_view_module": "@jupyter-widgets/controls",
       "_view_module_version": "1.5.0",
       "_view_name": "HTMLView",
       "description": "",
       "description_tooltip": null,
       "layout": "IPY_MODEL_859b69da8391456ab60350b6e37845f2",
       "placeholder": "​",
       "style": "IPY_MODEL_ff982aa6a2414083a56f42a6ce51f5df",
       "value": "Downloading: 100%"
      }
     },
     "9ae1ef116b2d44f8bb37617bf0f44eaf": {
      "model_module": "@jupyter-widgets/base",
      "model_module_version": "1.2.0",
      "model_name": "LayoutModel",
      "state": {
       "_model_module": "@jupyter-widgets/base",
       "_model_module_version": "1.2.0",
       "_model_name": "LayoutModel",
       "_view_count": null,
       "_view_module": "@jupyter-widgets/base",
       "_view_module_version": "1.2.0",
       "_view_name": "LayoutView",
       "align_content": null,
       "align_items": null,
       "align_self": null,
       "border": null,
       "bottom": null,
       "display": null,
       "flex": null,
       "flex_flow": null,
       "grid_area": null,
       "grid_auto_columns": null,
       "grid_auto_flow": null,
       "grid_auto_rows": null,
       "grid_column": null,
       "grid_gap": null,
       "grid_row": null,
       "grid_template_areas": null,
       "grid_template_columns": null,
       "grid_template_rows": null,
       "height": null,
       "justify_content": null,
       "justify_items": null,
       "left": null,
       "margin": null,
       "max_height": null,
       "max_width": null,
       "min_height": null,
       "min_width": null,
       "object_fit": null,
       "object_position": null,
       "order": null,
       "overflow": null,
       "overflow_x": null,
       "overflow_y": null,
       "padding": null,
       "right": null,
       "top": null,
       "visibility": null,
       "width": null
      }
     },
     "9b961a88e39e4ca7a372ad838f181e18": {
      "model_module": "@jupyter-widgets/controls",
      "model_module_version": "1.5.0",
      "model_name": "DescriptionStyleModel",
      "state": {
       "_model_module": "@jupyter-widgets/controls",
       "_model_module_version": "1.5.0",
       "_model_name": "DescriptionStyleModel",
       "_view_count": null,
       "_view_module": "@jupyter-widgets/base",
       "_view_module_version": "1.2.0",
       "_view_name": "StyleView",
       "description_width": ""
      }
     },
     "b039547f584b4152b1421951cc3e89d0": {
      "model_module": "@jupyter-widgets/base",
      "model_module_version": "1.2.0",
      "model_name": "LayoutModel",
      "state": {
       "_model_module": "@jupyter-widgets/base",
       "_model_module_version": "1.2.0",
       "_model_name": "LayoutModel",
       "_view_count": null,
       "_view_module": "@jupyter-widgets/base",
       "_view_module_version": "1.2.0",
       "_view_name": "LayoutView",
       "align_content": null,
       "align_items": null,
       "align_self": null,
       "border": null,
       "bottom": null,
       "display": null,
       "flex": null,
       "flex_flow": null,
       "grid_area": null,
       "grid_auto_columns": null,
       "grid_auto_flow": null,
       "grid_auto_rows": null,
       "grid_column": null,
       "grid_gap": null,
       "grid_row": null,
       "grid_template_areas": null,
       "grid_template_columns": null,
       "grid_template_rows": null,
       "height": null,
       "justify_content": null,
       "justify_items": null,
       "left": null,
       "margin": null,
       "max_height": null,
       "max_width": null,
       "min_height": null,
       "min_width": null,
       "object_fit": null,
       "object_position": null,
       "order": null,
       "overflow": null,
       "overflow_x": null,
       "overflow_y": null,
       "padding": null,
       "right": null,
       "top": null,
       "visibility": null,
       "width": null
      }
     },
     "bb9ecc902cd44c81944b7eea90e5c858": {
      "model_module": "@jupyter-widgets/base",
      "model_module_version": "1.2.0",
      "model_name": "LayoutModel",
      "state": {
       "_model_module": "@jupyter-widgets/base",
       "_model_module_version": "1.2.0",
       "_model_name": "LayoutModel",
       "_view_count": null,
       "_view_module": "@jupyter-widgets/base",
       "_view_module_version": "1.2.0",
       "_view_name": "LayoutView",
       "align_content": null,
       "align_items": null,
       "align_self": null,
       "border": null,
       "bottom": null,
       "display": null,
       "flex": null,
       "flex_flow": null,
       "grid_area": null,
       "grid_auto_columns": null,
       "grid_auto_flow": null,
       "grid_auto_rows": null,
       "grid_column": null,
       "grid_gap": null,
       "grid_row": null,
       "grid_template_areas": null,
       "grid_template_columns": null,
       "grid_template_rows": null,
       "height": null,
       "justify_content": null,
       "justify_items": null,
       "left": null,
       "margin": null,
       "max_height": null,
       "max_width": null,
       "min_height": null,
       "min_width": null,
       "object_fit": null,
       "object_position": null,
       "order": null,
       "overflow": null,
       "overflow_x": null,
       "overflow_y": null,
       "padding": null,
       "right": null,
       "top": null,
       "visibility": null,
       "width": null
      }
     },
     "bd633fc9a1604a819d854cf000408127": {
      "model_module": "@jupyter-widgets/controls",
      "model_module_version": "1.5.0",
      "model_name": "HBoxModel",
      "state": {
       "_dom_classes": [],
       "_model_module": "@jupyter-widgets/controls",
       "_model_module_version": "1.5.0",
       "_model_name": "HBoxModel",
       "_view_count": null,
       "_view_module": "@jupyter-widgets/controls",
       "_view_module_version": "1.5.0",
       "_view_name": "HBoxView",
       "box_style": "",
       "children": [
        "IPY_MODEL_4af92942514544f1910a6e20ab258962",
        "IPY_MODEL_4794c4f0d3084f78aead0607eafe4c42",
        "IPY_MODEL_6c8927777a5146ab8049577e6c94a87a"
       ],
       "layout": "IPY_MODEL_d10634c45cf84d5a8b3125c291062ed6"
      }
     },
     "bec62771c8234918b83694dc52e29353": {
      "model_module": "@jupyter-widgets/controls",
      "model_module_version": "1.5.0",
      "model_name": "ProgressStyleModel",
      "state": {
       "_model_module": "@jupyter-widgets/controls",
       "_model_module_version": "1.5.0",
       "_model_name": "ProgressStyleModel",
       "_view_count": null,
       "_view_module": "@jupyter-widgets/base",
       "_view_module_version": "1.2.0",
       "_view_name": "StyleView",
       "bar_color": null,
       "description_width": ""
      }
     },
     "d10634c45cf84d5a8b3125c291062ed6": {
      "model_module": "@jupyter-widgets/base",
      "model_module_version": "1.2.0",
      "model_name": "LayoutModel",
      "state": {
       "_model_module": "@jupyter-widgets/base",
       "_model_module_version": "1.2.0",
       "_model_name": "LayoutModel",
       "_view_count": null,
       "_view_module": "@jupyter-widgets/base",
       "_view_module_version": "1.2.0",
       "_view_name": "LayoutView",
       "align_content": null,
       "align_items": null,
       "align_self": null,
       "border": null,
       "bottom": null,
       "display": null,
       "flex": null,
       "flex_flow": null,
       "grid_area": null,
       "grid_auto_columns": null,
       "grid_auto_flow": null,
       "grid_auto_rows": null,
       "grid_column": null,
       "grid_gap": null,
       "grid_row": null,
       "grid_template_areas": null,
       "grid_template_columns": null,
       "grid_template_rows": null,
       "height": null,
       "justify_content": null,
       "justify_items": null,
       "left": null,
       "margin": null,
       "max_height": null,
       "max_width": null,
       "min_height": null,
       "min_width": null,
       "object_fit": null,
       "object_position": null,
       "order": null,
       "overflow": null,
       "overflow_x": null,
       "overflow_y": null,
       "padding": null,
       "right": null,
       "top": null,
       "visibility": null,
       "width": null
      }
     },
     "d32af3a4f20842baa030895a500d4912": {
      "model_module": "@jupyter-widgets/base",
      "model_module_version": "1.2.0",
      "model_name": "LayoutModel",
      "state": {
       "_model_module": "@jupyter-widgets/base",
       "_model_module_version": "1.2.0",
       "_model_name": "LayoutModel",
       "_view_count": null,
       "_view_module": "@jupyter-widgets/base",
       "_view_module_version": "1.2.0",
       "_view_name": "LayoutView",
       "align_content": null,
       "align_items": null,
       "align_self": null,
       "border": null,
       "bottom": null,
       "display": null,
       "flex": null,
       "flex_flow": null,
       "grid_area": null,
       "grid_auto_columns": null,
       "grid_auto_flow": null,
       "grid_auto_rows": null,
       "grid_column": null,
       "grid_gap": null,
       "grid_row": null,
       "grid_template_areas": null,
       "grid_template_columns": null,
       "grid_template_rows": null,
       "height": null,
       "justify_content": null,
       "justify_items": null,
       "left": null,
       "margin": null,
       "max_height": null,
       "max_width": null,
       "min_height": null,
       "min_width": null,
       "object_fit": null,
       "object_position": null,
       "order": null,
       "overflow": null,
       "overflow_x": null,
       "overflow_y": null,
       "padding": null,
       "right": null,
       "top": null,
       "visibility": null,
       "width": null
      }
     },
     "d57f79285fa64d2fa6f35ab3e69f6d76": {
      "model_module": "@jupyter-widgets/base",
      "model_module_version": "1.2.0",
      "model_name": "LayoutModel",
      "state": {
       "_model_module": "@jupyter-widgets/base",
       "_model_module_version": "1.2.0",
       "_model_name": "LayoutModel",
       "_view_count": null,
       "_view_module": "@jupyter-widgets/base",
       "_view_module_version": "1.2.0",
       "_view_name": "LayoutView",
       "align_content": null,
       "align_items": null,
       "align_self": null,
       "border": null,
       "bottom": null,
       "display": null,
       "flex": null,
       "flex_flow": null,
       "grid_area": null,
       "grid_auto_columns": null,
       "grid_auto_flow": null,
       "grid_auto_rows": null,
       "grid_column": null,
       "grid_gap": null,
       "grid_row": null,
       "grid_template_areas": null,
       "grid_template_columns": null,
       "grid_template_rows": null,
       "height": null,
       "justify_content": null,
       "justify_items": null,
       "left": null,
       "margin": null,
       "max_height": null,
       "max_width": null,
       "min_height": null,
       "min_width": null,
       "object_fit": null,
       "object_position": null,
       "order": null,
       "overflow": null,
       "overflow_x": null,
       "overflow_y": null,
       "padding": null,
       "right": null,
       "top": null,
       "visibility": null,
       "width": null
      }
     },
     "e1abd7492ae74c9999bdfe9f0aa27841": {
      "model_module": "@jupyter-widgets/controls",
      "model_module_version": "1.5.0",
      "model_name": "HBoxModel",
      "state": {
       "_dom_classes": [],
       "_model_module": "@jupyter-widgets/controls",
       "_model_module_version": "1.5.0",
       "_model_name": "HBoxModel",
       "_view_count": null,
       "_view_module": "@jupyter-widgets/controls",
       "_view_module_version": "1.5.0",
       "_view_name": "HBoxView",
       "box_style": "",
       "children": [
        "IPY_MODEL_8d0d84e545274617bcab0268b54a79b4",
        "IPY_MODEL_19b8c0f1fbf14642bf8094fb91d5b3c7",
        "IPY_MODEL_4c428d14817d465297f93cdd620ecf80"
       ],
       "layout": "IPY_MODEL_fb7c3dd563df444ab63b3a4f2bf873fd"
      }
     },
     "e7436b667137480db6709b890895c320": {
      "model_module": "@jupyter-widgets/controls",
      "model_module_version": "1.5.0",
      "model_name": "DescriptionStyleModel",
      "state": {
       "_model_module": "@jupyter-widgets/controls",
       "_model_module_version": "1.5.0",
       "_model_name": "DescriptionStyleModel",
       "_view_count": null,
       "_view_module": "@jupyter-widgets/base",
       "_view_module_version": "1.2.0",
       "_view_name": "StyleView",
       "description_width": ""
      }
     },
     "ee7fa603fcc1441faa9f7587c67761d6": {
      "model_module": "@jupyter-widgets/controls",
      "model_module_version": "1.5.0",
      "model_name": "DescriptionStyleModel",
      "state": {
       "_model_module": "@jupyter-widgets/controls",
       "_model_module_version": "1.5.0",
       "_model_name": "DescriptionStyleModel",
       "_view_count": null,
       "_view_module": "@jupyter-widgets/base",
       "_view_module_version": "1.2.0",
       "_view_name": "StyleView",
       "description_width": ""
      }
     },
     "efe70a56fe7147478cafe2a8d7019cee": {
      "model_module": "@jupyter-widgets/controls",
      "model_module_version": "1.5.0",
      "model_name": "DescriptionStyleModel",
      "state": {
       "_model_module": "@jupyter-widgets/controls",
       "_model_module_version": "1.5.0",
       "_model_name": "DescriptionStyleModel",
       "_view_count": null,
       "_view_module": "@jupyter-widgets/base",
       "_view_module_version": "1.2.0",
       "_view_name": "StyleView",
       "description_width": ""
      }
     },
     "f73b85fd38364ee0bddcf52b24c71884": {
      "model_module": "@jupyter-widgets/base",
      "model_module_version": "1.2.0",
      "model_name": "LayoutModel",
      "state": {
       "_model_module": "@jupyter-widgets/base",
       "_model_module_version": "1.2.0",
       "_model_name": "LayoutModel",
       "_view_count": null,
       "_view_module": "@jupyter-widgets/base",
       "_view_module_version": "1.2.0",
       "_view_name": "LayoutView",
       "align_content": null,
       "align_items": null,
       "align_self": null,
       "border": null,
       "bottom": null,
       "display": null,
       "flex": null,
       "flex_flow": null,
       "grid_area": null,
       "grid_auto_columns": null,
       "grid_auto_flow": null,
       "grid_auto_rows": null,
       "grid_column": null,
       "grid_gap": null,
       "grid_row": null,
       "grid_template_areas": null,
       "grid_template_columns": null,
       "grid_template_rows": null,
       "height": null,
       "justify_content": null,
       "justify_items": null,
       "left": null,
       "margin": null,
       "max_height": null,
       "max_width": null,
       "min_height": null,
       "min_width": null,
       "object_fit": null,
       "object_position": null,
       "order": null,
       "overflow": null,
       "overflow_x": null,
       "overflow_y": null,
       "padding": null,
       "right": null,
       "top": null,
       "visibility": null,
       "width": null
      }
     },
     "fb7c3dd563df444ab63b3a4f2bf873fd": {
      "model_module": "@jupyter-widgets/base",
      "model_module_version": "1.2.0",
      "model_name": "LayoutModel",
      "state": {
       "_model_module": "@jupyter-widgets/base",
       "_model_module_version": "1.2.0",
       "_model_name": "LayoutModel",
       "_view_count": null,
       "_view_module": "@jupyter-widgets/base",
       "_view_module_version": "1.2.0",
       "_view_name": "LayoutView",
       "align_content": null,
       "align_items": null,
       "align_self": null,
       "border": null,
       "bottom": null,
       "display": null,
       "flex": null,
       "flex_flow": null,
       "grid_area": null,
       "grid_auto_columns": null,
       "grid_auto_flow": null,
       "grid_auto_rows": null,
       "grid_column": null,
       "grid_gap": null,
       "grid_row": null,
       "grid_template_areas": null,
       "grid_template_columns": null,
       "grid_template_rows": null,
       "height": null,
       "justify_content": null,
       "justify_items": null,
       "left": null,
       "margin": null,
       "max_height": null,
       "max_width": null,
       "min_height": null,
       "min_width": null,
       "object_fit": null,
       "object_position": null,
       "order": null,
       "overflow": null,
       "overflow_x": null,
       "overflow_y": null,
       "padding": null,
       "right": null,
       "top": null,
       "visibility": null,
       "width": null
      }
     },
     "ff982aa6a2414083a56f42a6ce51f5df": {
      "model_module": "@jupyter-widgets/controls",
      "model_module_version": "1.5.0",
      "model_name": "DescriptionStyleModel",
      "state": {
       "_model_module": "@jupyter-widgets/controls",
       "_model_module_version": "1.5.0",
       "_model_name": "DescriptionStyleModel",
       "_view_count": null,
       "_view_module": "@jupyter-widgets/base",
       "_view_module_version": "1.2.0",
       "_view_name": "StyleView",
       "description_width": ""
      }
     }
    },
    "version_major": 2,
    "version_minor": 0
   }
  }
 },
 "nbformat": 4,
 "nbformat_minor": 5
}
