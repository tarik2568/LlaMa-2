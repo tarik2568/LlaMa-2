{
 "cells": [
  {
   "cell_type": "code",
   "execution_count": 1,
   "id": "ca9c8e1b",
   "metadata": {
    "_cell_guid": "b1076dfc-b9ad-4769-8c92-a6c4dae69d19",
    "_uuid": "8f2839f25d086af736a60e9eeb907d3b93b6e0e5",
    "execution": {
     "iopub.execute_input": "2023-08-17T14:42:06.562621Z",
     "iopub.status.busy": "2023-08-17T14:42:06.561948Z",
     "iopub.status.idle": "2023-08-17T14:42:14.537381Z",
     "shell.execute_reply": "2023-08-17T14:42:14.536413Z"
    },
    "papermill": {
     "duration": 7.988363,
     "end_time": "2023-08-17T14:42:14.539521",
     "exception": false,
     "start_time": "2023-08-17T14:42:06.551158",
     "status": "completed"
    },
    "tags": []
   },
   "outputs": [
    {
     "name": "stderr",
     "output_type": "stream",
     "text": [
      "/opt/conda/lib/python3.10/site-packages/scipy/__init__.py:146: UserWarning: A NumPy version >=1.16.5 and <1.23.0 is required for this version of SciPy (detected version 1.23.5\n",
      "  warnings.warn(f\"A NumPy version >={np_minversion} and <{np_maxversion}\"\n",
      "/opt/conda/lib/python3.10/site-packages/tensorflow_io/python/ops/__init__.py:98: UserWarning: unable to load libtensorflow_io_plugins.so: unable to open file: libtensorflow_io_plugins.so, from paths: ['/opt/conda/lib/python3.10/site-packages/tensorflow_io/python/ops/libtensorflow_io_plugins.so']\n",
      "caused by: ['/opt/conda/lib/python3.10/site-packages/tensorflow_io/python/ops/libtensorflow_io_plugins.so: undefined symbol: _ZN3tsl6StatusC1EN10tensorflow5error4CodeESt17basic_string_viewIcSt11char_traitsIcEENS_14SourceLocationE']\n",
      "  warnings.warn(f\"unable to load libtensorflow_io_plugins.so: {e}\")\n",
      "/opt/conda/lib/python3.10/site-packages/tensorflow_io/python/ops/__init__.py:104: UserWarning: file system plugins are not loaded: unable to open file: libtensorflow_io.so, from paths: ['/opt/conda/lib/python3.10/site-packages/tensorflow_io/python/ops/libtensorflow_io.so']\n",
      "caused by: ['/opt/conda/lib/python3.10/site-packages/tensorflow_io/python/ops/libtensorflow_io.so: undefined symbol: _ZTVN10tensorflow13GcsFileSystemE']\n",
      "  warnings.warn(f\"file system plugins are not loaded: {e}\")\n"
     ]
    },
    {
     "name": "stdout",
     "output_type": "stream",
     "text": [
      "/kaggle/input/bangla-glove-global-vectors/bn_glove.39M.100d.txt\n",
      "/kaggle/input/bangla-glove-global-vectors/bn_glove.100d.txt\n",
      "/kaggle/input/bangla-glove-global-vectors/bn_glove.300d.txt\n",
      "/kaggle/input/bangla-glove-global-vectors/bn_glove.39M.300d.txt\n",
      "/kaggle/input/bangla-stopwords/bangla_stopwords.xlsx\n",
      "/kaggle/input/sentnob-sentiment-analysis-in-noisy-bangla-texts/SentNoB Dataset/Val.csv\n",
      "/kaggle/input/sentnob-sentiment-analysis-in-noisy-bangla-texts/SentNoB Dataset/Train.csv\n",
      "/kaggle/input/sentnob-sentiment-analysis-in-noisy-bangla-texts/SentNoB Dataset/Test.csv\n"
     ]
    }
   ],
   "source": [
    "import numpy as np\n",
    "import pandas as pd \n",
    "import re\n",
    "import os\n",
    "import keras\n",
    "from keras.preprocessing.text import Tokenizer\n",
    "from keras.layers import LSTM, Activation, Dropout, Dense, Input\n",
    "from keras.layers import Dense, Dropout, Embedding, LSTM,Bidirectional,GRU, Conv1D, Flatten\n",
    "from keras.layers import Embedding\n",
    "from keras.models import Model\n",
    "from tensorflow.keras.optimizers import Adam,SGD\n",
    "import string\n",
    "from keras.utils import pad_sequences\n",
    "from keras.models import Sequential\n",
    "from keras.models import Model\n",
    "for dirname, _, filenames in os.walk('/kaggle/input'):\n",
    "    for filename in filenames:\n",
    "        print(os.path.join(dirname, filename))"
   ]
  },
  {
   "cell_type": "code",
   "execution_count": 2,
   "id": "98b27237",
   "metadata": {
    "execution": {
     "iopub.execute_input": "2023-08-17T14:42:14.555298Z",
     "iopub.status.busy": "2023-08-17T14:42:14.554712Z",
     "iopub.status.idle": "2023-08-17T14:42:38.188086Z",
     "shell.execute_reply": "2023-08-17T14:42:38.187071Z"
    },
    "papermill": {
     "duration": 23.643793,
     "end_time": "2023-08-17T14:42:38.190559",
     "exception": false,
     "start_time": "2023-08-17T14:42:14.546766",
     "status": "completed"
    },
    "tags": []
   },
   "outputs": [],
   "source": [
    "path_to_glove_embds = '/kaggle/input/bangla-glove-global-vectors/bn_glove.39M.300d.txt'\n",
    "glove = pd.read_csv(path_to_glove_embds, sep=\" \", header=None, index_col=0)\n",
    "glove_embedding = {key: val.values for key, val in glove.T.items()}"
   ]
  },
  {
   "cell_type": "code",
   "execution_count": 3,
   "id": "7ce229b6",
   "metadata": {
    "execution": {
     "iopub.execute_input": "2023-08-17T14:42:38.207491Z",
     "iopub.status.busy": "2023-08-17T14:42:38.205953Z",
     "iopub.status.idle": "2023-08-17T14:42:38.334488Z",
     "shell.execute_reply": "2023-08-17T14:42:38.333349Z"
    },
    "papermill": {
     "duration": 0.139447,
     "end_time": "2023-08-17T14:42:38.337382",
     "exception": false,
     "start_time": "2023-08-17T14:42:38.197935",
     "status": "completed"
    },
    "tags": []
   },
   "outputs": [],
   "source": [
    "df_train = pd.read_csv('/kaggle/input/sentnob-sentiment-analysis-in-noisy-bangla-texts/SentNoB Dataset/Train.csv')\n",
    "df_test = pd.read_csv('/kaggle/input/sentnob-sentiment-analysis-in-noisy-bangla-texts/SentNoB Dataset/Test.csv')\n",
    "df_val = pd.read_csv('/kaggle/input/sentnob-sentiment-analysis-in-noisy-bangla-texts/SentNoB Dataset/Val.csv')"
   ]
  },
  {
   "cell_type": "code",
   "execution_count": 4,
   "id": "286e9357",
   "metadata": {
    "execution": {
     "iopub.execute_input": "2023-08-17T14:42:38.366539Z",
     "iopub.status.busy": "2023-08-17T14:42:38.365780Z",
     "iopub.status.idle": "2023-08-17T14:42:38.383498Z",
     "shell.execute_reply": "2023-08-17T14:42:38.382356Z"
    },
    "papermill": {
     "duration": 0.039276,
     "end_time": "2023-08-17T14:42:38.388970",
     "exception": false,
     "start_time": "2023-08-17T14:42:38.349694",
     "status": "completed"
    },
    "tags": []
   },
   "outputs": [
    {
     "data": {
      "text/html": [
       "<div>\n",
       "<style scoped>\n",
       "    .dataframe tbody tr th:only-of-type {\n",
       "        vertical-align: middle;\n",
       "    }\n",
       "\n",
       "    .dataframe tbody tr th {\n",
       "        vertical-align: top;\n",
       "    }\n",
       "\n",
       "    .dataframe thead th {\n",
       "        text-align: right;\n",
       "    }\n",
       "</style>\n",
       "<table border=\"1\" class=\"dataframe\">\n",
       "  <thead>\n",
       "    <tr style=\"text-align: right;\">\n",
       "      <th></th>\n",
       "      <th>Data</th>\n",
       "      <th>Label</th>\n",
       "    </tr>\n",
       "  </thead>\n",
       "  <tbody>\n",
       "    <tr>\n",
       "      <th>0</th>\n",
       "      <td>মুগ্ধ হয়ে গেলাম মামু. আর তোমায় কি কমু. বলো তোম...</td>\n",
       "      <td>1</td>\n",
       "    </tr>\n",
       "    <tr>\n",
       "      <th>1</th>\n",
       "      <td>এই কুত্তার বাচ্চাদের জন্য দেশটা আজ এমন অবস্তায়...</td>\n",
       "      <td>2</td>\n",
       "    </tr>\n",
       "    <tr>\n",
       "      <th>2</th>\n",
       "      <td>ভাই আপনার কথাই যাদু রয়েছে</td>\n",
       "      <td>1</td>\n",
       "    </tr>\n",
       "    <tr>\n",
       "      <th>3</th>\n",
       "      <td>উওরটা আমার অনেক ভাল লেগেছে</td>\n",
       "      <td>1</td>\n",
       "    </tr>\n",
       "    <tr>\n",
       "      <th>4</th>\n",
       "      <td>আমার নিজের গাড়ী নিয়ে কি সাজেক যেতে পারবো না ?...</td>\n",
       "      <td>0</td>\n",
       "    </tr>\n",
       "  </tbody>\n",
       "</table>\n",
       "</div>"
      ],
      "text/plain": [
       "                                                Data  Label\n",
       "0  মুগ্ধ হয়ে গেলাম মামু. আর তোমায় কি কমু. বলো তোম...      1\n",
       "1  এই কুত্তার বাচ্চাদের জন্য দেশটা আজ এমন অবস্তায়...      2\n",
       "2                          ভাই আপনার কথাই যাদু রয়েছে      1\n",
       "3                        উওরটা আমার অনেক ভাল লেগেছে       1\n",
       "4  আমার নিজের গাড়ী নিয়ে কি সাজেক যেতে পারবো না ?...      0"
      ]
     },
     "execution_count": 4,
     "metadata": {},
     "output_type": "execute_result"
    }
   ],
   "source": [
    "df_train.head()"
   ]
  },
  {
   "cell_type": "code",
   "execution_count": 5,
   "id": "a675a1da",
   "metadata": {
    "execution": {
     "iopub.execute_input": "2023-08-17T14:42:38.423176Z",
     "iopub.status.busy": "2023-08-17T14:42:38.422821Z",
     "iopub.status.idle": "2023-08-17T14:42:38.952993Z",
     "shell.execute_reply": "2023-08-17T14:42:38.951923Z"
    },
    "papermill": {
     "duration": 0.546555,
     "end_time": "2023-08-17T14:42:38.957222",
     "exception": false,
     "start_time": "2023-08-17T14:42:38.410667",
     "status": "completed"
    },
    "tags": []
   },
   "outputs": [
    {
     "data": {
      "text/html": [
       "<div>\n",
       "<style scoped>\n",
       "    .dataframe tbody tr th:only-of-type {\n",
       "        vertical-align: middle;\n",
       "    }\n",
       "\n",
       "    .dataframe tbody tr th {\n",
       "        vertical-align: top;\n",
       "    }\n",
       "\n",
       "    .dataframe thead th {\n",
       "        text-align: right;\n",
       "    }\n",
       "</style>\n",
       "<table border=\"1\" class=\"dataframe\">\n",
       "  <thead>\n",
       "    <tr style=\"text-align: right;\">\n",
       "      <th></th>\n",
       "      <th>word_list</th>\n",
       "    </tr>\n",
       "  </thead>\n",
       "  <tbody>\n",
       "    <tr>\n",
       "      <th>0</th>\n",
       "      <td>অই</td>\n",
       "    </tr>\n",
       "    <tr>\n",
       "      <th>1</th>\n",
       "      <td>অগত্যা</td>\n",
       "    </tr>\n",
       "    <tr>\n",
       "      <th>2</th>\n",
       "      <td>অত: পর</td>\n",
       "    </tr>\n",
       "    <tr>\n",
       "      <th>3</th>\n",
       "      <td>অতএব</td>\n",
       "    </tr>\n",
       "    <tr>\n",
       "      <th>4</th>\n",
       "      <td>অথচ</td>\n",
       "    </tr>\n",
       "    <tr>\n",
       "      <th>...</th>\n",
       "      <td>...</td>\n",
       "    </tr>\n",
       "    <tr>\n",
       "      <th>727</th>\n",
       "      <td>হয়েই</td>\n",
       "    </tr>\n",
       "    <tr>\n",
       "      <th>728</th>\n",
       "      <td>হয়েছিল</td>\n",
       "    </tr>\n",
       "    <tr>\n",
       "      <th>729</th>\n",
       "      <td>হয়েছে</td>\n",
       "    </tr>\n",
       "    <tr>\n",
       "      <th>730</th>\n",
       "      <td>হয়েছেন</td>\n",
       "    </tr>\n",
       "    <tr>\n",
       "      <th>731</th>\n",
       "      <td>অংশ</td>\n",
       "    </tr>\n",
       "  </tbody>\n",
       "</table>\n",
       "<p>732 rows × 1 columns</p>\n",
       "</div>"
      ],
      "text/plain": [
       "    word_list\n",
       "0          অই\n",
       "1      অগত্যা\n",
       "2      অত: পর\n",
       "3        অতএব\n",
       "4         অথচ\n",
       "..        ...\n",
       "727      হয়েই\n",
       "728    হয়েছিল\n",
       "729     হয়েছে\n",
       "730    হয়েছেন\n",
       "731       অংশ\n",
       "\n",
       "[732 rows x 1 columns]"
      ]
     },
     "execution_count": 5,
     "metadata": {},
     "output_type": "execute_result"
    }
   ],
   "source": [
    "bn_stopwords = pd.read_excel('/kaggle/input/bangla-stopwords/bangla_stopwords.xlsx')\n",
    "bn_stopwords = bn_stopwords.drop(\"Unnamed: 0\",axis=1)\n",
    "bn_stopwords"
   ]
  },
  {
   "cell_type": "code",
   "execution_count": 6,
   "id": "1ee77fae",
   "metadata": {
    "execution": {
     "iopub.execute_input": "2023-08-17T14:42:38.988512Z",
     "iopub.status.busy": "2023-08-17T14:42:38.987801Z",
     "iopub.status.idle": "2023-08-17T14:42:38.999330Z",
     "shell.execute_reply": "2023-08-17T14:42:38.998325Z"
    },
    "papermill": {
     "duration": 0.029743,
     "end_time": "2023-08-17T14:42:39.003619",
     "exception": false,
     "start_time": "2023-08-17T14:42:38.973876",
     "status": "completed"
    },
    "tags": []
   },
   "outputs": [
    {
     "data": {
      "text/plain": [
       "0          অই\n",
       "1      অগত্যা\n",
       "2      অত: পর\n",
       "3        অতএব\n",
       "4         অথচ\n",
       "        ...  \n",
       "727      হয়েই\n",
       "728    হয়েছিল\n",
       "729     হয়েছে\n",
       "730    হয়েছেন\n",
       "731       অংশ\n",
       "Name: word_list, Length: 732, dtype: object"
      ]
     },
     "execution_count": 6,
     "metadata": {},
     "output_type": "execute_result"
    }
   ],
   "source": [
    "stopwords = bn_stopwords['word_list']\n",
    "stopwords"
   ]
  },
  {
   "cell_type": "code",
   "execution_count": 7,
   "id": "1f5506db",
   "metadata": {
    "execution": {
     "iopub.execute_input": "2023-08-17T14:42:39.029183Z",
     "iopub.status.busy": "2023-08-17T14:42:39.028777Z",
     "iopub.status.idle": "2023-08-17T14:42:39.915270Z",
     "shell.execute_reply": "2023-08-17T14:42:39.914226Z"
    },
    "papermill": {
     "duration": 0.902171,
     "end_time": "2023-08-17T14:42:39.917855",
     "exception": false,
     "start_time": "2023-08-17T14:42:39.015684",
     "status": "completed"
    },
    "tags": []
   },
   "outputs": [],
   "source": [
    "def remove_stopwords(df_train):\n",
    "    df_train['Data'] = df_train['Data'].apply(lambda x : ' '.join([word for word in x.split() if word not in (stopwords)]))\n",
    "    return df_train\n",
    "\n",
    "def remove_tags(string):\n",
    "    result = re.sub('<.*?>','',string)\n",
    "    return result\n",
    "    \n",
    "df_train = remove_stopwords(df_train)\n",
    "df_train['Data']= df_train['Data'].apply(lambda cw : remove_tags(cw))\n"
   ]
  },
  {
   "cell_type": "code",
   "execution_count": 8,
   "id": "dea8abdd",
   "metadata": {
    "execution": {
     "iopub.execute_input": "2023-08-17T14:42:39.934907Z",
     "iopub.status.busy": "2023-08-17T14:42:39.934589Z",
     "iopub.status.idle": "2023-08-17T14:42:39.939831Z",
     "shell.execute_reply": "2023-08-17T14:42:39.938774Z"
    },
    "papermill": {
     "duration": 0.016748,
     "end_time": "2023-08-17T14:42:39.942282",
     "exception": false,
     "start_time": "2023-08-17T14:42:39.925534",
     "status": "completed"
    },
    "tags": []
   },
   "outputs": [],
   "source": [
    "x_train = df_train['Data']\n",
    "y_train = df_train['Label']\n",
    "x_test = df_test['Data'] \n",
    "y_test = df_test['Label']\n",
    "x_val = df_val['Data']\n",
    "y_val = df_val['Label']"
   ]
  },
  {
   "cell_type": "code",
   "execution_count": 9,
   "id": "43ec27ad",
   "metadata": {
    "execution": {
     "iopub.execute_input": "2023-08-17T14:42:39.958385Z",
     "iopub.status.busy": "2023-08-17T14:42:39.958117Z",
     "iopub.status.idle": "2023-08-17T14:42:40.336701Z",
     "shell.execute_reply": "2023-08-17T14:42:40.335688Z"
    },
    "papermill": {
     "duration": 0.389071,
     "end_time": "2023-08-17T14:42:40.338996",
     "exception": false,
     "start_time": "2023-08-17T14:42:39.949925",
     "status": "completed"
    },
    "tags": []
   },
   "outputs": [],
   "source": [
    "tokenizer = Tokenizer(num_words=5000)\n",
    "tokenizer.fit_on_texts(x_train)\n",
    "words_to_index = tokenizer.word_index"
   ]
  },
  {
   "cell_type": "code",
   "execution_count": 10,
   "id": "a5edab3a",
   "metadata": {
    "execution": {
     "iopub.execute_input": "2023-08-17T14:42:40.355969Z",
     "iopub.status.busy": "2023-08-17T14:42:40.355648Z",
     "iopub.status.idle": "2023-08-17T14:42:40.361546Z",
     "shell.execute_reply": "2023-08-17T14:42:40.360543Z"
    },
    "papermill": {
     "duration": 0.016772,
     "end_time": "2023-08-17T14:42:40.363542",
     "exception": false,
     "start_time": "2023-08-17T14:42:40.346770",
     "status": "completed"
    },
    "tags": []
   },
   "outputs": [],
   "source": [
    "def read_glove_vector(glove_vec):\n",
    "    with open(glove_vec, 'r', encoding='UTF-8') as f:\n",
    "        words = set()\n",
    "        word_to_vec_map = {}\n",
    "        for line in f:\n",
    "            w_line = line.split()\n",
    "            curr_word = w_line[0]\n",
    "            word_to_vec_map[curr_word] = np.array(w_line[1:], dtype=np.float64)\n",
    "    return word_to_vec_map"
   ]
  },
  {
   "cell_type": "code",
   "execution_count": 11,
   "id": "10d534ef",
   "metadata": {
    "execution": {
     "iopub.execute_input": "2023-08-17T14:42:40.379871Z",
     "iopub.status.busy": "2023-08-17T14:42:40.379592Z",
     "iopub.status.idle": "2023-08-17T14:42:55.618619Z",
     "shell.execute_reply": "2023-08-17T14:42:55.617609Z"
    },
    "papermill": {
     "duration": 15.249831,
     "end_time": "2023-08-17T14:42:55.621054",
     "exception": false,
     "start_time": "2023-08-17T14:42:40.371223",
     "status": "completed"
    },
    "tags": []
   },
   "outputs": [],
   "source": [
    "word_to_vec_map = read_glove_vector(\"/kaggle/input/bangla-glove-global-vectors/bn_glove.39M.300d.txt\")"
   ]
  },
  {
   "cell_type": "code",
   "execution_count": 12,
   "id": "c3f05a6b",
   "metadata": {
    "execution": {
     "iopub.execute_input": "2023-08-17T14:42:55.637543Z",
     "iopub.status.busy": "2023-08-17T14:42:55.637245Z",
     "iopub.status.idle": "2023-08-17T14:42:55.642377Z",
     "shell.execute_reply": "2023-08-17T14:42:55.641507Z"
    },
    "papermill": {
     "duration": 0.015528,
     "end_time": "2023-08-17T14:42:55.644488",
     "exception": false,
     "start_time": "2023-08-17T14:42:55.628960",
     "status": "completed"
    },
    "tags": []
   },
   "outputs": [],
   "source": [
    "maxLen = 300\n",
    "batch_size = 64"
   ]
  },
  {
   "cell_type": "code",
   "execution_count": 13,
   "id": "d3351d6f",
   "metadata": {
    "execution": {
     "iopub.execute_input": "2023-08-17T14:42:55.660623Z",
     "iopub.status.busy": "2023-08-17T14:42:55.660360Z",
     "iopub.status.idle": "2023-08-17T14:42:55.750797Z",
     "shell.execute_reply": "2023-08-17T14:42:55.749849Z"
    },
    "papermill": {
     "duration": 0.101239,
     "end_time": "2023-08-17T14:42:55.753131",
     "exception": false,
     "start_time": "2023-08-17T14:42:55.651892",
     "status": "completed"
    },
    "tags": []
   },
   "outputs": [],
   "source": [
    "vocab_len = len(words_to_index)\n",
    "embed_vector_len = word_to_vec_map['গাড়ী'].shape[0]\n",
    "\n",
    "emb_matrix = np.zeros((vocab_len, embed_vector_len))\n",
    "\n",
    "for word, index in words_to_index.items():\n",
    "    embedding_vector = word_to_vec_map.get(word)\n",
    "    if embedding_vector is not None:\n",
    "        emb_matrix[index, :] = embedding_vector\n",
    "\n",
    "embedding_layer = Embedding(input_dim=vocab_len, output_dim=embed_vector_len, input_length=maxLen, weights = [emb_matrix], trainable=False)\n"
   ]
  },
  {
   "cell_type": "code",
   "execution_count": 14,
   "id": "644b8051",
   "metadata": {
    "execution": {
     "iopub.execute_input": "2023-08-17T14:42:55.771037Z",
     "iopub.status.busy": "2023-08-17T14:42:55.770600Z",
     "iopub.status.idle": "2023-08-17T14:43:00.960721Z",
     "shell.execute_reply": "2023-08-17T14:43:00.959703Z"
    },
    "papermill": {
     "duration": 5.202285,
     "end_time": "2023-08-17T14:43:00.963237",
     "exception": false,
     "start_time": "2023-08-17T14:42:55.760952",
     "status": "completed"
    },
    "tags": []
   },
   "outputs": [
    {
     "name": "stdout",
     "output_type": "stream",
     "text": [
      "Model: \"sequential\"\n",
      "_________________________________________________________________\n",
      " Layer (type)                Output Shape              Param #   \n",
      "=================================================================\n",
      " embedding (Embedding)       (None, 300, 300)          7355700   \n",
      "                                                                 \n",
      " conv1d (Conv1D)             (None, 298, 200)          180200    \n",
      "                                                                 \n",
      " bidirectional (Bidirectiona  (None, 298, 256)         336896    \n",
      " l)                                                              \n",
      "                                                                 \n",
      " dropout (Dropout)           (None, 298, 256)          0         \n",
      "                                                                 \n",
      " bidirectional_1 (Bidirectio  (None, 128)              164352    \n",
      " nal)                                                            \n",
      "                                                                 \n",
      " dropout_1 (Dropout)         (None, 128)               0         \n",
      "                                                                 \n",
      " dense (Dense)               (None, 50)                6450      \n",
      "                                                                 \n",
      " dropout_2 (Dropout)         (None, 50)                0         \n",
      "                                                                 \n",
      " dense_1 (Dense)             (None, 25)                1275      \n",
      "                                                                 \n",
      " dropout_3 (Dropout)         (None, 25)                0         \n",
      "                                                                 \n",
      " dense_2 (Dense)             (None, 12)                312       \n",
      "                                                                 \n",
      " flatten (Flatten)           (None, 12)                0         \n",
      "                                                                 \n",
      " dense_3 (Dense)             (None, 6)                 78        \n",
      "                                                                 \n",
      "=================================================================\n",
      "Total params: 8,045,263\n",
      "Trainable params: 689,563\n",
      "Non-trainable params: 7,355,700\n",
      "_________________________________________________________________\n"
     ]
    }
   ],
   "source": [
    "model= Sequential()\n",
    "model.add(embedding_layer)\n",
    "model.add(Conv1D(200, kernel_size=3, activation = \"relu\"))\n",
    "model.add(Bidirectional(LSTM(128, return_sequences=True)))\n",
    "model.add(Dropout(0.25))\n",
    "model.add(Bidirectional(LSTM(64)))\n",
    "model.add(Dropout(0.1))\n",
    "model.add(Dense(50, activation='relu'))\n",
    "model.add(Dropout(0.2))\n",
    "model.add(Dense(25, activation='relu'))\n",
    "model.add(Dropout(0.1))\n",
    "model.add(Dense(12, activation='relu'))\n",
    "model.add(Flatten())\n",
    "model.add(Dense(units=6, activation='softmax'))\n",
    "adam=Adam(learning_rate=0.003)\n",
    "model.summary()\n",
    "model.compile(loss='sparse_categorical_crossentropy',optimizer='adam',metrics=['accuracy'])"
   ]
  },
  {
   "cell_type": "code",
   "execution_count": 15,
   "id": "33885e17",
   "metadata": {
    "execution": {
     "iopub.execute_input": "2023-08-17T14:43:00.987239Z",
     "iopub.status.busy": "2023-08-17T14:43:00.986631Z",
     "iopub.status.idle": "2023-08-17T14:43:01.443250Z",
     "shell.execute_reply": "2023-08-17T14:43:01.442249Z"
    },
    "papermill": {
     "duration": 0.471745,
     "end_time": "2023-08-17T14:43:01.445836",
     "exception": false,
     "start_time": "2023-08-17T14:43:00.974091",
     "status": "completed"
    },
    "tags": []
   },
   "outputs": [],
   "source": [
    "x_train_indices = tokenizer.texts_to_sequences(x_train)\n",
    "x_train_indices = pad_sequences(x_train_indices, maxlen=maxLen, padding='post')\n",
    "\n",
    "x_val_indices = tokenizer.texts_to_sequences(x_val)\n",
    "x_val_indices = pad_sequences(x_val_indices, maxlen=maxLen, padding='post')\n",
    "\n",
    "x_test_indices = tokenizer.texts_to_sequences(x_test)\n",
    "x_test_indices = pad_sequences(x_test_indices, maxlen=maxLen, padding='post')"
   ]
  },
  {
   "cell_type": "code",
   "execution_count": 16,
   "id": "5b3f6e28",
   "metadata": {
    "execution": {
     "iopub.execute_input": "2023-08-17T14:43:01.468162Z",
     "iopub.status.busy": "2023-08-17T14:43:01.467840Z",
     "iopub.status.idle": "2023-08-17T14:43:01.473802Z",
     "shell.execute_reply": "2023-08-17T14:43:01.472856Z"
    },
    "papermill": {
     "duration": 0.019806,
     "end_time": "2023-08-17T14:43:01.476067",
     "exception": false,
     "start_time": "2023-08-17T14:43:01.456261",
     "status": "completed"
    },
    "tags": []
   },
   "outputs": [
    {
     "name": "stdout",
     "output_type": "stream",
     "text": [
      "(12575, 300)\n",
      "(12575,)\n",
      "(1567, 300)\n",
      "(1567,)\n",
      "(1586, 300)\n",
      "(1586,)\n"
     ]
    }
   ],
   "source": [
    "print(x_train_indices.shape)\n",
    "print(y_train.shape)\n",
    "print(x_val_indices.shape)\n",
    "print(y_val.shape)\n",
    "print(x_test_indices.shape)\n",
    "print(y_test.shape)"
   ]
  },
  {
   "cell_type": "code",
   "execution_count": 17,
   "id": "4025370f",
   "metadata": {
    "execution": {
     "iopub.execute_input": "2023-08-17T14:43:01.498485Z",
     "iopub.status.busy": "2023-08-17T14:43:01.497621Z",
     "iopub.status.idle": "2023-08-17T14:43:01.502733Z",
     "shell.execute_reply": "2023-08-17T14:43:01.501893Z"
    },
    "papermill": {
     "duration": 0.018172,
     "end_time": "2023-08-17T14:43:01.504747",
     "exception": false,
     "start_time": "2023-08-17T14:43:01.486575",
     "status": "completed"
    },
    "tags": []
   },
   "outputs": [],
   "source": [
    "early_stopping = keras.callbacks.EarlyStopping(\n",
    "    patience=10,\n",
    "    min_delta=0.001,\n",
    "    restore_best_weights=True,\n",
    ")"
   ]
  },
  {
   "cell_type": "code",
   "execution_count": 18,
   "id": "fd447527",
   "metadata": {
    "execution": {
     "iopub.execute_input": "2023-08-17T14:43:01.527737Z",
     "iopub.status.busy": "2023-08-17T14:43:01.526940Z",
     "iopub.status.idle": "2023-08-17T14:43:19.430343Z",
     "shell.execute_reply": "2023-08-17T14:43:19.429305Z"
    },
    "papermill": {
     "duration": 17.917993,
     "end_time": "2023-08-17T14:43:19.433069",
     "exception": false,
     "start_time": "2023-08-17T14:43:01.515076",
     "status": "completed"
    },
    "tags": []
   },
   "outputs": [
    {
     "name": "stderr",
     "output_type": "stream",
     "text": [
      "[codecarbon INFO @ 14:43:14] [setup] RAM Tracking...\n",
      "[codecarbon INFO @ 14:43:14] [setup] GPU Tracking...\n",
      "[codecarbon INFO @ 14:43:14] Tracking Nvidia GPU via pynvml\n",
      "[codecarbon INFO @ 14:43:14] [setup] CPU Tracking...\n",
      "[codecarbon WARNING @ 14:43:14] No CPU tracking mode found. Falling back on CPU constant mode.\n",
      "[codecarbon WARNING @ 14:43:16] We saw that you have a Intel(R) Xeon(R) CPU @ 2.00GHz but we don't know it. Please contact us.\n",
      "[codecarbon INFO @ 14:43:16] CPU Model on constant consumption mode: Intel(R) Xeon(R) CPU @ 2.00GHz\n",
      "[codecarbon INFO @ 14:43:16] >>> Tracker's metadata:\n",
      "[codecarbon INFO @ 14:43:16]   Platform system: Linux-5.15.120+-x86_64-with-glibc2.35\n",
      "[codecarbon INFO @ 14:43:16]   Python version: 3.10.12\n",
      "[codecarbon INFO @ 14:43:16]   CodeCarbon version: 2.3.1\n",
      "[codecarbon INFO @ 14:43:16]   Available RAM : 15.631 GB\n",
      "[codecarbon INFO @ 14:43:16]   CPU count: 2\n",
      "[codecarbon INFO @ 14:43:16]   CPU model: Intel(R) Xeon(R) CPU @ 2.00GHz\n",
      "[codecarbon INFO @ 14:43:16]   GPU count: 2\n",
      "[codecarbon INFO @ 14:43:16]   GPU model: 2 x Tesla T4\n"
     ]
    }
   ],
   "source": [
    "!pip install -q codecarbon\n",
    "from codecarbon import EmissionsTracker\n",
    "tracker = EmissionsTracker()"
   ]
  },
  {
   "cell_type": "code",
   "execution_count": 19,
   "id": "e313a213",
   "metadata": {
    "execution": {
     "iopub.execute_input": "2023-08-17T14:43:19.458816Z",
     "iopub.status.busy": "2023-08-17T14:43:19.457817Z",
     "iopub.status.idle": "2023-08-17T14:46:43.896831Z",
     "shell.execute_reply": "2023-08-17T14:46:43.895639Z"
    },
    "papermill": {
     "duration": 204.454114,
     "end_time": "2023-08-17T14:46:43.899116",
     "exception": false,
     "start_time": "2023-08-17T14:43:19.445002",
     "status": "completed"
    },
    "tags": []
   },
   "outputs": [
    {
     "name": "stdout",
     "output_type": "stream",
     "text": [
      "Epoch 1/30\n"
     ]
    },
    {
     "name": "stderr",
     "output_type": "stream",
     "text": [
      "[codecarbon INFO @ 14:43:34] Energy consumed for RAM : 0.000024 kWh. RAM Power : 5.8618011474609375 W\n",
      "[codecarbon INFO @ 14:43:34] Energy consumed for all GPUs : 0.000229 kWh. Total GPU Power : 54.93352338896551 W\n",
      "[codecarbon INFO @ 14:43:34] Energy consumed for all CPUs : 0.000177 kWh. Total CPU Power : 42.5 W\n",
      "[codecarbon INFO @ 14:43:34] 0.000431 kWh of electricity used since the beginning.\n"
     ]
    },
    {
     "name": "stdout",
     "output_type": "stream",
     "text": [
      "197/197 [==============================] - ETA: 0s - loss: 1.1145 - accuracy: 0.4659"
     ]
    },
    {
     "name": "stderr",
     "output_type": "stream",
     "text": [
      "[codecarbon INFO @ 14:43:49] Energy consumed for RAM : 0.000049 kWh. RAM Power : 5.8618011474609375 W\n",
      "[codecarbon INFO @ 14:43:49] Energy consumed for all GPUs : 0.000587 kWh. Total GPU Power : 85.93533876923276 W\n",
      "[codecarbon INFO @ 14:43:49] Energy consumed for all CPUs : 0.000354 kWh. Total CPU Power : 42.5 W\n",
      "[codecarbon INFO @ 14:43:49] 0.000990 kWh of electricity used since the beginning.\n"
     ]
    },
    {
     "name": "stdout",
     "output_type": "stream",
     "text": [
      "197/197 [==============================] - 31s 73ms/step - loss: 1.1145 - accuracy: 0.4659 - val_loss: 0.9064 - val_accuracy: 0.5890\n",
      "Epoch 2/30\n",
      "197/197 [==============================] - 12s 60ms/step - loss: 0.9025 - accuracy: 0.5947 - val_loss: 0.8411 - val_accuracy: 0.6299\n",
      "Epoch 3/30\n",
      " 36/197 [====>.........................] - ETA: 9s - loss: 0.8560 - accuracy: 0.6324"
     ]
    },
    {
     "name": "stderr",
     "output_type": "stream",
     "text": [
      "[codecarbon INFO @ 14:44:04] Energy consumed for RAM : 0.000073 kWh. RAM Power : 5.8618011474609375 W\n",
      "[codecarbon INFO @ 14:44:04] Energy consumed for all GPUs : 0.000978 kWh. Total GPU Power : 93.84607896990744 W\n",
      "[codecarbon INFO @ 14:44:04] Energy consumed for all CPUs : 0.000532 kWh. Total CPU Power : 42.5 W\n",
      "[codecarbon INFO @ 14:44:04] 0.001583 kWh of electricity used since the beginning.\n"
     ]
    },
    {
     "name": "stdout",
     "output_type": "stream",
     "text": [
      "197/197 [==============================] - 12s 60ms/step - loss: 0.8039 - accuracy: 0.6574 - val_loss: 0.7832 - val_accuracy: 0.6611\n",
      "Epoch 4/30\n",
      " 87/197 [============>.................] - ETA: 6s - loss: 0.7281 - accuracy: 0.6923"
     ]
    },
    {
     "name": "stderr",
     "output_type": "stream",
     "text": [
      "[codecarbon INFO @ 14:44:19] Energy consumed for RAM : 0.000098 kWh. RAM Power : 5.8618011474609375 W\n",
      "[codecarbon INFO @ 14:44:19] Energy consumed for all GPUs : 0.001377 kWh. Total GPU Power : 95.76411576380289 W\n",
      "[codecarbon INFO @ 14:44:19] Energy consumed for all CPUs : 0.000709 kWh. Total CPU Power : 42.5 W\n",
      "[codecarbon INFO @ 14:44:19] 0.002183 kWh of electricity used since the beginning.\n"
     ]
    },
    {
     "name": "stdout",
     "output_type": "stream",
     "text": [
      "197/197 [==============================] - 12s 63ms/step - loss: 0.7165 - accuracy: 0.7032 - val_loss: 0.7631 - val_accuracy: 0.6733\n",
      "Epoch 5/30\n",
      "136/197 [===================>..........] - ETA: 3s - loss: 0.5939 - accuracy: 0.7680"
     ]
    },
    {
     "name": "stderr",
     "output_type": "stream",
     "text": [
      "[codecarbon INFO @ 14:44:34] Energy consumed for RAM : 0.000122 kWh. RAM Power : 5.8618011474609375 W\n"
     ]
    },
    {
     "name": "stdout",
     "output_type": "stream",
     "text": [
      "137/197 [===================>..........] - ETA: 3s - loss: 0.5948 - accuracy: 0.7677"
     ]
    },
    {
     "name": "stderr",
     "output_type": "stream",
     "text": [
      "[codecarbon INFO @ 14:44:34] Energy consumed for all GPUs : 0.001779 kWh. Total GPU Power : 96.52560768297364 W\n",
      "[codecarbon INFO @ 14:44:34] Energy consumed for all CPUs : 0.000886 kWh. Total CPU Power : 42.5 W\n",
      "[codecarbon INFO @ 14:44:34] 0.002787 kWh of electricity used since the beginning.\n"
     ]
    },
    {
     "name": "stdout",
     "output_type": "stream",
     "text": [
      "197/197 [==============================] - 12s 62ms/step - loss: 0.6052 - accuracy: 0.7602 - val_loss: 0.7554 - val_accuracy: 0.6777\n",
      "Epoch 6/30\n",
      "178/197 [==========================>...] - ETA: 1s - loss: 0.5017 - accuracy: 0.8114"
     ]
    },
    {
     "name": "stderr",
     "output_type": "stream",
     "text": [
      "[codecarbon INFO @ 14:44:49] Energy consumed for RAM : 0.000146 kWh. RAM Power : 5.8618011474609375 W\n",
      "[codecarbon INFO @ 14:44:49] Energy consumed for all GPUs : 0.002180 kWh. Total GPU Power : 96.43944730564388 W\n",
      "[codecarbon INFO @ 14:44:49] Energy consumed for all CPUs : 0.001063 kWh. Total CPU Power : 42.5 W\n",
      "[codecarbon INFO @ 14:44:49] 0.003390 kWh of electricity used since the beginning.\n"
     ]
    },
    {
     "name": "stdout",
     "output_type": "stream",
     "text": [
      "197/197 [==============================] - 13s 64ms/step - loss: 0.5057 - accuracy: 0.8099 - val_loss: 0.7930 - val_accuracy: 0.6822\n",
      "Epoch 7/30\n",
      "197/197 [==============================] - 13s 64ms/step - loss: 0.4026 - accuracy: 0.8529 - val_loss: 0.8592 - val_accuracy: 0.6911\n",
      "Epoch 8/30\n",
      " 10/197 [>.............................] - ETA: 11s - loss: 0.3019 - accuracy: 0.8875"
     ]
    },
    {
     "name": "stderr",
     "output_type": "stream",
     "text": [
      "[codecarbon INFO @ 14:45:04] Energy consumed for RAM : 0.000171 kWh. RAM Power : 5.8618011474609375 W\n",
      "[codecarbon INFO @ 14:45:04] Energy consumed for all GPUs : 0.002582 kWh. Total GPU Power : 96.42918921109933 W\n",
      "[codecarbon INFO @ 14:45:04] Energy consumed for all CPUs : 0.001240 kWh. Total CPU Power : 42.5 W\n",
      "[codecarbon INFO @ 14:45:04] 0.003993 kWh of electricity used since the beginning.\n"
     ]
    },
    {
     "name": "stdout",
     "output_type": "stream",
     "text": [
      "197/197 [==============================] - 13s 64ms/step - loss: 0.3295 - accuracy: 0.8830 - val_loss: 0.8988 - val_accuracy: 0.6809\n",
      "Epoch 9/30\n",
      " 48/197 [======>.......................] - ETA: 9s - loss: 0.2547 - accuracy: 0.9186"
     ]
    },
    {
     "name": "stderr",
     "output_type": "stream",
     "text": [
      "[codecarbon INFO @ 14:45:19] Energy consumed for RAM : 0.000195 kWh. RAM Power : 5.8618011474609375 W\n",
      "[codecarbon INFO @ 14:45:19] Energy consumed for all GPUs : 0.002984 kWh. Total GPU Power : 96.6463810122222 W\n",
      "[codecarbon INFO @ 14:45:19] Energy consumed for all CPUs : 0.001417 kWh. Total CPU Power : 42.5 W\n",
      "[codecarbon INFO @ 14:45:19] 0.004596 kWh of electricity used since the beginning.\n"
     ]
    },
    {
     "name": "stdout",
     "output_type": "stream",
     "text": [
      "197/197 [==============================] - 13s 65ms/step - loss: 0.2780 - accuracy: 0.9049 - val_loss: 0.9682 - val_accuracy: 0.6784\n",
      "Epoch 10/30\n",
      " 90/197 [============>.................] - ETA: 6s - loss: 0.2202 - accuracy: 0.9281"
     ]
    },
    {
     "name": "stderr",
     "output_type": "stream",
     "text": [
      "[codecarbon INFO @ 14:45:34] Energy consumed for RAM : 0.000220 kWh. RAM Power : 5.8618011474609375 W\n",
      "[codecarbon INFO @ 14:45:34] Energy consumed for all GPUs : 0.003386 kWh. Total GPU Power : 96.58764321860205 W\n",
      "[codecarbon INFO @ 14:45:34] Energy consumed for all CPUs : 0.001594 kWh. Total CPU Power : 42.5 W\n",
      "[codecarbon INFO @ 14:45:34] 0.005200 kWh of electricity used since the beginning.\n"
     ]
    },
    {
     "name": "stdout",
     "output_type": "stream",
     "text": [
      "197/197 [==============================] - 12s 62ms/step - loss: 0.2363 - accuracy: 0.9194 - val_loss: 1.0038 - val_accuracy: 0.7001\n",
      "Epoch 11/30\n",
      "138/197 [====================>.........] - ETA: 3s - loss: 0.1918 - accuracy: 0.9372"
     ]
    },
    {
     "name": "stderr",
     "output_type": "stream",
     "text": [
      "[codecarbon INFO @ 14:45:49] Energy consumed for RAM : 0.000244 kWh. RAM Power : 5.8618011474609375 W\n",
      "[codecarbon INFO @ 14:45:49] Energy consumed for all GPUs : 0.003790 kWh. Total GPU Power : 96.89533564966239 W\n",
      "[codecarbon INFO @ 14:45:49] Energy consumed for all CPUs : 0.001771 kWh. Total CPU Power : 42.5 W\n",
      "[codecarbon INFO @ 14:45:49] 0.005805 kWh of electricity used since the beginning.\n"
     ]
    },
    {
     "name": "stdout",
     "output_type": "stream",
     "text": [
      "197/197 [==============================] - 13s 65ms/step - loss: 0.2040 - accuracy: 0.9315 - val_loss: 1.0594 - val_accuracy: 0.6579\n",
      "Epoch 12/30\n",
      "176/197 [=========================>....] - ETA: 1s - loss: 0.1739 - accuracy: 0.9437"
     ]
    },
    {
     "name": "stderr",
     "output_type": "stream",
     "text": [
      "[codecarbon INFO @ 14:46:04] Energy consumed for RAM : 0.000268 kWh. RAM Power : 5.8618011474609375 W\n",
      "[codecarbon INFO @ 14:46:04] Energy consumed for all GPUs : 0.004190 kWh. Total GPU Power : 96.24992943673197 W\n",
      "[codecarbon INFO @ 14:46:04] Energy consumed for all CPUs : 0.001948 kWh. Total CPU Power : 42.5 W\n",
      "[codecarbon INFO @ 14:46:04] 0.006407 kWh of electricity used since the beginning.\n"
     ]
    },
    {
     "name": "stdout",
     "output_type": "stream",
     "text": [
      "197/197 [==============================] - 12s 62ms/step - loss: 0.1728 - accuracy: 0.9437 - val_loss: 1.2303 - val_accuracy: 0.6918\n",
      "Epoch 13/30\n",
      "197/197 [==============================] - 12s 63ms/step - loss: 0.1538 - accuracy: 0.9462 - val_loss: 1.0032 - val_accuracy: 0.6739\n",
      "Epoch 14/30\n",
      " 13/197 [>.............................] - ETA: 10s - loss: 0.5181 - accuracy: 0.8329"
     ]
    },
    {
     "name": "stderr",
     "output_type": "stream",
     "text": [
      "[codecarbon INFO @ 14:46:19] Energy consumed for RAM : 0.000293 kWh. RAM Power : 5.8618011474609375 W\n",
      "[codecarbon INFO @ 14:46:19] Energy consumed for all GPUs : 0.004593 kWh. Total GPU Power : 96.61253057691988 W\n",
      "[codecarbon INFO @ 14:46:19] Energy consumed for all CPUs : 0.002125 kWh. Total CPU Power : 42.5 W\n",
      "[codecarbon INFO @ 14:46:19] 0.007011 kWh of electricity used since the beginning.\n"
     ]
    },
    {
     "name": "stdout",
     "output_type": "stream",
     "text": [
      "197/197 [==============================] - 13s 65ms/step - loss: 0.2465 - accuracy: 0.9171 - val_loss: 1.1345 - val_accuracy: 0.6950\n",
      "Epoch 15/30\n",
      " 51/197 [======>.......................] - ETA: 8s - loss: 0.1293 - accuracy: 0.9565"
     ]
    },
    {
     "name": "stderr",
     "output_type": "stream",
     "text": [
      "[codecarbon INFO @ 14:46:34] Energy consumed for RAM : 0.000317 kWh. RAM Power : 5.8618011474609375 W\n",
      "[codecarbon INFO @ 14:46:34] Energy consumed for all GPUs : 0.004996 kWh. Total GPU Power : 96.94001095560778 W\n",
      "[codecarbon INFO @ 14:46:34] Energy consumed for all CPUs : 0.002302 kWh. Total CPU Power : 42.5 W\n",
      "[codecarbon INFO @ 14:46:34] 0.007616 kWh of electricity used since the beginning.\n"
     ]
    },
    {
     "name": "stdout",
     "output_type": "stream",
     "text": [
      "197/197 [==============================] - 12s 63ms/step - loss: 0.1366 - accuracy: 0.9548 - val_loss: 1.0962 - val_accuracy: 0.7007\n"
     ]
    },
    {
     "name": "stderr",
     "output_type": "stream",
     "text": [
      "[codecarbon INFO @ 14:46:43] Energy consumed for RAM : 0.000332 kWh. RAM Power : 5.8618011474609375 W\n",
      "[codecarbon INFO @ 14:46:43] Energy consumed for all GPUs : 0.005248 kWh. Total GPU Power : 96.99355960941065 W\n",
      "[codecarbon INFO @ 14:46:43] Energy consumed for all CPUs : 0.002413 kWh. Total CPU Power : 42.5 W\n",
      "[codecarbon INFO @ 14:46:43] 0.007993 kWh of electricity used since the beginning.\n"
     ]
    },
    {
     "name": "stdout",
     "output_type": "stream",
     "text": [
      "CPU times: user 3min 24s, sys: 6.96 s, total: 3min 31s\n",
      "Wall time: 3min 24s\n"
     ]
    }
   ],
   "source": [
    "%%time \n",
    "tracker.start()\n",
    "history = model.fit(x_train_indices, y_train, batch_size=batch_size, epochs=30, callbacks=[early_stopping], verbose=1, validation_data=(x_val_indices, y_val))\n",
    "co2_emission = tracker.stop()"
   ]
  },
  {
   "cell_type": "code",
   "execution_count": 20,
   "id": "51d5ee74",
   "metadata": {
    "execution": {
     "iopub.execute_input": "2023-08-17T14:46:44.385892Z",
     "iopub.status.busy": "2023-08-17T14:46:44.385504Z",
     "iopub.status.idle": "2023-08-17T14:46:44.783139Z",
     "shell.execute_reply": "2023-08-17T14:46:44.782208Z"
    },
    "papermill": {
     "duration": 0.639562,
     "end_time": "2023-08-17T14:46:44.785304",
     "exception": false,
     "start_time": "2023-08-17T14:46:44.145742",
     "status": "completed"
    },
    "tags": []
   },
   "outputs": [
    {
     "data": {
      "image/png": "[encoded data removed]",
      "text/plain": [
       "<Figure size 640x480 with 1 Axes>"
      ]
     },
     "metadata": {},
     "output_type": "display_data"
    }
   ],
   "source": [
    "import matplotlib.pyplot as plt\n",
    "\n",
    "plt.plot(history.history['accuracy'], label=\"Accuracy\")\n",
    "plt.plot(history.history['val_accuracy'], label=\"Validation accuracy\")\n",
    "plt.title('Accuracy')\n",
    "plt.xlabel('Epoch')\n",
    "plt.ylabel('Accuracy')\n",
    "plt.legend()\n",
    "plt.tight_layout()\n",
    "plt.show()"
   ]
  },
  {
   "cell_type": "code",
   "execution_count": 21,
   "id": "49b79f7b",
   "metadata": {
    "execution": {
     "iopub.execute_input": "2023-08-17T14:46:45.317416Z",
     "iopub.status.busy": "2023-08-17T14:46:45.315687Z",
     "iopub.status.idle": "2023-08-17T14:46:45.710930Z",
     "shell.execute_reply": "2023-08-17T14:46:45.710006Z"
    },
    "papermill": {
     "duration": 0.640348,
     "end_time": "2023-08-17T14:46:45.713187",
     "exception": false,
     "start_time": "2023-08-17T14:46:45.072839",
     "status": "completed"
    },
    "tags": []
   },
   "outputs": [
    {
     "data": {
      "image/png": "[encoded data removed]",
      "text/plain": [
       "<Figure size 640x480 with 1 Axes>"
      ]
     },
     "metadata": {},
     "output_type": "display_data"
    }
   ],
   "source": [
    "import matplotlib.pyplot as plt\n",
    "\n",
    "plt.plot(history.history['loss'], label=\"Train loss\")\n",
    "plt.plot(history.history['val_loss'], label=\"Validation loss\")\n",
    "plt.title('Loss')\n",
    "plt.xlabel('Epoch')\n",
    "plt.ylabel('Loss')\n",
    "plt.legend()\n",
    "plt.tight_layout()\n",
    "plt.show()"
   ]
  },
  {
   "cell_type": "code",
   "execution_count": 22,
   "id": "273a2bf1",
   "metadata": {
    "execution": {
     "iopub.execute_input": "2023-08-17T14:46:46.199414Z",
     "iopub.status.busy": "2023-08-17T14:46:46.199048Z",
     "iopub.status.idle": "2023-08-17T14:46:49.991485Z",
     "shell.execute_reply": "2023-08-17T14:46:49.990352Z"
    },
    "papermill": {
     "duration": 4.039238,
     "end_time": "2023-08-17T14:46:49.994214",
     "exception": false,
     "start_time": "2023-08-17T14:46:45.954976",
     "status": "completed"
    },
    "tags": []
   },
   "outputs": [
    {
     "name": "stdout",
     "output_type": "stream",
     "text": [
      "50/50 [==============================] - 2s 23ms/step\n"
     ]
    }
   ],
   "source": [
    "predictions = model.predict(x_test_indices)\n",
    "predictions = np.argmax(predictions,axis=1)\n",
    "ground_truth_labels = y_test"
   ]
  },
  {
   "cell_type": "code",
   "execution_count": 23,
   "id": "4b1666b0",
   "metadata": {
    "execution": {
     "iopub.execute_input": "2023-08-17T14:46:50.481981Z",
     "iopub.status.busy": "2023-08-17T14:46:50.481572Z",
     "iopub.status.idle": "2023-08-17T14:46:51.180390Z",
     "shell.execute_reply": "2023-08-17T14:46:51.178157Z"
    },
    "papermill": {
     "duration": 0.943491,
     "end_time": "2023-08-17T14:46:51.182757",
     "exception": false,
     "start_time": "2023-08-17T14:46:50.239266",
     "status": "completed"
    },
    "tags": []
   },
   "outputs": [
    {
     "name": "stdout",
     "output_type": "stream",
     "text": [
      "Accuracy: 0.6412358133669609\n",
      "F1 Macro: 0.6019195708613715\n",
      "F1 Micro: 0.6412358133669609\n",
      "Precision: 0.6376618943763088\n",
      "Recall: 0.6412358133669609\n",
      "Classification Report:\n",
      "               precision    recall  f1-score   support\n",
      "\n",
      "           0       0.45      0.36      0.40       361\n",
      "           1       0.75      0.68      0.72       654\n",
      "           2       0.63      0.77      0.69       571\n",
      "\n",
      "    accuracy                           0.64      1586\n",
      "   macro avg       0.61      0.60      0.60      1586\n",
      "weighted avg       0.64      0.64      0.63      1586\n",
      "\n",
      "Confusion Matrix: \n",
      " [[129  90 142]\n",
      " [ 85 447 122]\n",
      " [ 72  58 441]]\n",
      "Total CO2 emissions in grams: \n",
      " 2.282006629457853\n"
     ]
    }
   ],
   "source": [
    "from sklearn.metrics import accuracy_score, f1_score, precision_score, recall_score, confusion_matrix, classification_report\n",
    "\n",
    "accuracy = accuracy_score(ground_truth_labels, predictions)\n",
    "f1_macro = f1_score(ground_truth_labels, predictions, average='macro')\n",
    "f1_micro = f1_score(ground_truth_labels, predictions, average='micro')\n",
    "\n",
    "precision = precision_score(ground_truth_labels, predictions, average=\"weighted\")\n",
    "recall = recall_score(ground_truth_labels, predictions, average=\"weighted\")\n",
    "class_report = classification_report(ground_truth_labels, predictions)\n",
    "conf_matrix = confusion_matrix(ground_truth_labels, predictions)\n",
    "\n",
    "print(\"Accuracy:\", accuracy)\n",
    "print(\"F1 Macro:\", f1_macro)\n",
    "print(\"F1 Micro:\", f1_micro)\n",
    "print('Precision:', precision)\n",
    "print(\"Recall:\", recall)\n",
    "print(\"Classification Report:\\n\", class_report)\n",
    "print(\"Confusion Matrix: \\n\", conf_matrix)\n",
    "print('Total CO2 emissions in grams: \\n',co2_emission*1000)"
   ]
  },
  {
   "cell_type": "code",
   "execution_count": null,
   "id": "747cf389",
   "metadata": {
    "papermill": {
     "duration": 0.241863,
     "end_time": "2023-08-17T14:46:51.669776",
     "exception": false,
     "start_time": "2023-08-17T14:46:51.427913",
     "status": "completed"
    },
    "tags": []
   },
   "outputs": [],
   "source": []
  }
 ],
 "metadata": {
  "kernelspec": {
   "display_name": "Python 3",
   "language": "python",
   "name": "python3"
  },
  "language_info": {
   "codemirror_mode": {
    "name": "ipython",
    "version": 3
   },
   "file_extension": ".py",
   "mimetype": "text/x-python",
   "name": "python",
   "nbconvert_exporter": "python",
   "pygments_lexer": "ipython3",
   "version": "3.10.12"
  },
  "papermill": {
   "default_parameters": {},
   "duration": 298.890411,
   "end_time": "2023-08-17T14:46:55.446322",
   "environment_variables": {},
   "exception": null,
   "input_path": "__notebook__.ipynb",
   "output_path": "__notebook__.ipynb",
   "parameters": {},
   "start_time": "2023-08-17T14:41:56.555911",
   "version": "2.4.0"
  }
 },
 "nbformat": 4,
 "nbformat_minor": 5
}
