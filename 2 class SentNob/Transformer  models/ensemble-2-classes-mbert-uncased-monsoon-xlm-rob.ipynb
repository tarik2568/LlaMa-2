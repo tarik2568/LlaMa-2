{
 "cells": [
  {
   "cell_type": "code",
   "execution_count": 1,
   "id": "5c9f79e9",
   "metadata": {
    "_cell_guid": "b1076dfc-b9ad-4769-8c92-a6c4dae69d19",
    "_uuid": "8f2839f25d086af736a60e9eeb907d3b93b6e0e5",
    "execution": {
     "iopub.execute_input": "2023-01-30T08:16:10.828538Z",
     "iopub.status.busy": "2023-01-30T08:16:10.827514Z",
     "iopub.status.idle": "2023-01-30T08:16:22.785521Z",
     "shell.execute_reply": "2023-01-30T08:16:22.784398Z"
    },
    "papermill": {
     "duration": 11.976114,
     "end_time": "2023-01-30T08:16:22.788956",
     "exception": false,
     "start_time": "2023-01-30T08:16:10.812842",
     "status": "completed"
    },
    "tags": []
   },
   "outputs": [
    {
     "name": "stdout",
     "output_type": "stream",
     "text": [
      "Requirement already satisfied: transformers in /opt/conda/lib/python3.7/site-packages (4.20.1)\r\n",
      "Requirement already satisfied: tqdm>=4.27 in /opt/conda/lib/python3.7/site-packages (from transformers) (4.64.0)\r\n",
      "Requirement already satisfied: importlib-metadata in /opt/conda/lib/python3.7/site-packages (from transformers) (6.0.0)\r\n",
      "Requirement already satisfied: huggingface-hub<1.0,>=0.1.0 in /opt/conda/lib/python3.7/site-packages (from transformers) (0.10.1)\r\n",
      "Requirement already satisfied: filelock in /opt/conda/lib/python3.7/site-packages (from transformers) (3.7.1)\r\n",
      "Requirement already satisfied: regex!=2019.12.17 in /opt/conda/lib/python3.7/site-packages (from transformers) (2021.11.10)\r\n",
      "Requirement already satisfied: requests in /opt/conda/lib/python3.7/site-packages (from transformers) (2.28.1)\r\n",
      "Requirement already satisfied: packaging>=20.0 in /opt/conda/lib/python3.7/site-packages (from transformers) (23.0)\r\n",
      "Requirement already satisfied: pyyaml>=5.1 in /opt/conda/lib/python3.7/site-packages (from transformers) (6.0)\r\n",
      "Requirement already satisfied: tokenizers!=0.11.3,<0.13,>=0.11.1 in /opt/conda/lib/python3.7/site-packages (from transformers) (0.12.1)\r\n",
      "Requirement already satisfied: numpy>=1.17 in /opt/conda/lib/python3.7/site-packages (from transformers) (1.21.6)\r\n",
      "Requirement already satisfied: typing-extensions>=3.7.4.3 in /opt/conda/lib/python3.7/site-packages (from huggingface-hub<1.0,>=0.1.0->transformers) (4.1.1)\r\n",
      "Requirement already satisfied: zipp>=0.5 in /opt/conda/lib/python3.7/site-packages (from importlib-metadata->transformers) (3.8.0)\r\n",
      "Requirement already satisfied: certifi>=2017.4.17 in /opt/conda/lib/python3.7/site-packages (from requests->transformers) (2022.12.7)\r\n",
      "Requirement already satisfied: urllib3<1.27,>=1.21.1 in /opt/conda/lib/python3.7/site-packages (from requests->transformers) (1.26.14)\r\n",
      "Requirement already satisfied: idna<4,>=2.5 in /opt/conda/lib/python3.7/site-packages (from requests->transformers) (3.3)\r\n",
      "Requirement already satisfied: charset-normalizer<3,>=2 in /opt/conda/lib/python3.7/site-packages (from requests->transformers) (2.1.0)\r\n",
      "\u001b[33mWARNING: Running pip as the 'root' user can result in broken permissions and conflicting behaviour with the system package manager. It is recommended to use a virtual environment instead: https://pip.pypa.io/warnings/venv\u001b[0m\u001b[33m\r\n",
      "\u001b[0m"
     ]
    }
   ],
   "source": [
    " !pip install transformers"
   ]
  },
  {
   "cell_type": "code",
   "execution_count": 2,
   "id": "36e2deda",
   "metadata": {
    "execution": {
     "iopub.execute_input": "2023-01-30T08:16:22.904315Z",
     "iopub.status.busy": "2023-01-30T08:16:22.903819Z",
     "iopub.status.idle": "2023-01-30T08:16:22.922101Z",
     "shell.execute_reply": "2023-01-30T08:16:22.921281Z"
    },
    "papermill": {
     "duration": 0.072689,
     "end_time": "2023-01-30T08:16:22.924569",
     "exception": false,
     "start_time": "2023-01-30T08:16:22.851880",
     "status": "completed"
    },
    "tags": []
   },
   "outputs": [],
   "source": [
    "import os\n",
    "import pandas as pd\n",
    "import numpy as np"
   ]
  },
  {
   "cell_type": "code",
   "execution_count": 3,
   "id": "65cb7433",
   "metadata": {
    "execution": {
     "iopub.execute_input": "2023-01-30T08:16:22.995991Z",
     "iopub.status.busy": "2023-01-30T08:16:22.995326Z",
     "iopub.status.idle": "2023-01-30T08:16:32.631818Z",
     "shell.execute_reply": "2023-01-30T08:16:32.630514Z"
    },
    "papermill": {
     "duration": 9.676029,
     "end_time": "2023-01-30T08:16:32.634362",
     "exception": false,
     "start_time": "2023-01-30T08:16:22.958333",
     "status": "completed"
    },
    "tags": []
   },
   "outputs": [
    {
     "name": "stdout",
     "output_type": "stream",
     "text": [
      "Requirement already satisfied: openpyxl in /opt/conda/lib/python3.7/site-packages (3.0.10)\r\n",
      "Requirement already satisfied: et-xmlfile in /opt/conda/lib/python3.7/site-packages (from openpyxl) (1.1.0)\r\n",
      "\u001b[33mWARNING: Running pip as the 'root' user can result in broken permissions and conflicting behaviour with the system package manager. It is recommended to use a virtual environment instead: https://pip.pypa.io/warnings/venv\u001b[0m\u001b[33m\r\n",
      "\u001b[0mNote: you may need to restart the kernel to use updated packages.\n"
     ]
    }
   ],
   "source": [
    "pip install openpyxl"
   ]
  },
  {
   "cell_type": "code",
   "execution_count": 4,
   "id": "6a6edd3f",
   "metadata": {
    "execution": {
     "iopub.execute_input": "2023-01-30T08:16:32.659760Z",
     "iopub.status.busy": "2023-01-30T08:16:32.659440Z",
     "iopub.status.idle": "2023-01-30T08:16:32.669120Z",
     "shell.execute_reply": "2023-01-30T08:16:32.667942Z"
    },
    "papermill": {
     "duration": 0.025185,
     "end_time": "2023-01-30T08:16:32.671663",
     "exception": false,
     "start_time": "2023-01-30T08:16:32.646478",
     "status": "completed"
    },
    "tags": []
   },
   "outputs": [
    {
     "name": "stdout",
     "output_type": "stream",
     "text": [
      "/kaggle/input/3-classes-bangla-sa/3_classes_Bert_Preprocessed__Dataset.xlsx\n"
     ]
    }
   ],
   "source": [
    "for dirname, _, filenames in os.walk('/kaggle/input'):\n",
    "    for filename in filenames:\n",
    "        print(os.path.join(dirname, filename))"
   ]
  },
  {
   "cell_type": "code",
   "execution_count": 5,
   "id": "c0f66961",
   "metadata": {
    "execution": {
     "iopub.execute_input": "2023-01-30T08:16:32.697555Z",
     "iopub.status.busy": "2023-01-30T08:16:32.697293Z",
     "iopub.status.idle": "2023-01-30T08:16:35.668387Z",
     "shell.execute_reply": "2023-01-30T08:16:35.666479Z"
    },
    "papermill": {
     "duration": 2.987064,
     "end_time": "2023-01-30T08:16:35.671388",
     "exception": false,
     "start_time": "2023-01-30T08:16:32.684324",
     "status": "completed"
    },
    "tags": []
   },
   "outputs": [
    {
     "name": "stdout",
     "output_type": "stream",
     "text": [
      "<class 'pandas.core.frame.DataFrame'>\n",
      "RangeIndex: 15728 entries, 0 to 15727\n",
      "Data columns (total 5 columns):\n",
      " #   Column      Non-Null Count  Dtype \n",
      "---  ------      --------------  ----- \n",
      " 0   Unnamed: 0  15728 non-null  int64 \n",
      " 1   Data        15728 non-null  object\n",
      " 2   Label       15728 non-null  int64 \n",
      " 3   Token       15728 non-null  object\n",
      " 4   Token_ID    15728 non-null  object\n",
      "dtypes: int64(2), object(3)\n",
      "memory usage: 614.5+ KB\n"
     ]
    }
   ],
   "source": [
    "df=pd.read_excel('/kaggle/input/3-classes-bangla-sa/3_classes_Bert_Preprocessed__Dataset.xlsx')\n",
    "df.info()"
   ]
  },
  {
   "cell_type": "code",
   "execution_count": 6,
   "id": "a88f6d57",
   "metadata": {
    "execution": {
     "iopub.execute_input": "2023-01-30T08:16:35.698132Z",
     "iopub.status.busy": "2023-01-30T08:16:35.697735Z",
     "iopub.status.idle": "2023-01-30T08:17:06.217154Z",
     "shell.execute_reply": "2023-01-30T08:17:06.215679Z"
    },
    "papermill": {
     "duration": 30.539022,
     "end_time": "2023-01-30T08:17:06.223838",
     "exception": false,
     "start_time": "2023-01-30T08:16:35.684816",
     "status": "completed"
    },
    "tags": []
   },
   "outputs": [
    {
     "name": "stdout",
     "output_type": "stream",
     "text": [
      "Collecting ktrain\r\n",
      "  Downloading ktrain-0.33.0.tar.gz (25.3 MB)\r\n",
      "\u001b[2K     \u001b[90m━━━━━━━━━━━━━━━━━━━━━━━━━━━━━━━━━━━━━━━━\u001b[0m \u001b[32m25.3/25.3 MB\u001b[0m \u001b[31m41.0 MB/s\u001b[0m eta \u001b[36m0:00:00\u001b[0m\r\n",
      "\u001b[?25h  Preparing metadata (setup.py) ... \u001b[?25l-\b \bdone\r\n",
      "\u001b[?25hRequirement already satisfied: scikit-learn in /opt/conda/lib/python3.7/site-packages (from ktrain) (1.0.2)\r\n",
      "Requirement already satisfied: matplotlib>=3.0.0 in /opt/conda/lib/python3.7/site-packages (from ktrain) (3.5.2)\r\n",
      "Requirement already satisfied: pandas>=1.0.1 in /opt/conda/lib/python3.7/site-packages (from ktrain) (1.3.5)\r\n",
      "Requirement already satisfied: fastprogress>=0.1.21 in /opt/conda/lib/python3.7/site-packages (from ktrain) (1.0.3)\r\n",
      "Requirement already satisfied: requests in /opt/conda/lib/python3.7/site-packages (from ktrain) (2.28.1)\r\n",
      "Requirement already satisfied: joblib in /opt/conda/lib/python3.7/site-packages (from ktrain) (1.0.1)\r\n",
      "Requirement already satisfied: packaging in /opt/conda/lib/python3.7/site-packages (from ktrain) (23.0)\r\n",
      "Collecting langdetect\r\n",
      "  Downloading langdetect-1.0.9.tar.gz (981 kB)\r\n",
      "\u001b[2K     \u001b[90m━━━━━━━━━━━━━━━━━━━━━━━━━━━━━━━━━━━━━━\u001b[0m \u001b[32m981.5/981.5 kB\u001b[0m \u001b[31m49.8 MB/s\u001b[0m eta \u001b[36m0:00:00\u001b[0m\r\n",
      "\u001b[?25h  Preparing metadata (setup.py) ... \u001b[?25l-\b \bdone\r\n",
      "\u001b[?25hRequirement already satisfied: jieba in /opt/conda/lib/python3.7/site-packages (from ktrain) (0.42.1)\r\n",
      "Collecting cchardet\r\n",
      "  Downloading cchardet-2.1.7-cp37-cp37m-manylinux2010_x86_64.whl (263 kB)\r\n",
      "\u001b[2K     \u001b[90m━━━━━━━━━━━━━━━━━━━━━━━━━━━━━━━━━━━━━━\u001b[0m \u001b[32m263.7/263.7 kB\u001b[0m \u001b[31m17.6 MB/s\u001b[0m eta \u001b[36m0:00:00\u001b[0m\r\n",
      "\u001b[?25hRequirement already satisfied: chardet in /opt/conda/lib/python3.7/site-packages (from ktrain) (5.0.0)\r\n",
      "Collecting syntok>1.3.3\r\n",
      "  Downloading syntok-1.4.4-py3-none-any.whl (24 kB)\r\n",
      "Requirement already satisfied: transformers>=4.17.0 in /opt/conda/lib/python3.7/site-packages (from ktrain) (4.20.1)\r\n",
      "Requirement already satisfied: sentencepiece in /opt/conda/lib/python3.7/site-packages (from ktrain) (0.1.97)\r\n",
      "Collecting keras_bert>=0.86.0\r\n",
      "  Downloading keras-bert-0.89.0.tar.gz (25 kB)\r\n",
      "  Preparing metadata (setup.py) ... \u001b[?25l-\b \bdone\r\n",
      "\u001b[?25hCollecting whoosh\r\n",
      "  Downloading Whoosh-2.7.4-py2.py3-none-any.whl (468 kB)\r\n",
      "\u001b[2K     \u001b[90m━━━━━━━━━━━━━━━━━━━━━━━━━━━━━━━━━━━━━━\u001b[0m \u001b[32m468.8/468.8 kB\u001b[0m \u001b[31m30.0 MB/s\u001b[0m eta \u001b[36m0:00:00\u001b[0m\r\n",
      "\u001b[?25hRequirement already satisfied: numpy in /opt/conda/lib/python3.7/site-packages (from keras_bert>=0.86.0->ktrain) (1.21.6)\r\n",
      "Collecting keras-transformer==0.40.0\r\n",
      "  Downloading keras-transformer-0.40.0.tar.gz (9.7 kB)\r\n",
      "  Preparing metadata (setup.py) ... \u001b[?25l-\b \bdone\r\n",
      "\u001b[?25hCollecting keras-pos-embd==0.13.0\r\n",
      "  Downloading keras-pos-embd-0.13.0.tar.gz (5.6 kB)\r\n",
      "  Preparing metadata (setup.py) ... \u001b[?25l-\b \bdone\r\n",
      "\u001b[?25hCollecting keras-multi-head==0.29.0\r\n",
      "  Downloading keras-multi-head-0.29.0.tar.gz (13 kB)\r\n",
      "  Preparing metadata (setup.py) ... \u001b[?25l-\b \bdone\r\n",
      "\u001b[?25hCollecting keras-layer-normalization==0.16.0\r\n",
      "  Downloading keras-layer-normalization-0.16.0.tar.gz (3.9 kB)\r\n",
      "  Preparing metadata (setup.py) ... \u001b[?25l-\b \bdone\r\n",
      "\u001b[?25hCollecting keras-position-wise-feed-forward==0.8.0\r\n",
      "  Downloading keras-position-wise-feed-forward-0.8.0.tar.gz (4.1 kB)\r\n",
      "  Preparing metadata (setup.py) ... \u001b[?25l-\b \bdone\r\n",
      "\u001b[?25hCollecting keras-embed-sim==0.10.0\r\n",
      "  Downloading keras-embed-sim-0.10.0.tar.gz (3.6 kB)\r\n",
      "  Preparing metadata (setup.py) ... \u001b[?25l-\b \bdone\r\n",
      "\u001b[?25hCollecting keras-self-attention==0.51.0\r\n",
      "  Downloading keras-self-attention-0.51.0.tar.gz (11 kB)\r\n",
      "  Preparing metadata (setup.py) ... \u001b[?25l-\b \bdone\r\n",
      "\u001b[?25hRequirement already satisfied: pyparsing>=2.2.1 in /opt/conda/lib/python3.7/site-packages (from matplotlib>=3.0.0->ktrain) (3.0.9)\r\n",
      "Requirement already satisfied: pillow>=6.2.0 in /opt/conda/lib/python3.7/site-packages (from matplotlib>=3.0.0->ktrain) (9.1.1)\r\n",
      "Requirement already satisfied: fonttools>=4.22.0 in /opt/conda/lib/python3.7/site-packages (from matplotlib>=3.0.0->ktrain) (4.33.3)\r\n",
      "Requirement already satisfied: cycler>=0.10 in /opt/conda/lib/python3.7/site-packages (from matplotlib>=3.0.0->ktrain) (0.11.0)\r\n",
      "Requirement already satisfied: python-dateutil>=2.7 in /opt/conda/lib/python3.7/site-packages (from matplotlib>=3.0.0->ktrain) (2.8.2)\r\n",
      "Requirement already satisfied: kiwisolver>=1.0.1 in /opt/conda/lib/python3.7/site-packages (from matplotlib>=3.0.0->ktrain) (1.4.3)\r\n",
      "Requirement already satisfied: pytz>=2017.3 in /opt/conda/lib/python3.7/site-packages (from pandas>=1.0.1->ktrain) (2022.1)\r\n",
      "Requirement already satisfied: regex>2016 in /opt/conda/lib/python3.7/site-packages (from syntok>1.3.3->ktrain) (2021.11.10)\r\n",
      "Requirement already satisfied: tqdm>=4.27 in /opt/conda/lib/python3.7/site-packages (from transformers>=4.17.0->ktrain) (4.64.0)\r\n",
      "Requirement already satisfied: tokenizers!=0.11.3,<0.13,>=0.11.1 in /opt/conda/lib/python3.7/site-packages (from transformers>=4.17.0->ktrain) (0.12.1)\r\n",
      "Requirement already satisfied: huggingface-hub<1.0,>=0.1.0 in /opt/conda/lib/python3.7/site-packages (from transformers>=4.17.0->ktrain) (0.10.1)\r\n",
      "Requirement already satisfied: pyyaml>=5.1 in /opt/conda/lib/python3.7/site-packages (from transformers>=4.17.0->ktrain) (6.0)\r\n",
      "Requirement already satisfied: importlib-metadata in /opt/conda/lib/python3.7/site-packages (from transformers>=4.17.0->ktrain) (6.0.0)\r\n",
      "Requirement already satisfied: filelock in /opt/conda/lib/python3.7/site-packages (from transformers>=4.17.0->ktrain) (3.7.1)\r\n",
      "Requirement already satisfied: six in /opt/conda/lib/python3.7/site-packages (from langdetect->ktrain) (1.15.0)\r\n",
      "Requirement already satisfied: idna<4,>=2.5 in /opt/conda/lib/python3.7/site-packages (from requests->ktrain) (3.3)\r\n",
      "Requirement already satisfied: charset-normalizer<3,>=2 in /opt/conda/lib/python3.7/site-packages (from requests->ktrain) (2.1.0)\r\n",
      "Requirement already satisfied: urllib3<1.27,>=1.21.1 in /opt/conda/lib/python3.7/site-packages (from requests->ktrain) (1.26.14)\r\n",
      "Requirement already satisfied: certifi>=2017.4.17 in /opt/conda/lib/python3.7/site-packages (from requests->ktrain) (2022.12.7)\r\n",
      "Requirement already satisfied: threadpoolctl>=2.0.0 in /opt/conda/lib/python3.7/site-packages (from scikit-learn->ktrain) (3.1.0)\r\n",
      "Requirement already satisfied: scipy>=1.1.0 in /opt/conda/lib/python3.7/site-packages (from scikit-learn->ktrain) (1.7.3)\r\n",
      "Requirement already satisfied: typing-extensions>=3.7.4.3 in /opt/conda/lib/python3.7/site-packages (from huggingface-hub<1.0,>=0.1.0->transformers>=4.17.0->ktrain) (4.1.1)\r\n",
      "Requirement already satisfied: zipp>=0.5 in /opt/conda/lib/python3.7/site-packages (from importlib-metadata->transformers>=4.17.0->ktrain) (3.8.0)\r\n",
      "Building wheels for collected packages: ktrain, keras_bert, keras-transformer, keras-embed-sim, keras-layer-normalization, keras-multi-head, keras-pos-embd, keras-position-wise-feed-forward, keras-self-attention, langdetect\r\n",
      "  Building wheel for ktrain (setup.py) ... \u001b[?25l-\b \b\\\b \b|\b \b/\b \b-\b \b\\\b \b|\b \bdone\r\n",
      "\u001b[?25h  Created wheel for ktrain: filename=ktrain-0.33.0-py3-none-any.whl size=25313832 sha256=d8f68ee7b6491c9c668f673a0b24802f28648ca5119545f7dcfba905ff83c48d\r\n",
      "  Stored in directory: /root/.cache/pip/wheels/cb/c2/1a/db7e1066fb4a94becc327ec359a493a8899089609d55698133\r\n",
      "  Building wheel for keras_bert (setup.py) ... \u001b[?25l-\b \b\\\b \bdone\r\n",
      "\u001b[?25h  Created wheel for keras_bert: filename=keras_bert-0.89.0-py3-none-any.whl size=33517 sha256=ee88d5b78f104723a13f234968f20501023b9d69fa83a26c2dbdcce196df136b\r\n",
      "  Stored in directory: /root/.cache/pip/wheels/a4/e8/45/842b3a39831261aef9154b907eacbc4ac99499a99ae829b06f\r\n",
      "  Building wheel for keras-transformer (setup.py) ... \u001b[?25l-\b \b\\\b \bdone\r\n",
      "\u001b[?25h  Created wheel for keras-transformer: filename=keras_transformer-0.40.0-py3-none-any.whl size=12305 sha256=742748b89f7e27a163782274971a244c36fcc993a5085d27d3b501fe6ae67f71\r\n",
      "  Stored in directory: /root/.cache/pip/wheels/46/68/26/692ed21edd832833c3b0a0e21615bcacd99ca458b3f9ed571f\r\n",
      "  Building wheel for keras-embed-sim (setup.py) ... \u001b[?25l-\b \bdone\r\n",
      "\u001b[?25h  Created wheel for keras-embed-sim: filename=keras_embed_sim-0.10.0-py3-none-any.whl size=3960 sha256=5ea0b2594fc30dc6f0ced392b6ce672574d5995539eae2fa82f0938f28feb9e8\r\n",
      "  Stored in directory: /root/.cache/pip/wheels/81/67/b5/d847588d075895281e1cf5590f819bd4cf076a554872268bd5\r\n",
      "  Building wheel for keras-layer-normalization (setup.py) ... \u001b[?25l-\b \b\\\b \bdone\r\n",
      "\u001b[?25h  Created wheel for keras-layer-normalization: filename=keras_layer_normalization-0.16.0-py3-none-any.whl size=4668 sha256=fe52b08c944c3984167f7488d18c839b0de02f90eb33e8dc073f08cba87d36ee\r\n",
      "  Stored in directory: /root/.cache/pip/wheels/85/5d/1c/2e619f594f69fbcf8bc20943b27d414871c409be053994813e\r\n",
      "  Building wheel for keras-multi-head (setup.py) ... \u001b[?25l-\b \bdone\r\n",
      "\u001b[?25h  Created wheel for keras-multi-head: filename=keras_multi_head-0.29.0-py3-none-any.whl size=14993 sha256=b963b89a3801a666dddafc552810023307115d106afff58228424fba22d494b9\r\n",
      "  Stored in directory: /root/.cache/pip/wheels/86/aa/3c/9d15d24005179dae08ff291ce99c754b296347817d076fd9fb\r\n",
      "  Building wheel for keras-pos-embd (setup.py) ... \u001b[?25l-\b \b\\\b \bdone\r\n",
      "\u001b[?25h  Created wheel for keras-pos-embd: filename=keras_pos_embd-0.13.0-py3-none-any.whl size=6962 sha256=03c78b7df1ae9a253ab02a7b11c81797ef58a9df92a127fc27080e48d2dde9a4\r\n",
      "  Stored in directory: /root/.cache/pip/wheels/8d/c1/a0/dc44fcf68c857b7ff6be9a97e675e5adf51022eff1169b042f\r\n",
      "  Building wheel for keras-position-wise-feed-forward (setup.py) ... \u001b[?25l-\b \b\\\b \bdone\r\n",
      "\u001b[?25h  Created wheel for keras-position-wise-feed-forward: filename=keras_position_wise_feed_forward-0.8.0-py3-none-any.whl size=4983 sha256=3d31bfa83caa2fd78736756ae7e31759020a464ad81feaa4f42e83bf435de869\r\n",
      "  Stored in directory: /root/.cache/pip/wheels/c2/75/6f/d42f6e051506f442daeba53ff1e2d21a5f20ef8c411610f2bb\r\n",
      "  Building wheel for keras-self-attention (setup.py) ... \u001b[?25l-\b \b\\\b \bdone\r\n",
      "\u001b[?25h  Created wheel for keras-self-attention: filename=keras_self_attention-0.51.0-py3-none-any.whl size=18912 sha256=5d036a33b458d34cc16e9b3719f326f0c26348c54452d13bddaafc09ea15056e\r\n",
      "  Stored in directory: /root/.cache/pip/wheels/95/b1/a8/5ee00cc137940b2f6fa198212e8f45d813d0e0d9c3a04035a3\r\n",
      "  Building wheel for langdetect (setup.py) ... \u001b[?25l-\b \b\\\b \b|\b \b/\b \bdone\r\n",
      "\u001b[?25h  Created wheel for langdetect: filename=langdetect-1.0.9-py3-none-any.whl size=993242 sha256=83eda43a00ab3bc484a0a48555835c52b30c585989968224d282ddebfaac42b9\r\n",
      "  Stored in directory: /root/.cache/pip/wheels/c5/96/8a/f90c59ed25d75e50a8c10a1b1c2d4c402e4dacfa87f3aff36a\r\n",
      "Successfully built ktrain keras_bert keras-transformer keras-embed-sim keras-layer-normalization keras-multi-head keras-pos-embd keras-position-wise-feed-forward keras-self-attention langdetect\r\n",
      "Installing collected packages: whoosh, cchardet, syntok, langdetect, keras-self-attention, keras-position-wise-feed-forward, keras-pos-embd, keras-layer-normalization, keras-embed-sim, keras-multi-head, keras-transformer, keras_bert, ktrain\r\n",
      "Successfully installed cchardet-2.1.7 keras-embed-sim-0.10.0 keras-layer-normalization-0.16.0 keras-multi-head-0.29.0 keras-pos-embd-0.13.0 keras-position-wise-feed-forward-0.8.0 keras-self-attention-0.51.0 keras-transformer-0.40.0 keras_bert-0.89.0 ktrain-0.33.0 langdetect-1.0.9 syntok-1.4.4 whoosh-2.7.4\r\n",
      "\u001b[33mWARNING: Running pip as the 'root' user can result in broken permissions and conflicting behaviour with the system package manager. It is recommended to use a virtual environment instead: https://pip.pypa.io/warnings/venv\u001b[0m\u001b[33m\r\n",
      "\u001b[0mNote: you may need to restart the kernel to use updated packages.\n"
     ]
    }
   ],
   "source": [
    "pip install ktrain"
   ]
  },
  {
   "cell_type": "code",
   "execution_count": 7,
   "id": "270f1e02",
   "metadata": {
    "execution": {
     "iopub.execute_input": "2023-01-30T08:17:06.278183Z",
     "iopub.status.busy": "2023-01-30T08:17:06.277773Z",
     "iopub.status.idle": "2023-01-30T08:17:06.348760Z",
     "shell.execute_reply": "2023-01-30T08:17:06.347857Z"
    },
    "papermill": {
     "duration": 0.0995,
     "end_time": "2023-01-30T08:17:06.350945",
     "exception": false,
     "start_time": "2023-01-30T08:17:06.251445",
     "status": "completed"
    },
    "tags": []
   },
   "outputs": [],
   "source": [
    "%reload_ext autoreload\n",
    "%autoreload 2\n",
    "%matplotlib inline\n",
    "import os\n",
    "os.environ[\"CUDA_DEVICE_ORDER\"] = \"PCI_BUS_ID\"\n",
    "os.environ[\"CUDA_VISIBLE_DEVICES\"] = \"0\" "
   ]
  },
  {
   "cell_type": "code",
   "execution_count": 8,
   "id": "96e5496e",
   "metadata": {
    "execution": {
     "iopub.execute_input": "2023-01-30T08:17:06.401828Z",
     "iopub.status.busy": "2023-01-30T08:17:06.401488Z",
     "iopub.status.idle": "2023-01-30T08:17:14.215908Z",
     "shell.execute_reply": "2023-01-30T08:17:14.214363Z"
    },
    "papermill": {
     "duration": 7.842652,
     "end_time": "2023-01-30T08:17:14.218846",
     "exception": false,
     "start_time": "2023-01-30T08:17:06.376194",
     "status": "completed"
    },
    "tags": []
   },
   "outputs": [],
   "source": [
    "import ktrain\n",
    "from ktrain import text"
   ]
  },
  {
   "cell_type": "code",
   "execution_count": 9,
   "id": "116d50a9",
   "metadata": {
    "execution": {
     "iopub.execute_input": "2023-01-30T08:17:14.262882Z",
     "iopub.status.busy": "2023-01-30T08:17:14.261756Z",
     "iopub.status.idle": "2023-01-30T08:17:14.354428Z",
     "shell.execute_reply": "2023-01-30T08:17:14.353302Z"
    },
    "papermill": {
     "duration": 0.117378,
     "end_time": "2023-01-30T08:17:14.356916",
     "exception": false,
     "start_time": "2023-01-30T08:17:14.239538",
     "status": "completed"
    },
    "tags": []
   },
   "outputs": [],
   "source": [
    "df_filtered = df[df['Label'] > 0]\n",
    "df=df_filtered"
   ]
  },
  {
   "cell_type": "code",
   "execution_count": 10,
   "id": "c80b63f9",
   "metadata": {
    "execution": {
     "iopub.execute_input": "2023-01-30T08:17:14.399332Z",
     "iopub.status.busy": "2023-01-30T08:17:14.398988Z",
     "iopub.status.idle": "2023-01-30T08:17:14.487126Z",
     "shell.execute_reply": "2023-01-30T08:17:14.486037Z"
    },
    "papermill": {
     "duration": 0.111664,
     "end_time": "2023-01-30T08:17:14.489119",
     "exception": false,
     "start_time": "2023-01-30T08:17:14.377455",
     "status": "completed"
    },
    "tags": []
   },
   "outputs": [
    {
     "data": {
      "text/plain": [
       "(1    6410\n",
       " 2    5709\n",
       " Name: Label, dtype: int64,\n",
       " 12119)"
      ]
     },
     "execution_count": 10,
     "metadata": {},
     "output_type": "execute_result"
    }
   ],
   "source": [
    "df.Label.value_counts(), len(df)"
   ]
  },
  {
   "cell_type": "code",
   "execution_count": 11,
   "id": "6df07f86",
   "metadata": {
    "execution": {
     "iopub.execute_input": "2023-01-30T08:17:14.535250Z",
     "iopub.status.busy": "2023-01-30T08:17:14.534900Z",
     "iopub.status.idle": "2023-01-30T08:17:14.615964Z",
     "shell.execute_reply": "2023-01-30T08:17:14.614887Z"
    },
    "papermill": {
     "duration": 0.107953,
     "end_time": "2023-01-30T08:17:14.618261",
     "exception": false,
     "start_time": "2023-01-30T08:17:14.510308",
     "status": "completed"
    },
    "tags": []
   },
   "outputs": [
    {
     "data": {
      "text/plain": [
       "(positive    6410\n",
       " negative    5709\n",
       " Name: Sentiment, dtype: int64,\n",
       " 12119)"
      ]
     },
     "execution_count": 11,
     "metadata": {},
     "output_type": "execute_result"
    }
   ],
   "source": [
    "def Label(label):\n",
    "    if(label==1):\n",
    "        return 'positive'\n",
    "    elif(label==0):\n",
    "        return 'neutral'\n",
    "    elif(label==2):\n",
    "        return 'negative'\n",
    "df['Sentiment'] = df['Label'].apply(Label)\n",
    "df.Sentiment.value_counts(), len(df)"
   ]
  },
  {
   "cell_type": "markdown",
   "id": "da872ae5",
   "metadata": {
    "papermill": {
     "duration": 0.01746,
     "end_time": "2023-01-30T08:17:14.653900",
     "exception": false,
     "start_time": "2023-01-30T08:17:14.636440",
     "status": "completed"
    },
    "tags": []
   },
   "source": [
    "from sklearn import preprocessing\n",
    "le = preprocessing.LabelEncoder()\n",
    "le.fit(df['Label'])\n",
    "encoded_labels = le.transform(df['Label'])\n",
    "labels = np.array(encoded_labels) # Converting into numpy array\n",
    "class_names =le.classes_\n",
    "print(class_names)"
   ]
  },
  {
   "cell_type": "code",
   "execution_count": 12,
   "id": "7da72da5",
   "metadata": {
    "execution": {
     "iopub.execute_input": "2023-01-30T08:17:14.691274Z",
     "iopub.status.busy": "2023-01-30T08:17:14.690411Z",
     "iopub.status.idle": "2023-01-30T08:17:14.755324Z",
     "shell.execute_reply": "2023-01-30T08:17:14.754293Z"
    },
    "papermill": {
     "duration": 0.086122,
     "end_time": "2023-01-30T08:17:14.757749",
     "exception": false,
     "start_time": "2023-01-30T08:17:14.671627",
     "status": "completed"
    },
    "tags": []
   },
   "outputs": [
    {
     "data": {
      "text/plain": [
       "(positive    6410\n",
       " negative    5709\n",
       " Name: Sentiment, dtype: int64,\n",
       " 12119)"
      ]
     },
     "execution_count": 12,
     "metadata": {},
     "output_type": "execute_result"
    }
   ],
   "source": [
    "df.Sentiment.value_counts(), len(df)"
   ]
  },
  {
   "cell_type": "code",
   "execution_count": 13,
   "id": "36fe1a77",
   "metadata": {
    "execution": {
     "iopub.execute_input": "2023-01-30T08:17:14.793098Z",
     "iopub.status.busy": "2023-01-30T08:17:14.792344Z",
     "iopub.status.idle": "2023-01-30T08:17:14.861250Z",
     "shell.execute_reply": "2023-01-30T08:17:14.860254Z"
    },
    "papermill": {
     "duration": 0.088923,
     "end_time": "2023-01-30T08:17:14.863421",
     "exception": false,
     "start_time": "2023-01-30T08:17:14.774498",
     "status": "completed"
    },
    "tags": []
   },
   "outputs": [
    {
     "data": {
      "text/html": [
       "<div>\n",
       "<style scoped>\n",
       "    .dataframe tbody tr th:only-of-type {\n",
       "        vertical-align: middle;\n",
       "    }\n",
       "\n",
       "    .dataframe tbody tr th {\n",
       "        vertical-align: top;\n",
       "    }\n",
       "\n",
       "    .dataframe thead th {\n",
       "        text-align: right;\n",
       "    }\n",
       "</style>\n",
       "<table border=\"1\" class=\"dataframe\">\n",
       "  <thead>\n",
       "    <tr style=\"text-align: right;\">\n",
       "      <th></th>\n",
       "      <th>Unnamed: 0</th>\n",
       "      <th>Data</th>\n",
       "      <th>Label</th>\n",
       "      <th>Token</th>\n",
       "      <th>Token_ID</th>\n",
       "      <th>Sentiment</th>\n",
       "    </tr>\n",
       "  </thead>\n",
       "  <tbody>\n",
       "    <tr>\n",
       "      <th>0</th>\n",
       "      <td>4032</td>\n",
       "      <td>এক মাস সেহেরি খাইয়া রোজা রাহা সোজা</td>\n",
       "      <td>1</td>\n",
       "      <td>['এক', 'মাস', 'সে', '##হের', '##ি', '[UNK]', '...</td>\n",
       "      <td>[788, 1293, 809, 2685, 416, 1, 12209, 3462, 41...</td>\n",
       "      <td>positive</td>\n",
       "    </tr>\n",
       "    <tr>\n",
       "      <th>1</th>\n",
       "      <td>3587</td>\n",
       "      <td>ভাই আমাদের মাতৃভুমিটা এত সুনদর</td>\n",
       "      <td>1</td>\n",
       "      <td>['ভাই', 'আমাদের', 'মাতৃ', '##ভু', '##মিট', '##...</td>\n",
       "      <td>[1352, 1029, 6563, 12357, 12290, 415, 1284, 36...</td>\n",
       "      <td>positive</td>\n",
       "    </tr>\n",
       "    <tr>\n",
       "      <th>2</th>\n",
       "      <td>8968</td>\n",
       "      <td>জানুয়ারীতে কেন  ঐ সময় স্পেশাল কি</td>\n",
       "      <td>1</td>\n",
       "      <td>['[UNK]', 'কেন', 'ঐ', '[UNK]', 'স্পেশাল', 'কি']</td>\n",
       "      <td>[1, 1107, 218, 1, 10225, 817]</td>\n",
       "      <td>positive</td>\n",
       "    </tr>\n",
       "    <tr>\n",
       "      <th>3</th>\n",
       "      <td>95</td>\n",
       "      <td>তোরা কখন কাচা রসুন চাবিয়ে খেয়ে দেখেচিস</td>\n",
       "      <td>2</td>\n",
       "      <td>['তোরা', 'কখন', 'কাচা', 'রসুন', '[UNK]', '[UNK...</td>\n",
       "      <td>[5712, 1394, 30306, 18173, 1, 1, 1172, 2408, 417]</td>\n",
       "      <td>negative</td>\n",
       "    </tr>\n",
       "    <tr>\n",
       "      <th>4</th>\n",
       "      <td>1163</td>\n",
       "      <td>হ্যাঁ হ্যাঁ হ্যাঁ হ্যাঁ জীবন টা বেদনা</td>\n",
       "      <td>2</td>\n",
       "      <td>['হ্যাঁ', 'হ্যাঁ', 'হ্যাঁ', 'হ্যাঁ', 'জীবন', '...</td>\n",
       "      <td>[2154, 2154, 2154, 2154, 1537, 1632, 10018]</td>\n",
       "      <td>negative</td>\n",
       "    </tr>\n",
       "  </tbody>\n",
       "</table>\n",
       "</div>"
      ],
      "text/plain": [
       "   Unnamed: 0                                     Data  Label  \\\n",
       "0        4032       এক মাস সেহেরি খাইয়া রোজা রাহা সোজা      1   \n",
       "1        3587           ভাই আমাদের মাতৃভুমিটা এত সুনদর      1   \n",
       "2        8968         জানুয়ারীতে কেন  ঐ সময় স্পেশাল কি      1   \n",
       "3          95  তোরা কখন কাচা রসুন চাবিয়ে খেয়ে দেখেচিস       2   \n",
       "4        1163   হ্যাঁ হ্যাঁ হ্যাঁ হ্যাঁ জীবন টা বেদনা       2   \n",
       "\n",
       "                                               Token  \\\n",
       "0  ['এক', 'মাস', 'সে', '##হের', '##ি', '[UNK]', '...   \n",
       "1  ['ভাই', 'আমাদের', 'মাতৃ', '##ভু', '##মিট', '##...   \n",
       "2    ['[UNK]', 'কেন', 'ঐ', '[UNK]', 'স্পেশাল', 'কি']   \n",
       "3  ['তোরা', 'কখন', 'কাচা', 'রসুন', '[UNK]', '[UNK...   \n",
       "4  ['হ্যাঁ', 'হ্যাঁ', 'হ্যাঁ', 'হ্যাঁ', 'জীবন', '...   \n",
       "\n",
       "                                            Token_ID Sentiment  \n",
       "0  [788, 1293, 809, 2685, 416, 1, 12209, 3462, 41...  positive  \n",
       "1  [1352, 1029, 6563, 12357, 12290, 415, 1284, 36...  positive  \n",
       "2                      [1, 1107, 218, 1, 10225, 817]  positive  \n",
       "3  [5712, 1394, 30306, 18173, 1, 1, 1172, 2408, 417]  negative  \n",
       "4        [2154, 2154, 2154, 2154, 1537, 1632, 10018]  negative  "
      ]
     },
     "execution_count": 13,
     "metadata": {},
     "output_type": "execute_result"
    }
   ],
   "source": [
    "df.head()"
   ]
  },
  {
   "cell_type": "code",
   "execution_count": 14,
   "id": "24974d1b",
   "metadata": {
    "execution": {
     "iopub.execute_input": "2023-01-30T08:17:14.898915Z",
     "iopub.status.busy": "2023-01-30T08:17:14.898629Z",
     "iopub.status.idle": "2023-01-30T08:17:14.963296Z",
     "shell.execute_reply": "2023-01-30T08:17:14.962409Z"
    },
    "papermill": {
     "duration": 0.085048,
     "end_time": "2023-01-30T08:17:14.965662",
     "exception": false,
     "start_time": "2023-01-30T08:17:14.880614",
     "status": "completed"
    },
    "tags": []
   },
   "outputs": [],
   "source": [
    "train=df[:int(.8*len(df))]\n",
    "test=df[int(.8*len(df)):int(.9*len(df))]\n",
    "validation=df[int(.9*len(df)):]\n",
    "x_train=train['Token'].tolist()\n",
    "y_train=train['Sentiment'].tolist()\n",
    "x_validation=validation['Token'].tolist()\n",
    "y_validation=validation['Sentiment'].tolist()\n",
    "x_test=test['Token'].tolist()\n",
    "y_test=test['Sentiment'].tolist()"
   ]
  },
  {
   "cell_type": "code",
   "execution_count": 15,
   "id": "c4dc4f30",
   "metadata": {
    "execution": {
     "iopub.execute_input": "2023-01-30T08:17:15.001677Z",
     "iopub.status.busy": "2023-01-30T08:17:15.001389Z",
     "iopub.status.idle": "2023-01-30T08:17:15.082001Z",
     "shell.execute_reply": "2023-01-30T08:17:15.081128Z"
    },
    "papermill": {
     "duration": 0.100934,
     "end_time": "2023-01-30T08:17:15.084193",
     "exception": false,
     "start_time": "2023-01-30T08:17:14.983259",
     "status": "completed"
    },
    "tags": []
   },
   "outputs": [],
   "source": [
    "x_train= np.array(x_train)\n",
    "x_validation= np.array(x_validation)\n",
    "x_test= np.array(x_test)\n"
   ]
  },
  {
   "cell_type": "code",
   "execution_count": 16,
   "id": "5cca6f0c",
   "metadata": {
    "execution": {
     "iopub.execute_input": "2023-01-30T08:17:15.120186Z",
     "iopub.status.busy": "2023-01-30T08:17:15.119904Z",
     "iopub.status.idle": "2023-01-30T08:17:15.180099Z",
     "shell.execute_reply": "2023-01-30T08:17:15.179188Z"
    },
    "papermill": {
     "duration": 0.08063,
     "end_time": "2023-01-30T08:17:15.182270",
     "exception": false,
     "start_time": "2023-01-30T08:17:15.101640",
     "status": "completed"
    },
    "tags": []
   },
   "outputs": [],
   "source": [
    "categories = ['positive','negative']"
   ]
  },
  {
   "cell_type": "code",
   "execution_count": 17,
   "id": "4c73accb",
   "metadata": {
    "execution": {
     "iopub.execute_input": "2023-01-30T08:17:15.219747Z",
     "iopub.status.busy": "2023-01-30T08:17:15.219479Z",
     "iopub.status.idle": "2023-01-30T08:18:01.201844Z",
     "shell.execute_reply": "2023-01-30T08:18:01.200486Z"
    },
    "papermill": {
     "duration": 46.00718,
     "end_time": "2023-01-30T08:18:01.207928",
     "exception": false,
     "start_time": "2023-01-30T08:17:15.200748",
     "status": "completed"
    },
    "tags": []
   },
   "outputs": [
    {
     "data": {
      "application/vnd.jupyter.widget-view+json": {
       "model_id": "0803de175cb94a72991d71939a02b463",
       "version_major": 2,
       "version_minor": 0
      },
      "text/plain": [
       "Downloading:   0%|          | 0.00/625 [00:00<?, ?B/s]"
      ]
     },
     "metadata": {},
     "output_type": "display_data"
    },
    {
     "data": {
      "application/vnd.jupyter.widget-view+json": {
       "model_id": "d8d8f9d70ce44a4cb19d5b5e50edfffa",
       "version_major": 2,
       "version_minor": 0
      },
      "text/plain": [
       "Downloading:   0%|          | 0.00/953M [00:00<?, ?B/s]"
      ]
     },
     "metadata": {},
     "output_type": "display_data"
    }
   ],
   "source": [
    "model_name = 'bert-base-multilingual-uncased'\n",
    "trans = text.Transformer(model_name,maxlen=50,class_names=categories)"
   ]
  },
  {
   "cell_type": "code",
   "execution_count": 18,
   "id": "76fda3bc",
   "metadata": {
    "execution": {
     "iopub.execute_input": "2023-01-30T08:18:01.278375Z",
     "iopub.status.busy": "2023-01-30T08:18:01.277781Z",
     "iopub.status.idle": "2023-01-30T08:18:08.042102Z",
     "shell.execute_reply": "2023-01-30T08:18:08.041163Z"
    },
    "papermill": {
     "duration": 6.791163,
     "end_time": "2023-01-30T08:18:08.044222",
     "exception": false,
     "start_time": "2023-01-30T08:18:01.253059",
     "status": "completed"
    },
    "tags": []
   },
   "outputs": [
    {
     "name": "stdout",
     "output_type": "stream",
     "text": [
      "preprocessing train...\n",
      "language: bn\n",
      "train sequence lengths:\n",
      "\tmean : 17\n",
      "\t95percentile : 38\n",
      "\t99percentile : 48\n"
     ]
    },
    {
     "name": "stderr",
     "output_type": "stream",
     "text": [
      "/opt/conda/lib/python3.7/site-packages/ktrain/utils.py:746: UserWarning: class_names argument was ignored, as they were extracted from string labels in dataset\n",
      "  \"class_names argument was ignored, as they were extracted from string labels in dataset\"\n"
     ]
    },
    {
     "data": {
      "application/vnd.jupyter.widget-view+json": {
       "model_id": "5125a3cabcc0430cbb7b6c1478cfc87b",
       "version_major": 2,
       "version_minor": 0
      },
      "text/plain": [
       "Downloading:   0%|          | 0.00/28.0 [00:00<?, ?B/s]"
      ]
     },
     "metadata": {},
     "output_type": "display_data"
    },
    {
     "data": {
      "application/vnd.jupyter.widget-view+json": {
       "model_id": "4c58e4e3516a487490b8a92f4fb645e2",
       "version_major": 2,
       "version_minor": 0
      },
      "text/plain": [
       "Downloading:   0%|          | 0.00/851k [00:00<?, ?B/s]"
      ]
     },
     "metadata": {},
     "output_type": "display_data"
    },
    {
     "data": {
      "application/vnd.jupyter.widget-view+json": {
       "model_id": "9ef09dcfc4dd48cca17444dfa1bd6d98",
       "version_major": 2,
       "version_minor": 0
      },
      "text/plain": [
       "Downloading:   0%|          | 0.00/1.64M [00:00<?, ?B/s]"
      ]
     },
     "metadata": {},
     "output_type": "display_data"
    },
    {
     "data": {
      "text/html": [
       "\n",
       "<style>\n",
       "    /* Turns off some styling */\n",
       "    progress {\n",
       "        /* gets rid of default border in Firefox and Opera. */\n",
       "        border: none;\n",
       "        /* Needs to be in here for Safari polyfill so background images work as expected. */\n",
       "        background-size: auto;\n",
       "    }\n",
       "    progress:not([value]), progress:not([value])::-webkit-progress-bar {\n",
       "        background: repeating-linear-gradient(45deg, #7e7e7e, #7e7e7e 10px, #5c5c5c 10px, #5c5c5c 20px);\n",
       "    }\n",
       "    .progress-bar-interrupted, .progress-bar-interrupted::-webkit-progress-bar {\n",
       "        background: #F44336;\n",
       "    }\n",
       "</style>\n"
      ],
      "text/plain": [
       "<IPython.core.display.HTML object>"
      ]
     },
     "metadata": {},
     "output_type": "display_data"
    },
    {
     "data": {
      "text/html": [],
      "text/plain": [
       "<IPython.core.display.HTML object>"
      ]
     },
     "metadata": {},
     "output_type": "display_data"
    },
    {
     "name": "stdout",
     "output_type": "stream",
     "text": [
      "Is Multi-Label? False\n",
      "preprocessing test...\n",
      "language: bn\n",
      "test sequence lengths:\n",
      "\tmean : 17\n",
      "\t95percentile : 38\n",
      "\t99percentile : 48\n"
     ]
    },
    {
     "data": {
      "text/html": [
       "\n",
       "<style>\n",
       "    /* Turns off some styling */\n",
       "    progress {\n",
       "        /* gets rid of default border in Firefox and Opera. */\n",
       "        border: none;\n",
       "        /* Needs to be in here for Safari polyfill so background images work as expected. */\n",
       "        background-size: auto;\n",
       "    }\n",
       "    progress:not([value]), progress:not([value])::-webkit-progress-bar {\n",
       "        background: repeating-linear-gradient(45deg, #7e7e7e, #7e7e7e 10px, #5c5c5c 10px, #5c5c5c 20px);\n",
       "    }\n",
       "    .progress-bar-interrupted, .progress-bar-interrupted::-webkit-progress-bar {\n",
       "        background: #F44336;\n",
       "    }\n",
       "</style>\n"
      ],
      "text/plain": [
       "<IPython.core.display.HTML object>"
      ]
     },
     "metadata": {},
     "output_type": "display_data"
    },
    {
     "data": {
      "text/html": [],
      "text/plain": [
       "<IPython.core.display.HTML object>"
      ]
     },
     "metadata": {},
     "output_type": "display_data"
    }
   ],
   "source": [
    "train = trans.preprocess_train(x_train,y_train)\n",
    "valid = trans.preprocess_test(x_validation,y_validation)"
   ]
  },
  {
   "cell_type": "code",
   "execution_count": 19,
   "id": "0967a131",
   "metadata": {
    "execution": {
     "iopub.execute_input": "2023-01-30T08:18:08.084522Z",
     "iopub.status.busy": "2023-01-30T08:18:08.084195Z",
     "iopub.status.idle": "2023-01-30T08:18:09.885170Z",
     "shell.execute_reply": "2023-01-30T08:18:09.884156Z"
    },
    "papermill": {
     "duration": 1.823729,
     "end_time": "2023-01-30T08:18:09.887688",
     "exception": false,
     "start_time": "2023-01-30T08:18:08.063959",
     "status": "completed"
    },
    "tags": []
   },
   "outputs": [],
   "source": [
    "model = trans.get_classifier()"
   ]
  },
  {
   "cell_type": "code",
   "execution_count": 20,
   "id": "657fa9e4",
   "metadata": {
    "execution": {
     "iopub.execute_input": "2023-01-30T08:18:09.927939Z",
     "iopub.status.busy": "2023-01-30T08:18:09.927616Z",
     "iopub.status.idle": "2023-01-30T08:18:11.578029Z",
     "shell.execute_reply": "2023-01-30T08:18:11.576810Z"
    },
    "papermill": {
     "duration": 1.673784,
     "end_time": "2023-01-30T08:18:11.581099",
     "exception": false,
     "start_time": "2023-01-30T08:18:09.907315",
     "status": "completed"
    },
    "tags": []
   },
   "outputs": [],
   "source": [
    "learner = ktrain.get_learner(model, train_data=train,val_data=valid, batch_size=12)"
   ]
  },
  {
   "cell_type": "code",
   "execution_count": 21,
   "id": "249acb65",
   "metadata": {
    "execution": {
     "iopub.execute_input": "2023-01-30T08:18:11.621067Z",
     "iopub.status.busy": "2023-01-30T08:18:11.620691Z",
     "iopub.status.idle": "2023-01-30T08:18:11.694975Z",
     "shell.execute_reply": "2023-01-30T08:18:11.694025Z"
    },
    "papermill": {
     "duration": 0.096686,
     "end_time": "2023-01-30T08:18:11.697352",
     "exception": false,
     "start_time": "2023-01-30T08:18:11.600666",
     "status": "completed"
    },
    "tags": []
   },
   "outputs": [],
   "source": [
    "from sklearn.utils import class_weight\n",
    "class_weight=class_weight.compute_class_weight(class_weight='balanced',classes=np.unique(y_train),y=y_train)\n",
    "weight={i:class_weight[i] for i in range(2)}"
   ]
  },
  {
   "cell_type": "code",
   "execution_count": 22,
   "id": "4f476cf3",
   "metadata": {
    "execution": {
     "iopub.execute_input": "2023-01-30T08:18:11.736076Z",
     "iopub.status.busy": "2023-01-30T08:18:11.735782Z",
     "iopub.status.idle": "2023-01-30T08:35:35.728056Z",
     "shell.execute_reply": "2023-01-30T08:35:35.726980Z"
    },
    "papermill": {
     "duration": 1044.013946,
     "end_time": "2023-01-30T08:35:35.730283",
     "exception": false,
     "start_time": "2023-01-30T08:18:11.716337",
     "status": "completed"
    },
    "tags": []
   },
   "outputs": [
    {
     "name": "stdout",
     "output_type": "stream",
     "text": [
      "simulating training for different learning rates... this may take a few moments...\n",
      "Epoch 1/10\n",
      "807/807 [==============================] - 166s 177ms/step - loss: 0.6912 - accuracy: 0.5252\n",
      "Epoch 2/10\n",
      "807/807 [==============================] - 147s 182ms/step - loss: 0.6493 - accuracy: 0.6107\n",
      "Epoch 3/10\n",
      "807/807 [==============================] - 146s 181ms/step - loss: 0.5357 - accuracy: 0.7378\n",
      "Epoch 4/10\n",
      "807/807 [==============================] - 146s 181ms/step - loss: 0.5481 - accuracy: 0.7227\n",
      "Epoch 5/10\n",
      "807/807 [==============================] - 146s 180ms/step - loss: 0.7015 - accuracy: 0.5161\n",
      "Epoch 6/10\n",
      "807/807 [==============================] - 146s 180ms/step - loss: 0.7561 - accuracy: 0.5010\n",
      "Epoch 7/10\n",
      "807/807 [==============================] - 142s 176ms/step - loss: 2.2029 - accuracy: 0.5064\n",
      "\n",
      "\n",
      "done.\n",
      "Visually inspect loss plot and select learning rate associated with falling loss\n"
     ]
    },
    {
     "data": {
      "image/png": "[encoded data removed]",
      "text/plain": [
       "<Figure size 432x288 with 1 Axes>"
      ]
     },
     "metadata": {
      "needs_background": "light"
     },
     "output_type": "display_data"
    }
   ],
   "source": [
    "learner.lr_find(show_plot = True,max_epochs=10)"
   ]
  },
  {
   "cell_type": "code",
   "execution_count": 23,
   "id": "f0b3b9f5",
   "metadata": {
    "execution": {
     "iopub.execute_input": "2023-01-30T08:35:36.373066Z",
     "iopub.status.busy": "2023-01-30T08:35:36.372681Z",
     "iopub.status.idle": "2023-01-30T09:01:12.775213Z",
     "shell.execute_reply": "2023-01-30T09:01:12.774266Z"
    },
    "papermill": {
     "duration": 1537.476539,
     "end_time": "2023-01-30T09:01:13.527616",
     "exception": false,
     "start_time": "2023-01-30T08:35:36.051077",
     "status": "completed"
    },
    "tags": []
   },
   "outputs": [
    {
     "name": "stdout",
     "output_type": "stream",
     "text": [
      "\n",
      "\n",
      "begin training using onecycle policy with max lr of 5e-05...\n",
      "Epoch 1/10\n",
      "808/808 [==============================] - 171s 191ms/step - loss: 0.6039 - accuracy: 0.6553 - val_loss: 0.5106 - val_accuracy: 0.7574\n",
      "Epoch 2/10\n",
      "808/808 [==============================] - 150s 185ms/step - loss: 0.4864 - accuracy: 0.7657 - val_loss: 0.4893 - val_accuracy: 0.7706\n",
      "Epoch 3/10\n",
      "808/808 [==============================] - 150s 185ms/step - loss: 0.4356 - accuracy: 0.7988 - val_loss: 0.4751 - val_accuracy: 0.7624\n",
      "Epoch 4/10\n",
      "808/808 [==============================] - 150s 186ms/step - loss: 0.3895 - accuracy: 0.8284 - val_loss: 0.5217 - val_accuracy: 0.7789\n",
      "Epoch 5/10\n",
      "808/808 [==============================] - 149s 185ms/step - loss: 0.3665 - accuracy: 0.8444 - val_loss: 0.4641 - val_accuracy: 0.7987\n",
      "Epoch 6/10\n",
      "808/808 [==============================] - 150s 185ms/step - loss: 0.3140 - accuracy: 0.8666 - val_loss: 0.4955 - val_accuracy: 0.8061\n",
      "Epoch 7/10\n",
      "808/808 [==============================] - 150s 186ms/step - loss: 0.2248 - accuracy: 0.9119 - val_loss: 0.4677 - val_accuracy: 0.8127\n",
      "Epoch 8/10\n",
      "808/808 [==============================] - 150s 185ms/step - loss: 0.1485 - accuracy: 0.9448 - val_loss: 0.5878 - val_accuracy: 0.8201\n",
      "Epoch 9/10\n",
      "808/808 [==============================] - 150s 185ms/step - loss: 0.0876 - accuracy: 0.9699 - val_loss: 0.6485 - val_accuracy: 0.8152\n",
      "Epoch 10/10\n",
      "808/808 [==============================] - 150s 185ms/step - loss: 0.0510 - accuracy: 0.9837 - val_loss: 0.7010 - val_accuracy: 0.8210\n"
     ]
    },
    {
     "data": {
      "text/plain": [
       "<keras.callbacks.History at 0x7ff1fd7b6250>"
      ]
     },
     "execution_count": 23,
     "metadata": {},
     "output_type": "execute_result"
    }
   ],
   "source": [
    "learner.fit_onecycle(5e-5,10,class_weight=weight) "
   ]
  },
  {
   "cell_type": "code",
   "execution_count": 24,
   "id": "f428e1f6",
   "metadata": {
    "execution": {
     "iopub.execute_input": "2023-01-30T09:01:15.073118Z",
     "iopub.status.busy": "2023-01-30T09:01:15.072741Z",
     "iopub.status.idle": "2023-01-30T09:01:23.471429Z",
     "shell.execute_reply": "2023-01-30T09:01:23.470402Z"
    },
    "papermill": {
     "duration": 9.144745,
     "end_time": "2023-01-30T09:01:23.473524",
     "exception": false,
     "start_time": "2023-01-30T09:01:14.328779",
     "status": "completed"
    },
    "tags": []
   },
   "outputs": [
    {
     "name": "stdout",
     "output_type": "stream",
     "text": [
      "              precision    recall  f1-score   support\n",
      "\n",
      "    positive       0.82      0.80      0.81       578\n",
      "    negative       0.82      0.84      0.83       634\n",
      "\n",
      "    accuracy                           0.82      1212\n",
      "   macro avg       0.82      0.82      0.82      1212\n",
      "weighted avg       0.82      0.82      0.82      1212\n",
      "\n"
     ]
    },
    {
     "data": {
      "text/plain": [
       "array([[462, 116],\n",
       "       [101, 533]])"
      ]
     },
     "execution_count": 24,
     "metadata": {},
     "output_type": "execute_result"
    }
   ],
   "source": [
    "learner.validate(class_names=categories)"
   ]
  },
  {
   "cell_type": "code",
   "execution_count": 25,
   "id": "83a8a041",
   "metadata": {
    "execution": {
     "iopub.execute_input": "2023-01-30T09:01:25.030470Z",
     "iopub.status.busy": "2023-01-30T09:01:25.029860Z",
     "iopub.status.idle": "2023-01-30T09:01:29.521143Z",
     "shell.execute_reply": "2023-01-30T09:01:29.520101Z"
    },
    "papermill": {
     "duration": 5.242677,
     "end_time": "2023-01-30T09:01:29.523639",
     "exception": false,
     "start_time": "2023-01-30T09:01:24.280962",
     "status": "completed"
    },
    "tags": []
   },
   "outputs": [
    {
     "name": "stdout",
     "output_type": "stream",
     "text": [
      "              precision    recall  f1-score   support\n",
      "\n",
      "    positive       0.82      0.80      0.81       578\n",
      "    negative       0.82      0.84      0.83       634\n",
      "\n",
      "    accuracy                           0.82      1212\n",
      "   macro avg       0.82      0.82      0.82      1212\n",
      "weighted avg       0.82      0.82      0.82      1212\n",
      "\n"
     ]
    },
    {
     "data": {
      "text/plain": [
       "array([[462, 116],\n",
       "       [101, 533]])"
      ]
     },
     "execution_count": 25,
     "metadata": {},
     "output_type": "execute_result"
    }
   ],
   "source": [
    "learner.validate(class_names=categories)"
   ]
  },
  {
   "cell_type": "code",
   "execution_count": 26,
   "id": "8703bb9e",
   "metadata": {
    "execution": {
     "iopub.execute_input": "2023-01-30T09:01:31.149372Z",
     "iopub.status.busy": "2023-01-30T09:01:31.148710Z",
     "iopub.status.idle": "2023-01-30T09:01:31.221871Z",
     "shell.execute_reply": "2023-01-30T09:01:31.220928Z"
    },
    "papermill": {
     "duration": 0.84717,
     "end_time": "2023-01-30T09:01:31.224089",
     "exception": false,
     "start_time": "2023-01-30T09:01:30.376919",
     "status": "completed"
    },
    "tags": []
   },
   "outputs": [],
   "source": [
    "predictor = ktrain.get_predictor(learner.model, preproc=trans)"
   ]
  },
  {
   "cell_type": "code",
   "execution_count": 27,
   "id": "3fd55441",
   "metadata": {
    "execution": {
     "iopub.execute_input": "2023-01-30T09:01:32.841269Z",
     "iopub.status.busy": "2023-01-30T09:01:32.840181Z",
     "iopub.status.idle": "2023-01-30T09:01:38.077763Z",
     "shell.execute_reply": "2023-01-30T09:01:38.076806Z"
    },
    "papermill": {
     "duration": 6.021146,
     "end_time": "2023-01-30T09:01:38.080710",
     "exception": false,
     "start_time": "2023-01-30T09:01:32.059564",
     "status": "completed"
    },
    "tags": []
   },
   "outputs": [],
   "source": [
    "y_pred_mbert_uncased = predictor.predict(x_test)\n",
    "#print(y_pred)"
   ]
  },
  {
   "cell_type": "code",
   "execution_count": 28,
   "id": "12768e63",
   "metadata": {
    "execution": {
     "iopub.execute_input": "2023-01-30T09:01:39.879878Z",
     "iopub.status.busy": "2023-01-30T09:01:39.879505Z",
     "iopub.status.idle": "2023-01-30T09:01:39.966039Z",
     "shell.execute_reply": "2023-01-30T09:01:39.964821Z"
    },
    "papermill": {
     "duration": 1.080849,
     "end_time": "2023-01-30T09:01:39.968185",
     "exception": false,
     "start_time": "2023-01-30T09:01:38.887336",
     "status": "completed"
    },
    "tags": []
   },
   "outputs": [
    {
     "name": "stdout",
     "output_type": "stream",
     "text": [
      "              precision    recall  f1-score   support\n",
      "\n",
      "    negative       0.80      0.80      0.80       554\n",
      "    positive       0.83      0.84      0.83       658\n",
      "\n",
      "    accuracy                           0.82      1212\n",
      "   macro avg       0.82      0.82      0.82      1212\n",
      "weighted avg       0.82      0.82      0.82      1212\n",
      "\n"
     ]
    }
   ],
   "source": [
    "from sklearn.metrics import classification_report\n",
    "print(classification_report(y_test,y_pred_mbert_uncased))"
   ]
  },
  {
   "cell_type": "code",
   "execution_count": 29,
   "id": "09286121",
   "metadata": {
    "execution": {
     "iopub.execute_input": "2023-01-30T09:01:41.545565Z",
     "iopub.status.busy": "2023-01-30T09:01:41.544989Z",
     "iopub.status.idle": "2023-01-30T09:01:42.073357Z",
     "shell.execute_reply": "2023-01-30T09:01:42.072166Z"
    },
    "papermill": {
     "duration": 1.288739,
     "end_time": "2023-01-30T09:01:42.075751",
     "exception": false,
     "start_time": "2023-01-30T09:01:40.787012",
     "status": "completed"
    },
    "tags": []
   },
   "outputs": [
    {
     "data": {
      "image/png": "[encoded data removed]",
      "text/plain": [
       "<Figure size 432x288 with 2 Axes>"
      ]
     },
     "metadata": {
      "needs_background": "light"
     },
     "output_type": "display_data"
    }
   ],
   "source": [
    "import seaborn as sns\n",
    "import matplotlib.pyplot as plt\n",
    "from sklearn.metrics import confusion_matrix\n",
    "cf_matrix = confusion_matrix(y_test, y_pred_mbert_uncased)\n",
    "group_counts = [\"{0:0.0f}\".format(value) for value in\n",
    "                cf_matrix.flatten()]\n",
    "\n",
    "group_percentages = [\"{0:.2%}\".format(value) for value in\n",
    "                     cf_matrix.flatten()/np.sum(cf_matrix)]\n",
    "\n",
    "labels = [f\"{v1}\\n{v2}\\n\" for v1, v2 in\n",
    "          zip(group_counts,group_percentages)]\n",
    "\n",
    "labels = np.asarray(labels).reshape(2,2)\n",
    "\n",
    "ax = sns.heatmap(cf_matrix, annot=labels, fmt='', cmap='Greys')\n",
    "\n",
    "ax.set_title('mbert_uncased Confusion Matrix for Binary class');\n",
    "ax.set_xlabel('Predicted Sentiment Category')\n",
    "ax.set_ylabel('Actual Sentiment Category ');\n",
    "\n",
    "ax.xaxis.set_ticklabels(['Postive', 'Negative'])\n",
    "ax.yaxis.set_ticklabels(['Postive', 'Negative'])\n",
    "sns.set(color_codes=True)\n",
    "sns.set(font_scale=1.3)\n",
    "plt.savefig('mbert_uncased Confusion Matrix.png', bbox_inches = \"tight\")\n",
    "plt.show()"
   ]
  },
  {
   "cell_type": "code",
   "execution_count": 30,
   "id": "176ba279",
   "metadata": {
    "execution": {
     "iopub.execute_input": "2023-01-30T09:01:44.112040Z",
     "iopub.status.busy": "2023-01-30T09:01:44.111675Z",
     "iopub.status.idle": "2023-01-30T09:01:48.694335Z",
     "shell.execute_reply": "2023-01-30T09:01:48.693108Z"
    },
    "papermill": {
     "duration": 5.714569,
     "end_time": "2023-01-30T09:01:48.696960",
     "exception": false,
     "start_time": "2023-01-30T09:01:42.982391",
     "status": "completed"
    },
    "tags": []
   },
   "outputs": [
    {
     "data": {
      "application/vnd.jupyter.widget-view+json": {
       "model_id": "41a7324c836b423596542c6c22e74b20",
       "version_major": 2,
       "version_minor": 0
      },
      "text/plain": [
       "Downloading:   0%|          | 0.00/391 [00:00<?, ?B/s]"
      ]
     },
     "metadata": {},
     "output_type": "display_data"
    },
    {
     "data": {
      "application/vnd.jupyter.widget-view+json": {
       "model_id": "2febf2e298d142f38ef6c83112558817",
       "version_major": 2,
       "version_minor": 0
      },
      "text/plain": [
       "Downloading:   0%|          | 0.00/51.6M [00:00<?, ?B/s]"
      ]
     },
     "metadata": {},
     "output_type": "display_data"
    }
   ],
   "source": [
    "model_name = 'monsoon-nlp/bangla-electra'\n",
    "trans = text.Transformer(model_name,maxlen=50,class_names=categories)"
   ]
  },
  {
   "cell_type": "code",
   "execution_count": 31,
   "id": "5093f030",
   "metadata": {
    "execution": {
     "iopub.execute_input": "2023-01-30T09:01:50.388365Z",
     "iopub.status.busy": "2023-01-30T09:01:50.387792Z",
     "iopub.status.idle": "2023-01-30T09:01:56.212001Z",
     "shell.execute_reply": "2023-01-30T09:01:56.211128Z"
    },
    "papermill": {
     "duration": 6.69932,
     "end_time": "2023-01-30T09:01:56.214031",
     "exception": false,
     "start_time": "2023-01-30T09:01:49.514711",
     "status": "completed"
    },
    "tags": []
   },
   "outputs": [
    {
     "name": "stdout",
     "output_type": "stream",
     "text": [
      "preprocessing train...\n",
      "language: bn\n",
      "train sequence lengths:\n",
      "\tmean : 17\n",
      "\t95percentile : 38\n",
      "\t99percentile : 48\n"
     ]
    },
    {
     "name": "stderr",
     "output_type": "stream",
     "text": [
      "/opt/conda/lib/python3.7/site-packages/ktrain/utils.py:746: UserWarning: class_names argument was ignored, as they were extracted from string labels in dataset\n",
      "  \"class_names argument was ignored, as they were extracted from string labels in dataset\"\n"
     ]
    },
    {
     "data": {
      "application/vnd.jupyter.widget-view+json": {
       "model_id": "1ae0ddd5b8b040a69b71b7125d355b20",
       "version_major": 2,
       "version_minor": 0
      },
      "text/plain": [
       "Downloading:   0%|          | 0.00/161 [00:00<?, ?B/s]"
      ]
     },
     "metadata": {},
     "output_type": "display_data"
    },
    {
     "data": {
      "application/vnd.jupyter.widget-view+json": {
       "model_id": "f6f1ff7b44624913913a65108a317a89",
       "version_major": 2,
       "version_minor": 0
      },
      "text/plain": [
       "Downloading:   0%|          | 0.00/481k [00:00<?, ?B/s]"
      ]
     },
     "metadata": {},
     "output_type": "display_data"
    },
    {
     "data": {
      "application/vnd.jupyter.widget-view+json": {
       "model_id": "ee0f97c01b784d5d9a15c43c02396a45",
       "version_major": 2,
       "version_minor": 0
      },
      "text/plain": [
       "Downloading:   0%|          | 0.00/112 [00:00<?, ?B/s]"
      ]
     },
     "metadata": {},
     "output_type": "display_data"
    },
    {
     "data": {
      "text/html": [
       "\n",
       "<style>\n",
       "    /* Turns off some styling */\n",
       "    progress {\n",
       "        /* gets rid of default border in Firefox and Opera. */\n",
       "        border: none;\n",
       "        /* Needs to be in here for Safari polyfill so background images work as expected. */\n",
       "        background-size: auto;\n",
       "    }\n",
       "    progress:not([value]), progress:not([value])::-webkit-progress-bar {\n",
       "        background: repeating-linear-gradient(45deg, #7e7e7e, #7e7e7e 10px, #5c5c5c 10px, #5c5c5c 20px);\n",
       "    }\n",
       "    .progress-bar-interrupted, .progress-bar-interrupted::-webkit-progress-bar {\n",
       "        background: #F44336;\n",
       "    }\n",
       "</style>\n"
      ],
      "text/plain": [
       "<IPython.core.display.HTML object>"
      ]
     },
     "metadata": {},
     "output_type": "display_data"
    },
    {
     "data": {
      "text/html": [],
      "text/plain": [
       "<IPython.core.display.HTML object>"
      ]
     },
     "metadata": {},
     "output_type": "display_data"
    },
    {
     "name": "stdout",
     "output_type": "stream",
     "text": [
      "Is Multi-Label? False\n",
      "preprocessing test...\n",
      "language: bn\n",
      "test sequence lengths:\n",
      "\tmean : 17\n",
      "\t95percentile : 38\n",
      "\t99percentile : 48\n"
     ]
    },
    {
     "data": {
      "text/html": [
       "\n",
       "<style>\n",
       "    /* Turns off some styling */\n",
       "    progress {\n",
       "        /* gets rid of default border in Firefox and Opera. */\n",
       "        border: none;\n",
       "        /* Needs to be in here for Safari polyfill so background images work as expected. */\n",
       "        background-size: auto;\n",
       "    }\n",
       "    progress:not([value]), progress:not([value])::-webkit-progress-bar {\n",
       "        background: repeating-linear-gradient(45deg, #7e7e7e, #7e7e7e 10px, #5c5c5c 10px, #5c5c5c 20px);\n",
       "    }\n",
       "    .progress-bar-interrupted, .progress-bar-interrupted::-webkit-progress-bar {\n",
       "        background: #F44336;\n",
       "    }\n",
       "</style>\n"
      ],
      "text/plain": [
       "<IPython.core.display.HTML object>"
      ]
     },
     "metadata": {},
     "output_type": "display_data"
    },
    {
     "data": {
      "text/html": [],
      "text/plain": [
       "<IPython.core.display.HTML object>"
      ]
     },
     "metadata": {},
     "output_type": "display_data"
    }
   ],
   "source": [
    "train = trans.preprocess_train(x_train,y_train)\n",
    "valid = trans.preprocess_test(x_validation,y_validation)"
   ]
  },
  {
   "cell_type": "code",
   "execution_count": 32,
   "id": "d8a7b706",
   "metadata": {
    "execution": {
     "iopub.execute_input": "2023-01-30T09:01:57.753158Z",
     "iopub.status.busy": "2023-01-30T09:01:57.752803Z",
     "iopub.status.idle": "2023-01-30T09:01:58.656547Z",
     "shell.execute_reply": "2023-01-30T09:01:58.655453Z"
    },
    "papermill": {
     "duration": 1.650279,
     "end_time": "2023-01-30T09:01:58.659185",
     "exception": false,
     "start_time": "2023-01-30T09:01:57.008906",
     "status": "completed"
    },
    "tags": []
   },
   "outputs": [],
   "source": [
    "model = trans.get_classifier()"
   ]
  },
  {
   "cell_type": "code",
   "execution_count": 33,
   "id": "dc05cb5f",
   "metadata": {
    "execution": {
     "iopub.execute_input": "2023-01-30T09:02:00.247010Z",
     "iopub.status.busy": "2023-01-30T09:02:00.245984Z",
     "iopub.status.idle": "2023-01-30T09:02:00.507824Z",
     "shell.execute_reply": "2023-01-30T09:02:00.506775Z"
    },
    "papermill": {
     "duration": 1.018001,
     "end_time": "2023-01-30T09:02:00.510470",
     "exception": false,
     "start_time": "2023-01-30T09:01:59.492469",
     "status": "completed"
    },
    "tags": []
   },
   "outputs": [],
   "source": [
    "learner = ktrain.get_learner(model, train_data=train,val_data=valid, batch_size=12)"
   ]
  },
  {
   "cell_type": "code",
   "execution_count": 34,
   "id": "37677651",
   "metadata": {
    "execution": {
     "iopub.execute_input": "2023-01-30T09:02:02.331281Z",
     "iopub.status.busy": "2023-01-30T09:02:02.330849Z",
     "iopub.status.idle": "2023-01-30T09:02:02.407747Z",
     "shell.execute_reply": "2023-01-30T09:02:02.406721Z"
    },
    "papermill": {
     "duration": 0.959836,
     "end_time": "2023-01-30T09:02:02.410153",
     "exception": false,
     "start_time": "2023-01-30T09:02:01.450317",
     "status": "completed"
    },
    "tags": []
   },
   "outputs": [],
   "source": [
    "from sklearn.utils import class_weight\n",
    "class_weight=class_weight.compute_class_weight(class_weight='balanced',classes=np.unique(y_train),y=y_train)\n",
    "weight={i:class_weight[i] for i in range(2)}"
   ]
  },
  {
   "cell_type": "code",
   "execution_count": 35,
   "id": "30b31137",
   "metadata": {
    "execution": {
     "iopub.execute_input": "2023-01-30T09:02:03.959250Z",
     "iopub.status.busy": "2023-01-30T09:02:03.958867Z",
     "iopub.status.idle": "2023-01-30T09:11:00.062381Z",
     "shell.execute_reply": "2023-01-30T09:11:00.061501Z"
    },
    "papermill": {
     "duration": 536.841369,
     "end_time": "2023-01-30T09:11:00.064530",
     "exception": false,
     "start_time": "2023-01-30T09:02:03.223161",
     "status": "completed"
    },
    "tags": []
   },
   "outputs": [
    {
     "name": "stdout",
     "output_type": "stream",
     "text": [
      "simulating training for different learning rates... this may take a few moments...\n",
      "Epoch 1/10\n",
      "807/807 [==============================] - 69s 62ms/step - loss: 0.6932 - accuracy: 0.5028\n",
      "Epoch 2/10\n",
      "807/807 [==============================] - 52s 64ms/step - loss: 0.6921 - accuracy: 0.5273\n",
      "Epoch 3/10\n",
      "807/807 [==============================] - 53s 65ms/step - loss: 0.6665 - accuracy: 0.5969\n",
      "Epoch 4/10\n",
      "807/807 [==============================] - 51s 63ms/step - loss: 0.5991 - accuracy: 0.6887\n",
      "Epoch 5/10\n",
      "807/807 [==============================] - 52s 64ms/step - loss: 0.6057 - accuracy: 0.6598\n",
      "Epoch 6/10\n",
      "807/807 [==============================] - 52s 65ms/step - loss: 0.6950 - accuracy: 0.5199\n",
      "Epoch 7/10\n",
      "807/807 [==============================] - 51s 63ms/step - loss: 0.7001 - accuracy: 0.5171\n",
      "Epoch 8/10\n",
      "807/807 [==============================] - 52s 65ms/step - loss: 0.7004 - accuracy: 0.5115\n",
      "Epoch 9/10\n",
      "807/807 [==============================] - 52s 64ms/step - loss: 0.7472 - accuracy: 0.4973\n",
      "Epoch 10/10\n",
      "807/807 [==============================] - 51s 64ms/step - loss: 0.9865 - accuracy: 0.5006\n",
      "\n",
      "\n",
      "done.\n",
      "Visually inspect loss plot and select learning rate associated with falling loss\n"
     ]
    },
    {
     "data": {
      "image/png": "[encoded data removed]",
      "text/plain": [
       "<Figure size 432x288 with 1 Axes>"
      ]
     },
     "metadata": {},
     "output_type": "display_data"
    }
   ],
   "source": [
    "learner.lr_find(show_plot = True,max_epochs=10)"
   ]
  },
  {
   "cell_type": "code",
   "execution_count": 36,
   "id": "de087237",
   "metadata": {
    "execution": {
     "iopub.execute_input": "2023-01-30T09:11:02.781926Z",
     "iopub.status.busy": "2023-01-30T09:11:02.781559Z",
     "iopub.status.idle": "2023-01-30T09:20:30.452357Z",
     "shell.execute_reply": "2023-01-30T09:20:30.451387Z"
    },
    "papermill": {
     "duration": 569.951083,
     "end_time": "2023-01-30T09:20:31.485585",
     "exception": false,
     "start_time": "2023-01-30T09:11:01.534502",
     "status": "completed"
    },
    "tags": []
   },
   "outputs": [
    {
     "name": "stdout",
     "output_type": "stream",
     "text": [
      "\n",
      "\n",
      "begin training using onecycle policy with max lr of 0.0001...\n",
      "Epoch 1/10\n",
      "808/808 [==============================] - 77s 74ms/step - loss: 0.6702 - accuracy: 0.5833 - val_loss: 0.5982 - val_accuracy: 0.6889\n",
      "Epoch 2/10\n",
      "808/808 [==============================] - 54s 66ms/step - loss: 0.5549 - accuracy: 0.7270 - val_loss: 0.5186 - val_accuracy: 0.7417\n",
      "Epoch 3/10\n",
      "808/808 [==============================] - 55s 68ms/step - loss: 0.4941 - accuracy: 0.7659 - val_loss: 0.5197 - val_accuracy: 0.7450\n",
      "Epoch 4/10\n",
      "808/808 [==============================] - 56s 69ms/step - loss: 0.4292 - accuracy: 0.8084 - val_loss: 0.4589 - val_accuracy: 0.7789\n",
      "Epoch 5/10\n",
      "808/808 [==============================] - 53s 65ms/step - loss: 0.3750 - accuracy: 0.8405 - val_loss: 0.4987 - val_accuracy: 0.7789\n",
      "Epoch 6/10\n",
      "808/808 [==============================] - 55s 68ms/step - loss: 0.3034 - accuracy: 0.8765 - val_loss: 0.4775 - val_accuracy: 0.7987\n",
      "Epoch 7/10\n",
      "808/808 [==============================] - 55s 68ms/step - loss: 0.2221 - accuracy: 0.9157 - val_loss: 0.4706 - val_accuracy: 0.8135\n",
      "Epoch 8/10\n",
      "808/808 [==============================] - 54s 67ms/step - loss: 0.1589 - accuracy: 0.9442 - val_loss: 0.5524 - val_accuracy: 0.8259\n",
      "Epoch 9/10\n",
      "808/808 [==============================] - 55s 67ms/step - loss: 0.1142 - accuracy: 0.9612 - val_loss: 0.6083 - val_accuracy: 0.8276\n",
      "Epoch 10/10\n",
      "808/808 [==============================] - 55s 68ms/step - loss: 0.0839 - accuracy: 0.9733 - val_loss: 0.6748 - val_accuracy: 0.8243\n"
     ]
    },
    {
     "data": {
      "text/plain": [
       "<keras.callbacks.History at 0x7ff1fc4a41d0>"
      ]
     },
     "execution_count": 36,
     "metadata": {},
     "output_type": "execute_result"
    }
   ],
   "source": [
    "learner.fit_onecycle(1e-4,10,class_weight=weight) "
   ]
  },
  {
   "cell_type": "code",
   "execution_count": 37,
   "id": "1e76df68",
   "metadata": {
    "execution": {
     "iopub.execute_input": "2023-01-30T09:20:35.105064Z",
     "iopub.status.busy": "2023-01-30T09:20:35.104655Z",
     "iopub.status.idle": "2023-01-30T09:20:39.409518Z",
     "shell.execute_reply": "2023-01-30T09:20:39.408587Z"
    },
    "papermill": {
     "duration": 6.05279,
     "end_time": "2023-01-30T09:20:39.411803",
     "exception": false,
     "start_time": "2023-01-30T09:20:33.359013",
     "status": "completed"
    },
    "tags": []
   },
   "outputs": [
    {
     "name": "stdout",
     "output_type": "stream",
     "text": [
      "              precision    recall  f1-score   support\n",
      "\n",
      "    positive       0.81      0.83      0.82       578\n",
      "    negative       0.84      0.82      0.83       634\n",
      "\n",
      "    accuracy                           0.82      1212\n",
      "   macro avg       0.82      0.82      0.82      1212\n",
      "weighted avg       0.82      0.82      0.82      1212\n",
      "\n"
     ]
    },
    {
     "data": {
      "text/plain": [
       "array([[477, 101],\n",
       "       [112, 522]])"
      ]
     },
     "execution_count": 37,
     "metadata": {},
     "output_type": "execute_result"
    }
   ],
   "source": [
    "learner.validate(class_names=categories)"
   ]
  },
  {
   "cell_type": "code",
   "execution_count": 38,
   "id": "4459da0c",
   "metadata": {
    "execution": {
     "iopub.execute_input": "2023-01-30T09:20:42.807430Z",
     "iopub.status.busy": "2023-01-30T09:20:42.806972Z",
     "iopub.status.idle": "2023-01-30T09:20:42.932204Z",
     "shell.execute_reply": "2023-01-30T09:20:42.931185Z"
    },
    "papermill": {
     "duration": 1.847241,
     "end_time": "2023-01-30T09:20:42.934711",
     "exception": false,
     "start_time": "2023-01-30T09:20:41.087470",
     "status": "completed"
    },
    "tags": []
   },
   "outputs": [],
   "source": [
    "predictor = ktrain.get_predictor(learner.model, preproc=trans)"
   ]
  },
  {
   "cell_type": "code",
   "execution_count": 39,
   "id": "cc37d8bb",
   "metadata": {
    "execution": {
     "iopub.execute_input": "2023-01-30T09:20:47.034932Z",
     "iopub.status.busy": "2023-01-30T09:20:47.034364Z",
     "iopub.status.idle": "2023-01-30T09:20:50.357919Z",
     "shell.execute_reply": "2023-01-30T09:20:50.356894Z"
    },
    "papermill": {
     "duration": 5.026845,
     "end_time": "2023-01-30T09:20:50.360297",
     "exception": false,
     "start_time": "2023-01-30T09:20:45.333452",
     "status": "completed"
    },
    "tags": []
   },
   "outputs": [],
   "source": [
    "y_pred_monsoon = predictor.predict(x_test)"
   ]
  },
  {
   "cell_type": "code",
   "execution_count": 40,
   "id": "00c6bbd5",
   "metadata": {
    "execution": {
     "iopub.execute_input": "2023-01-30T09:20:53.612814Z",
     "iopub.status.busy": "2023-01-30T09:20:53.612266Z",
     "iopub.status.idle": "2023-01-30T09:20:53.698332Z",
     "shell.execute_reply": "2023-01-30T09:20:53.697044Z"
    },
    "papermill": {
     "duration": 1.755448,
     "end_time": "2023-01-30T09:20:53.700439",
     "exception": false,
     "start_time": "2023-01-30T09:20:51.944991",
     "status": "completed"
    },
    "tags": []
   },
   "outputs": [
    {
     "name": "stdout",
     "output_type": "stream",
     "text": [
      "              precision    recall  f1-score   support\n",
      "\n",
      "    negative       0.81      0.80      0.80       554\n",
      "    positive       0.83      0.84      0.84       658\n",
      "\n",
      "    accuracy                           0.82      1212\n",
      "   macro avg       0.82      0.82      0.82      1212\n",
      "weighted avg       0.82      0.82      0.82      1212\n",
      "\n"
     ]
    }
   ],
   "source": [
    "from sklearn.metrics import classification_report\n",
    "print(classification_report(y_test,y_pred_monsoon))"
   ]
  },
  {
   "cell_type": "code",
   "execution_count": 41,
   "id": "7291e6bd",
   "metadata": {
    "execution": {
     "iopub.execute_input": "2023-01-30T09:20:57.308682Z",
     "iopub.status.busy": "2023-01-30T09:20:57.308307Z",
     "iopub.status.idle": "2023-01-30T09:20:57.736098Z",
     "shell.execute_reply": "2023-01-30T09:20:57.735166Z"
    },
    "papermill": {
     "duration": 2.091808,
     "end_time": "2023-01-30T09:20:57.738071",
     "exception": false,
     "start_time": "2023-01-30T09:20:55.646263",
     "status": "completed"
    },
    "tags": []
   },
   "outputs": [
    {
     "data": {
      "image/png": "[encoded data removed]",
      "text/plain": [
       "<Figure size 432x288 with 2 Axes>"
      ]
     },
     "metadata": {},
     "output_type": "display_data"
    }
   ],
   "source": [
    "import seaborn as sns\n",
    "import matplotlib.pyplot as plt\n",
    "from sklearn.metrics import confusion_matrix\n",
    "cf_matrix = confusion_matrix(y_test, y_pred_monsoon)\n",
    "group_counts = [\"{0:0.0f}\".format(value) for value in\n",
    "                cf_matrix.flatten()]\n",
    "\n",
    "group_percentages = [\"{0:.2%}\".format(value) for value in\n",
    "                     cf_matrix.flatten()/np.sum(cf_matrix)]\n",
    "\n",
    "labels = [f\"{v1}\\n{v2}\\n\" for v1, v2 in\n",
    "          zip(group_counts,group_percentages)]\n",
    "\n",
    "labels = np.asarray(labels).reshape(2,2)\n",
    "\n",
    "ax = sns.heatmap(cf_matrix, annot=labels, fmt='', cmap='Greys')\n",
    "\n",
    "ax.set_title('monsoon Confusion Matrix for Binary class');\n",
    "ax.set_xlabel('Predicted Sentiment Category')\n",
    "ax.set_ylabel('Actual Sentiment Category ');\n",
    "\n",
    "ax.xaxis.set_ticklabels(['Postive', 'Negative'])\n",
    "ax.yaxis.set_ticklabels(['Postive', 'Negative'])\n",
    "sns.set(color_codes=True)\n",
    "sns.set(font_scale=1.3)\n",
    "plt.savefig('Confusion Matrix monsoon.png', bbox_inches = \"tight\")\n",
    "plt.show()"
   ]
  },
  {
   "cell_type": "code",
   "execution_count": 42,
   "id": "e819471e",
   "metadata": {
    "execution": {
     "iopub.execute_input": "2023-01-30T09:21:01.069964Z",
     "iopub.status.busy": "2023-01-30T09:21:01.069598Z",
     "iopub.status.idle": "2023-01-30T09:22:13.280743Z",
     "shell.execute_reply": "2023-01-30T09:22:13.279765Z"
    },
    "papermill": {
     "duration": 73.805734,
     "end_time": "2023-01-30T09:22:13.283168",
     "exception": false,
     "start_time": "2023-01-30T09:20:59.477434",
     "status": "completed"
    },
    "tags": []
   },
   "outputs": [
    {
     "data": {
      "application/vnd.jupyter.widget-view+json": {
       "model_id": "370ddd4214f34f24b81e9c3c241e1151",
       "version_major": 2,
       "version_minor": 0
      },
      "text/plain": [
       "Downloading:   0%|          | 0.00/615 [00:00<?, ?B/s]"
      ]
     },
     "metadata": {},
     "output_type": "display_data"
    },
    {
     "data": {
      "application/vnd.jupyter.widget-view+json": {
       "model_id": "4fdc2160308643e2aa2a4312708016c9",
       "version_major": 2,
       "version_minor": 0
      },
      "text/plain": [
       "Downloading:   0%|          | 0.00/512 [00:00<?, ?B/s]"
      ]
     },
     "metadata": {},
     "output_type": "display_data"
    },
    {
     "data": {
      "application/vnd.jupyter.widget-view+json": {
       "model_id": "213e055eb16e4c7b9e6af69ac12b7fc1",
       "version_major": 2,
       "version_minor": 0
      },
      "text/plain": [
       "Downloading:   0%|          | 0.00/1.76G [00:00<?, ?B/s]"
      ]
     },
     "metadata": {},
     "output_type": "display_data"
    }
   ],
   "source": [
    "model_name = 'xlm-roberta-base'\n",
    "trans = text.Transformer(model_name,maxlen=50,class_names=categories)"
   ]
  },
  {
   "cell_type": "code",
   "execution_count": 43,
   "id": "87596a20",
   "metadata": {
    "execution": {
     "iopub.execute_input": "2023-01-30T09:22:16.663880Z",
     "iopub.status.busy": "2023-01-30T09:22:16.663359Z",
     "iopub.status.idle": "2023-01-30T09:22:23.735019Z",
     "shell.execute_reply": "2023-01-30T09:22:23.734170Z"
    },
    "papermill": {
     "duration": 8.803507,
     "end_time": "2023-01-30T09:22:23.737082",
     "exception": false,
     "start_time": "2023-01-30T09:22:14.933575",
     "status": "completed"
    },
    "tags": []
   },
   "outputs": [
    {
     "name": "stdout",
     "output_type": "stream",
     "text": [
      "preprocessing train...\n",
      "language: bn\n",
      "train sequence lengths:\n",
      "\tmean : 17\n",
      "\t95percentile : 38\n",
      "\t99percentile : 48\n"
     ]
    },
    {
     "name": "stderr",
     "output_type": "stream",
     "text": [
      "/opt/conda/lib/python3.7/site-packages/ktrain/utils.py:746: UserWarning: class_names argument was ignored, as they were extracted from string labels in dataset\n",
      "  \"class_names argument was ignored, as they were extracted from string labels in dataset\"\n"
     ]
    },
    {
     "data": {
      "application/vnd.jupyter.widget-view+json": {
       "model_id": "5e1707b980254c86b27d2945a293fdb9",
       "version_major": 2,
       "version_minor": 0
      },
      "text/plain": [
       "Downloading:   0%|          | 0.00/4.83M [00:00<?, ?B/s]"
      ]
     },
     "metadata": {},
     "output_type": "display_data"
    },
    {
     "data": {
      "text/html": [
       "\n",
       "<style>\n",
       "    /* Turns off some styling */\n",
       "    progress {\n",
       "        /* gets rid of default border in Firefox and Opera. */\n",
       "        border: none;\n",
       "        /* Needs to be in here for Safari polyfill so background images work as expected. */\n",
       "        background-size: auto;\n",
       "    }\n",
       "    progress:not([value]), progress:not([value])::-webkit-progress-bar {\n",
       "        background: repeating-linear-gradient(45deg, #7e7e7e, #7e7e7e 10px, #5c5c5c 10px, #5c5c5c 20px);\n",
       "    }\n",
       "    .progress-bar-interrupted, .progress-bar-interrupted::-webkit-progress-bar {\n",
       "        background: #F44336;\n",
       "    }\n",
       "</style>\n"
      ],
      "text/plain": [
       "<IPython.core.display.HTML object>"
      ]
     },
     "metadata": {},
     "output_type": "display_data"
    },
    {
     "data": {
      "text/html": [],
      "text/plain": [
       "<IPython.core.display.HTML object>"
      ]
     },
     "metadata": {},
     "output_type": "display_data"
    },
    {
     "name": "stdout",
     "output_type": "stream",
     "text": [
      "Is Multi-Label? False\n",
      "preprocessing test...\n",
      "language: bn\n",
      "test sequence lengths:\n",
      "\tmean : 17\n",
      "\t95percentile : 38\n",
      "\t99percentile : 48\n"
     ]
    },
    {
     "data": {
      "text/html": [
       "\n",
       "<style>\n",
       "    /* Turns off some styling */\n",
       "    progress {\n",
       "        /* gets rid of default border in Firefox and Opera. */\n",
       "        border: none;\n",
       "        /* Needs to be in here for Safari polyfill so background images work as expected. */\n",
       "        background-size: auto;\n",
       "    }\n",
       "    progress:not([value]), progress:not([value])::-webkit-progress-bar {\n",
       "        background: repeating-linear-gradient(45deg, #7e7e7e, #7e7e7e 10px, #5c5c5c 10px, #5c5c5c 20px);\n",
       "    }\n",
       "    .progress-bar-interrupted, .progress-bar-interrupted::-webkit-progress-bar {\n",
       "        background: #F44336;\n",
       "    }\n",
       "</style>\n"
      ],
      "text/plain": [
       "<IPython.core.display.HTML object>"
      ]
     },
     "metadata": {},
     "output_type": "display_data"
    },
    {
     "data": {
      "text/html": [],
      "text/plain": [
       "<IPython.core.display.HTML object>"
      ]
     },
     "metadata": {},
     "output_type": "display_data"
    }
   ],
   "source": [
    "train = trans.preprocess_train(x_train,y_train)\n",
    "valid = trans.preprocess_test(x_validation,y_validation)"
   ]
  },
  {
   "cell_type": "code",
   "execution_count": 44,
   "id": "0a806f4b",
   "metadata": {
    "execution": {
     "iopub.execute_input": "2023-01-30T09:22:27.049676Z",
     "iopub.status.busy": "2023-01-30T09:22:27.049312Z",
     "iopub.status.idle": "2023-01-30T09:22:29.647532Z",
     "shell.execute_reply": "2023-01-30T09:22:29.646531Z"
    },
    "papermill": {
     "duration": 4.322897,
     "end_time": "2023-01-30T09:22:29.650002",
     "exception": false,
     "start_time": "2023-01-30T09:22:25.327105",
     "status": "completed"
    },
    "tags": []
   },
   "outputs": [],
   "source": [
    "model = trans.get_classifier()"
   ]
  },
  {
   "cell_type": "code",
   "execution_count": 45,
   "id": "7462b97e",
   "metadata": {
    "execution": {
     "iopub.execute_input": "2023-01-30T09:22:32.986997Z",
     "iopub.status.busy": "2023-01-30T09:22:32.986620Z",
     "iopub.status.idle": "2023-01-30T09:22:35.647656Z",
     "shell.execute_reply": "2023-01-30T09:22:35.646090Z"
    },
    "papermill": {
     "duration": 4.301252,
     "end_time": "2023-01-30T09:22:35.651978",
     "exception": false,
     "start_time": "2023-01-30T09:22:31.350726",
     "status": "completed"
    },
    "tags": []
   },
   "outputs": [],
   "source": [
    "learner = ktrain.get_learner(model, train_data=train,val_data=valid, batch_size=12)"
   ]
  },
  {
   "cell_type": "code",
   "execution_count": 46,
   "id": "76b3c692",
   "metadata": {
    "execution": {
     "iopub.execute_input": "2023-01-30T09:22:39.928849Z",
     "iopub.status.busy": "2023-01-30T09:22:39.928115Z",
     "iopub.status.idle": "2023-01-30T09:22:40.002964Z",
     "shell.execute_reply": "2023-01-30T09:22:40.002066Z"
    },
    "papermill": {
     "duration": 2.045775,
     "end_time": "2023-01-30T09:22:40.005065",
     "exception": false,
     "start_time": "2023-01-30T09:22:37.959290",
     "status": "completed"
    },
    "tags": []
   },
   "outputs": [],
   "source": [
    "from sklearn.utils import class_weight\n",
    "class_weight=class_weight.compute_class_weight(class_weight='balanced',classes=np.unique(y_train),y=y_train)\n",
    "weight={i:class_weight[i] for i in range(2)}"
   ]
  },
  {
   "cell_type": "code",
   "execution_count": 47,
   "id": "719c196c",
   "metadata": {
    "execution": {
     "iopub.execute_input": "2023-01-30T09:22:43.371043Z",
     "iopub.status.busy": "2023-01-30T09:22:43.370678Z",
     "iopub.status.idle": "2023-01-30T09:45:35.848505Z",
     "shell.execute_reply": "2023-01-30T09:45:35.847472Z"
    },
    "papermill": {
     "duration": 1374.227117,
     "end_time": "2023-01-30T09:45:35.853076",
     "exception": false,
     "start_time": "2023-01-30T09:22:41.625959",
     "status": "completed"
    },
    "tags": []
   },
   "outputs": [
    {
     "name": "stdout",
     "output_type": "stream",
     "text": [
      "simulating training for different learning rates... this may take a few moments...\n",
      "Epoch 1/10\n",
      "807/807 [==============================] - 209s 235ms/step - loss: 0.6934 - accuracy: 0.5072\n",
      "Epoch 2/10\n",
      "807/807 [==============================] - 192s 238ms/step - loss: 0.6618 - accuracy: 0.5986\n",
      "Epoch 3/10\n",
      "807/807 [==============================] - 191s 237ms/step - loss: 0.5779 - accuracy: 0.7135\n",
      "Epoch 4/10\n",
      "807/807 [==============================] - 191s 237ms/step - loss: 0.6321 - accuracy: 0.6121\n",
      "Epoch 5/10\n",
      "807/807 [==============================] - 191s 237ms/step - loss: 0.7054 - accuracy: 0.5076\n",
      "Epoch 6/10\n",
      "807/807 [==============================] - 191s 237ms/step - loss: 0.7445 - accuracy: 0.4948\n",
      "Epoch 7/10\n",
      "807/807 [==============================] - 183s 227ms/step - loss: 2.4010 - accuracy: 0.4995\n",
      "\n",
      "\n",
      "done.\n",
      "Visually inspect loss plot and select learning rate associated with falling loss\n"
     ]
    },
    {
     "data": {
      "image/png": "[encoded data removed]",
      "text/plain": [
       "<Figure size 432x288 with 1 Axes>"
      ]
     },
     "metadata": {},
     "output_type": "display_data"
    }
   ],
   "source": [
    "learner.lr_find(show_plot = True,max_epochs=10)"
   ]
  },
  {
   "cell_type": "code",
   "execution_count": 48,
   "id": "edb28cea",
   "metadata": {
    "execution": {
     "iopub.execute_input": "2023-01-30T09:45:40.129627Z",
     "iopub.status.busy": "2023-01-30T09:45:40.129209Z",
     "iopub.status.idle": "2023-01-30T10:19:16.620132Z",
     "shell.execute_reply": "2023-01-30T10:19:16.619172Z"
    },
    "papermill": {
     "duration": 2021.21468,
     "end_time": "2023-01-30T10:19:19.079877",
     "exception": false,
     "start_time": "2023-01-30T09:45:37.865197",
     "status": "completed"
    },
    "tags": []
   },
   "outputs": [
    {
     "name": "stdout",
     "output_type": "stream",
     "text": [
      "\n",
      "\n",
      "begin training using onecycle policy with max lr of 1e-05...\n",
      "Epoch 1/10\n",
      "808/808 [==============================] - 216s 248ms/step - loss: 0.6692 - accuracy: 0.5710 - val_loss: 0.5725 - val_accuracy: 0.7211\n",
      "Epoch 2/10\n",
      "808/808 [==============================] - 196s 243ms/step - loss: 0.5700 - accuracy: 0.7206 - val_loss: 0.5304 - val_accuracy: 0.7343\n",
      "Epoch 3/10\n",
      "808/808 [==============================] - 196s 242ms/step - loss: 0.5177 - accuracy: 0.7526 - val_loss: 0.5138 - val_accuracy: 0.7583\n",
      "Epoch 4/10\n",
      "808/808 [==============================] - 195s 242ms/step - loss: 0.4798 - accuracy: 0.7808 - val_loss: 0.4661 - val_accuracy: 0.7871\n",
      "Epoch 5/10\n",
      "808/808 [==============================] - 196s 242ms/step - loss: 0.4396 - accuracy: 0.8018 - val_loss: 0.5117 - val_accuracy: 0.7888\n",
      "Epoch 6/10\n",
      "808/808 [==============================] - 196s 242ms/step - loss: 0.3999 - accuracy: 0.8239 - val_loss: 0.5017 - val_accuracy: 0.7946\n",
      "Epoch 7/10\n",
      "808/808 [==============================] - 196s 242ms/step - loss: 0.3420 - accuracy: 0.8558 - val_loss: 0.5094 - val_accuracy: 0.8036\n",
      "Epoch 8/10\n",
      "808/808 [==============================] - 196s 243ms/step - loss: 0.3012 - accuracy: 0.8754 - val_loss: 0.5070 - val_accuracy: 0.8003\n",
      "Epoch 9/10\n",
      "808/808 [==============================] - 196s 242ms/step - loss: 0.2474 - accuracy: 0.9059 - val_loss: 0.5745 - val_accuracy: 0.7970\n",
      "Epoch 10/10\n",
      "808/808 [==============================] - 197s 244ms/step - loss: 0.2136 - accuracy: 0.9162 - val_loss: 0.5861 - val_accuracy: 0.8045\n"
     ]
    },
    {
     "data": {
      "text/plain": [
       "<keras.callbacks.History at 0x7ff1effd6f90>"
      ]
     },
     "execution_count": 48,
     "metadata": {},
     "output_type": "execute_result"
    }
   ],
   "source": [
    "learner.fit_onecycle(1e-5,10,class_weight=weight) "
   ]
  },
  {
   "cell_type": "code",
   "execution_count": 49,
   "id": "8fccad70",
   "metadata": {
    "execution": {
     "iopub.execute_input": "2023-01-30T10:19:24.238346Z",
     "iopub.status.busy": "2023-01-30T10:19:24.237946Z",
     "iopub.status.idle": "2023-01-30T10:19:31.049346Z",
     "shell.execute_reply": "2023-01-30T10:19:31.047914Z"
    },
    "papermill": {
     "duration": 9.496009,
     "end_time": "2023-01-30T10:19:31.051737",
     "exception": false,
     "start_time": "2023-01-30T10:19:21.555728",
     "status": "completed"
    },
    "tags": []
   },
   "outputs": [
    {
     "name": "stdout",
     "output_type": "stream",
     "text": [
      "              precision    recall  f1-score   support\n",
      "\n",
      "    positive       0.80      0.79      0.79       578\n",
      "    negative       0.81      0.82      0.81       634\n",
      "\n",
      "    accuracy                           0.80      1212\n",
      "   macro avg       0.80      0.80      0.80      1212\n",
      "weighted avg       0.80      0.80      0.80      1212\n",
      "\n"
     ]
    },
    {
     "data": {
      "text/plain": [
       "array([[458, 120],\n",
       "       [117, 517]])"
      ]
     },
     "execution_count": 49,
     "metadata": {},
     "output_type": "execute_result"
    }
   ],
   "source": [
    "learner.validate(class_names=categories)"
   ]
  },
  {
   "cell_type": "code",
   "execution_count": 50,
   "id": "1419387f",
   "metadata": {
    "execution": {
     "iopub.execute_input": "2023-01-30T10:19:36.215343Z",
     "iopub.status.busy": "2023-01-30T10:19:36.214898Z",
     "iopub.status.idle": "2023-01-30T10:19:36.291950Z",
     "shell.execute_reply": "2023-01-30T10:19:36.291075Z"
    },
    "papermill": {
     "duration": 2.736248,
     "end_time": "2023-01-30T10:19:36.294088",
     "exception": false,
     "start_time": "2023-01-30T10:19:33.557840",
     "status": "completed"
    },
    "tags": []
   },
   "outputs": [],
   "source": [
    "predictor = ktrain.get_predictor(learner.model, preproc=trans)"
   ]
  },
  {
   "cell_type": "code",
   "execution_count": 51,
   "id": "1e514edd",
   "metadata": {
    "execution": {
     "iopub.execute_input": "2023-01-30T10:19:41.613290Z",
     "iopub.status.busy": "2023-01-30T10:19:41.612890Z",
     "iopub.status.idle": "2023-01-30T10:19:46.727471Z",
     "shell.execute_reply": "2023-01-30T10:19:46.726376Z"
    },
    "papermill": {
     "duration": 8.020898,
     "end_time": "2023-01-30T10:19:46.729849",
     "exception": false,
     "start_time": "2023-01-30T10:19:38.708951",
     "status": "completed"
    },
    "tags": []
   },
   "outputs": [],
   "source": [
    "y_pred_xlm_roberta = predictor.predict(x_test)\n",
    "#print(y_pred)"
   ]
  },
  {
   "cell_type": "code",
   "execution_count": 52,
   "id": "3451a27b",
   "metadata": {
    "execution": {
     "iopub.execute_input": "2023-01-30T10:19:51.604643Z",
     "iopub.status.busy": "2023-01-30T10:19:51.604283Z",
     "iopub.status.idle": "2023-01-30T10:19:51.692135Z",
     "shell.execute_reply": "2023-01-30T10:19:51.690995Z"
    },
    "papermill": {
     "duration": 2.546581,
     "end_time": "2023-01-30T10:19:51.694219",
     "exception": false,
     "start_time": "2023-01-30T10:19:49.147638",
     "status": "completed"
    },
    "tags": []
   },
   "outputs": [
    {
     "name": "stdout",
     "output_type": "stream",
     "text": [
      "              precision    recall  f1-score   support\n",
      "\n",
      "    negative       0.81      0.81      0.81       554\n",
      "    positive       0.84      0.84      0.84       658\n",
      "\n",
      "    accuracy                           0.83      1212\n",
      "   macro avg       0.83      0.83      0.83      1212\n",
      "weighted avg       0.83      0.83      0.83      1212\n",
      "\n"
     ]
    }
   ],
   "source": [
    "from sklearn.metrics import classification_report\n",
    "print(classification_report(y_test,y_pred_xlm_roberta))"
   ]
  },
  {
   "cell_type": "code",
   "execution_count": 53,
   "id": "697d45a0",
   "metadata": {
    "execution": {
     "iopub.execute_input": "2023-01-30T10:19:56.766170Z",
     "iopub.status.busy": "2023-01-30T10:19:56.765794Z",
     "iopub.status.idle": "2023-01-30T10:19:57.187283Z",
     "shell.execute_reply": "2023-01-30T10:19:57.186288Z"
    },
    "papermill": {
     "duration": 3.071761,
     "end_time": "2023-01-30T10:19:57.189315",
     "exception": false,
     "start_time": "2023-01-30T10:19:54.117554",
     "status": "completed"
    },
    "tags": []
   },
   "outputs": [
    {
     "data": {
      "image/png": "[encoded data removed]",
      "text/plain": [
       "<Figure size 432x288 with 2 Axes>"
      ]
     },
     "metadata": {},
     "output_type": "display_data"
    }
   ],
   "source": [
    "import seaborn as sns\n",
    "import matplotlib.pyplot as plt\n",
    "from sklearn.metrics import confusion_matrix\n",
    "cf_matrix = confusion_matrix(y_test, y_pred_xlm_roberta)\n",
    "group_counts = [\"{0:0.0f}\".format(value) for value in\n",
    "                cf_matrix.flatten()]\n",
    "\n",
    "group_percentages = [\"{0:.2%}\".format(value) for value in\n",
    "                     cf_matrix.flatten()/np.sum(cf_matrix)]\n",
    "\n",
    "labels = [f\"{v1}\\n{v2}\\n\" for v1, v2 in\n",
    "          zip(group_counts,group_percentages)]\n",
    "\n",
    "labels = np.asarray(labels).reshape(2,2)\n",
    "\n",
    "ax = sns.heatmap(cf_matrix, annot=labels, fmt='', cmap='Greys')\n",
    "\n",
    "ax.set_title('xlm-roberta Confusion Matrix for Binary class');\n",
    "ax.set_xlabel('Predicted Sentiment Category')\n",
    "ax.set_ylabel('Actual Sentiment Category ');\n",
    "\n",
    "ax.xaxis.set_ticklabels(['Postive', 'Negative'])\n",
    "ax.yaxis.set_ticklabels(['Postive', 'Negative'])\n",
    "sns.set(color_codes=True)\n",
    "sns.set(font_scale=1.3)\n",
    "plt.savefig('xlm-roberta Confusion Matrix.png', bbox_inches = \"tight\")\n",
    "plt.show()"
   ]
  },
  {
   "cell_type": "code",
   "execution_count": 54,
   "id": "6bb8c99a",
   "metadata": {
    "execution": {
     "iopub.execute_input": "2023-01-30T10:20:02.092451Z",
     "iopub.status.busy": "2023-01-30T10:20:02.092055Z",
     "iopub.status.idle": "2023-01-30T10:20:02.461606Z",
     "shell.execute_reply": "2023-01-30T10:20:02.460522Z"
    },
    "papermill": {
     "duration": 2.791261,
     "end_time": "2023-01-30T10:20:02.464101",
     "exception": false,
     "start_time": "2023-01-30T10:19:59.672840",
     "status": "completed"
    },
    "tags": []
   },
   "outputs": [
    {
     "data": {
      "text/html": [
       "<div>\n",
       "<style scoped>\n",
       "    .dataframe tbody tr th:only-of-type {\n",
       "        vertical-align: middle;\n",
       "    }\n",
       "\n",
       "    .dataframe tbody tr th {\n",
       "        vertical-align: top;\n",
       "    }\n",
       "\n",
       "    .dataframe thead th {\n",
       "        text-align: right;\n",
       "    }\n",
       "</style>\n",
       "<table border=\"1\" class=\"dataframe\">\n",
       "  <thead>\n",
       "    <tr style=\"text-align: right;\">\n",
       "      <th></th>\n",
       "      <th>mbert_uncased</th>\n",
       "      <th>monsoon</th>\n",
       "      <th>xlm_roberta</th>\n",
       "    </tr>\n",
       "  </thead>\n",
       "  <tbody>\n",
       "    <tr>\n",
       "      <th>0</th>\n",
       "      <td>negative</td>\n",
       "      <td>negative</td>\n",
       "      <td>negative</td>\n",
       "    </tr>\n",
       "    <tr>\n",
       "      <th>1</th>\n",
       "      <td>positive</td>\n",
       "      <td>positive</td>\n",
       "      <td>positive</td>\n",
       "    </tr>\n",
       "    <tr>\n",
       "      <th>2</th>\n",
       "      <td>negative</td>\n",
       "      <td>negative</td>\n",
       "      <td>negative</td>\n",
       "    </tr>\n",
       "    <tr>\n",
       "      <th>3</th>\n",
       "      <td>negative</td>\n",
       "      <td>negative</td>\n",
       "      <td>positive</td>\n",
       "    </tr>\n",
       "    <tr>\n",
       "      <th>4</th>\n",
       "      <td>negative</td>\n",
       "      <td>negative</td>\n",
       "      <td>negative</td>\n",
       "    </tr>\n",
       "  </tbody>\n",
       "</table>\n",
       "</div>"
      ],
      "text/plain": [
       "  mbert_uncased   monsoon xlm_roberta\n",
       "0      negative  negative    negative\n",
       "1      positive  positive    positive\n",
       "2      negative  negative    negative\n",
       "3      negative  negative    positive\n",
       "4      negative  negative    negative"
      ]
     },
     "execution_count": 54,
     "metadata": {},
     "output_type": "execute_result"
    }
   ],
   "source": [
    "import pandas as pd\n",
    "sub_all=pd.DataFrame({'mbert_uncased':y_pred_mbert_uncased,'monsoon':y_pred_monsoon,'xlm_roberta':y_pred_xlm_roberta})\n",
    "pred_mode=sub_all.agg('mode',axis=1)[0].values\n",
    "sub_all.head()"
   ]
  },
  {
   "cell_type": "code",
   "execution_count": 55,
   "id": "09d7c080",
   "metadata": {
    "execution": {
     "iopub.execute_input": "2023-01-30T10:20:07.594347Z",
     "iopub.status.busy": "2023-01-30T10:20:07.593932Z",
     "iopub.status.idle": "2023-01-30T10:20:07.726844Z",
     "shell.execute_reply": "2023-01-30T10:20:07.725373Z"
    },
    "papermill": {
     "duration": 2.751739,
     "end_time": "2023-01-30T10:20:07.729666",
     "exception": false,
     "start_time": "2023-01-30T10:20:04.977927",
     "status": "completed"
    },
    "tags": []
   },
   "outputs": [
    {
     "name": "stdout",
     "output_type": "stream",
     "text": [
      "              precision    recall  f1-score   support\n",
      "\n",
      "    negative       0.84      0.82      0.83       554\n",
      "    positive       0.85      0.86      0.86       658\n",
      "\n",
      "    accuracy                           0.84      1212\n",
      "   macro avg       0.84      0.84      0.84      1212\n",
      "weighted avg       0.84      0.84      0.84      1212\n",
      "\n"
     ]
    }
   ],
   "source": [
    "from sklearn.metrics import classification_report\n",
    "print(classification_report(y_test,pred_mode))"
   ]
  },
  {
   "cell_type": "code",
   "execution_count": 56,
   "id": "6640c2c4",
   "metadata": {
    "execution": {
     "iopub.execute_input": "2023-01-30T10:20:12.884217Z",
     "iopub.status.busy": "2023-01-30T10:20:12.883642Z",
     "iopub.status.idle": "2023-01-30T10:20:13.441694Z",
     "shell.execute_reply": "2023-01-30T10:20:13.440770Z"
    },
    "papermill": {
     "duration": 3.269665,
     "end_time": "2023-01-30T10:20:13.443846",
     "exception": false,
     "start_time": "2023-01-30T10:20:10.174181",
     "status": "completed"
    },
    "tags": []
   },
   "outputs": [
    {
     "data": {
      "image/png": "[encoded data removed]",
      "text/plain": [
       "<Figure size 432x288 with 2 Axes>"
      ]
     },
     "metadata": {},
     "output_type": "display_data"
    }
   ],
   "source": [
    "import seaborn as sns\n",
    "import matplotlib.pyplot as plt\n",
    "from sklearn.metrics import confusion_matrix\n",
    "cf_matrix = confusion_matrix(y_test, pred_mode)\n",
    "group_counts = [\"{0:0.0f}\".format(value) for value in\n",
    "                cf_matrix.flatten()]\n",
    "\n",
    "group_percentages = [\"{0:.2%}\".format(value) for value in\n",
    "                     cf_matrix.flatten()/np.sum(cf_matrix)]\n",
    "\n",
    "labels = [f\"{v1}\\n{v2}\\n\" for v1, v2 in\n",
    "          zip(group_counts,group_percentages)]\n",
    "\n",
    "labels = np.asarray(labels).reshape(2,2)\n",
    "\n",
    "ax = sns.heatmap(cf_matrix, annot=labels, fmt='', cmap='Greys')\n",
    "\n",
    "ax.set_title('2 Ensemble Confusion Matrix');\n",
    "ax.set_xlabel('Predicted Sentiment Category')\n",
    "ax.set_ylabel('Actual Sentiment Category ');\n",
    "\n",
    "ax.xaxis.set_ticklabels(['Postive', 'Negative'])\n",
    "ax.yaxis.set_ticklabels(['Postive', 'Negative'])\n",
    "sns.set(color_codes=True)\n",
    "sns.set(font_scale=1.3)\n",
    "plt.savefig('2 Ensemble Confusion Matrix.png', bbox_inches = \"tight\")\n",
    "plt.show()"
   ]
  },
  {
   "cell_type": "code",
   "execution_count": 57,
   "id": "533fd05a",
   "metadata": {
    "execution": {
     "iopub.execute_input": "2023-01-30T10:20:18.478890Z",
     "iopub.status.busy": "2023-01-30T10:20:18.478419Z",
     "iopub.status.idle": "2023-01-30T10:20:18.595161Z",
     "shell.execute_reply": "2023-01-30T10:20:18.594266Z"
    },
    "papermill": {
     "duration": 2.718738,
     "end_time": "2023-01-30T10:20:18.597683",
     "exception": false,
     "start_time": "2023-01-30T10:20:15.878945",
     "status": "completed"
    },
    "tags": []
   },
   "outputs": [],
   "source": [
    "df_result= sub_all\n",
    "df_result['final prediction']= pred_mode \n",
    "df_result.to_csv('2 classes Ensemble Prediction results.csv', index=True)"
   ]
  },
  {
   "cell_type": "code",
   "execution_count": 58,
   "id": "454916af",
   "metadata": {
    "execution": {
     "iopub.execute_input": "2023-01-30T10:20:23.622849Z",
     "iopub.status.busy": "2023-01-30T10:20:23.622471Z",
     "iopub.status.idle": "2023-01-30T10:20:23.704184Z",
     "shell.execute_reply": "2023-01-30T10:20:23.703272Z"
    },
    "papermill": {
     "duration": 2.522731,
     "end_time": "2023-01-30T10:20:23.706370",
     "exception": false,
     "start_time": "2023-01-30T10:20:21.183639",
     "status": "completed"
    },
    "tags": []
   },
   "outputs": [],
   "source": [
    "df_result= sub_all\n",
    "df_result['final prediction']= pred_mode\n",
    "df_result['Text']=x_test\n",
    "df_result.to_csv('2 classes Ensemble Prediction results.csv', index=True)"
   ]
  },
  {
   "cell_type": "code",
   "execution_count": null,
   "id": "a33009af",
   "metadata": {
    "papermill": {
     "duration": 2.433949,
     "end_time": "2023-01-30T10:20:28.628071",
     "exception": false,
     "start_time": "2023-01-30T10:20:26.194122",
     "status": "completed"
    },
    "tags": []
   },
   "outputs": [],
   "source": []
  }
 ],
 "metadata": {
  "kernelspec": {
   "display_name": "Python 3",
   "language": "python",
   "name": "python3"
  },
  "language_info": {
   "codemirror_mode": {
    "name": "ipython",
    "version": 3
   },
   "file_extension": ".py",
   "mimetype": "text/x-python",
   "name": "python",
   "nbconvert_exporter": "python",
   "pygments_lexer": "ipython3",
   "version": "3.7.12"
  },
  "papermill": {
   "default_parameters": {},
   "duration": 7471.896569,
   "end_time": "2023-01-30T10:20:34.362345",
   "environment_variables": {},
   "exception": null,
   "input_path": "__notebook__.ipynb",
   "output_path": "__notebook__.ipynb",
   "parameters": {},
   "start_time": "2023-01-30T08:16:02.465776",
   "version": "2.3.4"
  },
  "widgets": {
   "application/vnd.jupyter.widget-state+json": {
    "state": {
     "01dd1eb659ff46688cdcc50507084d98": {
      "model_module": "@jupyter-widgets/base",
      "model_module_version": "1.2.0",
      "model_name": "LayoutModel",
      "state": {
       "_model_module": "@jupyter-widgets/base",
       "_model_module_version": "1.2.0",
       "_model_name": "LayoutModel",
       "_view_count": null,
       "_view_module": "@jupyter-widgets/base",
       "_view_module_version": "1.2.0",
       "_view_name": "LayoutView",
       "align_content": null,
       "align_items": null,
       "align_self": null,
       "border": null,
       "bottom": null,
       "display": null,
       "flex": null,
       "flex_flow": null,
       "grid_area": null,
       "grid_auto_columns": null,
       "grid_auto_flow": null,
       "grid_auto_rows": null,
       "grid_column": null,
       "grid_gap": null,
       "grid_row": null,
       "grid_template_areas": null,
       "grid_template_columns": null,
       "grid_template_rows": null,
       "height": null,
       "justify_content": null,
       "justify_items": null,
       "left": null,
       "margin": null,
       "max_height": null,
       "max_width": null,
       "min_height": null,
       "min_width": null,
       "object_fit": null,
       "object_position": null,
       "order": null,
       "overflow": null,
       "overflow_x": null,
       "overflow_y": null,
       "padding": null,
       "right": null,
       "top": null,
       "visibility": null,
       "width": null
      }
     },
     "0778b9a39a6441ed84694a0714314f44": {
      "model_module": "@jupyter-widgets/controls",
      "model_module_version": "1.5.0",
      "model_name": "HTMLModel",
      "state": {
       "_dom_classes": [],
       "_model_module": "@jupyter-widgets/controls",
       "_model_module_version": "1.5.0",
       "_model_name": "HTMLModel",
       "_view_count": null,
       "_view_module": "@jupyter-widgets/controls",
       "_view_module_version": "1.5.0",
       "_view_name": "HTMLView",
       "description": "",
       "description_tooltip": null,
       "layout": "IPY_MODEL_cd2face394fc496fb47ef8e2d879da2a",
       "placeholder": "​",
       "style": "IPY_MODEL_1e6df611e9a340e6be05dd09ede9741f",
       "value": " 4.83M/4.83M [00:00&lt;00:00, 8.40MB/s]"
      }
     },
     "07cf295cc38d4f389a7dd735c68261b0": {
      "model_module": "@jupyter-widgets/controls",
      "model_module_version": "1.5.0",
      "model_name": "HTMLModel",
      "state": {
       "_dom_classes": [],
       "_model_module": "@jupyter-widgets/controls",
       "_model_module_version": "1.5.0",
       "_model_name": "HTMLModel",
       "_view_count": null,
       "_view_module": "@jupyter-widgets/controls",
       "_view_module_version": "1.5.0",
       "_view_name": "HTMLView",
       "description": "",
       "description_tooltip": null,
       "layout": "IPY_MODEL_4544bdd1786149e68e1631b4613c34d4",
       "placeholder": "​",
       "style": "IPY_MODEL_e407dca31299458c800a0318c508965f",
       "value": " 51.6M/51.6M [00:02&lt;00:00, 30.8MB/s]"
      }
     },
     "0803de175cb94a72991d71939a02b463": {
      "model_module": "@jupyter-widgets/controls",
      "model_module_version": "1.5.0",
      "model_name": "HBoxModel",
      "state": {
       "_dom_classes": [],
       "_model_module": "@jupyter-widgets/controls",
       "_model_module_version": "1.5.0",
       "_model_name": "HBoxModel",
       "_view_count": null,
       "_view_module": "@jupyter-widgets/controls",
       "_view_module_version": "1.5.0",
       "_view_name": "HBoxView",
       "box_style": "",
       "children": [
        "IPY_MODEL_12d67c31787a43af91da142533a7e159",
        "IPY_MODEL_923c4d67bb3c40b2b1f36bab57e325d2",
        "IPY_MODEL_72d6cf523a6b4eb3871c23ae8b1f6c2c"
       ],
       "layout": "IPY_MODEL_7f2af07d3f0a4d99a0126a1927a10b0b"
      }
     },
     "09e9f2cc0e4d4f1eb412b76c2cfde90e": {
      "model_module": "@jupyter-widgets/base",
      "model_module_version": "1.2.0",
      "model_name": "LayoutModel",
      "state": {
       "_model_module": "@jupyter-widgets/base",
       "_model_module_version": "1.2.0",
       "_model_name": "LayoutModel",
       "_view_count": null,
       "_view_module": "@jupyter-widgets/base",
       "_view_module_version": "1.2.0",
       "_view_name": "LayoutView",
       "align_content": null,
       "align_items": null,
       "align_self": null,
       "border": null,
       "bottom": null,
       "display": null,
       "flex": null,
       "flex_flow": null,
       "grid_area": null,
       "grid_auto_columns": null,
       "grid_auto_flow": null,
       "grid_auto_rows": null,
       "grid_column": null,
       "grid_gap": null,
       "grid_row": null,
       "grid_template_areas": null,
       "grid_template_columns": null,
       "grid_template_rows": null,
       "height": null,
       "justify_content": null,
       "justify_items": null,
       "left": null,
       "margin": null,
       "max_height": null,
       "max_width": null,
       "min_height": null,
       "min_width": null,
       "object_fit": null,
       "object_position": null,
       "order": null,
       "overflow": null,
       "overflow_x": null,
       "overflow_y": null,
       "padding": null,
       "right": null,
       "top": null,
       "visibility": null,
       "width": null
      }
     },
     "0e8a6ff5dda54899a42232769d5f045f": {
      "model_module": "@jupyter-widgets/controls",
      "model_module_version": "1.5.0",
      "model_name": "ProgressStyleModel",
      "state": {
       "_model_module": "@jupyter-widgets/controls",
       "_model_module_version": "1.5.0",
       "_model_name": "ProgressStyleModel",
       "_view_count": null,
       "_view_module": "@jupyter-widgets/base",
       "_view_module_version": "1.2.0",
       "_view_name": "StyleView",
       "bar_color": null,
       "description_width": ""
      }
     },
     "106b243324dc45bd8cde82ac3c09c50d": {
      "model_module": "@jupyter-widgets/controls",
      "model_module_version": "1.5.0",
      "model_name": "DescriptionStyleModel",
      "state": {
       "_model_module": "@jupyter-widgets/controls",
       "_model_module_version": "1.5.0",
       "_model_name": "DescriptionStyleModel",
       "_view_count": null,
       "_view_module": "@jupyter-widgets/base",
       "_view_module_version": "1.2.0",
       "_view_name": "StyleView",
       "description_width": ""
      }
     },
     "1075d54a8a1e465d95bdd1fd440b4d0c": {
      "model_module": "@jupyter-widgets/controls",
      "model_module_version": "1.5.0",
      "model_name": "ProgressStyleModel",
      "state": {
       "_model_module": "@jupyter-widgets/controls",
       "_model_module_version": "1.5.0",
       "_model_name": "ProgressStyleModel",
       "_view_count": null,
       "_view_module": "@jupyter-widgets/base",
       "_view_module_version": "1.2.0",
       "_view_name": "StyleView",
       "bar_color": null,
       "description_width": ""
      }
     },
     "10fd547e62834906adcd377589ad412f": {
      "model_module": "@jupyter-widgets/base",
      "model_module_version": "1.2.0",
      "model_name": "LayoutModel",
      "state": {
       "_model_module": "@jupyter-widgets/base",
       "_model_module_version": "1.2.0",
       "_model_name": "LayoutModel",
       "_view_count": null,
       "_view_module": "@jupyter-widgets/base",
       "_view_module_version": "1.2.0",
       "_view_name": "LayoutView",
       "align_content": null,
       "align_items": null,
       "align_self": null,
       "border": null,
       "bottom": null,
       "display": null,
       "flex": null,
       "flex_flow": null,
       "grid_area": null,
       "grid_auto_columns": null,
       "grid_auto_flow": null,
       "grid_auto_rows": null,
       "grid_column": null,
       "grid_gap": null,
       "grid_row": null,
       "grid_template_areas": null,
       "grid_template_columns": null,
       "grid_template_rows": null,
       "height": null,
       "justify_content": null,
       "justify_items": null,
       "left": null,
       "margin": null,
       "max_height": null,
       "max_width": null,
       "min_height": null,
       "min_width": null,
       "object_fit": null,
       "object_position": null,
       "order": null,
       "overflow": null,
       "overflow_x": null,
       "overflow_y": null,
       "padding": null,
       "right": null,
       "top": null,
       "visibility": null,
       "width": null
      }
     },
     "12d67c31787a43af91da142533a7e159": {
      "model_module": "@jupyter-widgets/controls",
      "model_module_version": "1.5.0",
      "model_name": "HTMLModel",
      "state": {
       "_dom_classes": [],
       "_model_module": "@jupyter-widgets/controls",
       "_model_module_version": "1.5.0",
       "_model_name": "HTMLModel",
       "_view_count": null,
       "_view_module": "@jupyter-widgets/controls",
       "_view_module_version": "1.5.0",
       "_view_name": "HTMLView",
       "description": "",
       "description_tooltip": null,
       "layout": "IPY_MODEL_dbba76f5fcd449f7b8ee53baf50666be",
       "placeholder": "​",
       "style": "IPY_MODEL_ef1c1e70ebb940058e4c51d721691f8b",
       "value": "Downloading: 100%"
      }
     },
     "14487592e72e4ae3984b292d08420f7b": {
      "model_module": "@jupyter-widgets/controls",
      "model_module_version": "1.5.0",
      "model_name": "HTMLModel",
      "state": {
       "_dom_classes": [],
       "_model_module": "@jupyter-widgets/controls",
       "_model_module_version": "1.5.0",
       "_model_name": "HTMLModel",
       "_view_count": null,
       "_view_module": "@jupyter-widgets/controls",
       "_view_module_version": "1.5.0",
       "_view_name": "HTMLView",
       "description": "",
       "description_tooltip": null,
       "layout": "IPY_MODEL_89d23497f1f14ec1aed6ee7d83060f37",
       "placeholder": "​",
       "style": "IPY_MODEL_406fc692040645aeb2f1cdaf376d5a52",
       "value": " 1.76G/1.76G [01:07&lt;00:00, 31.0MB/s]"
      }
     },
     "14a68033a0f14db6b905dcb7adf2e067": {
      "model_module": "@jupyter-widgets/controls",
      "model_module_version": "1.5.0",
      "model_name": "DescriptionStyleModel",
      "state": {
       "_model_module": "@jupyter-widgets/controls",
       "_model_module_version": "1.5.0",
       "_model_name": "DescriptionStyleModel",
       "_view_count": null,
       "_view_module": "@jupyter-widgets/base",
       "_view_module_version": "1.2.0",
       "_view_name": "StyleView",
       "description_width": ""
      }
     },
     "195f5420c99c480b83cabf6a4a576864": {
      "model_module": "@jupyter-widgets/controls",
      "model_module_version": "1.5.0",
      "model_name": "DescriptionStyleModel",
      "state": {
       "_model_module": "@jupyter-widgets/controls",
       "_model_module_version": "1.5.0",
       "_model_name": "DescriptionStyleModel",
       "_view_count": null,
       "_view_module": "@jupyter-widgets/base",
       "_view_module_version": "1.2.0",
       "_view_name": "StyleView",
       "description_width": ""
      }
     },
     "19e366df04db43f5a84c9794c2cdd03f": {
      "model_module": "@jupyter-widgets/base",
      "model_module_version": "1.2.0",
      "model_name": "LayoutModel",
      "state": {
       "_model_module": "@jupyter-widgets/base",
       "_model_module_version": "1.2.0",
       "_model_name": "LayoutModel",
       "_view_count": null,
       "_view_module": "@jupyter-widgets/base",
       "_view_module_version": "1.2.0",
       "_view_name": "LayoutView",
       "align_content": null,
       "align_items": null,
       "align_self": null,
       "border": null,
       "bottom": null,
       "display": null,
       "flex": null,
       "flex_flow": null,
       "grid_area": null,
       "grid_auto_columns": null,
       "grid_auto_flow": null,
       "grid_auto_rows": null,
       "grid_column": null,
       "grid_gap": null,
       "grid_row": null,
       "grid_template_areas": null,
       "grid_template_columns": null,
       "grid_template_rows": null,
       "height": null,
       "justify_content": null,
       "justify_items": null,
       "left": null,
       "margin": null,
       "max_height": null,
       "max_width": null,
       "min_height": null,
       "min_width": null,
       "object_fit": null,
       "object_position": null,
       "order": null,
       "overflow": null,
       "overflow_x": null,
       "overflow_y": null,
       "padding": null,
       "right": null,
       "top": null,
       "visibility": null,
       "width": null
      }
     },
     "1a456c0d05f04787b0e7b491b062e049": {
      "model_module": "@jupyter-widgets/controls",
      "model_module_version": "1.5.0",
      "model_name": "FloatProgressModel",
      "state": {
       "_dom_classes": [],
       "_model_module": "@jupyter-widgets/controls",
       "_model_module_version": "1.5.0",
       "_model_name": "FloatProgressModel",
       "_view_count": null,
       "_view_module": "@jupyter-widgets/controls",
       "_view_module_version": "1.5.0",
       "_view_name": "ProgressView",
       "bar_style": "success",
       "description": "",
       "description_tooltip": null,
       "layout": "IPY_MODEL_b69d933659094f5388d8c75ddd39a60b",
       "max": 161.0,
       "min": 0.0,
       "orientation": "horizontal",
       "style": "IPY_MODEL_f2c9a79ae56f4a63b28981485eaff960",
       "value": 161.0
      }
     },
     "1ae0ddd5b8b040a69b71b7125d355b20": {
      "model_module": "@jupyter-widgets/controls",
      "model_module_version": "1.5.0",
      "model_name": "HBoxModel",
      "state": {
       "_dom_classes": [],
       "_model_module": "@jupyter-widgets/controls",
       "_model_module_version": "1.5.0",
       "_model_name": "HBoxModel",
       "_view_count": null,
       "_view_module": "@jupyter-widgets/controls",
       "_view_module_version": "1.5.0",
       "_view_name": "HBoxView",
       "box_style": "",
       "children": [
        "IPY_MODEL_2d394d412fb74a0c9e18558e8ce77c23",
        "IPY_MODEL_1a456c0d05f04787b0e7b491b062e049",
        "IPY_MODEL_1c24d327afc54dae99818d7c0300b763"
       ],
       "layout": "IPY_MODEL_3e87639ae6e34bd081c68cadb09f6a48"
      }
     },
     "1c24d327afc54dae99818d7c0300b763": {
      "model_module": "@jupyter-widgets/controls",
      "model_module_version": "1.5.0",
      "model_name": "HTMLModel",
      "state": {
       "_dom_classes": [],
       "_model_module": "@jupyter-widgets/controls",
       "_model_module_version": "1.5.0",
       "_model_name": "HTMLModel",
       "_view_count": null,
       "_view_module": "@jupyter-widgets/controls",
       "_view_module_version": "1.5.0",
       "_view_name": "HTMLView",
       "description": "",
       "description_tooltip": null,
       "layout": "IPY_MODEL_457c9d9e4ade41f190375d3fbb0313b7",
       "placeholder": "​",
       "style": "IPY_MODEL_34483ad8f175457784c43a7fed9d41dd",
       "value": " 161/161 [00:00&lt;00:00, 6.24kB/s]"
      }
     },
     "1d841b5ec43e443dbaf912e7bb354e1d": {
      "model_module": "@jupyter-widgets/controls",
      "model_module_version": "1.5.0",
      "model_name": "DescriptionStyleModel",
      "state": {
       "_model_module": "@jupyter-widgets/controls",
       "_model_module_version": "1.5.0",
       "_model_name": "DescriptionStyleModel",
       "_view_count": null,
       "_view_module": "@jupyter-widgets/base",
       "_view_module_version": "1.2.0",
       "_view_name": "StyleView",
       "description_width": ""
      }
     },
     "1df0d1d0a79747b491e5710d36806c32": {
      "model_module": "@jupyter-widgets/controls",
      "model_module_version": "1.5.0",
      "model_name": "FloatProgressModel",
      "state": {
       "_dom_classes": [],
       "_model_module": "@jupyter-widgets/controls",
       "_model_module_version": "1.5.0",
       "_model_name": "FloatProgressModel",
       "_view_count": null,
       "_view_module": "@jupyter-widgets/controls",
       "_view_module_version": "1.5.0",
       "_view_name": "ProgressView",
       "bar_style": "success",
       "description": "",
       "description_tooltip": null,
       "layout": "IPY_MODEL_5d690ccb5ce047b3b440a845a5cfcdcb",
       "max": 391.0,
       "min": 0.0,
       "orientation": "horizontal",
       "style": "IPY_MODEL_9ac59fb60ee54b0cad20567f6fb33cb4",
       "value": 391.0
      }
     },
     "1e6df611e9a340e6be05dd09ede9741f": {
      "model_module": "@jupyter-widgets/controls",
      "model_module_version": "1.5.0",
      "model_name": "DescriptionStyleModel",
      "state": {
       "_model_module": "@jupyter-widgets/controls",
       "_model_module_version": "1.5.0",
       "_model_name": "DescriptionStyleModel",
       "_view_count": null,
       "_view_module": "@jupyter-widgets/base",
       "_view_module_version": "1.2.0",
       "_view_name": "StyleView",
       "description_width": ""
      }
     },
     "1f1d0466f8b8412d9f8b1696ccf21863": {
      "model_module": "@jupyter-widgets/base",
      "model_module_version": "1.2.0",
      "model_name": "LayoutModel",
      "state": {
       "_model_module": "@jupyter-widgets/base",
       "_model_module_version": "1.2.0",
       "_model_name": "LayoutModel",
       "_view_count": null,
       "_view_module": "@jupyter-widgets/base",
       "_view_module_version": "1.2.0",
       "_view_name": "LayoutView",
       "align_content": null,
       "align_items": null,
       "align_self": null,
       "border": null,
       "bottom": null,
       "display": null,
       "flex": null,
       "flex_flow": null,
       "grid_area": null,
       "grid_auto_columns": null,
       "grid_auto_flow": null,
       "grid_auto_rows": null,
       "grid_column": null,
       "grid_gap": null,
       "grid_row": null,
       "grid_template_areas": null,
       "grid_template_columns": null,
       "grid_template_rows": null,
       "height": null,
       "justify_content": null,
       "justify_items": null,
       "left": null,
       "margin": null,
       "max_height": null,
       "max_width": null,
       "min_height": null,
       "min_width": null,
       "object_fit": null,
       "object_position": null,
       "order": null,
       "overflow": null,
       "overflow_x": null,
       "overflow_y": null,
       "padding": null,
       "right": null,
       "top": null,
       "visibility": null,
       "width": null
      }
     },
     "208212d944a442ad959d65fb16b1afe5": {
      "model_module": "@jupyter-widgets/controls",
      "model_module_version": "1.5.0",
      "model_name": "FloatProgressModel",
      "state": {
       "_dom_classes": [],
       "_model_module": "@jupyter-widgets/controls",
       "_model_module_version": "1.5.0",
       "_model_name": "FloatProgressModel",
       "_view_count": null,
       "_view_module": "@jupyter-widgets/controls",
       "_view_module_version": "1.5.0",
       "_view_name": "ProgressView",
       "bar_style": "success",
       "description": "",
       "description_tooltip": null,
       "layout": "IPY_MODEL_fabfce33ba854d9493855fc661c0d98c",
       "max": 999358484.0,
       "min": 0.0,
       "orientation": "horizontal",
       "style": "IPY_MODEL_ff49d8b4bb2e4bec97228938cf78a866",
       "value": 999358484.0
      }
     },
     "213e055eb16e4c7b9e6af69ac12b7fc1": {
      "model_module": "@jupyter-widgets/controls",
      "model_module_version": "1.5.0",
      "model_name": "HBoxModel",
      "state": {
       "_dom_classes": [],
       "_model_module": "@jupyter-widgets/controls",
       "_model_module_version": "1.5.0",
       "_model_name": "HBoxModel",
       "_view_count": null,
       "_view_module": "@jupyter-widgets/controls",
       "_view_module_version": "1.5.0",
       "_view_name": "HBoxView",
       "box_style": "",
       "children": [
        "IPY_MODEL_4faf65c47eb0405090188a9cc5a4b5a7",
        "IPY_MODEL_89d87ebf11af4e4f8d1db6fa249e50c4",
        "IPY_MODEL_14487592e72e4ae3984b292d08420f7b"
       ],
       "layout": "IPY_MODEL_f566932f35954d03b18dd78966788a92"
      }
     },
     "270c34a522a346759e366796b21b060a": {
      "model_module": "@jupyter-widgets/base",
      "model_module_version": "1.2.0",
      "model_name": "LayoutModel",
      "state": {
       "_model_module": "@jupyter-widgets/base",
       "_model_module_version": "1.2.0",
       "_model_name": "LayoutModel",
       "_view_count": null,
       "_view_module": "@jupyter-widgets/base",
       "_view_module_version": "1.2.0",
       "_view_name": "LayoutView",
       "align_content": null,
       "align_items": null,
       "align_self": null,
       "border": null,
       "bottom": null,
       "display": null,
       "flex": null,
       "flex_flow": null,
       "grid_area": null,
       "grid_auto_columns": null,
       "grid_auto_flow": null,
       "grid_auto_rows": null,
       "grid_column": null,
       "grid_gap": null,
       "grid_row": null,
       "grid_template_areas": null,
       "grid_template_columns": null,
       "grid_template_rows": null,
       "height": null,
       "justify_content": null,
       "justify_items": null,
       "left": null,
       "margin": null,
       "max_height": null,
       "max_width": null,
       "min_height": null,
       "min_width": null,
       "object_fit": null,
       "object_position": null,
       "order": null,
       "overflow": null,
       "overflow_x": null,
       "overflow_y": null,
       "padding": null,
       "right": null,
       "top": null,
       "visibility": null,
       "width": null
      }
     },
     "2d394d412fb74a0c9e18558e8ce77c23": {
      "model_module": "@jupyter-widgets/controls",
      "model_module_version": "1.5.0",
      "model_name": "HTMLModel",
      "state": {
       "_dom_classes": [],
       "_model_module": "@jupyter-widgets/controls",
       "_model_module_version": "1.5.0",
       "_model_name": "HTMLModel",
       "_view_count": null,
       "_view_module": "@jupyter-widgets/controls",
       "_view_module_version": "1.5.0",
       "_view_name": "HTMLView",
       "description": "",
       "description_tooltip": null,
       "layout": "IPY_MODEL_63ef234296ec4c2c9171c10bf1c6f61e",
       "placeholder": "​",
       "style": "IPY_MODEL_14a68033a0f14db6b905dcb7adf2e067",
       "value": "Downloading: 100%"
      }
     },
     "2febf2e298d142f38ef6c83112558817": {
      "model_module": "@jupyter-widgets/controls",
      "model_module_version": "1.5.0",
      "model_name": "HBoxModel",
      "state": {
       "_dom_classes": [],
       "_model_module": "@jupyter-widgets/controls",
       "_model_module_version": "1.5.0",
       "_model_name": "HBoxModel",
       "_view_count": null,
       "_view_module": "@jupyter-widgets/controls",
       "_view_module_version": "1.5.0",
       "_view_name": "HBoxView",
       "box_style": "",
       "children": [
        "IPY_MODEL_c02c358d341643a7b062ef8bf75cbb37",
        "IPY_MODEL_eb85fd5db67d4c3f8d9302a782130dd2",
        "IPY_MODEL_07cf295cc38d4f389a7dd735c68261b0"
       ],
       "layout": "IPY_MODEL_8edd5e79db014bf09d2c0e0494abdd93"
      }
     },
     "3089151144934fa88218613b2f1612db": {
      "model_module": "@jupyter-widgets/base",
      "model_module_version": "1.2.0",
      "model_name": "LayoutModel",
      "state": {
       "_model_module": "@jupyter-widgets/base",
       "_model_module_version": "1.2.0",
       "_model_name": "LayoutModel",
       "_view_count": null,
       "_view_module": "@jupyter-widgets/base",
       "_view_module_version": "1.2.0",
       "_view_name": "LayoutView",
       "align_content": null,
       "align_items": null,
       "align_self": null,
       "border": null,
       "bottom": null,
       "display": null,
       "flex": null,
       "flex_flow": null,
       "grid_area": null,
       "grid_auto_columns": null,
       "grid_auto_flow": null,
       "grid_auto_rows": null,
       "grid_column": null,
       "grid_gap": null,
       "grid_row": null,
       "grid_template_areas": null,
       "grid_template_columns": null,
       "grid_template_rows": null,
       "height": null,
       "justify_content": null,
       "justify_items": null,
       "left": null,
       "margin": null,
       "max_height": null,
       "max_width": null,
       "min_height": null,
       "min_width": null,
       "object_fit": null,
       "object_position": null,
       "order": null,
       "overflow": null,
       "overflow_x": null,
       "overflow_y": null,
       "padding": null,
       "right": null,
       "top": null,
       "visibility": null,
       "width": null
      }
     },
     "33471658d06d49b3bbf36baf81107c5d": {
      "model_module": "@jupyter-widgets/controls",
      "model_module_version": "1.5.0",
      "model_name": "FloatProgressModel",
      "state": {
       "_dom_classes": [],
       "_model_module": "@jupyter-widgets/controls",
       "_model_module_version": "1.5.0",
       "_model_name": "FloatProgressModel",
       "_view_count": null,
       "_view_module": "@jupyter-widgets/controls",
       "_view_module_version": "1.5.0",
       "_view_name": "ProgressView",
       "bar_style": "success",
       "description": "",
       "description_tooltip": null,
       "layout": "IPY_MODEL_45cf7b94253e4dab8537c4f092fab37c",
       "max": 512.0,
       "min": 0.0,
       "orientation": "horizontal",
       "style": "IPY_MODEL_9117937a14d34da3b366a33071458a3a",
       "value": 512.0
      }
     },
     "34483ad8f175457784c43a7fed9d41dd": {
      "model_module": "@jupyter-widgets/controls",
      "model_module_version": "1.5.0",
      "model_name": "DescriptionStyleModel",
      "state": {
       "_model_module": "@jupyter-widgets/controls",
       "_model_module_version": "1.5.0",
       "_model_name": "DescriptionStyleModel",
       "_view_count": null,
       "_view_module": "@jupyter-widgets/base",
       "_view_module_version": "1.2.0",
       "_view_name": "StyleView",
       "description_width": ""
      }
     },
     "370ddd4214f34f24b81e9c3c241e1151": {
      "model_module": "@jupyter-widgets/controls",
      "model_module_version": "1.5.0",
      "model_name": "HBoxModel",
      "state": {
       "_dom_classes": [],
       "_model_module": "@jupyter-widgets/controls",
       "_model_module_version": "1.5.0",
       "_model_name": "HBoxModel",
       "_view_count": null,
       "_view_module": "@jupyter-widgets/controls",
       "_view_module_version": "1.5.0",
       "_view_name": "HBoxView",
       "box_style": "",
       "children": [
        "IPY_MODEL_476afdcb53e24996a211315f1885f70d",
        "IPY_MODEL_ca04ccff382a4b0daf27c9f5427c2e64",
        "IPY_MODEL_5d730f823dc047db9c65056c89f1e3fc"
       ],
       "layout": "IPY_MODEL_a46c0c6f73334eb5bc4fd03135590cd2"
      }
     },
     "37661960eb2240d48617d9874d46b4b5": {
      "model_module": "@jupyter-widgets/base",
      "model_module_version": "1.2.0",
      "model_name": "LayoutModel",
      "state": {
       "_model_module": "@jupyter-widgets/base",
       "_model_module_version": "1.2.0",
       "_model_name": "LayoutModel",
       "_view_count": null,
       "_view_module": "@jupyter-widgets/base",
       "_view_module_version": "1.2.0",
       "_view_name": "LayoutView",
       "align_content": null,
       "align_items": null,
       "align_self": null,
       "border": null,
       "bottom": null,
       "display": null,
       "flex": null,
       "flex_flow": null,
       "grid_area": null,
       "grid_auto_columns": null,
       "grid_auto_flow": null,
       "grid_auto_rows": null,
       "grid_column": null,
       "grid_gap": null,
       "grid_row": null,
       "grid_template_areas": null,
       "grid_template_columns": null,
       "grid_template_rows": null,
       "height": null,
       "justify_content": null,
       "justify_items": null,
       "left": null,
       "margin": null,
       "max_height": null,
       "max_width": null,
       "min_height": null,
       "min_width": null,
       "object_fit": null,
       "object_position": null,
       "order": null,
       "overflow": null,
       "overflow_x": null,
       "overflow_y": null,
       "padding": null,
       "right": null,
       "top": null,
       "visibility": null,
       "width": null
      }
     },
     "3bd88372142b410eb1851059637d6f41": {
      "model_module": "@jupyter-widgets/controls",
      "model_module_version": "1.5.0",
      "model_name": "ProgressStyleModel",
      "state": {
       "_model_module": "@jupyter-widgets/controls",
       "_model_module_version": "1.5.0",
       "_model_name": "ProgressStyleModel",
       "_view_count": null,
       "_view_module": "@jupyter-widgets/base",
       "_view_module_version": "1.2.0",
       "_view_name": "StyleView",
       "bar_color": null,
       "description_width": ""
      }
     },
     "3e13dc6333ea44cb818cb82215070b38": {
      "model_module": "@jupyter-widgets/base",
      "model_module_version": "1.2.0",
      "model_name": "LayoutModel",
      "state": {
       "_model_module": "@jupyter-widgets/base",
       "_model_module_version": "1.2.0",
       "_model_name": "LayoutModel",
       "_view_count": null,
       "_view_module": "@jupyter-widgets/base",
       "_view_module_version": "1.2.0",
       "_view_name": "LayoutView",
       "align_content": null,
       "align_items": null,
       "align_self": null,
       "border": null,
       "bottom": null,
       "display": null,
       "flex": null,
       "flex_flow": null,
       "grid_area": null,
       "grid_auto_columns": null,
       "grid_auto_flow": null,
       "grid_auto_rows": null,
       "grid_column": null,
       "grid_gap": null,
       "grid_row": null,
       "grid_template_areas": null,
       "grid_template_columns": null,
       "grid_template_rows": null,
       "height": null,
       "justify_content": null,
       "justify_items": null,
       "left": null,
       "margin": null,
       "max_height": null,
       "max_width": null,
       "min_height": null,
       "min_width": null,
       "object_fit": null,
       "object_position": null,
       "order": null,
       "overflow": null,
       "overflow_x": null,
       "overflow_y": null,
       "padding": null,
       "right": null,
       "top": null,
       "visibility": null,
       "width": null
      }
     },
     "3e87639ae6e34bd081c68cadb09f6a48": {
      "model_module": "@jupyter-widgets/base",
      "model_module_version": "1.2.0",
      "model_name": "LayoutModel",
      "state": {
       "_model_module": "@jupyter-widgets/base",
       "_model_module_version": "1.2.0",
       "_model_name": "LayoutModel",
       "_view_count": null,
       "_view_module": "@jupyter-widgets/base",
       "_view_module_version": "1.2.0",
       "_view_name": "LayoutView",
       "align_content": null,
       "align_items": null,
       "align_self": null,
       "border": null,
       "bottom": null,
       "display": null,
       "flex": null,
       "flex_flow": null,
       "grid_area": null,
       "grid_auto_columns": null,
       "grid_auto_flow": null,
       "grid_auto_rows": null,
       "grid_column": null,
       "grid_gap": null,
       "grid_row": null,
       "grid_template_areas": null,
       "grid_template_columns": null,
       "grid_template_rows": null,
       "height": null,
       "justify_content": null,
       "justify_items": null,
       "left": null,
       "margin": null,
       "max_height": null,
       "max_width": null,
       "min_height": null,
       "min_width": null,
       "object_fit": null,
       "object_position": null,
       "order": null,
       "overflow": null,
       "overflow_x": null,
       "overflow_y": null,
       "padding": null,
       "right": null,
       "top": null,
       "visibility": null,
       "width": null
      }
     },
     "406fc692040645aeb2f1cdaf376d5a52": {
      "model_module": "@jupyter-widgets/controls",
      "model_module_version": "1.5.0",
      "model_name": "DescriptionStyleModel",
      "state": {
       "_model_module": "@jupyter-widgets/controls",
       "_model_module_version": "1.5.0",
       "_model_name": "DescriptionStyleModel",
       "_view_count": null,
       "_view_module": "@jupyter-widgets/base",
       "_view_module_version": "1.2.0",
       "_view_name": "StyleView",
       "description_width": ""
      }
     },
     "407544d671864232aabf437beed5de68": {
      "model_module": "@jupyter-widgets/base",
      "model_module_version": "1.2.0",
      "model_name": "LayoutModel",
      "state": {
       "_model_module": "@jupyter-widgets/base",
       "_model_module_version": "1.2.0",
       "_model_name": "LayoutModel",
       "_view_count": null,
       "_view_module": "@jupyter-widgets/base",
       "_view_module_version": "1.2.0",
       "_view_name": "LayoutView",
       "align_content": null,
       "align_items": null,
       "align_self": null,
       "border": null,
       "bottom": null,
       "display": null,
       "flex": null,
       "flex_flow": null,
       "grid_area": null,
       "grid_auto_columns": null,
       "grid_auto_flow": null,
       "grid_auto_rows": null,
       "grid_column": null,
       "grid_gap": null,
       "grid_row": null,
       "grid_template_areas": null,
       "grid_template_columns": null,
       "grid_template_rows": null,
       "height": null,
       "justify_content": null,
       "justify_items": null,
       "left": null,
       "margin": null,
       "max_height": null,
       "max_width": null,
       "min_height": null,
       "min_width": null,
       "object_fit": null,
       "object_position": null,
       "order": null,
       "overflow": null,
       "overflow_x": null,
       "overflow_y": null,
       "padding": null,
       "right": null,
       "top": null,
       "visibility": null,
       "width": null
      }
     },
     "41a7324c836b423596542c6c22e74b20": {
      "model_module": "@jupyter-widgets/controls",
      "model_module_version": "1.5.0",
      "model_name": "HBoxModel",
      "state": {
       "_dom_classes": [],
       "_model_module": "@jupyter-widgets/controls",
       "_model_module_version": "1.5.0",
       "_model_name": "HBoxModel",
       "_view_count": null,
       "_view_module": "@jupyter-widgets/controls",
       "_view_module_version": "1.5.0",
       "_view_name": "HBoxView",
       "box_style": "",
       "children": [
        "IPY_MODEL_c4373df1c24b43dcaea6fb9a6831d0e5",
        "IPY_MODEL_1df0d1d0a79747b491e5710d36806c32",
        "IPY_MODEL_cdbe21ea56f0435da10ee531ee82e516"
       ],
       "layout": "IPY_MODEL_dc185337a9ad49dfb7db5c85fdebbdbc"
      }
     },
     "4400d2b38d9a4e7ea140c7c19d9448ca": {
      "model_module": "@jupyter-widgets/controls",
      "model_module_version": "1.5.0",
      "model_name": "DescriptionStyleModel",
      "state": {
       "_model_module": "@jupyter-widgets/controls",
       "_model_module_version": "1.5.0",
       "_model_name": "DescriptionStyleModel",
       "_view_count": null,
       "_view_module": "@jupyter-widgets/base",
       "_view_module_version": "1.2.0",
       "_view_name": "StyleView",
       "description_width": ""
      }
     },
     "4544bdd1786149e68e1631b4613c34d4": {
      "model_module": "@jupyter-widgets/base",
      "model_module_version": "1.2.0",
      "model_name": "LayoutModel",
      "state": {
       "_model_module": "@jupyter-widgets/base",
       "_model_module_version": "1.2.0",
       "_model_name": "LayoutModel",
       "_view_count": null,
       "_view_module": "@jupyter-widgets/base",
       "_view_module_version": "1.2.0",
       "_view_name": "LayoutView",
       "align_content": null,
       "align_items": null,
       "align_self": null,
       "border": null,
       "bottom": null,
       "display": null,
       "flex": null,
       "flex_flow": null,
       "grid_area": null,
       "grid_auto_columns": null,
       "grid_auto_flow": null,
       "grid_auto_rows": null,
       "grid_column": null,
       "grid_gap": null,
       "grid_row": null,
       "grid_template_areas": null,
       "grid_template_columns": null,
       "grid_template_rows": null,
       "height": null,
       "justify_content": null,
       "justify_items": null,
       "left": null,
       "margin": null,
       "max_height": null,
       "max_width": null,
       "min_height": null,
       "min_width": null,
       "object_fit": null,
       "object_position": null,
       "order": null,
       "overflow": null,
       "overflow_x": null,
       "overflow_y": null,
       "padding": null,
       "right": null,
       "top": null,
       "visibility": null,
       "width": null
      }
     },
     "457c9d9e4ade41f190375d3fbb0313b7": {
      "model_module": "@jupyter-widgets/base",
      "model_module_version": "1.2.0",
      "model_name": "LayoutModel",
      "state": {
       "_model_module": "@jupyter-widgets/base",
       "_model_module_version": "1.2.0",
       "_model_name": "LayoutModel",
       "_view_count": null,
       "_view_module": "@jupyter-widgets/base",
       "_view_module_version": "1.2.0",
       "_view_name": "LayoutView",
       "align_content": null,
       "align_items": null,
       "align_self": null,
       "border": null,
       "bottom": null,
       "display": null,
       "flex": null,
       "flex_flow": null,
       "grid_area": null,
       "grid_auto_columns": null,
       "grid_auto_flow": null,
       "grid_auto_rows": null,
       "grid_column": null,
       "grid_gap": null,
       "grid_row": null,
       "grid_template_areas": null,
       "grid_template_columns": null,
       "grid_template_rows": null,
       "height": null,
       "justify_content": null,
       "justify_items": null,
       "left": null,
       "margin": null,
       "max_height": null,
       "max_width": null,
       "min_height": null,
       "min_width": null,
       "object_fit": null,
       "object_position": null,
       "order": null,
       "overflow": null,
       "overflow_x": null,
       "overflow_y": null,
       "padding": null,
       "right": null,
       "top": null,
       "visibility": null,
       "width": null
      }
     },
     "45cf7b94253e4dab8537c4f092fab37c": {
      "model_module": "@jupyter-widgets/base",
      "model_module_version": "1.2.0",
      "model_name": "LayoutModel",
      "state": {
       "_model_module": "@jupyter-widgets/base",
       "_model_module_version": "1.2.0",
       "_model_name": "LayoutModel",
       "_view_count": null,
       "_view_module": "@jupyter-widgets/base",
       "_view_module_version": "1.2.0",
       "_view_name": "LayoutView",
       "align_content": null,
       "align_items": null,
       "align_self": null,
       "border": null,
       "bottom": null,
       "display": null,
       "flex": null,
       "flex_flow": null,
       "grid_area": null,
       "grid_auto_columns": null,
       "grid_auto_flow": null,
       "grid_auto_rows": null,
       "grid_column": null,
       "grid_gap": null,
       "grid_row": null,
       "grid_template_areas": null,
       "grid_template_columns": null,
       "grid_template_rows": null,
       "height": null,
       "justify_content": null,
       "justify_items": null,
       "left": null,
       "margin": null,
       "max_height": null,
       "max_width": null,
       "min_height": null,
       "min_width": null,
       "object_fit": null,
       "object_position": null,
       "order": null,
       "overflow": null,
       "overflow_x": null,
       "overflow_y": null,
       "padding": null,
       "right": null,
       "top": null,
       "visibility": null,
       "width": null
      }
     },
     "460c3a4926b742ff8c5ae028b50ecaaa": {
      "model_module": "@jupyter-widgets/controls",
      "model_module_version": "1.5.0",
      "model_name": "HTMLModel",
      "state": {
       "_dom_classes": [],
       "_model_module": "@jupyter-widgets/controls",
       "_model_module_version": "1.5.0",
       "_model_name": "HTMLModel",
       "_view_count": null,
       "_view_module": "@jupyter-widgets/controls",
       "_view_module_version": "1.5.0",
       "_view_name": "HTMLView",
       "description": "",
       "description_tooltip": null,
       "layout": "IPY_MODEL_611d7f45ae5443eeb60b62c9beab98a3",
       "placeholder": "​",
       "style": "IPY_MODEL_8b4d0c1728f845baadd2760484f6f4f9",
       "value": " 112/112 [00:00&lt;00:00, 4.33kB/s]"
      }
     },
     "464315e052834c2b8c526d8f9acce453": {
      "model_module": "@jupyter-widgets/controls",
      "model_module_version": "1.5.0",
      "model_name": "HTMLModel",
      "state": {
       "_dom_classes": [],
       "_model_module": "@jupyter-widgets/controls",
       "_model_module_version": "1.5.0",
       "_model_name": "HTMLModel",
       "_view_count": null,
       "_view_module": "@jupyter-widgets/controls",
       "_view_module_version": "1.5.0",
       "_view_name": "HTMLView",
       "description": "",
       "description_tooltip": null,
       "layout": "IPY_MODEL_b38d35b27f0c49208fd8709d09c68752",
       "placeholder": "​",
       "style": "IPY_MODEL_1d841b5ec43e443dbaf912e7bb354e1d",
       "value": " 481k/481k [00:00&lt;00:00, 1.57MB/s]"
      }
     },
     "476afdcb53e24996a211315f1885f70d": {
      "model_module": "@jupyter-widgets/controls",
      "model_module_version": "1.5.0",
      "model_name": "HTMLModel",
      "state": {
       "_dom_classes": [],
       "_model_module": "@jupyter-widgets/controls",
       "_model_module_version": "1.5.0",
       "_model_name": "HTMLModel",
       "_view_count": null,
       "_view_module": "@jupyter-widgets/controls",
       "_view_module_version": "1.5.0",
       "_view_name": "HTMLView",
       "description": "",
       "description_tooltip": null,
       "layout": "IPY_MODEL_6e02d292cdd049c6934c633310c3d4aa",
       "placeholder": "​",
       "style": "IPY_MODEL_6c62a5665cda4f5498b88026ec2cdd5c",
       "value": "Downloading: 100%"
      }
     },
     "49277a6264f04df182d8cffa9141196a": {
      "model_module": "@jupyter-widgets/controls",
      "model_module_version": "1.5.0",
      "model_name": "DescriptionStyleModel",
      "state": {
       "_model_module": "@jupyter-widgets/controls",
       "_model_module_version": "1.5.0",
       "_model_name": "DescriptionStyleModel",
       "_view_count": null,
       "_view_module": "@jupyter-widgets/base",
       "_view_module_version": "1.2.0",
       "_view_name": "StyleView",
       "description_width": ""
      }
     },
     "4b1c3841ed0f4582989ccb73b2add2cd": {
      "model_module": "@jupyter-widgets/controls",
      "model_module_version": "1.5.0",
      "model_name": "DescriptionStyleModel",
      "state": {
       "_model_module": "@jupyter-widgets/controls",
       "_model_module_version": "1.5.0",
       "_model_name": "DescriptionStyleModel",
       "_view_count": null,
       "_view_module": "@jupyter-widgets/base",
       "_view_module_version": "1.2.0",
       "_view_name": "StyleView",
       "description_width": ""
      }
     },
     "4c58e4e3516a487490b8a92f4fb645e2": {
      "model_module": "@jupyter-widgets/controls",
      "model_module_version": "1.5.0",
      "model_name": "HBoxModel",
      "state": {
       "_dom_classes": [],
       "_model_module": "@jupyter-widgets/controls",
       "_model_module_version": "1.5.0",
       "_model_name": "HBoxModel",
       "_view_count": null,
       "_view_module": "@jupyter-widgets/controls",
       "_view_module_version": "1.5.0",
       "_view_name": "HBoxView",
       "box_style": "",
       "children": [
        "IPY_MODEL_8d3921ae24b3439eacf9cca3ace70928",
        "IPY_MODEL_9cadb55c1f3d4f1ab16b9aff68b92174",
        "IPY_MODEL_d4eb752dbaf449c89d804f7f70a2c380"
       ],
       "layout": "IPY_MODEL_19e366df04db43f5a84c9794c2cdd03f"
      }
     },
     "4d9a94a0630b4a9fa1be73c77db5af39": {
      "model_module": "@jupyter-widgets/controls",
      "model_module_version": "1.5.0",
      "model_name": "FloatProgressModel",
      "state": {
       "_dom_classes": [],
       "_model_module": "@jupyter-widgets/controls",
       "_model_module_version": "1.5.0",
       "_model_name": "FloatProgressModel",
       "_view_count": null,
       "_view_module": "@jupyter-widgets/controls",
       "_view_module_version": "1.5.0",
       "_view_name": "ProgressView",
       "bar_style": "success",
       "description": "",
       "description_tooltip": null,
       "layout": "IPY_MODEL_c78ae214ed4b47eea209e70b12601d65",
       "max": 28.0,
       "min": 0.0,
       "orientation": "horizontal",
       "style": "IPY_MODEL_3bd88372142b410eb1851059637d6f41",
       "value": 28.0
      }
     },
     "4f1dd5cba8a443f6816a738c11758e95": {
      "model_module": "@jupyter-widgets/controls",
      "model_module_version": "1.5.0",
      "model_name": "FloatProgressModel",
      "state": {
       "_dom_classes": [],
       "_model_module": "@jupyter-widgets/controls",
       "_model_module_version": "1.5.0",
       "_model_name": "FloatProgressModel",
       "_view_count": null,
       "_view_module": "@jupyter-widgets/controls",
       "_view_module_version": "1.5.0",
       "_view_name": "ProgressView",
       "bar_style": "success",
       "description": "",
       "description_tooltip": null,
       "layout": "IPY_MODEL_407544d671864232aabf437beed5de68",
       "max": 492142.0,
       "min": 0.0,
       "orientation": "horizontal",
       "style": "IPY_MODEL_fe93e7375dba42cb890f91793f688c3f",
       "value": 492142.0
      }
     },
     "4faf65c47eb0405090188a9cc5a4b5a7": {
      "model_module": "@jupyter-widgets/controls",
      "model_module_version": "1.5.0",
      "model_name": "HTMLModel",
      "state": {
       "_dom_classes": [],
       "_model_module": "@jupyter-widgets/controls",
       "_model_module_version": "1.5.0",
       "_model_name": "HTMLModel",
       "_view_count": null,
       "_view_module": "@jupyter-widgets/controls",
       "_view_module_version": "1.5.0",
       "_view_name": "HTMLView",
       "description": "",
       "description_tooltip": null,
       "layout": "IPY_MODEL_5346958ac5d044d9a1533a14c4c1f97a",
       "placeholder": "​",
       "style": "IPY_MODEL_195f5420c99c480b83cabf6a4a576864",
       "value": "Downloading: 100%"
      }
     },
     "4fdc2160308643e2aa2a4312708016c9": {
      "model_module": "@jupyter-widgets/controls",
      "model_module_version": "1.5.0",
      "model_name": "HBoxModel",
      "state": {
       "_dom_classes": [],
       "_model_module": "@jupyter-widgets/controls",
       "_model_module_version": "1.5.0",
       "_model_name": "HBoxModel",
       "_view_count": null,
       "_view_module": "@jupyter-widgets/controls",
       "_view_module_version": "1.5.0",
       "_view_name": "HBoxView",
       "box_style": "",
       "children": [
        "IPY_MODEL_8744253bbae1431abefbdce18c2bc0d7",
        "IPY_MODEL_33471658d06d49b3bbf36baf81107c5d",
        "IPY_MODEL_b5630414ebbc4bed8e0e7e68464f99b0"
       ],
       "layout": "IPY_MODEL_09e9f2cc0e4d4f1eb412b76c2cfde90e"
      }
     },
     "5125a3cabcc0430cbb7b6c1478cfc87b": {
      "model_module": "@jupyter-widgets/controls",
      "model_module_version": "1.5.0",
      "model_name": "HBoxModel",
      "state": {
       "_dom_classes": [],
       "_model_module": "@jupyter-widgets/controls",
       "_model_module_version": "1.5.0",
       "_model_name": "HBoxModel",
       "_view_count": null,
       "_view_module": "@jupyter-widgets/controls",
       "_view_module_version": "1.5.0",
       "_view_name": "HBoxView",
       "box_style": "",
       "children": [
        "IPY_MODEL_5778adcd4eb74ef598bca295140c9e1b",
        "IPY_MODEL_4d9a94a0630b4a9fa1be73c77db5af39",
        "IPY_MODEL_f903330200224d81aebec88fba1ffc0a"
       ],
       "layout": "IPY_MODEL_bf3d43b786bd4269a3c93367b83a07d6"
      }
     },
     "51ecc919e3504f5aa761c7c5cd5ae9d2": {
      "model_module": "@jupyter-widgets/controls",
      "model_module_version": "1.5.0",
      "model_name": "FloatProgressModel",
      "state": {
       "_dom_classes": [],
       "_model_module": "@jupyter-widgets/controls",
       "_model_module_version": "1.5.0",
       "_model_name": "FloatProgressModel",
       "_view_count": null,
       "_view_module": "@jupyter-widgets/controls",
       "_view_module_version": "1.5.0",
       "_view_name": "ProgressView",
       "bar_style": "success",
       "description": "",
       "description_tooltip": null,
       "layout": "IPY_MODEL_af6a90ebaf76476dbb6c6ed4d6c06fa9",
       "max": 112.0,
       "min": 0.0,
       "orientation": "horizontal",
       "style": "IPY_MODEL_5bc55ee1416a4a2d8fa7851d28826e8d",
       "value": 112.0
      }
     },
     "520702903b464b9fbef15053fa105283": {
      "model_module": "@jupyter-widgets/base",
      "model_module_version": "1.2.0",
      "model_name": "LayoutModel",
      "state": {
       "_model_module": "@jupyter-widgets/base",
       "_model_module_version": "1.2.0",
       "_model_name": "LayoutModel",
       "_view_count": null,
       "_view_module": "@jupyter-widgets/base",
       "_view_module_version": "1.2.0",
       "_view_name": "LayoutView",
       "align_content": null,
       "align_items": null,
       "align_self": null,
       "border": null,
       "bottom": null,
       "display": null,
       "flex": null,
       "flex_flow": null,
       "grid_area": null,
       "grid_auto_columns": null,
       "grid_auto_flow": null,
       "grid_auto_rows": null,
       "grid_column": null,
       "grid_gap": null,
       "grid_row": null,
       "grid_template_areas": null,
       "grid_template_columns": null,
       "grid_template_rows": null,
       "height": null,
       "justify_content": null,
       "justify_items": null,
       "left": null,
       "margin": null,
       "max_height": null,
       "max_width": null,
       "min_height": null,
       "min_width": null,
       "object_fit": null,
       "object_position": null,
       "order": null,
       "overflow": null,
       "overflow_x": null,
       "overflow_y": null,
       "padding": null,
       "right": null,
       "top": null,
       "visibility": null,
       "width": null
      }
     },
     "53193d407b2f482d987d3000eb1de757": {
      "model_module": "@jupyter-widgets/controls",
      "model_module_version": "1.5.0",
      "model_name": "HTMLModel",
      "state": {
       "_dom_classes": [],
       "_model_module": "@jupyter-widgets/controls",
       "_model_module_version": "1.5.0",
       "_model_name": "HTMLModel",
       "_view_count": null,
       "_view_module": "@jupyter-widgets/controls",
       "_view_module_version": "1.5.0",
       "_view_name": "HTMLView",
       "description": "",
       "description_tooltip": null,
       "layout": "IPY_MODEL_f7b599ff98bb4e61b0427463d3f0d742",
       "placeholder": "​",
       "style": "IPY_MODEL_98f77e69fba64f05ba6eef968a0a80eb",
       "value": "Downloading: 100%"
      }
     },
     "5346958ac5d044d9a1533a14c4c1f97a": {
      "model_module": "@jupyter-widgets/base",
      "model_module_version": "1.2.0",
      "model_name": "LayoutModel",
      "state": {
       "_model_module": "@jupyter-widgets/base",
       "_model_module_version": "1.2.0",
       "_model_name": "LayoutModel",
       "_view_count": null,
       "_view_module": "@jupyter-widgets/base",
       "_view_module_version": "1.2.0",
       "_view_name": "LayoutView",
       "align_content": null,
       "align_items": null,
       "align_self": null,
       "border": null,
       "bottom": null,
       "display": null,
       "flex": null,
       "flex_flow": null,
       "grid_area": null,
       "grid_auto_columns": null,
       "grid_auto_flow": null,
       "grid_auto_rows": null,
       "grid_column": null,
       "grid_gap": null,
       "grid_row": null,
       "grid_template_areas": null,
       "grid_template_columns": null,
       "grid_template_rows": null,
       "height": null,
       "justify_content": null,
       "justify_items": null,
       "left": null,
       "margin": null,
       "max_height": null,
       "max_width": null,
       "min_height": null,
       "min_width": null,
       "object_fit": null,
       "object_position": null,
       "order": null,
       "overflow": null,
       "overflow_x": null,
       "overflow_y": null,
       "padding": null,
       "right": null,
       "top": null,
       "visibility": null,
       "width": null
      }
     },
     "5346b8c687864c9284c642865df75d1d": {
      "model_module": "@jupyter-widgets/controls",
      "model_module_version": "1.5.0",
      "model_name": "HTMLModel",
      "state": {
       "_dom_classes": [],
       "_model_module": "@jupyter-widgets/controls",
       "_model_module_version": "1.5.0",
       "_model_name": "HTMLModel",
       "_view_count": null,
       "_view_module": "@jupyter-widgets/controls",
       "_view_module_version": "1.5.0",
       "_view_name": "HTMLView",
       "description": "",
       "description_tooltip": null,
       "layout": "IPY_MODEL_e482c1f5e75b47ffbfc07d41e62ca8f5",
       "placeholder": "​",
       "style": "IPY_MODEL_db9e904fa83c4919b7be3c83ccff7cc7",
       "value": "Downloading: 100%"
      }
     },
     "53ca1bfd57374189b0f64235e6069e70": {
      "model_module": "@jupyter-widgets/base",
      "model_module_version": "1.2.0",
      "model_name": "LayoutModel",
      "state": {
       "_model_module": "@jupyter-widgets/base",
       "_model_module_version": "1.2.0",
       "_model_name": "LayoutModel",
       "_view_count": null,
       "_view_module": "@jupyter-widgets/base",
       "_view_module_version": "1.2.0",
       "_view_name": "LayoutView",
       "align_content": null,
       "align_items": null,
       "align_self": null,
       "border": null,
       "bottom": null,
       "display": null,
       "flex": null,
       "flex_flow": null,
       "grid_area": null,
       "grid_auto_columns": null,
       "grid_auto_flow": null,
       "grid_auto_rows": null,
       "grid_column": null,
       "grid_gap": null,
       "grid_row": null,
       "grid_template_areas": null,
       "grid_template_columns": null,
       "grid_template_rows": null,
       "height": null,
       "justify_content": null,
       "justify_items": null,
       "left": null,
       "margin": null,
       "max_height": null,
       "max_width": null,
       "min_height": null,
       "min_width": null,
       "object_fit": null,
       "object_position": null,
       "order": null,
       "overflow": null,
       "overflow_x": null,
       "overflow_y": null,
       "padding": null,
       "right": null,
       "top": null,
       "visibility": null,
       "width": null
      }
     },
     "57604d0b95c440cba3ebdba37eaed0c1": {
      "model_module": "@jupyter-widgets/controls",
      "model_module_version": "1.5.0",
      "model_name": "HTMLModel",
      "state": {
       "_dom_classes": [],
       "_model_module": "@jupyter-widgets/controls",
       "_model_module_version": "1.5.0",
       "_model_name": "HTMLModel",
       "_view_count": null,
       "_view_module": "@jupyter-widgets/controls",
       "_view_module_version": "1.5.0",
       "_view_name": "HTMLView",
       "description": "",
       "description_tooltip": null,
       "layout": "IPY_MODEL_a8afcb6044584468b58a10814fbcf839",
       "placeholder": "​",
       "style": "IPY_MODEL_d76653852ebc4aada9416711fa5d4d38",
       "value": "Downloading: 100%"
      }
     },
     "5778adcd4eb74ef598bca295140c9e1b": {
      "model_module": "@jupyter-widgets/controls",
      "model_module_version": "1.5.0",
      "model_name": "HTMLModel",
      "state": {
       "_dom_classes": [],
       "_model_module": "@jupyter-widgets/controls",
       "_model_module_version": "1.5.0",
       "_model_name": "HTMLModel",
       "_view_count": null,
       "_view_module": "@jupyter-widgets/controls",
       "_view_module_version": "1.5.0",
       "_view_name": "HTMLView",
       "description": "",
       "description_tooltip": null,
       "layout": "IPY_MODEL_fdcf4ea5a08f4c9e96aa7b7f58f7ebb7",
       "placeholder": "​",
       "style": "IPY_MODEL_b0a33fafd7da4201ae484fc7aef9c4b8",
       "value": "Downloading: 100%"
      }
     },
     "5bc55ee1416a4a2d8fa7851d28826e8d": {
      "model_module": "@jupyter-widgets/controls",
      "model_module_version": "1.5.0",
      "model_name": "ProgressStyleModel",
      "state": {
       "_model_module": "@jupyter-widgets/controls",
       "_model_module_version": "1.5.0",
       "_model_name": "ProgressStyleModel",
       "_view_count": null,
       "_view_module": "@jupyter-widgets/base",
       "_view_module_version": "1.2.0",
       "_view_name": "StyleView",
       "bar_color": null,
       "description_width": ""
      }
     },
     "5d690ccb5ce047b3b440a845a5cfcdcb": {
      "model_module": "@jupyter-widgets/base",
      "model_module_version": "1.2.0",
      "model_name": "LayoutModel",
      "state": {
       "_model_module": "@jupyter-widgets/base",
       "_model_module_version": "1.2.0",
       "_model_name": "LayoutModel",
       "_view_count": null,
       "_view_module": "@jupyter-widgets/base",
       "_view_module_version": "1.2.0",
       "_view_name": "LayoutView",
       "align_content": null,
       "align_items": null,
       "align_self": null,
       "border": null,
       "bottom": null,
       "display": null,
       "flex": null,
       "flex_flow": null,
       "grid_area": null,
       "grid_auto_columns": null,
       "grid_auto_flow": null,
       "grid_auto_rows": null,
       "grid_column": null,
       "grid_gap": null,
       "grid_row": null,
       "grid_template_areas": null,
       "grid_template_columns": null,
       "grid_template_rows": null,
       "height": null,
       "justify_content": null,
       "justify_items": null,
       "left": null,
       "margin": null,
       "max_height": null,
       "max_width": null,
       "min_height": null,
       "min_width": null,
       "object_fit": null,
       "object_position": null,
       "order": null,
       "overflow": null,
       "overflow_x": null,
       "overflow_y": null,
       "padding": null,
       "right": null,
       "top": null,
       "visibility": null,
       "width": null
      }
     },
     "5d730f823dc047db9c65056c89f1e3fc": {
      "model_module": "@jupyter-widgets/controls",
      "model_module_version": "1.5.0",
      "model_name": "HTMLModel",
      "state": {
       "_dom_classes": [],
       "_model_module": "@jupyter-widgets/controls",
       "_model_module_version": "1.5.0",
       "_model_name": "HTMLModel",
       "_view_count": null,
       "_view_module": "@jupyter-widgets/controls",
       "_view_module_version": "1.5.0",
       "_view_name": "HTMLView",
       "description": "",
       "description_tooltip": null,
       "layout": "IPY_MODEL_849d303cd6a440f489fd0f1b2d571460",
       "placeholder": "​",
       "style": "IPY_MODEL_6244e1098c7b463384cbe64183613005",
       "value": " 615/615 [00:00&lt;00:00, 23.4kB/s]"
      }
     },
     "5e1707b980254c86b27d2945a293fdb9": {
      "model_module": "@jupyter-widgets/controls",
      "model_module_version": "1.5.0",
      "model_name": "HBoxModel",
      "state": {
       "_dom_classes": [],
       "_model_module": "@jupyter-widgets/controls",
       "_model_module_version": "1.5.0",
       "_model_name": "HBoxModel",
       "_view_count": null,
       "_view_module": "@jupyter-widgets/controls",
       "_view_module_version": "1.5.0",
       "_view_name": "HBoxView",
       "box_style": "",
       "children": [
        "IPY_MODEL_9c18bdc71b1647dfae61002da5a201d6",
        "IPY_MODEL_96c8a4251c504eadaa080e9aab21dc9d",
        "IPY_MODEL_0778b9a39a6441ed84694a0714314f44"
       ],
       "layout": "IPY_MODEL_75433630aa4d4654b0024ed4417fb07c"
      }
     },
     "611d7f45ae5443eeb60b62c9beab98a3": {
      "model_module": "@jupyter-widgets/base",
      "model_module_version": "1.2.0",
      "model_name": "LayoutModel",
      "state": {
       "_model_module": "@jupyter-widgets/base",
       "_model_module_version": "1.2.0",
       "_model_name": "LayoutModel",
       "_view_count": null,
       "_view_module": "@jupyter-widgets/base",
       "_view_module_version": "1.2.0",
       "_view_name": "LayoutView",
       "align_content": null,
       "align_items": null,
       "align_self": null,
       "border": null,
       "bottom": null,
       "display": null,
       "flex": null,
       "flex_flow": null,
       "grid_area": null,
       "grid_auto_columns": null,
       "grid_auto_flow": null,
       "grid_auto_rows": null,
       "grid_column": null,
       "grid_gap": null,
       "grid_row": null,
       "grid_template_areas": null,
       "grid_template_columns": null,
       "grid_template_rows": null,
       "height": null,
       "justify_content": null,
       "justify_items": null,
       "left": null,
       "margin": null,
       "max_height": null,
       "max_width": null,
       "min_height": null,
       "min_width": null,
       "object_fit": null,
       "object_position": null,
       "order": null,
       "overflow": null,
       "overflow_x": null,
       "overflow_y": null,
       "padding": null,
       "right": null,
       "top": null,
       "visibility": null,
       "width": null
      }
     },
     "6244e1098c7b463384cbe64183613005": {
      "model_module": "@jupyter-widgets/controls",
      "model_module_version": "1.5.0",
      "model_name": "DescriptionStyleModel",
      "state": {
       "_model_module": "@jupyter-widgets/controls",
       "_model_module_version": "1.5.0",
       "_model_name": "DescriptionStyleModel",
       "_view_count": null,
       "_view_module": "@jupyter-widgets/base",
       "_view_module_version": "1.2.0",
       "_view_name": "StyleView",
       "description_width": ""
      }
     },
     "633e26c3115247ac920166a3fa90bbcc": {
      "model_module": "@jupyter-widgets/base",
      "model_module_version": "1.2.0",
      "model_name": "LayoutModel",
      "state": {
       "_model_module": "@jupyter-widgets/base",
       "_model_module_version": "1.2.0",
       "_model_name": "LayoutModel",
       "_view_count": null,
       "_view_module": "@jupyter-widgets/base",
       "_view_module_version": "1.2.0",
       "_view_name": "LayoutView",
       "align_content": null,
       "align_items": null,
       "align_self": null,
       "border": null,
       "bottom": null,
       "display": null,
       "flex": null,
       "flex_flow": null,
       "grid_area": null,
       "grid_auto_columns": null,
       "grid_auto_flow": null,
       "grid_auto_rows": null,
       "grid_column": null,
       "grid_gap": null,
       "grid_row": null,
       "grid_template_areas": null,
       "grid_template_columns": null,
       "grid_template_rows": null,
       "height": null,
       "justify_content": null,
       "justify_items": null,
       "left": null,
       "margin": null,
       "max_height": null,
       "max_width": null,
       "min_height": null,
       "min_width": null,
       "object_fit": null,
       "object_position": null,
       "order": null,
       "overflow": null,
       "overflow_x": null,
       "overflow_y": null,
       "padding": null,
       "right": null,
       "top": null,
       "visibility": null,
       "width": null
      }
     },
     "6384cc6242d7417a81641d20e6cec968": {
      "model_module": "@jupyter-widgets/controls",
      "model_module_version": "1.5.0",
      "model_name": "HTMLModel",
      "state": {
       "_dom_classes": [],
       "_model_module": "@jupyter-widgets/controls",
       "_model_module_version": "1.5.0",
       "_model_name": "HTMLModel",
       "_view_count": null,
       "_view_module": "@jupyter-widgets/controls",
       "_view_module_version": "1.5.0",
       "_view_name": "HTMLView",
       "description": "",
       "description_tooltip": null,
       "layout": "IPY_MODEL_f1e998683e3c42afa676fe614a94d837",
       "placeholder": "​",
       "style": "IPY_MODEL_106b243324dc45bd8cde82ac3c09c50d",
       "value": "Downloading: 100%"
      }
     },
     "63ef234296ec4c2c9171c10bf1c6f61e": {
      "model_module": "@jupyter-widgets/base",
      "model_module_version": "1.2.0",
      "model_name": "LayoutModel",
      "state": {
       "_model_module": "@jupyter-widgets/base",
       "_model_module_version": "1.2.0",
       "_model_name": "LayoutModel",
       "_view_count": null,
       "_view_module": "@jupyter-widgets/base",
       "_view_module_version": "1.2.0",
       "_view_name": "LayoutView",
       "align_content": null,
       "align_items": null,
       "align_self": null,
       "border": null,
       "bottom": null,
       "display": null,
       "flex": null,
       "flex_flow": null,
       "grid_area": null,
       "grid_auto_columns": null,
       "grid_auto_flow": null,
       "grid_auto_rows": null,
       "grid_column": null,
       "grid_gap": null,
       "grid_row": null,
       "grid_template_areas": null,
       "grid_template_columns": null,
       "grid_template_rows": null,
       "height": null,
       "justify_content": null,
       "justify_items": null,
       "left": null,
       "margin": null,
       "max_height": null,
       "max_width": null,
       "min_height": null,
       "min_width": null,
       "object_fit": null,
       "object_position": null,
       "order": null,
       "overflow": null,
       "overflow_x": null,
       "overflow_y": null,
       "padding": null,
       "right": null,
       "top": null,
       "visibility": null,
       "width": null
      }
     },
     "66d2adab25f84cae9612403d007f0534": {
      "model_module": "@jupyter-widgets/controls",
      "model_module_version": "1.5.0",
      "model_name": "DescriptionStyleModel",
      "state": {
       "_model_module": "@jupyter-widgets/controls",
       "_model_module_version": "1.5.0",
       "_model_name": "DescriptionStyleModel",
       "_view_count": null,
       "_view_module": "@jupyter-widgets/base",
       "_view_module_version": "1.2.0",
       "_view_name": "StyleView",
       "description_width": ""
      }
     },
     "6bab87b6b7064f74886fa816796944ff": {
      "model_module": "@jupyter-widgets/controls",
      "model_module_version": "1.5.0",
      "model_name": "DescriptionStyleModel",
      "state": {
       "_model_module": "@jupyter-widgets/controls",
       "_model_module_version": "1.5.0",
       "_model_name": "DescriptionStyleModel",
       "_view_count": null,
       "_view_module": "@jupyter-widgets/base",
       "_view_module_version": "1.2.0",
       "_view_name": "StyleView",
       "description_width": ""
      }
     },
     "6c62a5665cda4f5498b88026ec2cdd5c": {
      "model_module": "@jupyter-widgets/controls",
      "model_module_version": "1.5.0",
      "model_name": "DescriptionStyleModel",
      "state": {
       "_model_module": "@jupyter-widgets/controls",
       "_model_module_version": "1.5.0",
       "_model_name": "DescriptionStyleModel",
       "_view_count": null,
       "_view_module": "@jupyter-widgets/base",
       "_view_module_version": "1.2.0",
       "_view_name": "StyleView",
       "description_width": ""
      }
     },
     "6e02d292cdd049c6934c633310c3d4aa": {
      "model_module": "@jupyter-widgets/base",
      "model_module_version": "1.2.0",
      "model_name": "LayoutModel",
      "state": {
       "_model_module": "@jupyter-widgets/base",
       "_model_module_version": "1.2.0",
       "_model_name": "LayoutModel",
       "_view_count": null,
       "_view_module": "@jupyter-widgets/base",
       "_view_module_version": "1.2.0",
       "_view_name": "LayoutView",
       "align_content": null,
       "align_items": null,
       "align_self": null,
       "border": null,
       "bottom": null,
       "display": null,
       "flex": null,
       "flex_flow": null,
       "grid_area": null,
       "grid_auto_columns": null,
       "grid_auto_flow": null,
       "grid_auto_rows": null,
       "grid_column": null,
       "grid_gap": null,
       "grid_row": null,
       "grid_template_areas": null,
       "grid_template_columns": null,
       "grid_template_rows": null,
       "height": null,
       "justify_content": null,
       "justify_items": null,
       "left": null,
       "margin": null,
       "max_height": null,
       "max_width": null,
       "min_height": null,
       "min_width": null,
       "object_fit": null,
       "object_position": null,
       "order": null,
       "overflow": null,
       "overflow_x": null,
       "overflow_y": null,
       "padding": null,
       "right": null,
       "top": null,
       "visibility": null,
       "width": null
      }
     },
     "6e7ffdc1611640bd9445f2b33d1512b9": {
      "model_module": "@jupyter-widgets/controls",
      "model_module_version": "1.5.0",
      "model_name": "DescriptionStyleModel",
      "state": {
       "_model_module": "@jupyter-widgets/controls",
       "_model_module_version": "1.5.0",
       "_model_name": "DescriptionStyleModel",
       "_view_count": null,
       "_view_module": "@jupyter-widgets/base",
       "_view_module_version": "1.2.0",
       "_view_name": "StyleView",
       "description_width": ""
      }
     },
     "6ed8ae68b25742bda4f1a35c53049322": {
      "model_module": "@jupyter-widgets/base",
      "model_module_version": "1.2.0",
      "model_name": "LayoutModel",
      "state": {
       "_model_module": "@jupyter-widgets/base",
       "_model_module_version": "1.2.0",
       "_model_name": "LayoutModel",
       "_view_count": null,
       "_view_module": "@jupyter-widgets/base",
       "_view_module_version": "1.2.0",
       "_view_name": "LayoutView",
       "align_content": null,
       "align_items": null,
       "align_self": null,
       "border": null,
       "bottom": null,
       "display": null,
       "flex": null,
       "flex_flow": null,
       "grid_area": null,
       "grid_auto_columns": null,
       "grid_auto_flow": null,
       "grid_auto_rows": null,
       "grid_column": null,
       "grid_gap": null,
       "grid_row": null,
       "grid_template_areas": null,
       "grid_template_columns": null,
       "grid_template_rows": null,
       "height": null,
       "justify_content": null,
       "justify_items": null,
       "left": null,
       "margin": null,
       "max_height": null,
       "max_width": null,
       "min_height": null,
       "min_width": null,
       "object_fit": null,
       "object_position": null,
       "order": null,
       "overflow": null,
       "overflow_x": null,
       "overflow_y": null,
       "padding": null,
       "right": null,
       "top": null,
       "visibility": null,
       "width": null
      }
     },
     "72d6cf523a6b4eb3871c23ae8b1f6c2c": {
      "model_module": "@jupyter-widgets/controls",
      "model_module_version": "1.5.0",
      "model_name": "HTMLModel",
      "state": {
       "_dom_classes": [],
       "_model_module": "@jupyter-widgets/controls",
       "_model_module_version": "1.5.0",
       "_model_name": "HTMLModel",
       "_view_count": null,
       "_view_module": "@jupyter-widgets/controls",
       "_view_module_version": "1.5.0",
       "_view_name": "HTMLView",
       "description": "",
       "description_tooltip": null,
       "layout": "IPY_MODEL_fd63cff82f364d95bc069641e14b8d8a",
       "placeholder": "​",
       "style": "IPY_MODEL_49277a6264f04df182d8cffa9141196a",
       "value": " 625/625 [00:00&lt;00:00, 19.8kB/s]"
      }
     },
     "75433630aa4d4654b0024ed4417fb07c": {
      "model_module": "@jupyter-widgets/base",
      "model_module_version": "1.2.0",
      "model_name": "LayoutModel",
      "state": {
       "_model_module": "@jupyter-widgets/base",
       "_model_module_version": "1.2.0",
       "_model_name": "LayoutModel",
       "_view_count": null,
       "_view_module": "@jupyter-widgets/base",
       "_view_module_version": "1.2.0",
       "_view_name": "LayoutView",
       "align_content": null,
       "align_items": null,
       "align_self": null,
       "border": null,
       "bottom": null,
       "display": null,
       "flex": null,
       "flex_flow": null,
       "grid_area": null,
       "grid_auto_columns": null,
       "grid_auto_flow": null,
       "grid_auto_rows": null,
       "grid_column": null,
       "grid_gap": null,
       "grid_row": null,
       "grid_template_areas": null,
       "grid_template_columns": null,
       "grid_template_rows": null,
       "height": null,
       "justify_content": null,
       "justify_items": null,
       "left": null,
       "margin": null,
       "max_height": null,
       "max_width": null,
       "min_height": null,
       "min_width": null,
       "object_fit": null,
       "object_position": null,
       "order": null,
       "overflow": null,
       "overflow_x": null,
       "overflow_y": null,
       "padding": null,
       "right": null,
       "top": null,
       "visibility": null,
       "width": null
      }
     },
     "7655f366a09c4aaaab8ec6065b40d780": {
      "model_module": "@jupyter-widgets/controls",
      "model_module_version": "1.5.0",
      "model_name": "FloatProgressModel",
      "state": {
       "_dom_classes": [],
       "_model_module": "@jupyter-widgets/controls",
       "_model_module_version": "1.5.0",
       "_model_name": "FloatProgressModel",
       "_view_count": null,
       "_view_module": "@jupyter-widgets/controls",
       "_view_module_version": "1.5.0",
       "_view_name": "ProgressView",
       "bar_style": "success",
       "description": "",
       "description_tooltip": null,
       "layout": "IPY_MODEL_b71769d7084b4ad7a93a251076944aeb",
       "max": 1715180.0,
       "min": 0.0,
       "orientation": "horizontal",
       "style": "IPY_MODEL_c7d03d87fab149d6b836b03fd4fc6b56",
       "value": 1715180.0
      }
     },
     "796c2af4746e43a0b4a68ebd064c9aeb": {
      "model_module": "@jupyter-widgets/controls",
      "model_module_version": "1.5.0",
      "model_name": "ProgressStyleModel",
      "state": {
       "_model_module": "@jupyter-widgets/controls",
       "_model_module_version": "1.5.0",
       "_model_name": "ProgressStyleModel",
       "_view_count": null,
       "_view_module": "@jupyter-widgets/base",
       "_view_module_version": "1.2.0",
       "_view_name": "StyleView",
       "bar_color": null,
       "description_width": ""
      }
     },
     "7f1634eb84154b2cb2b0bf20dfaac930": {
      "model_module": "@jupyter-widgets/controls",
      "model_module_version": "1.5.0",
      "model_name": "DescriptionStyleModel",
      "state": {
       "_model_module": "@jupyter-widgets/controls",
       "_model_module_version": "1.5.0",
       "_model_name": "DescriptionStyleModel",
       "_view_count": null,
       "_view_module": "@jupyter-widgets/base",
       "_view_module_version": "1.2.0",
       "_view_name": "StyleView",
       "description_width": ""
      }
     },
     "7f2af07d3f0a4d99a0126a1927a10b0b": {
      "model_module": "@jupyter-widgets/base",
      "model_module_version": "1.2.0",
      "model_name": "LayoutModel",
      "state": {
       "_model_module": "@jupyter-widgets/base",
       "_model_module_version": "1.2.0",
       "_model_name": "LayoutModel",
       "_view_count": null,
       "_view_module": "@jupyter-widgets/base",
       "_view_module_version": "1.2.0",
       "_view_name": "LayoutView",
       "align_content": null,
       "align_items": null,
       "align_self": null,
       "border": null,
       "bottom": null,
       "display": null,
       "flex": null,
       "flex_flow": null,
       "grid_area": null,
       "grid_auto_columns": null,
       "grid_auto_flow": null,
       "grid_auto_rows": null,
       "grid_column": null,
       "grid_gap": null,
       "grid_row": null,
       "grid_template_areas": null,
       "grid_template_columns": null,
       "grid_template_rows": null,
       "height": null,
       "justify_content": null,
       "justify_items": null,
       "left": null,
       "margin": null,
       "max_height": null,
       "max_width": null,
       "min_height": null,
       "min_width": null,
       "object_fit": null,
       "object_position": null,
       "order": null,
       "overflow": null,
       "overflow_x": null,
       "overflow_y": null,
       "padding": null,
       "right": null,
       "top": null,
       "visibility": null,
       "width": null
      }
     },
     "849d303cd6a440f489fd0f1b2d571460": {
      "model_module": "@jupyter-widgets/base",
      "model_module_version": "1.2.0",
      "model_name": "LayoutModel",
      "state": {
       "_model_module": "@jupyter-widgets/base",
       "_model_module_version": "1.2.0",
       "_model_name": "LayoutModel",
       "_view_count": null,
       "_view_module": "@jupyter-widgets/base",
       "_view_module_version": "1.2.0",
       "_view_name": "LayoutView",
       "align_content": null,
       "align_items": null,
       "align_self": null,
       "border": null,
       "bottom": null,
       "display": null,
       "flex": null,
       "flex_flow": null,
       "grid_area": null,
       "grid_auto_columns": null,
       "grid_auto_flow": null,
       "grid_auto_rows": null,
       "grid_column": null,
       "grid_gap": null,
       "grid_row": null,
       "grid_template_areas": null,
       "grid_template_columns": null,
       "grid_template_rows": null,
       "height": null,
       "justify_content": null,
       "justify_items": null,
       "left": null,
       "margin": null,
       "max_height": null,
       "max_width": null,
       "min_height": null,
       "min_width": null,
       "object_fit": null,
       "object_position": null,
       "order": null,
       "overflow": null,
       "overflow_x": null,
       "overflow_y": null,
       "padding": null,
       "right": null,
       "top": null,
       "visibility": null,
       "width": null
      }
     },
     "8744253bbae1431abefbdce18c2bc0d7": {
      "model_module": "@jupyter-widgets/controls",
      "model_module_version": "1.5.0",
      "model_name": "HTMLModel",
      "state": {
       "_dom_classes": [],
       "_model_module": "@jupyter-widgets/controls",
       "_model_module_version": "1.5.0",
       "_model_name": "HTMLModel",
       "_view_count": null,
       "_view_module": "@jupyter-widgets/controls",
       "_view_module_version": "1.5.0",
       "_view_name": "HTMLView",
       "description": "",
       "description_tooltip": null,
       "layout": "IPY_MODEL_1f1d0466f8b8412d9f8b1696ccf21863",
       "placeholder": "​",
       "style": "IPY_MODEL_a046891cf7534d89a9e7a3eec100a4cb",
       "value": "Downloading: 100%"
      }
     },
     "88567d4a434443cf93dfbd1060d4dc40": {
      "model_module": "@jupyter-widgets/base",
      "model_module_version": "1.2.0",
      "model_name": "LayoutModel",
      "state": {
       "_model_module": "@jupyter-widgets/base",
       "_model_module_version": "1.2.0",
       "_model_name": "LayoutModel",
       "_view_count": null,
       "_view_module": "@jupyter-widgets/base",
       "_view_module_version": "1.2.0",
       "_view_name": "LayoutView",
       "align_content": null,
       "align_items": null,
       "align_self": null,
       "border": null,
       "bottom": null,
       "display": null,
       "flex": null,
       "flex_flow": null,
       "grid_area": null,
       "grid_auto_columns": null,
       "grid_auto_flow": null,
       "grid_auto_rows": null,
       "grid_column": null,
       "grid_gap": null,
       "grid_row": null,
       "grid_template_areas": null,
       "grid_template_columns": null,
       "grid_template_rows": null,
       "height": null,
       "justify_content": null,
       "justify_items": null,
       "left": null,
       "margin": null,
       "max_height": null,
       "max_width": null,
       "min_height": null,
       "min_width": null,
       "object_fit": null,
       "object_position": null,
       "order": null,
       "overflow": null,
       "overflow_x": null,
       "overflow_y": null,
       "padding": null,
       "right": null,
       "top": null,
       "visibility": null,
       "width": null
      }
     },
     "89d23497f1f14ec1aed6ee7d83060f37": {
      "model_module": "@jupyter-widgets/base",
      "model_module_version": "1.2.0",
      "model_name": "LayoutModel",
      "state": {
       "_model_module": "@jupyter-widgets/base",
       "_model_module_version": "1.2.0",
       "_model_name": "LayoutModel",
       "_view_count": null,
       "_view_module": "@jupyter-widgets/base",
       "_view_module_version": "1.2.0",
       "_view_name": "LayoutView",
       "align_content": null,
       "align_items": null,
       "align_self": null,
       "border": null,
       "bottom": null,
       "display": null,
       "flex": null,
       "flex_flow": null,
       "grid_area": null,
       "grid_auto_columns": null,
       "grid_auto_flow": null,
       "grid_auto_rows": null,
       "grid_column": null,
       "grid_gap": null,
       "grid_row": null,
       "grid_template_areas": null,
       "grid_template_columns": null,
       "grid_template_rows": null,
       "height": null,
       "justify_content": null,
       "justify_items": null,
       "left": null,
       "margin": null,
       "max_height": null,
       "max_width": null,
       "min_height": null,
       "min_width": null,
       "object_fit": null,
       "object_position": null,
       "order": null,
       "overflow": null,
       "overflow_x": null,
       "overflow_y": null,
       "padding": null,
       "right": null,
       "top": null,
       "visibility": null,
       "width": null
      }
     },
     "89d87ebf11af4e4f8d1db6fa249e50c4": {
      "model_module": "@jupyter-widgets/controls",
      "model_module_version": "1.5.0",
      "model_name": "FloatProgressModel",
      "state": {
       "_dom_classes": [],
       "_model_module": "@jupyter-widgets/controls",
       "_model_module_version": "1.5.0",
       "_model_name": "FloatProgressModel",
       "_view_count": null,
       "_view_module": "@jupyter-widgets/controls",
       "_view_module_version": "1.5.0",
       "_view_name": "ProgressView",
       "bar_style": "success",
       "description": "",
       "description_tooltip": null,
       "layout": "IPY_MODEL_f93f54d878174544ad1a7042092ba8b7",
       "max": 1885418496.0,
       "min": 0.0,
       "orientation": "horizontal",
       "style": "IPY_MODEL_8ab055908e9a4f06af04fe5bfaf7bc36",
       "value": 1885418496.0
      }
     },
     "8ab055908e9a4f06af04fe5bfaf7bc36": {
      "model_module": "@jupyter-widgets/controls",
      "model_module_version": "1.5.0",
      "model_name": "ProgressStyleModel",
      "state": {
       "_model_module": "@jupyter-widgets/controls",
       "_model_module_version": "1.5.0",
       "_model_name": "ProgressStyleModel",
       "_view_count": null,
       "_view_module": "@jupyter-widgets/base",
       "_view_module_version": "1.2.0",
       "_view_name": "StyleView",
       "bar_color": null,
       "description_width": ""
      }
     },
     "8b4d0c1728f845baadd2760484f6f4f9": {
      "model_module": "@jupyter-widgets/controls",
      "model_module_version": "1.5.0",
      "model_name": "DescriptionStyleModel",
      "state": {
       "_model_module": "@jupyter-widgets/controls",
       "_model_module_version": "1.5.0",
       "_model_name": "DescriptionStyleModel",
       "_view_count": null,
       "_view_module": "@jupyter-widgets/base",
       "_view_module_version": "1.2.0",
       "_view_name": "StyleView",
       "description_width": ""
      }
     },
     "8d3921ae24b3439eacf9cca3ace70928": {
      "model_module": "@jupyter-widgets/controls",
      "model_module_version": "1.5.0",
      "model_name": "HTMLModel",
      "state": {
       "_dom_classes": [],
       "_model_module": "@jupyter-widgets/controls",
       "_model_module_version": "1.5.0",
       "_model_name": "HTMLModel",
       "_view_count": null,
       "_view_module": "@jupyter-widgets/controls",
       "_view_module_version": "1.5.0",
       "_view_name": "HTMLView",
       "description": "",
       "description_tooltip": null,
       "layout": "IPY_MODEL_37661960eb2240d48617d9874d46b4b5",
       "placeholder": "​",
       "style": "IPY_MODEL_66d2adab25f84cae9612403d007f0534",
       "value": "Downloading: 100%"
      }
     },
     "8edd5e79db014bf09d2c0e0494abdd93": {
      "model_module": "@jupyter-widgets/base",
      "model_module_version": "1.2.0",
      "model_name": "LayoutModel",
      "state": {
       "_model_module": "@jupyter-widgets/base",
       "_model_module_version": "1.2.0",
       "_model_name": "LayoutModel",
       "_view_count": null,
       "_view_module": "@jupyter-widgets/base",
       "_view_module_version": "1.2.0",
       "_view_name": "LayoutView",
       "align_content": null,
       "align_items": null,
       "align_self": null,
       "border": null,
       "bottom": null,
       "display": null,
       "flex": null,
       "flex_flow": null,
       "grid_area": null,
       "grid_auto_columns": null,
       "grid_auto_flow": null,
       "grid_auto_rows": null,
       "grid_column": null,
       "grid_gap": null,
       "grid_row": null,
       "grid_template_areas": null,
       "grid_template_columns": null,
       "grid_template_rows": null,
       "height": null,
       "justify_content": null,
       "justify_items": null,
       "left": null,
       "margin": null,
       "max_height": null,
       "max_width": null,
       "min_height": null,
       "min_width": null,
       "object_fit": null,
       "object_position": null,
       "order": null,
       "overflow": null,
       "overflow_x": null,
       "overflow_y": null,
       "padding": null,
       "right": null,
       "top": null,
       "visibility": null,
       "width": null
      }
     },
     "8ffa00670c9244b385f7af9db54f7c0a": {
      "model_module": "@jupyter-widgets/base",
      "model_module_version": "1.2.0",
      "model_name": "LayoutModel",
      "state": {
       "_model_module": "@jupyter-widgets/base",
       "_model_module_version": "1.2.0",
       "_model_name": "LayoutModel",
       "_view_count": null,
       "_view_module": "@jupyter-widgets/base",
       "_view_module_version": "1.2.0",
       "_view_name": "LayoutView",
       "align_content": null,
       "align_items": null,
       "align_self": null,
       "border": null,
       "bottom": null,
       "display": null,
       "flex": null,
       "flex_flow": null,
       "grid_area": null,
       "grid_auto_columns": null,
       "grid_auto_flow": null,
       "grid_auto_rows": null,
       "grid_column": null,
       "grid_gap": null,
       "grid_row": null,
       "grid_template_areas": null,
       "grid_template_columns": null,
       "grid_template_rows": null,
       "height": null,
       "justify_content": null,
       "justify_items": null,
       "left": null,
       "margin": null,
       "max_height": null,
       "max_width": null,
       "min_height": null,
       "min_width": null,
       "object_fit": null,
       "object_position": null,
       "order": null,
       "overflow": null,
       "overflow_x": null,
       "overflow_y": null,
       "padding": null,
       "right": null,
       "top": null,
       "visibility": null,
       "width": null
      }
     },
     "9117937a14d34da3b366a33071458a3a": {
      "model_module": "@jupyter-widgets/controls",
      "model_module_version": "1.5.0",
      "model_name": "ProgressStyleModel",
      "state": {
       "_model_module": "@jupyter-widgets/controls",
       "_model_module_version": "1.5.0",
       "_model_name": "ProgressStyleModel",
       "_view_count": null,
       "_view_module": "@jupyter-widgets/base",
       "_view_module_version": "1.2.0",
       "_view_name": "StyleView",
       "bar_color": null,
       "description_width": ""
      }
     },
     "91bc5765cf534f979b13ab325f4188dc": {
      "model_module": "@jupyter-widgets/base",
      "model_module_version": "1.2.0",
      "model_name": "LayoutModel",
      "state": {
       "_model_module": "@jupyter-widgets/base",
       "_model_module_version": "1.2.0",
       "_model_name": "LayoutModel",
       "_view_count": null,
       "_view_module": "@jupyter-widgets/base",
       "_view_module_version": "1.2.0",
       "_view_name": "LayoutView",
       "align_content": null,
       "align_items": null,
       "align_self": null,
       "border": null,
       "bottom": null,
       "display": null,
       "flex": null,
       "flex_flow": null,
       "grid_area": null,
       "grid_auto_columns": null,
       "grid_auto_flow": null,
       "grid_auto_rows": null,
       "grid_column": null,
       "grid_gap": null,
       "grid_row": null,
       "grid_template_areas": null,
       "grid_template_columns": null,
       "grid_template_rows": null,
       "height": null,
       "justify_content": null,
       "justify_items": null,
       "left": null,
       "margin": null,
       "max_height": null,
       "max_width": null,
       "min_height": null,
       "min_width": null,
       "object_fit": null,
       "object_position": null,
       "order": null,
       "overflow": null,
       "overflow_x": null,
       "overflow_y": null,
       "padding": null,
       "right": null,
       "top": null,
       "visibility": null,
       "width": null
      }
     },
     "923c4d67bb3c40b2b1f36bab57e325d2": {
      "model_module": "@jupyter-widgets/controls",
      "model_module_version": "1.5.0",
      "model_name": "FloatProgressModel",
      "state": {
       "_dom_classes": [],
       "_model_module": "@jupyter-widgets/controls",
       "_model_module_version": "1.5.0",
       "_model_name": "FloatProgressModel",
       "_view_count": null,
       "_view_module": "@jupyter-widgets/controls",
       "_view_module_version": "1.5.0",
       "_view_name": "ProgressView",
       "bar_style": "success",
       "description": "",
       "description_tooltip": null,
       "layout": "IPY_MODEL_c7af6865a32848a8a529456d9d33f113",
       "max": 625.0,
       "min": 0.0,
       "orientation": "horizontal",
       "style": "IPY_MODEL_c9bc836ff8c4484a8af2c4c7cbae7d6a",
       "value": 625.0
      }
     },
     "96c8a4251c504eadaa080e9aab21dc9d": {
      "model_module": "@jupyter-widgets/controls",
      "model_module_version": "1.5.0",
      "model_name": "FloatProgressModel",
      "state": {
       "_dom_classes": [],
       "_model_module": "@jupyter-widgets/controls",
       "_model_module_version": "1.5.0",
       "_model_name": "FloatProgressModel",
       "_view_count": null,
       "_view_module": "@jupyter-widgets/controls",
       "_view_module_version": "1.5.0",
       "_view_name": "ProgressView",
       "bar_style": "success",
       "description": "",
       "description_tooltip": null,
       "layout": "IPY_MODEL_10fd547e62834906adcd377589ad412f",
       "max": 5069051.0,
       "min": 0.0,
       "orientation": "horizontal",
       "style": "IPY_MODEL_796c2af4746e43a0b4a68ebd064c9aeb",
       "value": 5069051.0
      }
     },
     "98f77e69fba64f05ba6eef968a0a80eb": {
      "model_module": "@jupyter-widgets/controls",
      "model_module_version": "1.5.0",
      "model_name": "DescriptionStyleModel",
      "state": {
       "_model_module": "@jupyter-widgets/controls",
       "_model_module_version": "1.5.0",
       "_model_name": "DescriptionStyleModel",
       "_view_count": null,
       "_view_module": "@jupyter-widgets/base",
       "_view_module_version": "1.2.0",
       "_view_name": "StyleView",
       "description_width": ""
      }
     },
     "9ac59fb60ee54b0cad20567f6fb33cb4": {
      "model_module": "@jupyter-widgets/controls",
      "model_module_version": "1.5.0",
      "model_name": "ProgressStyleModel",
      "state": {
       "_model_module": "@jupyter-widgets/controls",
       "_model_module_version": "1.5.0",
       "_model_name": "ProgressStyleModel",
       "_view_count": null,
       "_view_module": "@jupyter-widgets/base",
       "_view_module_version": "1.2.0",
       "_view_name": "StyleView",
       "bar_color": null,
       "description_width": ""
      }
     },
     "9c18bdc71b1647dfae61002da5a201d6": {
      "model_module": "@jupyter-widgets/controls",
      "model_module_version": "1.5.0",
      "model_name": "HTMLModel",
      "state": {
       "_dom_classes": [],
       "_model_module": "@jupyter-widgets/controls",
       "_model_module_version": "1.5.0",
       "_model_name": "HTMLModel",
       "_view_count": null,
       "_view_module": "@jupyter-widgets/controls",
       "_view_module_version": "1.5.0",
       "_view_name": "HTMLView",
       "description": "",
       "description_tooltip": null,
       "layout": "IPY_MODEL_ffb6bb2976a145e0a91efcb1d2e327e9",
       "placeholder": "​",
       "style": "IPY_MODEL_6bab87b6b7064f74886fa816796944ff",
       "value": "Downloading: 100%"
      }
     },
     "9cadb55c1f3d4f1ab16b9aff68b92174": {
      "model_module": "@jupyter-widgets/controls",
      "model_module_version": "1.5.0",
      "model_name": "FloatProgressModel",
      "state": {
       "_dom_classes": [],
       "_model_module": "@jupyter-widgets/controls",
       "_model_module_version": "1.5.0",
       "_model_name": "FloatProgressModel",
       "_view_count": null,
       "_view_module": "@jupyter-widgets/controls",
       "_view_module_version": "1.5.0",
       "_view_name": "ProgressView",
       "bar_style": "success",
       "description": "",
       "description_tooltip": null,
       "layout": "IPY_MODEL_91bc5765cf534f979b13ab325f4188dc",
       "max": 871891.0,
       "min": 0.0,
       "orientation": "horizontal",
       "style": "IPY_MODEL_aa46ac51d2dd469d9822e1a628b44383",
       "value": 871891.0
      }
     },
     "9ef09dcfc4dd48cca17444dfa1bd6d98": {
      "model_module": "@jupyter-widgets/controls",
      "model_module_version": "1.5.0",
      "model_name": "HBoxModel",
      "state": {
       "_dom_classes": [],
       "_model_module": "@jupyter-widgets/controls",
       "_model_module_version": "1.5.0",
       "_model_name": "HBoxModel",
       "_view_count": null,
       "_view_module": "@jupyter-widgets/controls",
       "_view_module_version": "1.5.0",
       "_view_name": "HBoxView",
       "box_style": "",
       "children": [
        "IPY_MODEL_57604d0b95c440cba3ebdba37eaed0c1",
        "IPY_MODEL_7655f366a09c4aaaab8ec6065b40d780",
        "IPY_MODEL_cee44c7cccf84317b2d4f802b83c6d30"
       ],
       "layout": "IPY_MODEL_6ed8ae68b25742bda4f1a35c53049322"
      }
     },
     "a046891cf7534d89a9e7a3eec100a4cb": {
      "model_module": "@jupyter-widgets/controls",
      "model_module_version": "1.5.0",
      "model_name": "DescriptionStyleModel",
      "state": {
       "_model_module": "@jupyter-widgets/controls",
       "_model_module_version": "1.5.0",
       "_model_name": "DescriptionStyleModel",
       "_view_count": null,
       "_view_module": "@jupyter-widgets/base",
       "_view_module_version": "1.2.0",
       "_view_name": "StyleView",
       "description_width": ""
      }
     },
     "a46c0c6f73334eb5bc4fd03135590cd2": {
      "model_module": "@jupyter-widgets/base",
      "model_module_version": "1.2.0",
      "model_name": "LayoutModel",
      "state": {
       "_model_module": "@jupyter-widgets/base",
       "_model_module_version": "1.2.0",
       "_model_name": "LayoutModel",
       "_view_count": null,
       "_view_module": "@jupyter-widgets/base",
       "_view_module_version": "1.2.0",
       "_view_name": "LayoutView",
       "align_content": null,
       "align_items": null,
       "align_self": null,
       "border": null,
       "bottom": null,
       "display": null,
       "flex": null,
       "flex_flow": null,
       "grid_area": null,
       "grid_auto_columns": null,
       "grid_auto_flow": null,
       "grid_auto_rows": null,
       "grid_column": null,
       "grid_gap": null,
       "grid_row": null,
       "grid_template_areas": null,
       "grid_template_columns": null,
       "grid_template_rows": null,
       "height": null,
       "justify_content": null,
       "justify_items": null,
       "left": null,
       "margin": null,
       "max_height": null,
       "max_width": null,
       "min_height": null,
       "min_width": null,
       "object_fit": null,
       "object_position": null,
       "order": null,
       "overflow": null,
       "overflow_x": null,
       "overflow_y": null,
       "padding": null,
       "right": null,
       "top": null,
       "visibility": null,
       "width": null
      }
     },
     "a670f6708010471f8b443dc6012dce21": {
      "model_module": "@jupyter-widgets/base",
      "model_module_version": "1.2.0",
      "model_name": "LayoutModel",
      "state": {
       "_model_module": "@jupyter-widgets/base",
       "_model_module_version": "1.2.0",
       "_model_name": "LayoutModel",
       "_view_count": null,
       "_view_module": "@jupyter-widgets/base",
       "_view_module_version": "1.2.0",
       "_view_name": "LayoutView",
       "align_content": null,
       "align_items": null,
       "align_self": null,
       "border": null,
       "bottom": null,
       "display": null,
       "flex": null,
       "flex_flow": null,
       "grid_area": null,
       "grid_auto_columns": null,
       "grid_auto_flow": null,
       "grid_auto_rows": null,
       "grid_column": null,
       "grid_gap": null,
       "grid_row": null,
       "grid_template_areas": null,
       "grid_template_columns": null,
       "grid_template_rows": null,
       "height": null,
       "justify_content": null,
       "justify_items": null,
       "left": null,
       "margin": null,
       "max_height": null,
       "max_width": null,
       "min_height": null,
       "min_width": null,
       "object_fit": null,
       "object_position": null,
       "order": null,
       "overflow": null,
       "overflow_x": null,
       "overflow_y": null,
       "padding": null,
       "right": null,
       "top": null,
       "visibility": null,
       "width": null
      }
     },
     "a8afcb6044584468b58a10814fbcf839": {
      "model_module": "@jupyter-widgets/base",
      "model_module_version": "1.2.0",
      "model_name": "LayoutModel",
      "state": {
       "_model_module": "@jupyter-widgets/base",
       "_model_module_version": "1.2.0",
       "_model_name": "LayoutModel",
       "_view_count": null,
       "_view_module": "@jupyter-widgets/base",
       "_view_module_version": "1.2.0",
       "_view_name": "LayoutView",
       "align_content": null,
       "align_items": null,
       "align_self": null,
       "border": null,
       "bottom": null,
       "display": null,
       "flex": null,
       "flex_flow": null,
       "grid_area": null,
       "grid_auto_columns": null,
       "grid_auto_flow": null,
       "grid_auto_rows": null,
       "grid_column": null,
       "grid_gap": null,
       "grid_row": null,
       "grid_template_areas": null,
       "grid_template_columns": null,
       "grid_template_rows": null,
       "height": null,
       "justify_content": null,
       "justify_items": null,
       "left": null,
       "margin": null,
       "max_height": null,
       "max_width": null,
       "min_height": null,
       "min_width": null,
       "object_fit": null,
       "object_position": null,
       "order": null,
       "overflow": null,
       "overflow_x": null,
       "overflow_y": null,
       "padding": null,
       "right": null,
       "top": null,
       "visibility": null,
       "width": null
      }
     },
     "aa46ac51d2dd469d9822e1a628b44383": {
      "model_module": "@jupyter-widgets/controls",
      "model_module_version": "1.5.0",
      "model_name": "ProgressStyleModel",
      "state": {
       "_model_module": "@jupyter-widgets/controls",
       "_model_module_version": "1.5.0",
       "_model_name": "ProgressStyleModel",
       "_view_count": null,
       "_view_module": "@jupyter-widgets/base",
       "_view_module_version": "1.2.0",
       "_view_name": "StyleView",
       "bar_color": null,
       "description_width": ""
      }
     },
     "af6a90ebaf76476dbb6c6ed4d6c06fa9": {
      "model_module": "@jupyter-widgets/base",
      "model_module_version": "1.2.0",
      "model_name": "LayoutModel",
      "state": {
       "_model_module": "@jupyter-widgets/base",
       "_model_module_version": "1.2.0",
       "_model_name": "LayoutModel",
       "_view_count": null,
       "_view_module": "@jupyter-widgets/base",
       "_view_module_version": "1.2.0",
       "_view_name": "LayoutView",
       "align_content": null,
       "align_items": null,
       "align_self": null,
       "border": null,
       "bottom": null,
       "display": null,
       "flex": null,
       "flex_flow": null,
       "grid_area": null,
       "grid_auto_columns": null,
       "grid_auto_flow": null,
       "grid_auto_rows": null,
       "grid_column": null,
       "grid_gap": null,
       "grid_row": null,
       "grid_template_areas": null,
       "grid_template_columns": null,
       "grid_template_rows": null,
       "height": null,
       "justify_content": null,
       "justify_items": null,
       "left": null,
       "margin": null,
       "max_height": null,
       "max_width": null,
       "min_height": null,
       "min_width": null,
       "object_fit": null,
       "object_position": null,
       "order": null,
       "overflow": null,
       "overflow_x": null,
       "overflow_y": null,
       "padding": null,
       "right": null,
       "top": null,
       "visibility": null,
       "width": null
      }
     },
     "b0a33fafd7da4201ae484fc7aef9c4b8": {
      "model_module": "@jupyter-widgets/controls",
      "model_module_version": "1.5.0",
      "model_name": "DescriptionStyleModel",
      "state": {
       "_model_module": "@jupyter-widgets/controls",
       "_model_module_version": "1.5.0",
       "_model_name": "DescriptionStyleModel",
       "_view_count": null,
       "_view_module": "@jupyter-widgets/base",
       "_view_module_version": "1.2.0",
       "_view_name": "StyleView",
       "description_width": ""
      }
     },
     "b38d35b27f0c49208fd8709d09c68752": {
      "model_module": "@jupyter-widgets/base",
      "model_module_version": "1.2.0",
      "model_name": "LayoutModel",
      "state": {
       "_model_module": "@jupyter-widgets/base",
       "_model_module_version": "1.2.0",
       "_model_name": "LayoutModel",
       "_view_count": null,
       "_view_module": "@jupyter-widgets/base",
       "_view_module_version": "1.2.0",
       "_view_name": "LayoutView",
       "align_content": null,
       "align_items": null,
       "align_self": null,
       "border": null,
       "bottom": null,
       "display": null,
       "flex": null,
       "flex_flow": null,
       "grid_area": null,
       "grid_auto_columns": null,
       "grid_auto_flow": null,
       "grid_auto_rows": null,
       "grid_column": null,
       "grid_gap": null,
       "grid_row": null,
       "grid_template_areas": null,
       "grid_template_columns": null,
       "grid_template_rows": null,
       "height": null,
       "justify_content": null,
       "justify_items": null,
       "left": null,
       "margin": null,
       "max_height": null,
       "max_width": null,
       "min_height": null,
       "min_width": null,
       "object_fit": null,
       "object_position": null,
       "order": null,
       "overflow": null,
       "overflow_x": null,
       "overflow_y": null,
       "padding": null,
       "right": null,
       "top": null,
       "visibility": null,
       "width": null
      }
     },
     "b5630414ebbc4bed8e0e7e68464f99b0": {
      "model_module": "@jupyter-widgets/controls",
      "model_module_version": "1.5.0",
      "model_name": "HTMLModel",
      "state": {
       "_dom_classes": [],
       "_model_module": "@jupyter-widgets/controls",
       "_model_module_version": "1.5.0",
       "_model_name": "HTMLModel",
       "_view_count": null,
       "_view_module": "@jupyter-widgets/controls",
       "_view_module_version": "1.5.0",
       "_view_name": "HTMLView",
       "description": "",
       "description_tooltip": null,
       "layout": "IPY_MODEL_633e26c3115247ac920166a3fa90bbcc",
       "placeholder": "​",
       "style": "IPY_MODEL_7f1634eb84154b2cb2b0bf20dfaac930",
       "value": " 512/512 [00:00&lt;00:00, 17.7kB/s]"
      }
     },
     "b69d933659094f5388d8c75ddd39a60b": {
      "model_module": "@jupyter-widgets/base",
      "model_module_version": "1.2.0",
      "model_name": "LayoutModel",
      "state": {
       "_model_module": "@jupyter-widgets/base",
       "_model_module_version": "1.2.0",
       "_model_name": "LayoutModel",
       "_view_count": null,
       "_view_module": "@jupyter-widgets/base",
       "_view_module_version": "1.2.0",
       "_view_name": "LayoutView",
       "align_content": null,
       "align_items": null,
       "align_self": null,
       "border": null,
       "bottom": null,
       "display": null,
       "flex": null,
       "flex_flow": null,
       "grid_area": null,
       "grid_auto_columns": null,
       "grid_auto_flow": null,
       "grid_auto_rows": null,
       "grid_column": null,
       "grid_gap": null,
       "grid_row": null,
       "grid_template_areas": null,
       "grid_template_columns": null,
       "grid_template_rows": null,
       "height": null,
       "justify_content": null,
       "justify_items": null,
       "left": null,
       "margin": null,
       "max_height": null,
       "max_width": null,
       "min_height": null,
       "min_width": null,
       "object_fit": null,
       "object_position": null,
       "order": null,
       "overflow": null,
       "overflow_x": null,
       "overflow_y": null,
       "padding": null,
       "right": null,
       "top": null,
       "visibility": null,
       "width": null
      }
     },
     "b71769d7084b4ad7a93a251076944aeb": {
      "model_module": "@jupyter-widgets/base",
      "model_module_version": "1.2.0",
      "model_name": "LayoutModel",
      "state": {
       "_model_module": "@jupyter-widgets/base",
       "_model_module_version": "1.2.0",
       "_model_name": "LayoutModel",
       "_view_count": null,
       "_view_module": "@jupyter-widgets/base",
       "_view_module_version": "1.2.0",
       "_view_name": "LayoutView",
       "align_content": null,
       "align_items": null,
       "align_self": null,
       "border": null,
       "bottom": null,
       "display": null,
       "flex": null,
       "flex_flow": null,
       "grid_area": null,
       "grid_auto_columns": null,
       "grid_auto_flow": null,
       "grid_auto_rows": null,
       "grid_column": null,
       "grid_gap": null,
       "grid_row": null,
       "grid_template_areas": null,
       "grid_template_columns": null,
       "grid_template_rows": null,
       "height": null,
       "justify_content": null,
       "justify_items": null,
       "left": null,
       "margin": null,
       "max_height": null,
       "max_width": null,
       "min_height": null,
       "min_width": null,
       "object_fit": null,
       "object_position": null,
       "order": null,
       "overflow": null,
       "overflow_x": null,
       "overflow_y": null,
       "padding": null,
       "right": null,
       "top": null,
       "visibility": null,
       "width": null
      }
     },
     "bf3d43b786bd4269a3c93367b83a07d6": {
      "model_module": "@jupyter-widgets/base",
      "model_module_version": "1.2.0",
      "model_name": "LayoutModel",
      "state": {
       "_model_module": "@jupyter-widgets/base",
       "_model_module_version": "1.2.0",
       "_model_name": "LayoutModel",
       "_view_count": null,
       "_view_module": "@jupyter-widgets/base",
       "_view_module_version": "1.2.0",
       "_view_name": "LayoutView",
       "align_content": null,
       "align_items": null,
       "align_self": null,
       "border": null,
       "bottom": null,
       "display": null,
       "flex": null,
       "flex_flow": null,
       "grid_area": null,
       "grid_auto_columns": null,
       "grid_auto_flow": null,
       "grid_auto_rows": null,
       "grid_column": null,
       "grid_gap": null,
       "grid_row": null,
       "grid_template_areas": null,
       "grid_template_columns": null,
       "grid_template_rows": null,
       "height": null,
       "justify_content": null,
       "justify_items": null,
       "left": null,
       "margin": null,
       "max_height": null,
       "max_width": null,
       "min_height": null,
       "min_width": null,
       "object_fit": null,
       "object_position": null,
       "order": null,
       "overflow": null,
       "overflow_x": null,
       "overflow_y": null,
       "padding": null,
       "right": null,
       "top": null,
       "visibility": null,
       "width": null
      }
     },
     "c02c358d341643a7b062ef8bf75cbb37": {
      "model_module": "@jupyter-widgets/controls",
      "model_module_version": "1.5.0",
      "model_name": "HTMLModel",
      "state": {
       "_dom_classes": [],
       "_model_module": "@jupyter-widgets/controls",
       "_model_module_version": "1.5.0",
       "_model_name": "HTMLModel",
       "_view_count": null,
       "_view_module": "@jupyter-widgets/controls",
       "_view_module_version": "1.5.0",
       "_view_name": "HTMLView",
       "description": "",
       "description_tooltip": null,
       "layout": "IPY_MODEL_88567d4a434443cf93dfbd1060d4dc40",
       "placeholder": "​",
       "style": "IPY_MODEL_f6a73541bff144bc86d6b54575c5b887",
       "value": "Downloading: 100%"
      }
     },
     "c4373df1c24b43dcaea6fb9a6831d0e5": {
      "model_module": "@jupyter-widgets/controls",
      "model_module_version": "1.5.0",
      "model_name": "HTMLModel",
      "state": {
       "_dom_classes": [],
       "_model_module": "@jupyter-widgets/controls",
       "_model_module_version": "1.5.0",
       "_model_name": "HTMLModel",
       "_view_count": null,
       "_view_module": "@jupyter-widgets/controls",
       "_view_module_version": "1.5.0",
       "_view_name": "HTMLView",
       "description": "",
       "description_tooltip": null,
       "layout": "IPY_MODEL_53ca1bfd57374189b0f64235e6069e70",
       "placeholder": "​",
       "style": "IPY_MODEL_d8cfbbbbc03e4c01bcd430d67c2acf7b",
       "value": "Downloading: 100%"
      }
     },
     "c78ae214ed4b47eea209e70b12601d65": {
      "model_module": "@jupyter-widgets/base",
      "model_module_version": "1.2.0",
      "model_name": "LayoutModel",
      "state": {
       "_model_module": "@jupyter-widgets/base",
       "_model_module_version": "1.2.0",
       "_model_name": "LayoutModel",
       "_view_count": null,
       "_view_module": "@jupyter-widgets/base",
       "_view_module_version": "1.2.0",
       "_view_name": "LayoutView",
       "align_content": null,
       "align_items": null,
       "align_self": null,
       "border": null,
       "bottom": null,
       "display": null,
       "flex": null,
       "flex_flow": null,
       "grid_area": null,
       "grid_auto_columns": null,
       "grid_auto_flow": null,
       "grid_auto_rows": null,
       "grid_column": null,
       "grid_gap": null,
       "grid_row": null,
       "grid_template_areas": null,
       "grid_template_columns": null,
       "grid_template_rows": null,
       "height": null,
       "justify_content": null,
       "justify_items": null,
       "left": null,
       "margin": null,
       "max_height": null,
       "max_width": null,
       "min_height": null,
       "min_width": null,
       "object_fit": null,
       "object_position": null,
       "order": null,
       "overflow": null,
       "overflow_x": null,
       "overflow_y": null,
       "padding": null,
       "right": null,
       "top": null,
       "visibility": null,
       "width": null
      }
     },
     "c7af6865a32848a8a529456d9d33f113": {
      "model_module": "@jupyter-widgets/base",
      "model_module_version": "1.2.0",
      "model_name": "LayoutModel",
      "state": {
       "_model_module": "@jupyter-widgets/base",
       "_model_module_version": "1.2.0",
       "_model_name": "LayoutModel",
       "_view_count": null,
       "_view_module": "@jupyter-widgets/base",
       "_view_module_version": "1.2.0",
       "_view_name": "LayoutView",
       "align_content": null,
       "align_items": null,
       "align_self": null,
       "border": null,
       "bottom": null,
       "display": null,
       "flex": null,
       "flex_flow": null,
       "grid_area": null,
       "grid_auto_columns": null,
       "grid_auto_flow": null,
       "grid_auto_rows": null,
       "grid_column": null,
       "grid_gap": null,
       "grid_row": null,
       "grid_template_areas": null,
       "grid_template_columns": null,
       "grid_template_rows": null,
       "height": null,
       "justify_content": null,
       "justify_items": null,
       "left": null,
       "margin": null,
       "max_height": null,
       "max_width": null,
       "min_height": null,
       "min_width": null,
       "object_fit": null,
       "object_position": null,
       "order": null,
       "overflow": null,
       "overflow_x": null,
       "overflow_y": null,
       "padding": null,
       "right": null,
       "top": null,
       "visibility": null,
       "width": null
      }
     },
     "c7d03d87fab149d6b836b03fd4fc6b56": {
      "model_module": "@jupyter-widgets/controls",
      "model_module_version": "1.5.0",
      "model_name": "ProgressStyleModel",
      "state": {
       "_model_module": "@jupyter-widgets/controls",
       "_model_module_version": "1.5.0",
       "_model_name": "ProgressStyleModel",
       "_view_count": null,
       "_view_module": "@jupyter-widgets/base",
       "_view_module_version": "1.2.0",
       "_view_name": "StyleView",
       "bar_color": null,
       "description_width": ""
      }
     },
     "c9bc836ff8c4484a8af2c4c7cbae7d6a": {
      "model_module": "@jupyter-widgets/controls",
      "model_module_version": "1.5.0",
      "model_name": "ProgressStyleModel",
      "state": {
       "_model_module": "@jupyter-widgets/controls",
       "_model_module_version": "1.5.0",
       "_model_name": "ProgressStyleModel",
       "_view_count": null,
       "_view_module": "@jupyter-widgets/base",
       "_view_module_version": "1.2.0",
       "_view_name": "StyleView",
       "bar_color": null,
       "description_width": ""
      }
     },
     "ca04ccff382a4b0daf27c9f5427c2e64": {
      "model_module": "@jupyter-widgets/controls",
      "model_module_version": "1.5.0",
      "model_name": "FloatProgressModel",
      "state": {
       "_dom_classes": [],
       "_model_module": "@jupyter-widgets/controls",
       "_model_module_version": "1.5.0",
       "_model_name": "FloatProgressModel",
       "_view_count": null,
       "_view_module": "@jupyter-widgets/controls",
       "_view_module_version": "1.5.0",
       "_view_name": "ProgressView",
       "bar_style": "success",
       "description": "",
       "description_tooltip": null,
       "layout": "IPY_MODEL_ca7884bf2e83411fbabbc9c57e4944e1",
       "max": 615.0,
       "min": 0.0,
       "orientation": "horizontal",
       "style": "IPY_MODEL_0e8a6ff5dda54899a42232769d5f045f",
       "value": 615.0
      }
     },
     "ca7884bf2e83411fbabbc9c57e4944e1": {
      "model_module": "@jupyter-widgets/base",
      "model_module_version": "1.2.0",
      "model_name": "LayoutModel",
      "state": {
       "_model_module": "@jupyter-widgets/base",
       "_model_module_version": "1.2.0",
       "_model_name": "LayoutModel",
       "_view_count": null,
       "_view_module": "@jupyter-widgets/base",
       "_view_module_version": "1.2.0",
       "_view_name": "LayoutView",
       "align_content": null,
       "align_items": null,
       "align_self": null,
       "border": null,
       "bottom": null,
       "display": null,
       "flex": null,
       "flex_flow": null,
       "grid_area": null,
       "grid_auto_columns": null,
       "grid_auto_flow": null,
       "grid_auto_rows": null,
       "grid_column": null,
       "grid_gap": null,
       "grid_row": null,
       "grid_template_areas": null,
       "grid_template_columns": null,
       "grid_template_rows": null,
       "height": null,
       "justify_content": null,
       "justify_items": null,
       "left": null,
       "margin": null,
       "max_height": null,
       "max_width": null,
       "min_height": null,
       "min_width": null,
       "object_fit": null,
       "object_position": null,
       "order": null,
       "overflow": null,
       "overflow_x": null,
       "overflow_y": null,
       "padding": null,
       "right": null,
       "top": null,
       "visibility": null,
       "width": null
      }
     },
     "cd2face394fc496fb47ef8e2d879da2a": {
      "model_module": "@jupyter-widgets/base",
      "model_module_version": "1.2.0",
      "model_name": "LayoutModel",
      "state": {
       "_model_module": "@jupyter-widgets/base",
       "_model_module_version": "1.2.0",
       "_model_name": "LayoutModel",
       "_view_count": null,
       "_view_module": "@jupyter-widgets/base",
       "_view_module_version": "1.2.0",
       "_view_name": "LayoutView",
       "align_content": null,
       "align_items": null,
       "align_self": null,
       "border": null,
       "bottom": null,
       "display": null,
       "flex": null,
       "flex_flow": null,
       "grid_area": null,
       "grid_auto_columns": null,
       "grid_auto_flow": null,
       "grid_auto_rows": null,
       "grid_column": null,
       "grid_gap": null,
       "grid_row": null,
       "grid_template_areas": null,
       "grid_template_columns": null,
       "grid_template_rows": null,
       "height": null,
       "justify_content": null,
       "justify_items": null,
       "left": null,
       "margin": null,
       "max_height": null,
       "max_width": null,
       "min_height": null,
       "min_width": null,
       "object_fit": null,
       "object_position": null,
       "order": null,
       "overflow": null,
       "overflow_x": null,
       "overflow_y": null,
       "padding": null,
       "right": null,
       "top": null,
       "visibility": null,
       "width": null
      }
     },
     "cdbe21ea56f0435da10ee531ee82e516": {
      "model_module": "@jupyter-widgets/controls",
      "model_module_version": "1.5.0",
      "model_name": "HTMLModel",
      "state": {
       "_dom_classes": [],
       "_model_module": "@jupyter-widgets/controls",
       "_model_module_version": "1.5.0",
       "_model_name": "HTMLModel",
       "_view_count": null,
       "_view_module": "@jupyter-widgets/controls",
       "_view_module_version": "1.5.0",
       "_view_name": "HTMLView",
       "description": "",
       "description_tooltip": null,
       "layout": "IPY_MODEL_a670f6708010471f8b443dc6012dce21",
       "placeholder": "​",
       "style": "IPY_MODEL_4400d2b38d9a4e7ea140c7c19d9448ca",
       "value": " 391/391 [00:00&lt;00:00, 14.0kB/s]"
      }
     },
     "cee44c7cccf84317b2d4f802b83c6d30": {
      "model_module": "@jupyter-widgets/controls",
      "model_module_version": "1.5.0",
      "model_name": "HTMLModel",
      "state": {
       "_dom_classes": [],
       "_model_module": "@jupyter-widgets/controls",
       "_model_module_version": "1.5.0",
       "_model_name": "HTMLModel",
       "_view_count": null,
       "_view_module": "@jupyter-widgets/controls",
       "_view_module_version": "1.5.0",
       "_view_name": "HTMLView",
       "description": "",
       "description_tooltip": null,
       "layout": "IPY_MODEL_520702903b464b9fbef15053fa105283",
       "placeholder": "​",
       "style": "IPY_MODEL_f8d89f151c82433bb1d3a2d270f229e6",
       "value": " 1.64M/1.64M [00:00&lt;00:00, 3.46MB/s]"
      }
     },
     "d0e4eba94d16415c964d2aa17d547de3": {
      "model_module": "@jupyter-widgets/controls",
      "model_module_version": "1.5.0",
      "model_name": "HTMLModel",
      "state": {
       "_dom_classes": [],
       "_model_module": "@jupyter-widgets/controls",
       "_model_module_version": "1.5.0",
       "_model_name": "HTMLModel",
       "_view_count": null,
       "_view_module": "@jupyter-widgets/controls",
       "_view_module_version": "1.5.0",
       "_view_name": "HTMLView",
       "description": "",
       "description_tooltip": null,
       "layout": "IPY_MODEL_01dd1eb659ff46688cdcc50507084d98",
       "placeholder": "​",
       "style": "IPY_MODEL_e11bba3e1d974397bed8c99a8526a9cd",
       "value": " 953M/953M [00:33&lt;00:00, 29.5MB/s]"
      }
     },
     "d4eb752dbaf449c89d804f7f70a2c380": {
      "model_module": "@jupyter-widgets/controls",
      "model_module_version": "1.5.0",
      "model_name": "HTMLModel",
      "state": {
       "_dom_classes": [],
       "_model_module": "@jupyter-widgets/controls",
       "_model_module_version": "1.5.0",
       "_model_name": "HTMLModel",
       "_view_count": null,
       "_view_module": "@jupyter-widgets/controls",
       "_view_module_version": "1.5.0",
       "_view_name": "HTMLView",
       "description": "",
       "description_tooltip": null,
       "layout": "IPY_MODEL_270c34a522a346759e366796b21b060a",
       "placeholder": "​",
       "style": "IPY_MODEL_4b1c3841ed0f4582989ccb73b2add2cd",
       "value": " 851k/851k [00:00&lt;00:00, 1.38MB/s]"
      }
     },
     "d76653852ebc4aada9416711fa5d4d38": {
      "model_module": "@jupyter-widgets/controls",
      "model_module_version": "1.5.0",
      "model_name": "DescriptionStyleModel",
      "state": {
       "_model_module": "@jupyter-widgets/controls",
       "_model_module_version": "1.5.0",
       "_model_name": "DescriptionStyleModel",
       "_view_count": null,
       "_view_module": "@jupyter-widgets/base",
       "_view_module_version": "1.2.0",
       "_view_name": "StyleView",
       "description_width": ""
      }
     },
     "d8cfbbbbc03e4c01bcd430d67c2acf7b": {
      "model_module": "@jupyter-widgets/controls",
      "model_module_version": "1.5.0",
      "model_name": "DescriptionStyleModel",
      "state": {
       "_model_module": "@jupyter-widgets/controls",
       "_model_module_version": "1.5.0",
       "_model_name": "DescriptionStyleModel",
       "_view_count": null,
       "_view_module": "@jupyter-widgets/base",
       "_view_module_version": "1.2.0",
       "_view_name": "StyleView",
       "description_width": ""
      }
     },
     "d8d8f9d70ce44a4cb19d5b5e50edfffa": {
      "model_module": "@jupyter-widgets/controls",
      "model_module_version": "1.5.0",
      "model_name": "HBoxModel",
      "state": {
       "_dom_classes": [],
       "_model_module": "@jupyter-widgets/controls",
       "_model_module_version": "1.5.0",
       "_model_name": "HBoxModel",
       "_view_count": null,
       "_view_module": "@jupyter-widgets/controls",
       "_view_module_version": "1.5.0",
       "_view_name": "HBoxView",
       "box_style": "",
       "children": [
        "IPY_MODEL_6384cc6242d7417a81641d20e6cec968",
        "IPY_MODEL_208212d944a442ad959d65fb16b1afe5",
        "IPY_MODEL_d0e4eba94d16415c964d2aa17d547de3"
       ],
       "layout": "IPY_MODEL_3089151144934fa88218613b2f1612db"
      }
     },
     "db9e904fa83c4919b7be3c83ccff7cc7": {
      "model_module": "@jupyter-widgets/controls",
      "model_module_version": "1.5.0",
      "model_name": "DescriptionStyleModel",
      "state": {
       "_model_module": "@jupyter-widgets/controls",
       "_model_module_version": "1.5.0",
       "_model_name": "DescriptionStyleModel",
       "_view_count": null,
       "_view_module": "@jupyter-widgets/base",
       "_view_module_version": "1.2.0",
       "_view_name": "StyleView",
       "description_width": ""
      }
     },
     "dbba76f5fcd449f7b8ee53baf50666be": {
      "model_module": "@jupyter-widgets/base",
      "model_module_version": "1.2.0",
      "model_name": "LayoutModel",
      "state": {
       "_model_module": "@jupyter-widgets/base",
       "_model_module_version": "1.2.0",
       "_model_name": "LayoutModel",
       "_view_count": null,
       "_view_module": "@jupyter-widgets/base",
       "_view_module_version": "1.2.0",
       "_view_name": "LayoutView",
       "align_content": null,
       "align_items": null,
       "align_self": null,
       "border": null,
       "bottom": null,
       "display": null,
       "flex": null,
       "flex_flow": null,
       "grid_area": null,
       "grid_auto_columns": null,
       "grid_auto_flow": null,
       "grid_auto_rows": null,
       "grid_column": null,
       "grid_gap": null,
       "grid_row": null,
       "grid_template_areas": null,
       "grid_template_columns": null,
       "grid_template_rows": null,
       "height": null,
       "justify_content": null,
       "justify_items": null,
       "left": null,
       "margin": null,
       "max_height": null,
       "max_width": null,
       "min_height": null,
       "min_width": null,
       "object_fit": null,
       "object_position": null,
       "order": null,
       "overflow": null,
       "overflow_x": null,
       "overflow_y": null,
       "padding": null,
       "right": null,
       "top": null,
       "visibility": null,
       "width": null
      }
     },
     "dc185337a9ad49dfb7db5c85fdebbdbc": {
      "model_module": "@jupyter-widgets/base",
      "model_module_version": "1.2.0",
      "model_name": "LayoutModel",
      "state": {
       "_model_module": "@jupyter-widgets/base",
       "_model_module_version": "1.2.0",
       "_model_name": "LayoutModel",
       "_view_count": null,
       "_view_module": "@jupyter-widgets/base",
       "_view_module_version": "1.2.0",
       "_view_name": "LayoutView",
       "align_content": null,
       "align_items": null,
       "align_self": null,
       "border": null,
       "bottom": null,
       "display": null,
       "flex": null,
       "flex_flow": null,
       "grid_area": null,
       "grid_auto_columns": null,
       "grid_auto_flow": null,
       "grid_auto_rows": null,
       "grid_column": null,
       "grid_gap": null,
       "grid_row": null,
       "grid_template_areas": null,
       "grid_template_columns": null,
       "grid_template_rows": null,
       "height": null,
       "justify_content": null,
       "justify_items": null,
       "left": null,
       "margin": null,
       "max_height": null,
       "max_width": null,
       "min_height": null,
       "min_width": null,
       "object_fit": null,
       "object_position": null,
       "order": null,
       "overflow": null,
       "overflow_x": null,
       "overflow_y": null,
       "padding": null,
       "right": null,
       "top": null,
       "visibility": null,
       "width": null
      }
     },
     "e11bba3e1d974397bed8c99a8526a9cd": {
      "model_module": "@jupyter-widgets/controls",
      "model_module_version": "1.5.0",
      "model_name": "DescriptionStyleModel",
      "state": {
       "_model_module": "@jupyter-widgets/controls",
       "_model_module_version": "1.5.0",
       "_model_name": "DescriptionStyleModel",
       "_view_count": null,
       "_view_module": "@jupyter-widgets/base",
       "_view_module_version": "1.2.0",
       "_view_name": "StyleView",
       "description_width": ""
      }
     },
     "e407dca31299458c800a0318c508965f": {
      "model_module": "@jupyter-widgets/controls",
      "model_module_version": "1.5.0",
      "model_name": "DescriptionStyleModel",
      "state": {
       "_model_module": "@jupyter-widgets/controls",
       "_model_module_version": "1.5.0",
       "_model_name": "DescriptionStyleModel",
       "_view_count": null,
       "_view_module": "@jupyter-widgets/base",
       "_view_module_version": "1.2.0",
       "_view_name": "StyleView",
       "description_width": ""
      }
     },
     "e482c1f5e75b47ffbfc07d41e62ca8f5": {
      "model_module": "@jupyter-widgets/base",
      "model_module_version": "1.2.0",
      "model_name": "LayoutModel",
      "state": {
       "_model_module": "@jupyter-widgets/base",
       "_model_module_version": "1.2.0",
       "_model_name": "LayoutModel",
       "_view_count": null,
       "_view_module": "@jupyter-widgets/base",
       "_view_module_version": "1.2.0",
       "_view_name": "LayoutView",
       "align_content": null,
       "align_items": null,
       "align_self": null,
       "border": null,
       "bottom": null,
       "display": null,
       "flex": null,
       "flex_flow": null,
       "grid_area": null,
       "grid_auto_columns": null,
       "grid_auto_flow": null,
       "grid_auto_rows": null,
       "grid_column": null,
       "grid_gap": null,
       "grid_row": null,
       "grid_template_areas": null,
       "grid_template_columns": null,
       "grid_template_rows": null,
       "height": null,
       "justify_content": null,
       "justify_items": null,
       "left": null,
       "margin": null,
       "max_height": null,
       "max_width": null,
       "min_height": null,
       "min_width": null,
       "object_fit": null,
       "object_position": null,
       "order": null,
       "overflow": null,
       "overflow_x": null,
       "overflow_y": null,
       "padding": null,
       "right": null,
       "top": null,
       "visibility": null,
       "width": null
      }
     },
     "e656df03f94946d1b2971626a0849d20": {
      "model_module": "@jupyter-widgets/base",
      "model_module_version": "1.2.0",
      "model_name": "LayoutModel",
      "state": {
       "_model_module": "@jupyter-widgets/base",
       "_model_module_version": "1.2.0",
       "_model_name": "LayoutModel",
       "_view_count": null,
       "_view_module": "@jupyter-widgets/base",
       "_view_module_version": "1.2.0",
       "_view_name": "LayoutView",
       "align_content": null,
       "align_items": null,
       "align_self": null,
       "border": null,
       "bottom": null,
       "display": null,
       "flex": null,
       "flex_flow": null,
       "grid_area": null,
       "grid_auto_columns": null,
       "grid_auto_flow": null,
       "grid_auto_rows": null,
       "grid_column": null,
       "grid_gap": null,
       "grid_row": null,
       "grid_template_areas": null,
       "grid_template_columns": null,
       "grid_template_rows": null,
       "height": null,
       "justify_content": null,
       "justify_items": null,
       "left": null,
       "margin": null,
       "max_height": null,
       "max_width": null,
       "min_height": null,
       "min_width": null,
       "object_fit": null,
       "object_position": null,
       "order": null,
       "overflow": null,
       "overflow_x": null,
       "overflow_y": null,
       "padding": null,
       "right": null,
       "top": null,
       "visibility": null,
       "width": null
      }
     },
     "eb85fd5db67d4c3f8d9302a782130dd2": {
      "model_module": "@jupyter-widgets/controls",
      "model_module_version": "1.5.0",
      "model_name": "FloatProgressModel",
      "state": {
       "_dom_classes": [],
       "_model_module": "@jupyter-widgets/controls",
       "_model_module_version": "1.5.0",
       "_model_name": "FloatProgressModel",
       "_view_count": null,
       "_view_module": "@jupyter-widgets/controls",
       "_view_module_version": "1.5.0",
       "_view_name": "ProgressView",
       "bar_style": "success",
       "description": "",
       "description_tooltip": null,
       "layout": "IPY_MODEL_3e13dc6333ea44cb818cb82215070b38",
       "max": 54146476.0,
       "min": 0.0,
       "orientation": "horizontal",
       "style": "IPY_MODEL_1075d54a8a1e465d95bdd1fd440b4d0c",
       "value": 54146476.0
      }
     },
     "ee0f97c01b784d5d9a15c43c02396a45": {
      "model_module": "@jupyter-widgets/controls",
      "model_module_version": "1.5.0",
      "model_name": "HBoxModel",
      "state": {
       "_dom_classes": [],
       "_model_module": "@jupyter-widgets/controls",
       "_model_module_version": "1.5.0",
       "_model_name": "HBoxModel",
       "_view_count": null,
       "_view_module": "@jupyter-widgets/controls",
       "_view_module_version": "1.5.0",
       "_view_name": "HBoxView",
       "box_style": "",
       "children": [
        "IPY_MODEL_53193d407b2f482d987d3000eb1de757",
        "IPY_MODEL_51ecc919e3504f5aa761c7c5cd5ae9d2",
        "IPY_MODEL_460c3a4926b742ff8c5ae028b50ecaaa"
       ],
       "layout": "IPY_MODEL_8ffa00670c9244b385f7af9db54f7c0a"
      }
     },
     "ef1c1e70ebb940058e4c51d721691f8b": {
      "model_module": "@jupyter-widgets/controls",
      "model_module_version": "1.5.0",
      "model_name": "DescriptionStyleModel",
      "state": {
       "_model_module": "@jupyter-widgets/controls",
       "_model_module_version": "1.5.0",
       "_model_name": "DescriptionStyleModel",
       "_view_count": null,
       "_view_module": "@jupyter-widgets/base",
       "_view_module_version": "1.2.0",
       "_view_name": "StyleView",
       "description_width": ""
      }
     },
     "f1e998683e3c42afa676fe614a94d837": {
      "model_module": "@jupyter-widgets/base",
      "model_module_version": "1.2.0",
      "model_name": "LayoutModel",
      "state": {
       "_model_module": "@jupyter-widgets/base",
       "_model_module_version": "1.2.0",
       "_model_name": "LayoutModel",
       "_view_count": null,
       "_view_module": "@jupyter-widgets/base",
       "_view_module_version": "1.2.0",
       "_view_name": "LayoutView",
       "align_content": null,
       "align_items": null,
       "align_self": null,
       "border": null,
       "bottom": null,
       "display": null,
       "flex": null,
       "flex_flow": null,
       "grid_area": null,
       "grid_auto_columns": null,
       "grid_auto_flow": null,
       "grid_auto_rows": null,
       "grid_column": null,
       "grid_gap": null,
       "grid_row": null,
       "grid_template_areas": null,
       "grid_template_columns": null,
       "grid_template_rows": null,
       "height": null,
       "justify_content": null,
       "justify_items": null,
       "left": null,
       "margin": null,
       "max_height": null,
       "max_width": null,
       "min_height": null,
       "min_width": null,
       "object_fit": null,
       "object_position": null,
       "order": null,
       "overflow": null,
       "overflow_x": null,
       "overflow_y": null,
       "padding": null,
       "right": null,
       "top": null,
       "visibility": null,
       "width": null
      }
     },
     "f2c9a79ae56f4a63b28981485eaff960": {
      "model_module": "@jupyter-widgets/controls",
      "model_module_version": "1.5.0",
      "model_name": "ProgressStyleModel",
      "state": {
       "_model_module": "@jupyter-widgets/controls",
       "_model_module_version": "1.5.0",
       "_model_name": "ProgressStyleModel",
       "_view_count": null,
       "_view_module": "@jupyter-widgets/base",
       "_view_module_version": "1.2.0",
       "_view_name": "StyleView",
       "bar_color": null,
       "description_width": ""
      }
     },
     "f566932f35954d03b18dd78966788a92": {
      "model_module": "@jupyter-widgets/base",
      "model_module_version": "1.2.0",
      "model_name": "LayoutModel",
      "state": {
       "_model_module": "@jupyter-widgets/base",
       "_model_module_version": "1.2.0",
       "_model_name": "LayoutModel",
       "_view_count": null,
       "_view_module": "@jupyter-widgets/base",
       "_view_module_version": "1.2.0",
       "_view_name": "LayoutView",
       "align_content": null,
       "align_items": null,
       "align_self": null,
       "border": null,
       "bottom": null,
       "display": null,
       "flex": null,
       "flex_flow": null,
       "grid_area": null,
       "grid_auto_columns": null,
       "grid_auto_flow": null,
       "grid_auto_rows": null,
       "grid_column": null,
       "grid_gap": null,
       "grid_row": null,
       "grid_template_areas": null,
       "grid_template_columns": null,
       "grid_template_rows": null,
       "height": null,
       "justify_content": null,
       "justify_items": null,
       "left": null,
       "margin": null,
       "max_height": null,
       "max_width": null,
       "min_height": null,
       "min_width": null,
       "object_fit": null,
       "object_position": null,
       "order": null,
       "overflow": null,
       "overflow_x": null,
       "overflow_y": null,
       "padding": null,
       "right": null,
       "top": null,
       "visibility": null,
       "width": null
      }
     },
     "f6a73541bff144bc86d6b54575c5b887": {
      "model_module": "@jupyter-widgets/controls",
      "model_module_version": "1.5.0",
      "model_name": "DescriptionStyleModel",
      "state": {
       "_model_module": "@jupyter-widgets/controls",
       "_model_module_version": "1.5.0",
       "_model_name": "DescriptionStyleModel",
       "_view_count": null,
       "_view_module": "@jupyter-widgets/base",
       "_view_module_version": "1.2.0",
       "_view_name": "StyleView",
       "description_width": ""
      }
     },
     "f6f1ff7b44624913913a65108a317a89": {
      "model_module": "@jupyter-widgets/controls",
      "model_module_version": "1.5.0",
      "model_name": "HBoxModel",
      "state": {
       "_dom_classes": [],
       "_model_module": "@jupyter-widgets/controls",
       "_model_module_version": "1.5.0",
       "_model_name": "HBoxModel",
       "_view_count": null,
       "_view_module": "@jupyter-widgets/controls",
       "_view_module_version": "1.5.0",
       "_view_name": "HBoxView",
       "box_style": "",
       "children": [
        "IPY_MODEL_5346b8c687864c9284c642865df75d1d",
        "IPY_MODEL_4f1dd5cba8a443f6816a738c11758e95",
        "IPY_MODEL_464315e052834c2b8c526d8f9acce453"
       ],
       "layout": "IPY_MODEL_fb00b726059646519e30b49c17bb7f9f"
      }
     },
     "f7b599ff98bb4e61b0427463d3f0d742": {
      "model_module": "@jupyter-widgets/base",
      "model_module_version": "1.2.0",
      "model_name": "LayoutModel",
      "state": {
       "_model_module": "@jupyter-widgets/base",
       "_model_module_version": "1.2.0",
       "_model_name": "LayoutModel",
       "_view_count": null,
       "_view_module": "@jupyter-widgets/base",
       "_view_module_version": "1.2.0",
       "_view_name": "LayoutView",
       "align_content": null,
       "align_items": null,
       "align_self": null,
       "border": null,
       "bottom": null,
       "display": null,
       "flex": null,
       "flex_flow": null,
       "grid_area": null,
       "grid_auto_columns": null,
       "grid_auto_flow": null,
       "grid_auto_rows": null,
       "grid_column": null,
       "grid_gap": null,
       "grid_row": null,
       "grid_template_areas": null,
       "grid_template_columns": null,
       "grid_template_rows": null,
       "height": null,
       "justify_content": null,
       "justify_items": null,
       "left": null,
       "margin": null,
       "max_height": null,
       "max_width": null,
       "min_height": null,
       "min_width": null,
       "object_fit": null,
       "object_position": null,
       "order": null,
       "overflow": null,
       "overflow_x": null,
       "overflow_y": null,
       "padding": null,
       "right": null,
       "top": null,
       "visibility": null,
       "width": null
      }
     },
     "f8d89f151c82433bb1d3a2d270f229e6": {
      "model_module": "@jupyter-widgets/controls",
      "model_module_version": "1.5.0",
      "model_name": "DescriptionStyleModel",
      "state": {
       "_model_module": "@jupyter-widgets/controls",
       "_model_module_version": "1.5.0",
       "_model_name": "DescriptionStyleModel",
       "_view_count": null,
       "_view_module": "@jupyter-widgets/base",
       "_view_module_version": "1.2.0",
       "_view_name": "StyleView",
       "description_width": ""
      }
     },
     "f903330200224d81aebec88fba1ffc0a": {
      "model_module": "@jupyter-widgets/controls",
      "model_module_version": "1.5.0",
      "model_name": "HTMLModel",
      "state": {
       "_dom_classes": [],
       "_model_module": "@jupyter-widgets/controls",
       "_model_module_version": "1.5.0",
       "_model_name": "HTMLModel",
       "_view_count": null,
       "_view_module": "@jupyter-widgets/controls",
       "_view_module_version": "1.5.0",
       "_view_name": "HTMLView",
       "description": "",
       "description_tooltip": null,
       "layout": "IPY_MODEL_e656df03f94946d1b2971626a0849d20",
       "placeholder": "​",
       "style": "IPY_MODEL_6e7ffdc1611640bd9445f2b33d1512b9",
       "value": " 28.0/28.0 [00:00&lt;00:00, 1.07kB/s]"
      }
     },
     "f93f54d878174544ad1a7042092ba8b7": {
      "model_module": "@jupyter-widgets/base",
      "model_module_version": "1.2.0",
      "model_name": "LayoutModel",
      "state": {
       "_model_module": "@jupyter-widgets/base",
       "_model_module_version": "1.2.0",
       "_model_name": "LayoutModel",
       "_view_count": null,
       "_view_module": "@jupyter-widgets/base",
       "_view_module_version": "1.2.0",
       "_view_name": "LayoutView",
       "align_content": null,
       "align_items": null,
       "align_self": null,
       "border": null,
       "bottom": null,
       "display": null,
       "flex": null,
       "flex_flow": null,
       "grid_area": null,
       "grid_auto_columns": null,
       "grid_auto_flow": null,
       "grid_auto_rows": null,
       "grid_column": null,
       "grid_gap": null,
       "grid_row": null,
       "grid_template_areas": null,
       "grid_template_columns": null,
       "grid_template_rows": null,
       "height": null,
       "justify_content": null,
       "justify_items": null,
       "left": null,
       "margin": null,
       "max_height": null,
       "max_width": null,
       "min_height": null,
       "min_width": null,
       "object_fit": null,
       "object_position": null,
       "order": null,
       "overflow": null,
       "overflow_x": null,
       "overflow_y": null,
       "padding": null,
       "right": null,
       "top": null,
       "visibility": null,
       "width": null
      }
     },
     "fabfce33ba854d9493855fc661c0d98c": {
      "model_module": "@jupyter-widgets/base",
      "model_module_version": "1.2.0",
      "model_name": "LayoutModel",
      "state": {
       "_model_module": "@jupyter-widgets/base",
       "_model_module_version": "1.2.0",
       "_model_name": "LayoutModel",
       "_view_count": null,
       "_view_module": "@jupyter-widgets/base",
       "_view_module_version": "1.2.0",
       "_view_name": "LayoutView",
       "align_content": null,
       "align_items": null,
       "align_self": null,
       "border": null,
       "bottom": null,
       "display": null,
       "flex": null,
       "flex_flow": null,
       "grid_area": null,
       "grid_auto_columns": null,
       "grid_auto_flow": null,
       "grid_auto_rows": null,
       "grid_column": null,
       "grid_gap": null,
       "grid_row": null,
       "grid_template_areas": null,
       "grid_template_columns": null,
       "grid_template_rows": null,
       "height": null,
       "justify_content": null,
       "justify_items": null,
       "left": null,
       "margin": null,
       "max_height": null,
       "max_width": null,
       "min_height": null,
       "min_width": null,
       "object_fit": null,
       "object_position": null,
       "order": null,
       "overflow": null,
       "overflow_x": null,
       "overflow_y": null,
       "padding": null,
       "right": null,
       "top": null,
       "visibility": null,
       "width": null
      }
     },
     "fb00b726059646519e30b49c17bb7f9f": {
      "model_module": "@jupyter-widgets/base",
      "model_module_version": "1.2.0",
      "model_name": "LayoutModel",
      "state": {
       "_model_module": "@jupyter-widgets/base",
       "_model_module_version": "1.2.0",
       "_model_name": "LayoutModel",
       "_view_count": null,
       "_view_module": "@jupyter-widgets/base",
       "_view_module_version": "1.2.0",
       "_view_name": "LayoutView",
       "align_content": null,
       "align_items": null,
       "align_self": null,
       "border": null,
       "bottom": null,
       "display": null,
       "flex": null,
       "flex_flow": null,
       "grid_area": null,
       "grid_auto_columns": null,
       "grid_auto_flow": null,
       "grid_auto_rows": null,
       "grid_column": null,
       "grid_gap": null,
       "grid_row": null,
       "grid_template_areas": null,
       "grid_template_columns": null,
       "grid_template_rows": null,
       "height": null,
       "justify_content": null,
       "justify_items": null,
       "left": null,
       "margin": null,
       "max_height": null,
       "max_width": null,
       "min_height": null,
       "min_width": null,
       "object_fit": null,
       "object_position": null,
       "order": null,
       "overflow": null,
       "overflow_x": null,
       "overflow_y": null,
       "padding": null,
       "right": null,
       "top": null,
       "visibility": null,
       "width": null
      }
     },
     "fd63cff82f364d95bc069641e14b8d8a": {
      "model_module": "@jupyter-widgets/base",
      "model_module_version": "1.2.0",
      "model_name": "LayoutModel",
      "state": {
       "_model_module": "@jupyter-widgets/base",
       "_model_module_version": "1.2.0",
       "_model_name": "LayoutModel",
       "_view_count": null,
       "_view_module": "@jupyter-widgets/base",
       "_view_module_version": "1.2.0",
       "_view_name": "LayoutView",
       "align_content": null,
       "align_items": null,
       "align_self": null,
       "border": null,
       "bottom": null,
       "display": null,
       "flex": null,
       "flex_flow": null,
       "grid_area": null,
       "grid_auto_columns": null,
       "grid_auto_flow": null,
       "grid_auto_rows": null,
       "grid_column": null,
       "grid_gap": null,
       "grid_row": null,
       "grid_template_areas": null,
       "grid_template_columns": null,
       "grid_template_rows": null,
       "height": null,
       "justify_content": null,
       "justify_items": null,
       "left": null,
       "margin": null,
       "max_height": null,
       "max_width": null,
       "min_height": null,
       "min_width": null,
       "object_fit": null,
       "object_position": null,
       "order": null,
       "overflow": null,
       "overflow_x": null,
       "overflow_y": null,
       "padding": null,
       "right": null,
       "top": null,
       "visibility": null,
       "width": null
      }
     },
     "fdcf4ea5a08f4c9e96aa7b7f58f7ebb7": {
      "model_module": "@jupyter-widgets/base",
      "model_module_version": "1.2.0",
      "model_name": "LayoutModel",
      "state": {
       "_model_module": "@jupyter-widgets/base",
       "_model_module_version": "1.2.0",
       "_model_name": "LayoutModel",
       "_view_count": null,
       "_view_module": "@jupyter-widgets/base",
       "_view_module_version": "1.2.0",
       "_view_name": "LayoutView",
       "align_content": null,
       "align_items": null,
       "align_self": null,
       "border": null,
       "bottom": null,
       "display": null,
       "flex": null,
       "flex_flow": null,
       "grid_area": null,
       "grid_auto_columns": null,
       "grid_auto_flow": null,
       "grid_auto_rows": null,
       "grid_column": null,
       "grid_gap": null,
       "grid_row": null,
       "grid_template_areas": null,
       "grid_template_columns": null,
       "grid_template_rows": null,
       "height": null,
       "justify_content": null,
       "justify_items": null,
       "left": null,
       "margin": null,
       "max_height": null,
       "max_width": null,
       "min_height": null,
       "min_width": null,
       "object_fit": null,
       "object_position": null,
       "order": null,
       "overflow": null,
       "overflow_x": null,
       "overflow_y": null,
       "padding": null,
       "right": null,
       "top": null,
       "visibility": null,
       "width": null
      }
     },
     "fe93e7375dba42cb890f91793f688c3f": {
      "model_module": "@jupyter-widgets/controls",
      "model_module_version": "1.5.0",
      "model_name": "ProgressStyleModel",
      "state": {
       "_model_module": "@jupyter-widgets/controls",
       "_model_module_version": "1.5.0",
       "_model_name": "ProgressStyleModel",
       "_view_count": null,
       "_view_module": "@jupyter-widgets/base",
       "_view_module_version": "1.2.0",
       "_view_name": "StyleView",
       "bar_color": null,
       "description_width": ""
      }
     },
     "ff49d8b4bb2e4bec97228938cf78a866": {
      "model_module": "@jupyter-widgets/controls",
      "model_module_version": "1.5.0",
      "model_name": "ProgressStyleModel",
      "state": {
       "_model_module": "@jupyter-widgets/controls",
       "_model_module_version": "1.5.0",
       "_model_name": "ProgressStyleModel",
       "_view_count": null,
       "_view_module": "@jupyter-widgets/base",
       "_view_module_version": "1.2.0",
       "_view_name": "StyleView",
       "bar_color": null,
       "description_width": ""
      }
     },
     "ffb6bb2976a145e0a91efcb1d2e327e9": {
      "model_module": "@jupyter-widgets/base",
      "model_module_version": "1.2.0",
      "model_name": "LayoutModel",
      "state": {
       "_model_module": "@jupyter-widgets/base",
       "_model_module_version": "1.2.0",
       "_model_name": "LayoutModel",
       "_view_count": null,
       "_view_module": "@jupyter-widgets/base",
       "_view_module_version": "1.2.0",
       "_view_name": "LayoutView",
       "align_content": null,
       "align_items": null,
       "align_self": null,
       "border": null,
       "bottom": null,
       "display": null,
       "flex": null,
       "flex_flow": null,
       "grid_area": null,
       "grid_auto_columns": null,
       "grid_auto_flow": null,
       "grid_auto_rows": null,
       "grid_column": null,
       "grid_gap": null,
       "grid_row": null,
       "grid_template_areas": null,
       "grid_template_columns": null,
       "grid_template_rows": null,
       "height": null,
       "justify_content": null,
       "justify_items": null,
       "left": null,
       "margin": null,
       "max_height": null,
       "max_width": null,
       "min_height": null,
       "min_width": null,
       "object_fit": null,
       "object_position": null,
       "order": null,
       "overflow": null,
       "overflow_x": null,
       "overflow_y": null,
       "padding": null,
       "right": null,
       "top": null,
       "visibility": null,
       "width": null
      }
     }
    },
    "version_major": 2,
    "version_minor": 0
   }
  }
 },
 "nbformat": 4,
 "nbformat_minor": 5
}
